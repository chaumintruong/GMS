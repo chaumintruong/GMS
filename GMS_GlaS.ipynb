{
 "cells": [
  {
   "cell_type": "code",
   "execution_count": 1,
   "id": "f7cc94e6",
   "metadata": {
    "execution": {
     "iopub.execute_input": "2025-09-09T08:05:33.140009Z",
     "iopub.status.busy": "2025-09-09T08:05:33.139682Z",
     "iopub.status.idle": "2025-09-09T08:05:39.665763Z",
     "shell.execute_reply": "2025-09-09T08:05:39.664877Z"
    },
    "papermill": {
     "duration": 6.536895,
     "end_time": "2025-09-09T08:05:39.667526",
     "exception": false,
     "start_time": "2025-09-09T08:05:33.130631",
     "status": "completed"
    },
    "tags": []
   },
   "outputs": [
    {
     "name": "stdout",
     "output_type": "stream",
     "text": [
      "Collecting monai\r\n",
      "  Downloading monai-1.5.0-py3-none-any.whl.metadata (13 kB)\r\n",
      "Requirement already satisfied: numpy<3.0,>=1.24 in /usr/local/lib/python3.10/dist-packages (from monai) (1.26.4)\r\n",
      "Requirement already satisfied: torch<2.7.0,>=2.4.1 in /usr/local/lib/python3.10/dist-packages (from monai) (2.5.1+cu121)\r\n",
      "Requirement already satisfied: mkl_fft in /usr/local/lib/python3.10/dist-packages (from numpy<3.0,>=1.24->monai) (1.3.8)\r\n",
      "Requirement already satisfied: mkl_random in /usr/local/lib/python3.10/dist-packages (from numpy<3.0,>=1.24->monai) (1.2.4)\r\n",
      "Requirement already satisfied: mkl_umath in /usr/local/lib/python3.10/dist-packages (from numpy<3.0,>=1.24->monai) (0.1.1)\r\n",
      "Requirement already satisfied: mkl in /usr/local/lib/python3.10/dist-packages (from numpy<3.0,>=1.24->monai) (2025.0.1)\r\n",
      "Requirement already satisfied: tbb4py in /usr/local/lib/python3.10/dist-packages (from numpy<3.0,>=1.24->monai) (2022.0.0)\r\n",
      "Requirement already satisfied: mkl-service in /usr/local/lib/python3.10/dist-packages (from numpy<3.0,>=1.24->monai) (2.4.1)\r\n",
      "Requirement already satisfied: filelock in /usr/local/lib/python3.10/dist-packages (from torch<2.7.0,>=2.4.1->monai) (3.17.0)\r\n",
      "Requirement already satisfied: typing-extensions>=4.8.0 in /usr/local/lib/python3.10/dist-packages (from torch<2.7.0,>=2.4.1->monai) (4.12.2)\r\n",
      "Requirement already satisfied: networkx in /usr/local/lib/python3.10/dist-packages (from torch<2.7.0,>=2.4.1->monai) (3.4.2)\r\n",
      "Requirement already satisfied: jinja2 in /usr/local/lib/python3.10/dist-packages (from torch<2.7.0,>=2.4.1->monai) (3.1.4)\r\n",
      "Requirement already satisfied: fsspec in /usr/local/lib/python3.10/dist-packages (from torch<2.7.0,>=2.4.1->monai) (2024.12.0)\r\n",
      "Requirement already satisfied: sympy==1.13.1 in /usr/local/lib/python3.10/dist-packages (from torch<2.7.0,>=2.4.1->monai) (1.13.1)\r\n",
      "Requirement already satisfied: mpmath<1.4,>=1.1.0 in /usr/local/lib/python3.10/dist-packages (from sympy==1.13.1->torch<2.7.0,>=2.4.1->monai) (1.3.0)\r\n",
      "Requirement already satisfied: MarkupSafe>=2.0 in /usr/local/lib/python3.10/dist-packages (from jinja2->torch<2.7.0,>=2.4.1->monai) (3.0.2)\r\n",
      "Requirement already satisfied: intel-openmp>=2024 in /usr/local/lib/python3.10/dist-packages (from mkl->numpy<3.0,>=1.24->monai) (2024.2.0)\r\n",
      "Requirement already satisfied: tbb==2022.* in /usr/local/lib/python3.10/dist-packages (from mkl->numpy<3.0,>=1.24->monai) (2022.0.0)\r\n",
      "Requirement already satisfied: tcmlib==1.* in /usr/local/lib/python3.10/dist-packages (from tbb==2022.*->mkl->numpy<3.0,>=1.24->monai) (1.2.0)\r\n",
      "Requirement already satisfied: intel-cmplr-lib-rt in /usr/local/lib/python3.10/dist-packages (from mkl_umath->numpy<3.0,>=1.24->monai) (2024.2.0)\r\n",
      "Requirement already satisfied: intel-cmplr-lib-ur==2024.2.0 in /usr/local/lib/python3.10/dist-packages (from intel-openmp>=2024->mkl->numpy<3.0,>=1.24->monai) (2024.2.0)\r\n",
      "Downloading monai-1.5.0-py3-none-any.whl (2.7 MB)\r\n",
      "\u001b[2K   \u001b[90m━━━━━━━━━━━━━━━━━━━━━━━━━━━━━━━━━━━━━━━━\u001b[0m \u001b[32m2.7/2.7 MB\u001b[0m \u001b[31m41.7 MB/s\u001b[0m eta \u001b[36m0:00:00\u001b[0m\r\n",
      "\u001b[?25hInstalling collected packages: monai\r\n",
      "Successfully installed monai-1.5.0\r\n"
     ]
    }
   ],
   "source": [
    "!pip install monai"
   ]
  },
  {
   "cell_type": "code",
   "execution_count": 2,
   "id": "a7197338",
   "metadata": {
    "execution": {
     "iopub.execute_input": "2025-09-09T08:05:39.682171Z",
     "iopub.status.busy": "2025-09-09T08:05:39.681879Z",
     "iopub.status.idle": "2025-09-09T08:05:43.280812Z",
     "shell.execute_reply": "2025-09-09T08:05:43.279721Z"
    },
    "papermill": {
     "duration": 3.607759,
     "end_time": "2025-09-09T08:05:43.282452",
     "exception": false,
     "start_time": "2025-09-09T08:05:39.674693",
     "status": "completed"
    },
    "tags": []
   },
   "outputs": [
    {
     "name": "stdout",
     "output_type": "stream",
     "text": [
      "Collecting tensorboardX\r\n",
      "  Downloading tensorboardx-2.6.4-py3-none-any.whl.metadata (6.2 kB)\r\n",
      "Requirement already satisfied: numpy in /usr/local/lib/python3.10/dist-packages (from tensorboardX) (1.26.4)\r\n",
      "Requirement already satisfied: packaging in /usr/local/lib/python3.10/dist-packages (from tensorboardX) (24.2)\r\n",
      "Requirement already satisfied: protobuf>=3.20 in /usr/local/lib/python3.10/dist-packages (from tensorboardX) (3.20.3)\r\n",
      "Requirement already satisfied: mkl_fft in /usr/local/lib/python3.10/dist-packages (from numpy->tensorboardX) (1.3.8)\r\n",
      "Requirement already satisfied: mkl_random in /usr/local/lib/python3.10/dist-packages (from numpy->tensorboardX) (1.2.4)\r\n",
      "Requirement already satisfied: mkl_umath in /usr/local/lib/python3.10/dist-packages (from numpy->tensorboardX) (0.1.1)\r\n",
      "Requirement already satisfied: mkl in /usr/local/lib/python3.10/dist-packages (from numpy->tensorboardX) (2025.0.1)\r\n",
      "Requirement already satisfied: tbb4py in /usr/local/lib/python3.10/dist-packages (from numpy->tensorboardX) (2022.0.0)\r\n",
      "Requirement already satisfied: mkl-service in /usr/local/lib/python3.10/dist-packages (from numpy->tensorboardX) (2.4.1)\r\n",
      "Requirement already satisfied: intel-openmp>=2024 in /usr/local/lib/python3.10/dist-packages (from mkl->numpy->tensorboardX) (2024.2.0)\r\n",
      "Requirement already satisfied: tbb==2022.* in /usr/local/lib/python3.10/dist-packages (from mkl->numpy->tensorboardX) (2022.0.0)\r\n",
      "Requirement already satisfied: tcmlib==1.* in /usr/local/lib/python3.10/dist-packages (from tbb==2022.*->mkl->numpy->tensorboardX) (1.2.0)\r\n",
      "Requirement already satisfied: intel-cmplr-lib-rt in /usr/local/lib/python3.10/dist-packages (from mkl_umath->numpy->tensorboardX) (2024.2.0)\r\n",
      "Requirement already satisfied: intel-cmplr-lib-ur==2024.2.0 in /usr/local/lib/python3.10/dist-packages (from intel-openmp>=2024->mkl->numpy->tensorboardX) (2024.2.0)\r\n",
      "Downloading tensorboardx-2.6.4-py3-none-any.whl (87 kB)\r\n",
      "\u001b[2K   \u001b[90m━━━━━━━━━━━━━━━━━━━━━━━━━━━━━━━━━━━━━━━━\u001b[0m \u001b[32m87.2/87.2 kB\u001b[0m \u001b[31m3.8 MB/s\u001b[0m eta \u001b[36m0:00:00\u001b[0m\r\n",
      "\u001b[?25hInstalling collected packages: tensorboardX\r\n",
      "Successfully installed tensorboardX-2.6.4\r\n"
     ]
    }
   ],
   "source": [
    "!pip install tensorboardX"
   ]
  },
  {
   "cell_type": "code",
   "execution_count": 3,
   "id": "0350957f",
   "metadata": {
    "execution": {
     "iopub.execute_input": "2025-09-09T08:05:43.298410Z",
     "iopub.status.busy": "2025-09-09T08:05:43.298119Z",
     "iopub.status.idle": "2025-09-09T08:05:43.302158Z",
     "shell.execute_reply": "2025-09-09T08:05:43.301000Z"
    },
    "papermill": {
     "duration": 0.013813,
     "end_time": "2025-09-09T08:05:43.303518",
     "exception": false,
     "start_time": "2025-09-09T08:05:43.289705",
     "status": "completed"
    },
    "tags": []
   },
   "outputs": [],
   "source": [
    "import sys\n",
    "import os\n",
    "sys.path.append(os.path.abspath('/kaggle/input/gms-medical'))"
   ]
  },
  {
   "cell_type": "code",
   "execution_count": 4,
   "id": "66e63c6f",
   "metadata": {
    "execution": {
     "iopub.execute_input": "2025-09-09T08:05:43.317667Z",
     "iopub.status.busy": "2025-09-09T08:05:43.317465Z",
     "iopub.status.idle": "2025-09-09T08:06:40.267894Z",
     "shell.execute_reply": "2025-09-09T08:06:40.267047Z"
    },
    "papermill": {
     "duration": 56.965926,
     "end_time": "2025-09-09T08:06:40.276058",
     "exception": false,
     "start_time": "2025-09-09T08:05:43.310132",
     "status": "completed"
    },
    "tags": []
   },
   "outputs": [
    {
     "name": "stdout",
     "output_type": "stream",
     "text": [
      "No module 'xformers'. Proceeding without it.\n"
     ]
    }
   ],
   "source": [
    "# Basic Package\n",
    "import torch\n",
    "import argparse\n",
    "import numpy as np\n",
    "import yaml\n",
    "import logging\n",
    "import time\n",
    "import os\n",
    "from tqdm import tqdm\n",
    "from torch.utils.data import DataLoader\n",
    "from omegaconf import OmegaConf\n",
    "from monai.losses.dice import DiceLoss\n",
    "\n",
    "# Own Package\n",
    "# from data.image_dataset import Image_Dataset\n",
    "# from utils.tools import seed_reproducer, save_checkpoint, get_cuda, print_options\n",
    "# from utils.get_logger import open_log\n",
    "# from utils.lr_scheduler import LinearWarmupCosineAnnealingLR\n",
    "from networks.latent_mapping_model import ResAttnUNet_DS, ResAttnUNet\n",
    "from networks.models.autoencoder import AutoencoderKL\n",
    "from networks.models.distributions import DiagonalGaussianDistribution\n",
    "\n",
    "from tensorboardX import SummaryWriter\n"
   ]
  },
  {
   "cell_type": "code",
   "execution_count": 5,
   "id": "a75929a1",
   "metadata": {
    "execution": {
     "iopub.execute_input": "2025-09-09T08:06:40.291240Z",
     "iopub.status.busy": "2025-09-09T08:06:40.290570Z",
     "iopub.status.idle": "2025-09-09T08:06:40.298047Z",
     "shell.execute_reply": "2025-09-09T08:06:40.297386Z"
    },
    "papermill": {
     "duration": 0.016302,
     "end_time": "2025-09-09T08:06:40.299185",
     "exception": false,
     "start_time": "2025-09-09T08:06:40.282883",
     "status": "completed"
    },
    "tags": []
   },
   "outputs": [],
   "source": [
    "import os\n",
    "import logging\n",
    "\n",
    "\n",
    "def open_log(args, config):\n",
    "    # open the log file\n",
    "    log_savepath = '/kaggle/working/'\n",
    "    if not os.path.exists(log_savepath):\n",
    "        os.makedirs(log_savepath)\n",
    "    log_name = args.config.split('/')[-1].split('.')[0]+'-yaml'\n",
    "    if os.path.isfile(os.path.join(log_savepath, '{}.txt'.format(log_name))):\n",
    "        os.remove(os.path.join(log_savepath, '{}.txt'.format(log_name)))\n",
    "    initLogging(os.path.join(log_savepath, '{}.txt'.format(log_name)))\n",
    "\n",
    "\n",
    "def initLogging(logFilename):\n",
    "    \"\"\"Init for logging\n",
    "    \"\"\"\n",
    "    logging.basicConfig(\n",
    "        level=logging.INFO,\n",
    "        format='[%(asctime)s-%(levelname)s] %(message)s',\n",
    "        datefmt='%y-%m-%d %H:%M:%S',\n",
    "        filename=logFilename,\n",
    "        filemode='w'\n",
    "    )\n",
    "    console = logging.StreamHandler()\n",
    "    console.setLevel(logging.INFO)\n",
    "    formatter = logging.Formatter('[%(asctime)s-%(levelname)s] %(message)s')\n",
    "    console.setFormatter(formatter)\n",
    "    logging.getLogger('').addHandler(console)\n"
   ]
  },
  {
   "cell_type": "code",
   "execution_count": 6,
   "id": "f3d7ebe0",
   "metadata": {
    "execution": {
     "iopub.execute_input": "2025-09-09T08:06:40.313542Z",
     "iopub.status.busy": "2025-09-09T08:06:40.313322Z",
     "iopub.status.idle": "2025-09-09T08:06:40.321941Z",
     "shell.execute_reply": "2025-09-09T08:06:40.321356Z"
    },
    "jupyter": {
     "source_hidden": true
    },
    "papermill": {
     "duration": 0.017271,
     "end_time": "2025-09-09T08:06:40.323160",
     "exception": false,
     "start_time": "2025-09-09T08:06:40.305889",
     "status": "completed"
    },
    "tags": []
   },
   "outputs": [],
   "source": [
    "import math\n",
    "import warnings\n",
    "from typing import List\n",
    "\n",
    "from torch.optim import Optimizer\n",
    "from torch.optim.lr_scheduler import _LRScheduler\n",
    "\n",
    "class LinearWarmupCosineAnnealingLR(_LRScheduler):\n",
    "\n",
    "    def __init__(\n",
    "        self,\n",
    "        optimizer: Optimizer,\n",
    "        warmup_epochs: int,\n",
    "        max_epochs: int,\n",
    "        warmup_start_lr: float = 0.0,\n",
    "        eta_min: float = 0.0,\n",
    "        last_epoch: int = -1,\n",
    "    ) -> None:\n",
    "        \"\"\"\n",
    "        Args:\n",
    "            optimizer (Optimizer): Wrapped optimizer.\n",
    "            warmup_epochs (int): Maximum number of iterations for linear warmup\n",
    "            max_epochs (int): Maximum number of iterations\n",
    "            warmup_start_lr (float): Learning rate to start the linear warmup. Default: 0.\n",
    "            eta_min (float): Minimum learning rate. Default: 0.\n",
    "            last_epoch (int): The index of last epoch. Default: -1.\n",
    "        \"\"\"\n",
    "        self.warmup_epochs = warmup_epochs\n",
    "        self.max_epochs = max_epochs\n",
    "        self.warmup_start_lr = warmup_start_lr\n",
    "        self.eta_min = eta_min\n",
    "\n",
    "        super(LinearWarmupCosineAnnealingLR, self).__init__(optimizer, last_epoch)\n",
    "\n",
    "    def get_lr(self) -> List[float]:\n",
    "        \"\"\"\n",
    "        Compute learning rate using chainable form of the scheduler\n",
    "        \"\"\"\n",
    "        if not self._get_lr_called_within_step:\n",
    "            warnings.warn(\n",
    "                \"To get the last learning rate computed by the scheduler, \"\n",
    "                \"please use `get_last_lr()`.\",\n",
    "                UserWarning,\n",
    "            )\n",
    "\n",
    "        if self.last_epoch == 0:\n",
    "            return [self.warmup_start_lr] * len(self.base_lrs)\n",
    "        elif self.last_epoch < self.warmup_epochs:\n",
    "            return [\n",
    "                group[\"lr\"] + (base_lr - self.warmup_start_lr) / (self.warmup_epochs - 1)\n",
    "                for base_lr, group in zip(self.base_lrs, self.optimizer.param_groups)\n",
    "            ]\n",
    "        elif self.last_epoch == self.warmup_epochs:\n",
    "            return self.base_lrs\n",
    "        elif (self.last_epoch - 1 - self.max_epochs) % (2 * (self.max_epochs - self.warmup_epochs)) == 0:\n",
    "            return [\n",
    "                group[\"lr\"] + (base_lr - self.eta_min) *\n",
    "                (1 - math.cos(math.pi / (self.max_epochs - self.warmup_epochs))) / 2\n",
    "                for base_lr, group in zip(self.base_lrs, self.optimizer.param_groups)\n",
    "            ]\n",
    "\n",
    "        return [\n",
    "            (1 + math.cos(math.pi * (self.last_epoch - self.warmup_epochs) / (self.max_epochs - self.warmup_epochs))) /\n",
    "            (\n",
    "                1 +\n",
    "                math.cos(math.pi * (self.last_epoch - self.warmup_epochs - 1) / (self.max_epochs - self.warmup_epochs))\n",
    "            ) * (group[\"lr\"] - self.eta_min) + self.eta_min for group in self.optimizer.param_groups\n",
    "        ]\n",
    "\n",
    "    def _get_closed_form_lr(self) -> List[float]:\n",
    "        \"\"\"\n",
    "        Called when epoch is passed as a param to the `step` function of the scheduler.\n",
    "        \"\"\"\n",
    "        if self.last_epoch < self.warmup_epochs:\n",
    "            return [\n",
    "                self.warmup_start_lr + self.last_epoch * (base_lr - self.warmup_start_lr) / (self.warmup_epochs - 1)\n",
    "                for base_lr in self.base_lrs\n",
    "            ]\n",
    "\n",
    "        return [\n",
    "            self.eta_min + 0.5 * (base_lr - self.eta_min) *\n",
    "            (1 + math.cos(math.pi * (self.last_epoch - self.warmup_epochs) / (self.max_epochs - self.warmup_epochs)))\n",
    "            for base_lr in self.base_lrs\n",
    "        ]"
   ]
  },
  {
   "cell_type": "code",
   "execution_count": 7,
   "id": "19dd0d36",
   "metadata": {
    "execution": {
     "iopub.execute_input": "2025-09-09T08:06:40.337981Z",
     "iopub.status.busy": "2025-09-09T08:06:40.337767Z",
     "iopub.status.idle": "2025-09-09T08:06:40.346245Z",
     "shell.execute_reply": "2025-09-09T08:06:40.345640Z"
    },
    "papermill": {
     "duration": 0.017048,
     "end_time": "2025-09-09T08:06:40.347464",
     "exception": false,
     "start_time": "2025-09-09T08:06:40.330416",
     "status": "completed"
    },
    "tags": []
   },
   "outputs": [],
   "source": [
    "import torch\n",
    "import os\n",
    "import random\n",
    "import numpy as np\n",
    "import logging\n",
    "\n",
    "\n",
    "def mkdir(path):\n",
    "    if not os.path.exists(path):\n",
    "        os.makedirs(path)\n",
    "\n",
    "\n",
    "def seed_reproducer(seed=2333):\n",
    "    random.seed(seed)\n",
    "    os.environ[\"PYTHONHASHSEED\"] = str(seed)\n",
    "    np.random.seed(seed)\n",
    "    torch.manual_seed(seed)\n",
    "    if torch.cuda.is_available():\n",
    "        torch.cuda.manual_seed(seed)\n",
    "        torch.cuda.manual_seed_all(seed)\n",
    "        torch.backends.cudnn.deterministic = True\n",
    "        torch.backends.cudnn.benchmark = False\n",
    "        torch.backends.cudnn.enabled = True\n",
    "\n",
    "\n",
    "def load_checkpoint(model: torch.nn.Module, path: str) -> torch.nn.Module:\n",
    "    if os.path.isfile(path):\n",
    "        logging.info(\"=> loading checkpoint '{}'\".format(path))\n",
    "        \n",
    "        # remap everthing onto CPU \n",
    "        state = torch.load(path, map_location=lambda storage, location: storage)\n",
    "\n",
    "        # load weights\n",
    "        model.load_state_dict(state['model'])\n",
    "        logging.info(\"Loaded\")\n",
    "    else:\n",
    "        model = None\n",
    "        logging.info(\"=> no checkpoint found at '{}'\".format(path))\n",
    "    return model\n",
    "\n",
    "\n",
    "def save_checkpoint(model: torch.nn.Module, save_name: str, path: str) -> None:\n",
    "    model_savepath = os.path.join(path, 'checkpoints')\n",
    "    if not os.path.exists(model_savepath):\n",
    "        os.makedirs(model_savepath)\n",
    "    file_name = os.path.join(model_savepath, save_name)\n",
    "    torch.save({\n",
    "        'model': model.state_dict(),\n",
    "    },file_name)\n",
    "    logging.info(\"save model to {}\".format(file_name))\n",
    "\n",
    "\n",
    "def adjust_learning_rate(optimizer, initial_lr, epoch, reduce_epoch, decay=0.5):\n",
    "    lr = initial_lr * (decay ** (epoch // reduce_epoch))\n",
    "    for param_group in optimizer.param_groups:\n",
    "        param_group['lr'] = lr\n",
    "    logging.info('Change Learning Rate to {}'.format(lr))\n",
    "    return lr\n",
    "\n",
    "\n",
    "def get_cuda(tensor):\n",
    "    if torch.cuda.is_available():\n",
    "        tensor = tensor.cuda()\n",
    "    return tensor\n",
    "\n",
    "\n",
    "def print_options(configs):\n",
    "    message = ''\n",
    "    message += '----------------- Options ---------------\\n'\n",
    "    for k, v in configs.items():\n",
    "        message += '{:>25}: {:<30}\\n'.format(str(k), str(v))\n",
    "    message += '----------------- End -------------------'\n",
    "    logging.info(message)\n",
    "\n",
    "    # save to the disk\n",
    "    file_name = os.path.join(configs['log_path'], '{}_configs.txt'.format(configs['phase']))\n",
    "    with open(file_name, 'wt') as opt_file:\n",
    "        opt_file.write(message)\n",
    "        opt_file.write('\\n')"
   ]
  },
  {
   "cell_type": "code",
   "execution_count": 8,
   "id": "03c78da5",
   "metadata": {
    "execution": {
     "iopub.execute_input": "2025-09-09T08:06:40.361799Z",
     "iopub.status.busy": "2025-09-09T08:06:40.361588Z",
     "iopub.status.idle": "2025-09-09T08:06:41.009038Z",
     "shell.execute_reply": "2025-09-09T08:06:41.008323Z"
    },
    "jupyter": {
     "source_hidden": true
    },
    "papermill": {
     "duration": 0.656282,
     "end_time": "2025-09-09T08:06:41.010591",
     "exception": false,
     "start_time": "2025-09-09T08:06:40.354309",
     "status": "completed"
    },
    "tags": []
   },
   "outputs": [
    {
     "name": "stderr",
     "output_type": "stream",
     "text": [
      "/usr/local/lib/python3.10/dist-packages/albumentations/__init__.py:24: UserWarning: A new version of Albumentations is available: 2.0.8 (you have 1.4.20). Upgrade using: pip install -U albumentations. To disable automatic update checks, set the environment variable NO_ALBUMENTATIONS_UPDATE to 1.\n",
      "  check_for_updates()\n"
     ]
    }
   ],
   "source": [
    "import os\n",
    "import pickle\n",
    "import logging\n",
    "import numpy as np\n",
    "import albumentations as A\n",
    "from PIL import Image\n",
    "from albumentations.pytorch import ToTensorV2\n",
    "from torch.utils.data import Dataset\n",
    "import re\n",
    "\n",
    "class Image_Dataset(Dataset):\n",
    "    def __init__(self, pickle_file_path, stage='train') -> None:\n",
    "        super().__init__()\n",
    "        with open(pickle_file_path, 'rb') as file:\n",
    "            loaded_dict = pickle.load(file)\n",
    "        self.img_path          = os.path.join(os.path.dirname(pickle_file_path), 'images')\n",
    "        self.mask_path         = os.path.join(os.path.dirname(pickle_file_path), 'masks')\n",
    "        self.img_size          = 224\n",
    "        self.stage             = stage\n",
    "        self.name_list         = loaded_dict[stage]['name_list']\n",
    "        self.transform         = self.get_transforms()\n",
    "        logging.info('{} set num: {}'.format(stage, len(self.name_list)))\n",
    "\n",
    "        del loaded_dict\n",
    "\n",
    "    def get_transforms(self):\n",
    "        if self.stage == 'train':\n",
    "            transforms = A.Compose([\n",
    "                A.ToFloat(max_value=255.0, always_apply=True),\n",
    "                A.HorizontalFlip(p=0.5),\n",
    "                A.VerticalFlip(p=0.5),\n",
    "                A.RandomRotate90(p=0.5),\n",
    "                A.ColorJitter(brightness=0.1, contrast=0.1, saturation=0.1, hue=0.1, p=0.2),\n",
    "                A.ShiftScaleRotate(shift_limit=0.15, scale_limit=0.1, rotate_limit=20, p=0.4),\n",
    "                A.Resize(self.img_size, self.img_size, always_apply=True),\n",
    "                ToTensorV2(always_apply=True),\n",
    "            ])\n",
    "        else:\n",
    "            transforms = A.Compose([\n",
    "                A.ToFloat(max_value=255.0, always_apply=True),\n",
    "                A.Resize(self.img_size, self.img_size, always_apply=True),\n",
    "                ToTensorV2(always_apply=True),\n",
    "            ])\n",
    "        return transforms\n",
    "\n",
    "    def __getitem__(self, index):\n",
    "        name = self.name_list[index]\n",
    "        name = re.sub(r\"\\D\", \"\", name)\n",
    "        seg_image = Image.open(os.path.join(self.mask_path, name + '.png')).convert(\"RGB\")\n",
    "        seg_data  = np.array(seg_image).astype(np.float32)\n",
    "        img_image = Image.open(os.path.join(self.img_path,  name + '.png')).convert(\"RGB\")\n",
    "        img_data  = np.array(img_image).astype(np.float32)\n",
    "\n",
    "        augmented = self.transform(image=img_data, mask=seg_data)\n",
    "\n",
    "        aug_img = augmented['image']\n",
    "        aug_seg = augmented['mask']\n",
    "\n",
    "        return {\n",
    "            'name': name,\n",
    "            'img': aug_img,\n",
    "            'seg': aug_seg\n",
    "        }\n",
    "\n",
    "    def __len__(self):\n",
    "        return len(self.name_list)\n"
   ]
  },
  {
   "cell_type": "code",
   "execution_count": 9,
   "id": "03ae21ac",
   "metadata": {
    "execution": {
     "iopub.execute_input": "2025-09-09T08:06:41.025306Z",
     "iopub.status.busy": "2025-09-09T08:06:41.025010Z",
     "iopub.status.idle": "2025-09-09T08:06:42.076156Z",
     "shell.execute_reply": "2025-09-09T08:06:42.074975Z"
    },
    "papermill": {
     "duration": 1.060041,
     "end_time": "2025-09-09T08:06:42.077853",
     "exception": false,
     "start_time": "2025-09-09T08:06:41.017812",
     "status": "completed"
    },
    "tags": []
   },
   "outputs": [
    {
     "name": "stdout",
     "output_type": "stream",
     "text": [
      "making attention of type 'vanilla' with 512 in_channels\n",
      "Working with z of shape (1, 4, 32, 32) = 4096 dimensions.\n",
      "making attention of type 'vanilla' with 512 in_channels\n"
     ]
    }
   ],
   "source": [
    "\n",
    "# Set GPU ID\n",
    "gpus = ','.join([str(i) for i in [0]])\n",
    "os.environ[\"CUDA_VISIBLE_DEVICES\"] = gpus\n",
    "    \n",
    "writer = SummaryWriter('./logs/')\n",
    "\n",
    "train_dataset = Image_Dataset('/kaggle/input/gms-medical/Dataset/glas/glas_train_test_names.pkl', stage='train')\n",
    "valid_dataset = Image_Dataset('/kaggle/input/gms-medical/Dataset/glas/glas_train_test_names.pkl', stage='test')\n",
    "train_dataloader = DataLoader(train_dataset, batch_size=2, pin_memory=True, drop_last=True, shuffle=True)\n",
    "valid_dataloader = DataLoader(valid_dataset, batch_size=2, pin_memory=True, drop_last=False, shuffle=False)\n",
    "\n",
    "mapping_model = get_cuda(ResAttnUNet_DS(\n",
    "    in_channel=4, \n",
    "    out_channels=4, \n",
    "    num_res_blocks=2, \n",
    "    ch=32, \n",
    "    ch_mult=[1,2,4,4]\n",
    "))\n",
    "\n",
    "# get VAE (first-stage model)\n",
    "vae_path = '/kaggle/input/gms-medical/configs/v2-inference-v-first-stage-VAE.yaml'\n",
    "vae_config = OmegaConf.load(f\"{vae_path}\")\n",
    "vae_model = AutoencoderKL(**vae_config.first_stage_config.get(\"params\", dict()))\n"
   ]
  },
  {
   "cell_type": "code",
   "execution_count": 10,
   "id": "9fbe76d4",
   "metadata": {
    "execution": {
     "iopub.execute_input": "2025-09-09T08:06:42.095360Z",
     "iopub.status.busy": "2025-09-09T08:06:42.095058Z",
     "iopub.status.idle": "2025-09-09T08:06:42.099000Z",
     "shell.execute_reply": "2025-09-09T08:06:42.098396Z"
    },
    "papermill": {
     "duration": 0.013088,
     "end_time": "2025-09-09T08:06:42.100264",
     "exception": false,
     "start_time": "2025-09-09T08:06:42.087176",
     "status": "completed"
    },
    "tags": []
   },
   "outputs": [],
   "source": [
    "def get_multi_loss(criterion, out_dict, label, is_ds=True, key_list=None):\n",
    "        keys = key_list if key_list is not None else list(out_dict.keys())\n",
    "        if is_ds:\n",
    "            multi_loss = sum([criterion(out_dict[key], label) for key in keys])\n",
    "        else:\n",
    "            multi_loss = criterion(out_dict['out'], label)\n",
    "        return multi_loss"
   ]
  },
  {
   "cell_type": "code",
   "execution_count": 11,
   "id": "80345160",
   "metadata": {
    "execution": {
     "iopub.execute_input": "2025-09-09T08:06:42.114745Z",
     "iopub.status.busy": "2025-09-09T08:06:42.114532Z",
     "iopub.status.idle": "2025-09-09T08:06:42.117888Z",
     "shell.execute_reply": "2025-09-09T08:06:42.117296Z"
    },
    "papermill": {
     "duration": 0.01191,
     "end_time": "2025-09-09T08:06:42.119020",
     "exception": false,
     "start_time": "2025-09-09T08:06:42.107110",
     "status": "completed"
    },
    "tags": []
   },
   "outputs": [],
   "source": [
    "def get_vae_encoding_mu_and_sigma(encoder_posterior, scale_factor):\n",
    "    if isinstance(encoder_posterior, DiagonalGaussianDistribution):\n",
    "        mean, logvar = encoder_posterior.mu_and_sigma()\n",
    "    else:\n",
    "        raise NotImplementedError(f\"encoder_posterior of type '{type(encoder_posterior)}' not yet implemented\")\n",
    "    return scale_factor * mean, logvar"
   ]
  },
  {
   "cell_type": "code",
   "execution_count": 12,
   "id": "47676c1c",
   "metadata": {
    "execution": {
     "iopub.execute_input": "2025-09-09T08:06:42.133290Z",
     "iopub.status.busy": "2025-09-09T08:06:42.133035Z",
     "iopub.status.idle": "2025-09-09T08:06:42.136601Z",
     "shell.execute_reply": "2025-09-09T08:06:42.135948Z"
    },
    "papermill": {
     "duration": 0.011996,
     "end_time": "2025-09-09T08:06:42.137785",
     "exception": false,
     "start_time": "2025-09-09T08:06:42.125789",
     "status": "completed"
    },
    "tags": []
   },
   "outputs": [],
   "source": [
    "def vae_decode(vae_model, pred_mean, scale_factor):\n",
    "    z = 1. / scale_factor * pred_mean\n",
    "    pred_seg = vae_model.decode(z)\n",
    "    pred_seg = torch.mean(pred_seg, dim=1, keepdim=True)\n",
    "    pred_seg = torch.clamp((pred_seg + 1.0) / 2.0, min=0.0, max=1.0) # (B, 1, H, W)\n",
    "    return pred_seg"
   ]
  },
  {
   "cell_type": "code",
   "execution_count": 13,
   "id": "a332e891",
   "metadata": {
    "execution": {
     "iopub.execute_input": "2025-09-09T08:06:42.152649Z",
     "iopub.status.busy": "2025-09-09T08:06:42.152416Z",
     "iopub.status.idle": "2025-09-09T08:06:42.156000Z",
     "shell.execute_reply": "2025-09-09T08:06:42.155240Z"
    },
    "papermill": {
     "duration": 0.012676,
     "end_time": "2025-09-09T08:06:42.157347",
     "exception": false,
     "start_time": "2025-09-09T08:06:42.144671",
     "status": "completed"
    },
    "tags": []
   },
   "outputs": [],
   "source": [
    "def arg_parse() -> argparse.ArgumentParser.parse_args :\n",
    "    parser = argparse.ArgumentParser()\n",
    "    parser.add_argument('--config', default='./configs/train.yaml',\n",
    "                        type=str, help='load the config file')\n",
    "    args = parser.parse_args()\n",
    "    return args"
   ]
  },
  {
   "cell_type": "code",
   "execution_count": 14,
   "id": "9b638f42",
   "metadata": {
    "execution": {
     "iopub.execute_input": "2025-09-09T08:06:42.171518Z",
     "iopub.status.busy": "2025-09-09T08:06:42.171308Z",
     "iopub.status.idle": "2025-09-09T08:06:44.420920Z",
     "shell.execute_reply": "2025-09-09T08:06:44.419989Z"
    },
    "papermill": {
     "duration": 2.25859,
     "end_time": "2025-09-09T08:06:44.422670",
     "exception": false,
     "start_time": "2025-09-09T08:06:42.164080",
     "status": "completed"
    },
    "tags": []
   },
   "outputs": [
    {
     "name": "stderr",
     "output_type": "stream",
     "text": [
      "<ipython-input-14-7bb22cda0f6f>:1: FutureWarning: You are using `torch.load` with `weights_only=False` (the current default value), which uses the default pickle module implicitly. It is possible to construct malicious pickle data which will execute arbitrary code during unpickling (See https://github.com/pytorch/pytorch/blob/main/SECURITY.md#untrusted-models for more details). In a future release, the default value for `weights_only` will be flipped to `True`. This limits the functions that could be executed during unpickling. Arbitrary objects will no longer be allowed to be loaded via this mode unless they are explicitly allowlisted by the user via `torch.serialization.add_safe_globals`. We recommend you start setting `weights_only=True` for any use case where you don't have full control of the loaded file. Please open an issue on GitHub for any issues related to this experimental feature.\n",
      "  pl_sd = torch.load(\"/kaggle/input/gms-medical/SD-VAE-weights/768-v-ema-first-stage-VAE.ckpt\", map_location=\"cpu\")\n"
     ]
    }
   ],
   "source": [
    "pl_sd = torch.load(\"/kaggle/input/gms-medical/SD-VAE-weights/768-v-ema-first-stage-VAE.ckpt\", map_location=\"cpu\")\n",
    "sd = pl_sd[\"state_dict\"]\n",
    "vae_model.load_state_dict(sd, strict=True)\n",
    "\n",
    "vae_model.freeze()\n",
    "vae_model = get_cuda(vae_model)\n",
    "scale_factor = vae_config.first_stage_config.scale_factor\n"
   ]
  },
  {
   "cell_type": "code",
   "execution_count": 15,
   "id": "f397b386",
   "metadata": {
    "execution": {
     "iopub.execute_input": "2025-09-09T08:06:44.438494Z",
     "iopub.status.busy": "2025-09-09T08:06:44.438197Z",
     "iopub.status.idle": "2025-09-09T08:06:47.213107Z",
     "shell.execute_reply": "2025-09-09T08:06:47.212115Z"
    },
    "jupyter": {
     "source_hidden": true
    },
    "papermill": {
     "duration": 2.784518,
     "end_time": "2025-09-09T08:06:47.214623",
     "exception": false,
     "start_time": "2025-09-09T08:06:44.430105",
     "status": "completed"
    },
    "tags": []
   },
   "outputs": [
    {
     "name": "stderr",
     "output_type": "stream",
     "text": [
      "/usr/local/lib/python3.10/dist-packages/timm/models/layers/__init__.py:48: FutureWarning: Importing from timm.models.layers is deprecated, please import via timm.layers\n",
      "  warnings.warn(f\"Importing from {__name__} is deprecated, please import via timm.layers\", FutureWarning)\n"
     ]
    }
   ],
   "source": [
    "import torch\n",
    "from torch import nn\n",
    "import torch\n",
    "import torchvision\n",
    "from torch import nn\n",
    "from torch.autograd import Variable\n",
    "from torch.utils.data import DataLoader\n",
    "from torchvision import transforms\n",
    "from torchvision.utils import save_image\n",
    "import torch.nn.functional as F\n",
    "import os\n",
    "import matplotlib.pyplot as plt\n",
    "# from utils import *\n",
    "from typing import List, Tuple, Union\n",
    "import timm\n",
    "from timm.models.layers import DropPath, to_2tuple, trunc_normal_\n",
    "import types\n",
    "import math\n",
    "from abc import ABCMeta, abstractmethod\n",
    "# from mmcv.cnn import ConvModule\n",
    "from pdb import set_trace as st\n",
    "\n",
    "from torch.nn import init\n",
    "\n",
    "\n",
    "class KANLinear(torch.nn.Module):\n",
    "    def __init__(\n",
    "        self,\n",
    "        in_features,\n",
    "        out_features,\n",
    "        grid_size=5,\n",
    "        spline_order=3,\n",
    "        scale_noise=0.1,\n",
    "        scale_base=1.0,\n",
    "        scale_spline=1.0,\n",
    "        enable_standalone_scale_spline=True,\n",
    "        base_activation=torch.nn.SiLU,\n",
    "        grid_eps=0.02,\n",
    "        grid_range=[-1, 1],\n",
    "    ):\n",
    "        super(KANLinear, self).__init__()\n",
    "        self.in_features = in_features\n",
    "        self.out_features = out_features\n",
    "        self.grid_size = grid_size\n",
    "        self.spline_order = spline_order\n",
    "\n",
    "        h = (grid_range[1] - grid_range[0]) / grid_size\n",
    "        grid = (\n",
    "            (\n",
    "                torch.arange(-spline_order, grid_size + spline_order + 1) * h\n",
    "                + grid_range[0]\n",
    "            )\n",
    "            .expand(in_features, -1)\n",
    "            .contiguous()\n",
    "        )\n",
    "        self.register_buffer(\"grid\", grid)\n",
    "\n",
    "        self.base_weight = torch.nn.Parameter(torch.Tensor(out_features, in_features))\n",
    "        self.spline_weight = torch.nn.Parameter(\n",
    "            torch.Tensor(out_features, in_features, grid_size + spline_order)\n",
    "        )\n",
    "        if enable_standalone_scale_spline:\n",
    "            self.spline_scaler = torch.nn.Parameter(\n",
    "                torch.Tensor(out_features, in_features)\n",
    "            )\n",
    "\n",
    "        self.scale_noise = scale_noise\n",
    "        self.scale_base = scale_base\n",
    "        self.scale_spline = scale_spline\n",
    "        self.enable_standalone_scale_spline = enable_standalone_scale_spline\n",
    "        self.base_activation = base_activation()\n",
    "        self.grid_eps = grid_eps\n",
    "\n",
    "        self.reset_parameters()\n",
    "\n",
    "    def reset_parameters(self):\n",
    "        torch.nn.init.kaiming_uniform_(self.base_weight, a=math.sqrt(5) * self.scale_base)\n",
    "        with torch.no_grad():\n",
    "            noise = (\n",
    "                (\n",
    "                    torch.rand(self.grid_size + 1, self.in_features, self.out_features)\n",
    "                    - 1 / 2\n",
    "                )\n",
    "                * self.scale_noise\n",
    "                / self.grid_size\n",
    "            )\n",
    "            self.spline_weight.data.copy_(\n",
    "                (self.scale_spline if not self.enable_standalone_scale_spline else 1.0)\n",
    "                * self.curve2coeff(\n",
    "                    self.grid.T[self.spline_order : -self.spline_order],\n",
    "                    noise,\n",
    "                )\n",
    "            )\n",
    "            if self.enable_standalone_scale_spline:\n",
    "                # torch.nn.init.constant_(self.spline_scaler, self.scale_spline)\n",
    "                torch.nn.init.kaiming_uniform_(self.spline_scaler, a=math.sqrt(5) * self.scale_spline)\n",
    "\n",
    "    def b_splines(self, x: torch.Tensor):\n",
    "        \"\"\"\n",
    "        Compute the B-spline bases for the given input tensor.\n",
    "\n",
    "        Args:\n",
    "            x (torch.Tensor): Input tensor of shape (batch_size, in_features).\n",
    "\n",
    "        Returns:\n",
    "            torch.Tensor: B-spline bases tensor of shape (batch_size, in_features, grid_size + spline_order).\n",
    "        \"\"\"\n",
    "        assert x.dim() == 2 and x.size(1) == self.in_features\n",
    "\n",
    "        grid: torch.Tensor = (\n",
    "            self.grid\n",
    "        )  # (in_features, grid_size + 2 * spline_order + 1)\n",
    "        x = x.unsqueeze(-1)\n",
    "        bases = ((x >= grid[:, :-1]) & (x < grid[:, 1:])).to(x.dtype)\n",
    "        for k in range(1, self.spline_order + 1):\n",
    "            bases = (\n",
    "                (x - grid[:, : -(k + 1)])\n",
    "                / (grid[:, k:-1] - grid[:, : -(k + 1)])\n",
    "                * bases[:, :, :-1]\n",
    "            ) + (\n",
    "                (grid[:, k + 1 :] - x)\n",
    "                / (grid[:, k + 1 :] - grid[:, 1:(-k)])\n",
    "                * bases[:, :, 1:]\n",
    "            )\n",
    "\n",
    "        assert bases.size() == (\n",
    "            x.size(0),\n",
    "            self.in_features,\n",
    "            self.grid_size + self.spline_order,\n",
    "        )\n",
    "        return bases.contiguous()\n",
    "\n",
    "    def curve2coeff(self, x: torch.Tensor, y: torch.Tensor):\n",
    "        \"\"\"\n",
    "        Compute the coefficients of the curve that interpolates the given points.\n",
    "\n",
    "        Args:\n",
    "            x (torch.Tensor): Input tensor of shape (batch_size, in_features).\n",
    "            y (torch.Tensor): Output tensor of shape (batch_size, in_features, out_features).\n",
    "\n",
    "        Returns:\n",
    "            torch.Tensor: Coefficients tensor of shape (out_features, in_features, grid_size + spline_order).\n",
    "        \"\"\"\n",
    "        assert x.dim() == 2 and x.size(1) == self.in_features\n",
    "        assert y.size() == (x.size(0), self.in_features, self.out_features)\n",
    "\n",
    "        A = self.b_splines(x).transpose(\n",
    "            0, 1\n",
    "        )  # (in_features, batch_size, grid_size + spline_order)\n",
    "        B = y.transpose(0, 1)  # (in_features, batch_size, out_features)\n",
    "        solution = torch.linalg.lstsq(\n",
    "            A, B\n",
    "        ).solution  # (in_features, grid_size + spline_order, out_features)\n",
    "        result = solution.permute(\n",
    "            2, 0, 1\n",
    "        )  # (out_features, in_features, grid_size + spline_order)\n",
    "\n",
    "        assert result.size() == (\n",
    "            self.out_features,\n",
    "            self.in_features,\n",
    "            self.grid_size + self.spline_order,\n",
    "        )\n",
    "        return result.contiguous()\n",
    "\n",
    "    @property\n",
    "    def scaled_spline_weight(self):\n",
    "        return self.spline_weight * (\n",
    "            self.spline_scaler.unsqueeze(-1)\n",
    "            if self.enable_standalone_scale_spline\n",
    "            else 1.0\n",
    "        )\n",
    "\n",
    "    def forward(self, x: torch.Tensor):\n",
    "        assert x.dim() == 2 and x.size(1) == self.in_features\n",
    "\n",
    "        base_output = F.linear(self.base_activation(x), self.base_weight)\n",
    "        spline_output = F.linear(\n",
    "            self.b_splines(x).view(x.size(0), -1),\n",
    "            self.scaled_spline_weight.view(self.out_features, -1),\n",
    "        )\n",
    "        return base_output + spline_output\n",
    "\n",
    "    @torch.no_grad()\n",
    "    def update_grid(self, x: torch.Tensor, margin=0.01):\n",
    "        assert x.dim() == 2 and x.size(1) == self.in_features\n",
    "        batch = x.size(0)\n",
    "\n",
    "        splines = self.b_splines(x)  # (batch, in, coeff)\n",
    "        splines = splines.permute(1, 0, 2)  # (in, batch, coeff)\n",
    "        orig_coeff = self.scaled_spline_weight  # (out, in, coeff)\n",
    "        orig_coeff = orig_coeff.permute(1, 2, 0)  # (in, coeff, out)\n",
    "        unreduced_spline_output = torch.bmm(splines, orig_coeff)  # (in, batch, out)\n",
    "        unreduced_spline_output = unreduced_spline_output.permute(\n",
    "            1, 0, 2\n",
    "        )  # (batch, in, out)\n",
    "\n",
    "        # sort each channel individually to collect data distribution\n",
    "        x_sorted = torch.sort(x, dim=0)[0]\n",
    "        grid_adaptive = x_sorted[\n",
    "            torch.linspace(\n",
    "                0, batch - 1, self.grid_size + 1, dtype=torch.int64, device=x.device\n",
    "            )\n",
    "        ]\n",
    "\n",
    "        uniform_step = (x_sorted[-1] - x_sorted[0] + 2 * margin) / self.grid_size\n",
    "        grid_uniform = (\n",
    "            torch.arange(\n",
    "                self.grid_size + 1, dtype=torch.float32, device=x.device\n",
    "            ).unsqueeze(1)\n",
    "            * uniform_step\n",
    "            + x_sorted[0]\n",
    "            - margin\n",
    "        )\n",
    "\n",
    "        grid = self.grid_eps * grid_uniform + (1 - self.grid_eps) * grid_adaptive\n",
    "        grid = torch.concatenate(\n",
    "            [\n",
    "                grid[:1]\n",
    "                - uniform_step\n",
    "                * torch.arange(self.spline_order, 0, -1, device=x.device).unsqueeze(1),\n",
    "                grid,\n",
    "                grid[-1:]\n",
    "                + uniform_step\n",
    "                * torch.arange(1, self.spline_order + 1, device=x.device).unsqueeze(1),\n",
    "            ],\n",
    "            dim=0,\n",
    "        )\n",
    "\n",
    "        self.grid.copy_(grid.T)\n",
    "        self.spline_weight.data.copy_(self.curve2coeff(x, unreduced_spline_output))\n",
    "\n",
    "    def regularization_loss(self, regularize_activation=1.0, regularize_entropy=1.0):\n",
    "        \"\"\"\n",
    "        Compute the regularization loss.\n",
    "\n",
    "        This is a dumb simulation of the original L1 regularization as stated in the\n",
    "        paper, since the original one requires computing absolutes and entropy from the\n",
    "        expanded (batch, in_features, out_features) intermediate tensor, which is hidden\n",
    "        behind the F.linear function if we want an memory efficient implementation.\n",
    "\n",
    "        The L1 regularization is now computed as mean absolute value of the spline\n",
    "        weights. The authors implementation also includes this term in addition to the\n",
    "        sample-based regularization.\n",
    "        \"\"\"\n",
    "        l1_fake = self.spline_weight.abs().mean(-1)\n",
    "        regularization_loss_activation = l1_fake.sum()\n",
    "        p = l1_fake / regularization_loss_activation\n",
    "        regularization_loss_entropy = -torch.sum(p * p.log())\n",
    "        return (\n",
    "            regularize_activation * regularization_loss_activation\n",
    "            + regularize_entropy * regularization_loss_entropy\n",
    "        )\n",
    "\n",
    "class KANLayer(nn.Module):\n",
    "    def __init__(self, in_features, hidden_features=None, out_features=None, act_layer=nn.GELU, drop=0., no_kan=False):\n",
    "        super().__init__()\n",
    "        out_features = out_features or in_features\n",
    "        hidden_features = hidden_features or in_features\n",
    "        self.dim = in_features\n",
    "        \n",
    "        grid_size=5\n",
    "        spline_order=3\n",
    "        scale_noise=0.1\n",
    "        scale_base=1.0\n",
    "        scale_spline=1.0\n",
    "        base_activation=torch.nn.SiLU\n",
    "        grid_eps=0.02\n",
    "        grid_range=[-1, 1]\n",
    "\n",
    "        if not no_kan:\n",
    "            self.fc1 = KANLinear(\n",
    "                        in_features,\n",
    "                        hidden_features,\n",
    "                        grid_size=grid_size,\n",
    "                        spline_order=spline_order,\n",
    "                        scale_noise=scale_noise,\n",
    "                        scale_base=scale_base,\n",
    "                        scale_spline=scale_spline,\n",
    "                        base_activation=base_activation,\n",
    "                        grid_eps=grid_eps,\n",
    "                        grid_range=grid_range,\n",
    "                    )\n",
    "            self.fc2 = KANLinear(\n",
    "                        hidden_features,\n",
    "                        out_features,\n",
    "                        grid_size=grid_size,\n",
    "                        spline_order=spline_order,\n",
    "                        scale_noise=scale_noise,\n",
    "                        scale_base=scale_base,\n",
    "                        scale_spline=scale_spline,\n",
    "                        base_activation=base_activation,\n",
    "                        grid_eps=grid_eps,\n",
    "                        grid_range=grid_range,\n",
    "                    )\n",
    "            self.fc3 = KANLinear(\n",
    "                        hidden_features,\n",
    "                        out_features,\n",
    "                        grid_size=grid_size,\n",
    "                        spline_order=spline_order,\n",
    "                        scale_noise=scale_noise,\n",
    "                        scale_base=scale_base,\n",
    "                        scale_spline=scale_spline,\n",
    "                        base_activation=base_activation,\n",
    "                        grid_eps=grid_eps,\n",
    "                        grid_range=grid_range,\n",
    "                    )\n",
    "            # # TODO   \n",
    "            # self.fc4 = KANLinear(\n",
    "            #             hidden_features,\n",
    "            #             out_features,\n",
    "            #             grid_size=grid_size,\n",
    "            #             spline_order=spline_order,\n",
    "            #             scale_noise=scale_noise,\n",
    "            #             scale_base=scale_base,\n",
    "            #             scale_spline=scale_spline,\n",
    "            #             base_activation=base_activation,\n",
    "            #             grid_eps=grid_eps,\n",
    "            #             grid_range=grid_range,\n",
    "            #         )   \n",
    "\n",
    "        else:\n",
    "            self.fc1 = nn.Linear(in_features, hidden_features)\n",
    "            self.fc2 = nn.Linear(hidden_features, out_features)\n",
    "            self.fc3 = nn.Linear(hidden_features, out_features)\n",
    "\n",
    "        # TODO\n",
    "        # self.fc1 = nn.Linear(in_features, hidden_features)\n",
    "\n",
    "\n",
    "        self.dwconv_1 = DW_bn_relu(hidden_features)\n",
    "        self.dwconv_2 = DW_bn_relu(hidden_features)\n",
    "        self.dwconv_3 = DW_bn_relu(hidden_features)\n",
    "\n",
    "        # # TODO\n",
    "        # self.dwconv_4 = DW_bn_relu(hidden_features)\n",
    "    \n",
    "        self.drop = nn.Dropout(drop)\n",
    "\n",
    "        self.apply(self._init_weights)\n",
    "\n",
    "    def _init_weights(self, m):\n",
    "        if isinstance(m, nn.Linear):\n",
    "            trunc_normal_(m.weight, std=.02)\n",
    "            if isinstance(m, nn.Linear) and m.bias is not None:\n",
    "                nn.init.constant_(m.bias, 0)\n",
    "        elif isinstance(m, nn.LayerNorm):\n",
    "            nn.init.constant_(m.bias, 0)\n",
    "            nn.init.constant_(m.weight, 1.0)\n",
    "        elif isinstance(m, nn.Conv2d):\n",
    "            fan_out = m.kernel_size[0] * m.kernel_size[1] * m.out_channels\n",
    "            fan_out //= m.groups\n",
    "            m.weight.data.normal_(0, math.sqrt(2.0 / fan_out))\n",
    "            if m.bias is not None:\n",
    "                m.bias.data.zero_()\n",
    "    \n",
    "\n",
    "    def forward(self, x, H, W):\n",
    "        # pdb.set_trace()\n",
    "        B, N, C = x.shape\n",
    "\n",
    "        x = self.fc1(x.reshape(B*N,C))\n",
    "        x = x.reshape(B,N,C).contiguous()\n",
    "        x = self.dwconv_1(x, H, W)\n",
    "        x = self.fc2(x.reshape(B*N,C))\n",
    "        x = x.reshape(B,N,C).contiguous()\n",
    "        x = self.dwconv_2(x, H, W)\n",
    "        x = self.fc3(x.reshape(B*N,C))\n",
    "        x = x.reshape(B,N,C).contiguous()\n",
    "        x = self.dwconv_3(x, H, W)\n",
    "\n",
    "        # # TODO\n",
    "        # x = x.reshape(B,N,C).contiguous()\n",
    "        # x = self.dwconv_4(x, H, W)\n",
    "    \n",
    "        return x\n",
    "\n",
    "class KANBlock(nn.Module):\n",
    "    def __init__(self, dim, drop=0., drop_path=0., act_layer=nn.GELU, norm_layer=nn.LayerNorm, no_kan=False):\n",
    "        super().__init__()\n",
    "\n",
    "        self.drop_path = DropPath(drop_path) if drop_path > 0. else nn.Identity()\n",
    "        self.norm2 = norm_layer(dim)\n",
    "        mlp_hidden_dim = int(dim)\n",
    "\n",
    "        self.layer = KANLayer(in_features=dim, hidden_features=mlp_hidden_dim, act_layer=act_layer, drop=drop, no_kan=no_kan)\n",
    "\n",
    "        self.apply(self._init_weights)\n",
    "\n",
    "    def _init_weights(self, m):\n",
    "        if isinstance(m, nn.Linear):\n",
    "            trunc_normal_(m.weight, std=.02)\n",
    "            if isinstance(m, nn.Linear) and m.bias is not None:\n",
    "                nn.init.constant_(m.bias, 0)\n",
    "        elif isinstance(m, nn.LayerNorm):\n",
    "            nn.init.constant_(m.bias, 0)\n",
    "            nn.init.constant_(m.weight, 1.0)\n",
    "        elif isinstance(m, nn.Conv2d):\n",
    "            fan_out = m.kernel_size[0] * m.kernel_size[1] * m.out_channels\n",
    "            fan_out //= m.groups\n",
    "            m.weight.data.normal_(0, math.sqrt(2.0 / fan_out))\n",
    "            if m.bias is not None:\n",
    "                m.bias.data.zero_()\n",
    "\n",
    "    def forward(self, x, H, W):\n",
    "        x = x + self.drop_path(self.layer(self.norm2(x), H, W))\n",
    "\n",
    "        return x\n",
    "\n",
    "\n",
    "class PolynomialFunction(nn.Module):\n",
    "    def __init__(self, \n",
    "                 degree: int = 3):\n",
    "        super().__init__()\n",
    "        self.degree = degree\n",
    "\n",
    "    def forward(self, x):\n",
    "        return torch.stack([x ** i for i in range(self.degree)], dim=-1)\n",
    "    \n",
    "class BSplineFunction(nn.Module):\n",
    "    def __init__(self, grid_min: float = -2.,\n",
    "        grid_max: float = 2., degree: int = 3, num_basis: int = 8):\n",
    "        super(BSplineFunction, self).__init__()\n",
    "        self.degree = degree\n",
    "        self.num_basis = num_basis\n",
    "        self.knots = torch.linspace(grid_min, grid_max, num_basis + degree + 1)  # Uniform knots\n",
    "\n",
    "    def basis_function(self, i, k, t):\n",
    "        if k == 0:\n",
    "            return ((self.knots[i] <= t) & (t < self.knots[i + 1])).float()\n",
    "        else:\n",
    "            left_num = (t - self.knots[i]) * self.basis_function(i, k - 1, t)\n",
    "            left_den = self.knots[i + k] - self.knots[i]\n",
    "            left = left_num / left_den if left_den != 0 else 0\n",
    "\n",
    "            right_num = (self.knots[i + k + 1] - t) * self.basis_function(i + 1, k - 1, t)\n",
    "            right_den = self.knots[i + k + 1] - self.knots[i + 1]\n",
    "            right = right_num / right_den if right_den != 0 else 0\n",
    "            return left + right \n",
    "    \n",
    "    def forward(self, x):\n",
    "        x = x.squeeze()  # Assuming x is of shape (B, 1)\n",
    "        basis_functions = torch.stack([self.basis_function(i, self.degree, x) for i in range(self.num_basis)], dim=-1)\n",
    "        return basis_functions\n",
    "\n",
    "class ChebyshevFunction(nn.Module):\n",
    "    def __init__(self, degree: int = 4):\n",
    "        super(ChebyshevFunction, self).__init__()\n",
    "        self.degree = degree\n",
    "\n",
    "    def forward(self, x):\n",
    "        chebyshev_polynomials = [torch.ones_like(x), x]\n",
    "        for n in range(2, self.degree):\n",
    "            chebyshev_polynomials.append(2 * x * chebyshev_polynomials[-1] - chebyshev_polynomials[-2])\n",
    "        return torch.stack(chebyshev_polynomials, dim=-1)\n",
    "\n",
    "class FourierBasisFunction(nn.Module):\n",
    "    def __init__(self, \n",
    "                 num_frequencies: int = 4, \n",
    "                 period: float = 1.0):\n",
    "        super(FourierBasisFunction, self).__init__()\n",
    "        assert num_frequencies % 2 == 0, \"num_frequencies must be even\"\n",
    "        self.num_frequencies = num_frequencies\n",
    "        self.period = nn.Parameter(torch.Tensor([period]), requires_grad=False)\n",
    "\n",
    "    def forward(self, x):\n",
    "        frequencies = torch.arange(1, self.num_frequencies // 2 + 1, device=x.device)\n",
    "        sin_components = torch.sin(2 * torch.pi * frequencies * x[..., None] / self.period)\n",
    "        cos_components = torch.cos(2 * torch.pi * frequencies * x[..., None] / self.period)\n",
    "        basis_functions = torch.cat([sin_components, cos_components], dim=-1)\n",
    "        return basis_functions\n",
    "        \n",
    "class RadialBasisFunction(nn.Module):\n",
    "    def __init__(\n",
    "        self,\n",
    "        grid_min: float = -2.,\n",
    "        grid_max: float = 2.,\n",
    "        num_grids: int = 4,\n",
    "        denominator: float = None,\n",
    "    ):\n",
    "        super().__init__()\n",
    "        grid = torch.linspace(grid_min, grid_max, num_grids)\n",
    "        self.grid = torch.nn.Parameter(grid, requires_grad=False)\n",
    "        self.denominator = denominator or (grid_max - grid_min) / (num_grids - 1)\n",
    "\n",
    "    def forward(self, x):\n",
    "        return torch.exp(-((x[..., None] - self.grid) / self.denominator) ** 2)\n",
    "    \n",
    "\n",
    "    \n",
    "    \n",
    "class SplineConv2D(nn.Conv2d):\n",
    "    def __init__(self, \n",
    "                 in_channels: int, \n",
    "                 out_channels: int, \n",
    "                 kernel_size: Union[int, Tuple[int, int]] = 3,\n",
    "                 stride: Union[int, Tuple[int, int]] = 1, \n",
    "                 padding: Union[int, Tuple[int, int]] = 0, \n",
    "                 dilation: Union[int, Tuple[int, int]] = 1,\n",
    "                 groups: int = 1, \n",
    "                 bias: bool = True, \n",
    "                 init_scale: float = 0.1, \n",
    "                 padding_mode: str = \"zeros\", \n",
    "                 **kw\n",
    "                 ) -> None:\n",
    "        self.init_scale = init_scale\n",
    "        super().__init__(in_channels, \n",
    "                         out_channels, \n",
    "                         kernel_size, \n",
    "                         stride, \n",
    "                         padding, \n",
    "                         dilation, \n",
    "                         groups, \n",
    "                         bias, \n",
    "                         padding_mode, \n",
    "                         **kw\n",
    "                         )\n",
    "\n",
    "    def reset_parameters(self) -> None:\n",
    "        nn.init.trunc_normal_(self.weight, mean=0, std=self.init_scale)\n",
    "        if self.bias is not None:\n",
    "            nn.init.zeros_(self.bias)\n",
    "\n",
    "\n",
    "class FastKANConvLayer(nn.Module):\n",
    "    def __init__(self, \n",
    "                 in_channels: int, \n",
    "                 out_channels: int, \n",
    "                 kernel_size: Union[int, Tuple[int, int]] = 3,\n",
    "                 stride: Union[int, Tuple[int, int]] = 1, \n",
    "                 padding: Union[int, Tuple[int, int]] = 0, \n",
    "                 dilation: Union[int, Tuple[int, int]] = 1,\n",
    "                 groups: int = 1, \n",
    "                 bias: bool = True, \n",
    "                 grid_min: float = -2., \n",
    "                 grid_max: float = 2.,\n",
    "                 num_grids: int = 4, \n",
    "                 use_base_update: bool = True, \n",
    "                 base_activation = F.silu,\n",
    "                 spline_weight_init_scale: float = 0.1, \n",
    "                 padding_mode: str = \"zeros\",\n",
    "                 kan_type: str = \"BSpline\",\n",
    "                #  kan_type: str = \"RBF\",\n",
    "                 ) -> None:\n",
    "        \n",
    "        super().__init__()\n",
    "        if kan_type == \"RBF\":\n",
    "            self.rbf = RadialBasisFunction(grid_min, grid_max, num_grids)\n",
    "        elif kan_type == \"Fourier\":\n",
    "            self.rbf = FourierBasisFunction(num_grids)\n",
    "        elif kan_type == \"Poly\":\n",
    "            self.rbf = PolynomialFunction(num_grids)\n",
    "        elif kan_type == \"Chebyshev\":\n",
    "            self.rbf = ChebyshevFunction(num_grids)\n",
    "        elif kan_type == \"BSpline\":\n",
    "            self.rbf = BSplineFunction(grid_min, grid_max, 3, num_grids)\n",
    "\n",
    "        self.spline_conv = SplineConv2D(in_channels * num_grids, \n",
    "                                        out_channels, \n",
    "                                        kernel_size,\n",
    "                                        stride, \n",
    "                                        padding, \n",
    "                                        dilation, \n",
    "                                        groups, \n",
    "                                        bias,\n",
    "                                        spline_weight_init_scale, \n",
    "                                        padding_mode)\n",
    "        \n",
    "        self.use_base_update = use_base_update\n",
    "        if use_base_update:\n",
    "            self.base_activation = base_activation\n",
    "            self.base_conv = nn.Conv2d(in_channels, \n",
    "                                       out_channels, \n",
    "                                       kernel_size, \n",
    "                                       stride, \n",
    "                                       padding, \n",
    "                                       dilation, \n",
    "                                       groups, \n",
    "                                       bias, \n",
    "                                       padding_mode)\n",
    "\n",
    "    def forward(self, x):\n",
    "        batch_size, channels, height, width = x.shape\n",
    "        x_rbf = self.rbf(x.view(batch_size, channels, -1)).view(batch_size, channels, height, width, -1)\n",
    "        x_rbf = x_rbf.permute(0, 4, 1, 2, 3).contiguous().view(batch_size, -1, height, width)\n",
    "        \n",
    "        # Apply spline convolution\n",
    "        ret = self.spline_conv(x_rbf)\n",
    "         \n",
    "        if self.use_base_update:\n",
    "            base = self.base_conv(self.base_activation(x))\n",
    "            ret = ret + base\n",
    "        \n",
    "        return ret\n",
    "\n",
    "\n",
    "class DWConv(nn.Module):\n",
    "    def __init__(self, dim=768):\n",
    "        super(DWConv, self).__init__()\n",
    "        self.dwconv = nn.Conv2d(dim, dim, 3, 1, 1, bias=True, groups=dim)\n",
    "\n",
    "    def forward(self, x, H, W):\n",
    "        B, N, C = x.shape\n",
    "        x = x.transpose(1, 2).view(B, C, H, W)\n",
    "        x = self.dwconv(x)\n",
    "        x = x.flatten(2).transpose(1, 2)\n",
    "\n",
    "        return x\n",
    "\n",
    "class DW_bn_relu(nn.Module):\n",
    "    def __init__(self, dim=768):\n",
    "        super(DW_bn_relu, self).__init__()\n",
    "        self.dwconv = nn.Conv2d(dim, dim, 3, 1, 1, bias=True, groups=dim)\n",
    "        self.bn = nn.BatchNorm2d(dim)\n",
    "        self.relu = nn.ReLU()\n",
    "\n",
    "    def forward(self, x, H, W):\n",
    "        B, N, C = x.shape\n",
    "        x = x.transpose(1, 2).view(B, C, H, W)\n",
    "        x = self.dwconv(x)\n",
    "        x = self.bn(x)\n",
    "        x = self.relu(x)\n",
    "        x = x.flatten(2).transpose(1, 2)\n",
    "\n",
    "        return x\n",
    "\n",
    "class PatchEmbed(nn.Module):\n",
    "    \"\"\" Image to Patch Embedding\n",
    "    \"\"\"\n",
    "\n",
    "    def __init__(self, img_size=224, patch_size=7, stride=4, in_chans=3, embed_dim=768):\n",
    "        super().__init__()\n",
    "        img_size = to_2tuple(img_size)\n",
    "        patch_size = to_2tuple(patch_size)\n",
    "\n",
    "        self.img_size = img_size\n",
    "        self.patch_size = patch_size\n",
    "        self.H, self.W = img_size[0] // patch_size[0], img_size[1] // patch_size[1]\n",
    "        self.num_patches = self.H * self.W\n",
    "        self.proj = nn.Conv2d(in_chans, embed_dim, kernel_size=patch_size, stride=stride,\n",
    "                              padding=(patch_size[0] // 2, patch_size[1] // 2))\n",
    "        self.norm = nn.LayerNorm(embed_dim)\n",
    "\n",
    "        self.apply(self._init_weights)\n",
    "\n",
    "    def _init_weights(self, m):\n",
    "        if isinstance(m, nn.Linear):\n",
    "            trunc_normal_(m.weight, std=.02)\n",
    "            if isinstance(m, nn.Linear) and m.bias is not None:\n",
    "                nn.init.constant_(m.bias, 0)\n",
    "        elif isinstance(m, nn.LayerNorm):\n",
    "            nn.init.constant_(m.bias, 0)\n",
    "            nn.init.constant_(m.weight, 1.0)\n",
    "        elif isinstance(m, nn.Conv2d):\n",
    "            fan_out = m.kernel_size[0] * m.kernel_size[1] * m.out_channels\n",
    "            fan_out //= m.groups\n",
    "            m.weight.data.normal_(0, math.sqrt(2.0 / fan_out))\n",
    "            if m.bias is not None:\n",
    "                m.bias.data.zero_()\n",
    "\n",
    "    def forward(self, x):\n",
    "        x = self.proj(x)\n",
    "        _, _, H, W = x.shape\n",
    "        x = x.flatten(2).transpose(1, 2)\n",
    "        x = self.norm(x)\n",
    "\n",
    "        return x, H, W\n",
    "\n",
    "\n",
    "class KConvLayer(nn.Module):\n",
    "    def __init__(self, in_ch, out_ch):\n",
    "        super(KConvLayer, self).__init__()\n",
    "        self.conv = FastKANConvLayer(in_ch, out_ch, 3, padding=1, kan_type = \"BSpline\", num_grids=4, grid_min=-2., grid_max=2.)\n",
    "        self.bn1 = nn.BatchNorm2d(out_ch)\n",
    "        \n",
    "    def forward(self, input):\n",
    "        output1 = self.conv(input)\n",
    "        output1 = self.bn1(output1)\n",
    "        return output1\n",
    "    \n",
    "class ConvLayer(nn.Module):\n",
    "    def __init__(self, in_ch, out_ch):\n",
    "        super(ConvLayer, self).__init__()\n",
    "        self.conv = nn.Sequential(\n",
    "            nn.Conv2d(in_ch, out_ch, 3, padding=1),\n",
    "            nn.BatchNorm2d(out_ch),\n",
    "            nn.ReLU(inplace=True),\n",
    "            nn.Conv2d(out_ch, out_ch, 3, padding=1),\n",
    "            nn.BatchNorm2d(out_ch),\n",
    "            nn.ReLU(inplace=True)\n",
    "        )\n",
    "\n",
    "    def forward(self, input):\n",
    "        return self.conv(input)\n",
    "\n",
    "class KD_ConvLayer(nn.Module):\n",
    "    def __init__(self, in_ch, out_ch):\n",
    "        super(KD_ConvLayer, self).__init__()\n",
    "        self.conv = FastKANConvLayer(in_ch, out_ch, 3, padding=1, kan_type = \"BSpline\", num_grids=4, grid_min=-2., grid_max=2.)\n",
    "        self.bn1 = nn.BatchNorm2d(out_ch)\n",
    "        \n",
    "    def forward(self, input):\n",
    "        output1 = self.conv(input)\n",
    "        output1 = self.bn1(output1)\n",
    "        return output1\n",
    "    \n",
    "class D_ConvLayer(nn.Module):\n",
    "    def __init__(self, in_ch, out_ch):\n",
    "        super(D_ConvLayer, self).__init__()\n",
    "        self.conv = nn.Sequential(\n",
    "            nn.Conv2d(in_ch, in_ch, 3, padding=1),\n",
    "            nn.BatchNorm2d(in_ch),\n",
    "            nn.ReLU(inplace=True),\n",
    "            nn.Conv2d(in_ch, out_ch, 3, padding=1),\n",
    "            nn.BatchNorm2d(out_ch),\n",
    "            nn.ReLU(inplace=True)\n",
    "        )\n",
    "\n",
    "    def forward(self, input):\n",
    "        return self.conv(input)"
   ]
  },
  {
   "cell_type": "code",
   "execution_count": 16,
   "id": "18b7dd2d",
   "metadata": {
    "execution": {
     "iopub.execute_input": "2025-09-09T08:06:47.229934Z",
     "iopub.status.busy": "2025-09-09T08:06:47.229702Z",
     "iopub.status.idle": "2025-09-09T08:06:47.232868Z",
     "shell.execute_reply": "2025-09-09T08:06:47.232241Z"
    },
    "papermill": {
     "duration": 0.012184,
     "end_time": "2025-09-09T08:06:47.234175",
     "exception": false,
     "start_time": "2025-09-09T08:06:47.221991",
     "status": "completed"
    },
    "tags": []
   },
   "outputs": [],
   "source": [
    "def Normalize(in_channels):\n",
    "    return torch.nn.GroupNorm(num_groups=8, num_channels=in_channels, eps=1e-6, affine=True)"
   ]
  },
  {
   "cell_type": "code",
   "execution_count": 17,
   "id": "2415410c",
   "metadata": {
    "execution": {
     "iopub.execute_input": "2025-09-09T08:06:47.248815Z",
     "iopub.status.busy": "2025-09-09T08:06:47.248602Z",
     "iopub.status.idle": "2025-09-09T08:06:47.265911Z",
     "shell.execute_reply": "2025-09-09T08:06:47.265227Z"
    },
    "jupyter": {
     "source_hidden": true
    },
    "papermill": {
     "duration": 0.0258,
     "end_time": "2025-09-09T08:06:47.266973",
     "exception": false,
     "start_time": "2025-09-09T08:06:47.241173",
     "status": "completed"
    },
    "tags": []
   },
   "outputs": [],
   "source": [
    "class UKAN(nn.Module):\n",
    "    def __init__(self, input_channels=8, deep_supervision=False, img_size=32, out_channels = 4 , patch_size=16, in_chans=8, embed_dims=[256, 320, 512], no_kan=False,\n",
    "                 drop_rate=0., drop_path_rate=0., norm_layer=nn.LayerNorm, depths=[1, 1, 1], **kwargs):\n",
    "        super().__init__()\n",
    "\n",
    "        kan_input_dim = embed_dims[0]\n",
    "        self.input_blocks = nn.Conv2d(input_channels, in_chans, kernel_size=3, stride=1, padding=1, bias=True)\n",
    "\n",
    "        # Update input channels to 8\n",
    "        self.encoder1 = ConvLayer(input_channels, kan_input_dim // 4)\n",
    "        self.encoder2 = ConvLayer(kan_input_dim // 4, kan_input_dim // 2)\n",
    "        self.encoder3 = ConvLayer(kan_input_dim // 2, kan_input_dim)\n",
    "\n",
    "        self.norm3 = norm_layer(embed_dims[1])\n",
    "        self.norm4 = norm_layer(embed_dims[2])\n",
    "\n",
    "        self.dnorm3 = norm_layer(embed_dims[1])\n",
    "        self.dnorm4 = norm_layer(embed_dims[0])\n",
    "\n",
    "        dpr = [x.item() for x in torch.linspace(0, drop_path_rate, sum(depths))]\n",
    "\n",
    "        self.block1 = nn.ModuleList([KANBlock(\n",
    "            dim=embed_dims[1],\n",
    "            drop=drop_rate, drop_path=dpr[0], norm_layer=norm_layer\n",
    "        )])\n",
    "\n",
    "        self.block2 = nn.ModuleList([KANBlock(\n",
    "            dim=embed_dims[2],\n",
    "            drop=drop_rate, drop_path=dpr[1], norm_layer=norm_layer\n",
    "        )])\n",
    "\n",
    "        self.dblock1 = nn.ModuleList([KANBlock(\n",
    "            dim=embed_dims[1],\n",
    "            drop=drop_rate, drop_path=dpr[0], norm_layer=norm_layer\n",
    "        )])\n",
    "\n",
    "        self.dblock2 = nn.ModuleList([KANBlock(\n",
    "            dim=embed_dims[0],\n",
    "            drop=drop_rate, drop_path=dpr[1], norm_layer=norm_layer\n",
    "        )])\n",
    "\n",
    "        # Adjust patch embedding for smaller input size\n",
    "        self.patch_embed3 = PatchEmbed(img_size=img_size, patch_size=3, stride=1, in_chans=embed_dims[0], embed_dim=embed_dims[1])\n",
    "        self.patch_embed4 = PatchEmbed(img_size=img_size, patch_size=3, stride=1, in_chans=embed_dims[1], embed_dim=embed_dims[2])\n",
    "\n",
    "        self.decoder1 = D_ConvLayer(embed_dims[2], embed_dims[1])\n",
    "        self.decoder2 = D_ConvLayer(embed_dims[1], embed_dims[0])\n",
    "        self.decoder3 = D_ConvLayer(embed_dims[0], embed_dims[0] // 2)\n",
    "        self.decoder4 = D_ConvLayer(embed_dims[0] // 2, embed_dims[0] // 4)\n",
    "        self.decoder5 = D_ConvLayer(embed_dims[0] // 4, embed_dims[0] // 4)\n",
    "\n",
    "        self.final = nn.Conv2d(embed_dims[0] // 8, 4, kernel_size=3, stride=1, padding=1)\n",
    "        \n",
    "\n",
    "        self.convds3 = nn.Sequential(Normalize(128), nn.SiLU(),\n",
    "                                     nn.Conv2d(128, out_channels, kernel_size=3, stride=1, padding=1, bias=False))\n",
    "        self.convds2 = nn.Sequential(Normalize(64), nn.SiLU(),\n",
    "                                     nn.Conv2d(64, out_channels, kernel_size=3, stride=1, padding=1, bias=False))\n",
    "        self.convds1 = nn.Sequential(Normalize(16), nn.SiLU(),\n",
    "                                     nn.Conv2d(16, out_channels, kernel_size=3, stride=1, padding=1, bias=False))\n",
    "        self.convds0 = nn.Sequential(Normalize(16), nn.SiLU(),\n",
    "                                     nn.Conv2d(16, out_channels, kernel_size=3, stride=1, padding=1, bias=False))      \n",
    "        \n",
    "        # self.soft = nn.Softmax(dim=1)\n",
    "\n",
    "    def forward(self, x):\n",
    "        B = x.shape[0]\n",
    "\n",
    "        ### Encoder\n",
    "        ### Stage 1\n",
    "        out = F.relu(self.encoder1(x))\n",
    "        t1 = out\n",
    "        ### Stage 2\n",
    "        out = F.relu(self.encoder2(out))\n",
    "        t2 = out\n",
    "        ### Stage 3\n",
    "        out = F.relu(self.encoder3(out))\n",
    "        t3 = out\n",
    "\n",
    "        ### Tokenized KAN Stage\n",
    "        ### Stage 4\n",
    "        out, H, W = self.patch_embed3(out)\n",
    "        for i, blk in enumerate(self.block1):\n",
    "            out = blk(out, H, W)\n",
    "        out = self.norm3(out)\n",
    "        out = out.reshape(B, H, W, -1).permute(0, 3, 1, 2).contiguous()\n",
    "        t4 = out\n",
    "\n",
    "        ### Bottleneck\n",
    "        out, H, W = self.patch_embed4(out)\n",
    "        for i, blk in enumerate(self.block2):\n",
    "            out = blk(out, H, W)\n",
    "        out = self.norm4(out)\n",
    "        out = out.reshape(B, H, W, -1).permute(0, 3, 1, 2).contiguous()\n",
    "\n",
    "        ### Decoder\n",
    "        ### Stage 4\n",
    "        out_final = dict()\n",
    "        out = F.relu(F.interpolate(self.decoder1(out), scale_factor=(1, 1), mode='bilinear'))\n",
    "        out_final['level3'] = self.convds3(out)\n",
    "        out = torch.add(out, t4)\n",
    "        _, _, H, W = out.shape\n",
    "        out = out.flatten(2).transpose(1, 2)\n",
    "        for i, blk in enumerate(self.dblock1):\n",
    "            out = blk(out, H, W)\n",
    "\n",
    "        ### Stage 3\n",
    "        out = self.dnorm3(out)\n",
    "        out = out.reshape(B, H, W, -1).permute(0, 3, 1, 2).contiguous()\n",
    "        out = F.relu(F.interpolate(self.decoder2(out), scale_factor=(1, 1), mode='bilinear'))\n",
    "        out_final['level2'] = self.convds2(out)\n",
    "        out = torch.add(out, t3)\n",
    "        _, _, H, W = out.shape\n",
    "        out = out.flatten(2).transpose(1, 2)\n",
    "\n",
    "        for i, blk in enumerate(self.dblock2):\n",
    "            out = blk(out, H, W)\n",
    "\n",
    "        out = self.dnorm4(out)\n",
    "        out = out.reshape(B, H, W, -1).permute(0, 3, 1, 2).contiguous()\n",
    "\n",
    "        out = F.relu(F.interpolate(self.decoder3(out), scale_factor=(1, 1), mode='bilinear'))\n",
    "        out = torch.add(out, t2)\n",
    "        out = F.relu(F.interpolate(self.decoder4(out), scale_factor=(1, 1), mode='bilinear'))\n",
    "        out_final['level1'] = self.convds1(out)\n",
    "        out = torch.add(out, t1)\n",
    "        out = F.relu(F.interpolate(self.decoder5(out), scale_factor=(1, 1), mode='bilinear'))\n",
    "        out_final['out'] = self.convds0(out)\n",
    "\n",
    "        return out_final"
   ]
  },
  {
   "cell_type": "code",
   "execution_count": 18,
   "id": "4593b50f",
   "metadata": {
    "execution": {
     "iopub.execute_input": "2025-09-09T08:06:47.281600Z",
     "iopub.status.busy": "2025-09-09T08:06:47.281370Z",
     "iopub.status.idle": "2025-09-09T08:06:47.491687Z",
     "shell.execute_reply": "2025-09-09T08:06:47.490965Z"
    },
    "papermill": {
     "duration": 0.219406,
     "end_time": "2025-09-09T08:06:47.493388",
     "exception": false,
     "start_time": "2025-09-09T08:06:47.273982",
     "status": "completed"
    },
    "tags": []
   },
   "outputs": [],
   "source": [
    "model = UKAN(input_channels=4, deep_supervision=False, embed_dims=[64, 128, 256], no_kan=False)"
   ]
  },
  {
   "cell_type": "code",
   "execution_count": 19,
   "id": "d8622d19",
   "metadata": {
    "execution": {
     "iopub.execute_input": "2025-09-09T08:06:47.508991Z",
     "iopub.status.busy": "2025-09-09T08:06:47.508750Z",
     "iopub.status.idle": "2025-09-09T08:06:47.511834Z",
     "shell.execute_reply": "2025-09-09T08:06:47.511236Z"
    },
    "papermill": {
     "duration": 0.011878,
     "end_time": "2025-09-09T08:06:47.512999",
     "exception": false,
     "start_time": "2025-09-09T08:06:47.501121",
     "status": "completed"
    },
    "tags": []
   },
   "outputs": [],
   "source": [
    "import torch\n",
    "import logging\n",
    "from torch import nn\n",
    "from einops import rearrange"
   ]
  },
  {
   "cell_type": "code",
   "execution_count": 20,
   "id": "7a58639e",
   "metadata": {
    "execution": {
     "iopub.execute_input": "2025-09-09T08:06:47.528188Z",
     "iopub.status.busy": "2025-09-09T08:06:47.527968Z",
     "iopub.status.idle": "2025-09-09T08:06:47.534650Z",
     "shell.execute_reply": "2025-09-09T08:06:47.533964Z"
    },
    "jupyter": {
     "source_hidden": true
    },
    "papermill": {
     "duration": 0.015785,
     "end_time": "2025-09-09T08:06:47.535857",
     "exception": false,
     "start_time": "2025-09-09T08:06:47.520072",
     "status": "completed"
    },
    "tags": []
   },
   "outputs": [],
   "source": [
    "class KSpatialSelfAttention(nn.Module):\n",
    "    def __init__(self, in_channels):\n",
    "        super().__init__()\n",
    "        self.in_channels = in_channels\n",
    "\n",
    "        self.norm = Normalize(in_channels)\n",
    "        self.q = FastKANConvLayer(in_channels, in_channels, 1, stride=1, padding=0, kan_type = \"BSpline\", num_grids=4, grid_min=-2., grid_max=2.)\n",
    "        self.k = FastKANConvLayer(in_channels, in_channels, 1, stride=1, padding=0, kan_type = \"BSpline\", num_grids=4, grid_min=-2., grid_max=2.)\n",
    "        self.v = FastKANConvLayer(in_channels, in_channels, 1, stride=1, padding=0, kan_type = \"BSpline\", num_grids=4, grid_min=-2., grid_max=2.)\n",
    "        self.proj_out = FastKANConvLayer(in_channels, in_channels, 1, stride=1, padding=0, kan_type = \"BSpline\", num_grids=4, grid_min=-2., grid_max=2.)\n",
    "\n",
    "    def forward(self, x):\n",
    "        h_ = x\n",
    "        h_ = self.norm(h_)\n",
    "        q = self.q(h_)\n",
    "        k = self.k(h_)\n",
    "        v = self.v(h_)\n",
    "\n",
    "        # compute attention\n",
    "        b,c,h,w = q.shape\n",
    "        q = rearrange(q, 'b c h w -> b (h w) c')\n",
    "        k = rearrange(k, 'b c h w -> b c (h w)')\n",
    "        w_ = torch.einsum('bij,bjk->bik', q, k)\n",
    "\n",
    "        w_ = w_ * (int(c)**(-0.5))\n",
    "        w_ = torch.nn.functional.softmax(w_, dim=2)\n",
    "\n",
    "        # attend to values\n",
    "        v = rearrange(v, 'b c h w -> b c (h w)')\n",
    "        w_ = rearrange(w_, 'b i j -> b j i')\n",
    "        h_ = torch.einsum('bij,bjk->bik', v, w_)\n",
    "        h_ = rearrange(h_, 'b c (h w) -> b c h w', h=h)\n",
    "        h_ = self.proj_out(h_)\n",
    "\n",
    "        return x+h_"
   ]
  },
  {
   "cell_type": "code",
   "execution_count": 21,
   "id": "517d9c96",
   "metadata": {
    "execution": {
     "iopub.execute_input": "2025-09-09T08:06:47.550535Z",
     "iopub.status.busy": "2025-09-09T08:06:47.550314Z",
     "iopub.status.idle": "2025-09-09T08:06:47.557097Z",
     "shell.execute_reply": "2025-09-09T08:06:47.556476Z"
    },
    "papermill": {
     "duration": 0.015642,
     "end_time": "2025-09-09T08:06:47.558462",
     "exception": false,
     "start_time": "2025-09-09T08:06:47.542820",
     "status": "completed"
    },
    "tags": []
   },
   "outputs": [],
   "source": [
    "class KResBlock(nn.Module):\n",
    "    \"\"\"\n",
    "    Convolutional blocks\n",
    "    \"\"\"\n",
    "    def __init__(self, in_channels, out_channels, leaky=True):\n",
    "        super().__init__()\n",
    "        # activation, support PReLU and common ReLU\n",
    "        self.act1 = nn.PReLU() if leaky else nn.ReLU(inplace=True)\n",
    "        self.act2 = nn.PReLU() if leaky else nn.ReLU(inplace=True)\n",
    "\n",
    "        self.conv1 = nn.Sequential(\n",
    "            Normalize(in_channels),\n",
    "            # self.act1,\n",
    "            FastKANConvLayer(in_channels, out_channels, 3, stride=1, padding=1, kan_type = \"BSpline\", num_grids=4, grid_min=-2., grid_max=2.)\n",
    "            # nn.Conv2d(in_channels, out_channels, kernel_size=3, stride=1, padding=1, bias=True),\n",
    "        )\n",
    "        \n",
    "        self.conv2 = nn.Sequential(\n",
    "            Normalize(out_channels),\n",
    "            # self.act2,\n",
    "            FastKANConvLayer(out_channels, out_channels, 3, stride=1, padding=1, kan_type = \"BSpline\", num_grids=4, grid_min=-2., grid_max=2.)\n",
    "            # nn.Conv2d(out_channels, out_channels, kernel_size=3, stride=1, padding=1, bias=True),\n",
    "        )\n",
    "\n",
    "        if in_channels == out_channels:\n",
    "            self.skip_connection = nn.Identity()\n",
    "        else:\n",
    "            self.skip_connection = FastKANConvLayer(in_channels, out_channels, 1, stride=1, padding=0, kan_type = \"BSpline\", num_grids=4, grid_min=-2., grid_max=2.)\n",
    "            # self.skip_connection = nn.Conv2d(in_channels, out_channels, kernel_size=1, stride=1, padding=0, bias=False)\n",
    "\n",
    "\n",
    "    def forward(self, x):\n",
    "        # print('x2', x.shape)\n",
    "        h = self.conv1(x)\n",
    "        # print('h2', h.shape)\n",
    "        h = self.conv2(h)\n",
    "        # print('h3', h.shape)\n",
    "        return self.skip_connection(x) + h\n",
    "    \n",
    "class KResAttBlock(nn.Module):\n",
    "    \"\"\"\n",
    "    Convolutional blocks\n",
    "    \"\"\"\n",
    "    def __init__(self, in_channels, out_channels):\n",
    "        super().__init__()\n",
    "\n",
    "        self.resblock  = KResBlock(in_channels=in_channels, out_channels=out_channels)\n",
    "        self.attention = SpatialSelfAttention(out_channels)\n",
    "\n",
    "\n",
    "    def forward(self, x):\n",
    "        # print('x', x.shape)\n",
    "        h = self.resblock(x)\n",
    "        # print('h1', h.shape)\n",
    "        h = self.attention(h)\n",
    "        return h"
   ]
  },
  {
   "cell_type": "code",
   "execution_count": 22,
   "id": "5d4c52f9",
   "metadata": {
    "execution": {
     "iopub.execute_input": "2025-09-09T08:06:47.573410Z",
     "iopub.status.busy": "2025-09-09T08:06:47.573157Z",
     "iopub.status.idle": "2025-09-09T08:06:47.592563Z",
     "shell.execute_reply": "2025-09-09T08:06:47.591926Z"
    },
    "jupyter": {
     "source_hidden": true
    },
    "papermill": {
     "duration": 0.028049,
     "end_time": "2025-09-09T08:06:47.593659",
     "exception": false,
     "start_time": "2025-09-09T08:06:47.565610",
     "status": "completed"
    },
    "tags": []
   },
   "outputs": [],
   "source": [
    "import torch\n",
    "import logging\n",
    "from torch import nn\n",
    "from einops import rearrange\n",
    "\n",
    "\n",
    "def Normalize(in_channels):\n",
    "    return torch.nn.GroupNorm(num_groups=16, num_channels=in_channels, eps=1e-6, affine=True)\n",
    "    # return torch.nn.Identity()\n",
    "\n",
    "\n",
    "class SpatialSelfAttention(nn.Module):\n",
    "    def __init__(self, in_channels):\n",
    "        super().__init__()\n",
    "        self.in_channels = in_channels\n",
    "\n",
    "        self.norm = Normalize(in_channels)\n",
    "        self.q = torch.nn.Conv2d(in_channels,\n",
    "                                 in_channels,\n",
    "                                 kernel_size=1,\n",
    "                                 stride=1,\n",
    "                                 padding=0)\n",
    "        self.k = torch.nn.Conv2d(in_channels,\n",
    "                                 in_channels,\n",
    "                                 kernel_size=1,\n",
    "                                 stride=1,\n",
    "                                 padding=0)\n",
    "        self.v = torch.nn.Conv2d(in_channels,\n",
    "                                 in_channels,\n",
    "                                 kernel_size=1,\n",
    "                                 stride=1,\n",
    "                                 padding=0)\n",
    "        self.proj_out = torch.nn.Conv2d(in_channels,\n",
    "                                        in_channels,\n",
    "                                        kernel_size=1,\n",
    "                                        stride=1,\n",
    "                                        padding=0)\n",
    "\n",
    "    def forward(self, x):\n",
    "        h_ = x\n",
    "        h_ = self.norm(h_)\n",
    "        q = self.q(h_)\n",
    "        k = self.k(h_)\n",
    "        v = self.v(h_)\n",
    "\n",
    "        # compute attention\n",
    "        b,c,h,w = q.shape\n",
    "        q = rearrange(q, 'b c h w -> b (h w) c')\n",
    "        k = rearrange(k, 'b c h w -> b c (h w)')\n",
    "        w_ = torch.einsum('bij,bjk->bik', q, k)\n",
    "\n",
    "        w_ = w_ * (int(c)**(-0.5))\n",
    "        w_ = torch.nn.functional.softmax(w_, dim=2)\n",
    "\n",
    "        # attend to values\n",
    "        v = rearrange(v, 'b c h w -> b c (h w)')\n",
    "        w_ = rearrange(w_, 'b i j -> b j i')\n",
    "        h_ = torch.einsum('bij,bjk->bik', v, w_)\n",
    "        h_ = rearrange(h_, 'b c (h w) -> b c h w', h=h)\n",
    "        h_ = self.proj_out(h_)\n",
    "\n",
    "        return x+h_\n",
    "\n",
    "\n",
    "class ResBlock(nn.Module):\n",
    "    \"\"\"\n",
    "    Convolutional blocks\n",
    "    \"\"\"\n",
    "    def __init__(self, in_channels, out_channels, leaky=True):\n",
    "        super().__init__()\n",
    "        # activation, support PReLU and common ReLU\n",
    "        self.act1 = nn.PReLU() if leaky else nn.ReLU(inplace=True)\n",
    "        self.act2 = nn.PReLU() if leaky else nn.ReLU(inplace=True)\n",
    "\n",
    "        self.conv1 = nn.Sequential(\n",
    "            Normalize(in_channels),\n",
    "            self.act1,\n",
    "            nn.Conv2d(in_channels, out_channels, kernel_size=3, stride=1, padding=1, bias=True),\n",
    "        )\n",
    "        \n",
    "        self.conv2 = nn.Sequential(\n",
    "            Normalize(out_channels),\n",
    "            self.act2,\n",
    "            nn.Conv2d(out_channels, out_channels, kernel_size=3, stride=1, padding=1, bias=True),\n",
    "        )\n",
    "\n",
    "        if in_channels == out_channels:\n",
    "            self.skip_connection = nn.Identity()\n",
    "        else:\n",
    "            self.skip_connection = nn.Conv2d(in_channels, out_channels, kernel_size=1, stride=1, padding=0, bias=False)\n",
    "\n",
    "\n",
    "    def forward(self, x):\n",
    "        h = self.conv1(x)\n",
    "        h = self.conv2(h)\n",
    "        return self.skip_connection(x) + h\n",
    "\n",
    "\n",
    "class ResAttBlock(nn.Module):\n",
    "    \"\"\"\n",
    "    Convolutional blocks\n",
    "    \"\"\"\n",
    "    def __init__(self, in_channels, out_channels):\n",
    "        super().__init__()\n",
    "\n",
    "        self.resblock  = ResBlock(in_channels=in_channels, out_channels=out_channels)\n",
    "        self.attention = SpatialSelfAttention(out_channels)\n",
    "\n",
    "\n",
    "    def forward(self, x):\n",
    "        h = self.resblock(x)\n",
    "        h = self.attention(h)\n",
    "        return h\n",
    "\n",
    "\n",
    "class ResAttnUNet(nn.Module):\n",
    "    def __init__(self, in_channel=8, out_channels=8, num_res_blocks=2, ch=32, ch_mult=(1,2,4,4)) -> None:\n",
    "        super(ResAttnUNet, self).__init__()\n",
    "        self.ch = ch\n",
    "        if isinstance(num_res_blocks, int):\n",
    "            self.num_res_blocks = len(ch_mult) * [num_res_blocks]\n",
    "\n",
    "        self.input_blocks = nn.Conv2d(in_channel, ch, kernel_size=3, stride=1, padding=1, bias=True)\n",
    "\n",
    "        self.conv1_0 = ResAttBlock(in_channels=ch,              out_channels=ch * ch_mult[0])\n",
    "        self.conv2_0 = ResAttBlock(in_channels=ch * ch_mult[0], out_channels=ch * ch_mult[1])\n",
    "        self.conv3_0 = ResAttBlock(in_channels=ch * ch_mult[1], out_channels=ch * ch_mult[2])\n",
    "        self.conv4_0 = ResAttBlock(in_channels=ch * ch_mult[2], out_channels=ch * ch_mult[3])\n",
    "\n",
    "        self.conv3_1 = ResAttBlock(in_channels=ch * (ch_mult[2] + ch_mult[3]), out_channels=ch * ch_mult[2])\n",
    "        self.conv2_2 = ResAttBlock(in_channels=ch * (ch_mult[1] + ch_mult[2]), out_channels=ch * ch_mult[1])\n",
    "        self.conv1_3 = ResAttBlock(in_channels=ch * (ch_mult[0] + ch_mult[1]), out_channels=ch * ch_mult[0])\n",
    "        self.conv0_4 = ResAttBlock(in_channels=ch * (1          + ch_mult[0]), out_channels=ch * 1)\n",
    "\n",
    "        self.output_blocks = nn.Sequential(\n",
    "            Normalize(ch*1),\n",
    "            nn.SiLU(),\n",
    "            nn.Conv2d(ch*1, out_channels, kernel_size=3, stride=1, padding=1, bias=False),\n",
    "        )\n",
    "\n",
    "        self._initialize_weights()\n",
    "        self._print_networks(verbose=False)\n",
    "\n",
    "    def forward(self, x) -> torch.Tensor:\n",
    "        x0 = self.input_blocks(x)\n",
    "        x1 = self.conv1_0(x0)\n",
    "        x2 = self.conv2_0(x1)\n",
    "        x3 = self.conv3_0(x2)\n",
    "        x4 = self.conv4_0(x3)\n",
    "\n",
    "        x3_1 = self.conv3_1(torch.cat([x3, x4], dim=1))\n",
    "        x2_2 = self.conv2_2(torch.cat([x2, x3_1], dim=1))\n",
    "        x1_3 = self.conv1_3(torch.cat([x1, x2_2], dim=1))\n",
    "        x0_4 = self.conv0_4(torch.cat([x0, x1_3], dim=1))\n",
    "\n",
    "        out = dict()\n",
    "        out['out'] = self.output_blocks(x0_4)\n",
    "        return out\n",
    "\n",
    "    def _initialize_weights(self) -> None:\n",
    "        for m in self.modules():\n",
    "            if isinstance(m, (nn.Conv2d, nn.ConvTranspose2d)):\n",
    "                nn.init.kaiming_normal_(m.weight, mode=\"fan_out\", nonlinearity=\"leaky_relu\")\n",
    "                if m.bias is not None:\n",
    "                    nn.init.constant_(m.bias, 0)\n",
    "            elif isinstance(m, nn.BatchNorm2d):\n",
    "                nn.init.constant_(m.weight, 1)\n",
    "                nn.init.constant_(m.bias, 0)\n",
    "            elif isinstance(m, nn.Linear):\n",
    "                nn.init.normal_(m.weight, 0, 0.01)\n",
    "                nn.init.constant_(m.bias, 0)\n",
    "\n",
    "    def _print_networks(self, verbose=False) -> None:\n",
    "        logging.info('---------- Networks initialized -------------')\n",
    "        num_params = 0\n",
    "        for param in self.parameters():\n",
    "            num_params += param.numel()\n",
    "        if verbose:\n",
    "            logging.info(self.modules())\n",
    "        logging.info('Total number of parameters : %.3f M' % (num_params / 1e6))\n",
    "        logging.info('-----------------------------------------------')"
   ]
  },
  {
   "cell_type": "code",
   "execution_count": 23,
   "id": "c893c323",
   "metadata": {
    "execution": {
     "iopub.execute_input": "2025-09-09T08:06:47.608018Z",
     "iopub.status.busy": "2025-09-09T08:06:47.607815Z",
     "iopub.status.idle": "2025-09-09T08:06:47.620001Z",
     "shell.execute_reply": "2025-09-09T08:06:47.619397Z"
    },
    "papermill": {
     "duration": 0.020656,
     "end_time": "2025-09-09T08:06:47.621192",
     "exception": false,
     "start_time": "2025-09-09T08:06:47.600536",
     "status": "completed"
    },
    "tags": []
   },
   "outputs": [],
   "source": [
    "class KResAttnUNet_DS(nn.Module):\n",
    "    def __init__(self, in_channel=8, out_channels=8, num_res_blocks=2, ch=32, ch_mult=(1,2,4,4)) -> None:\n",
    "        super(KResAttnUNet_DS, self).__init__()\n",
    "        self.ch = ch\n",
    "        if isinstance(num_res_blocks, int):\n",
    "            self.num_res_blocks = len(ch_mult) * [num_res_blocks]\n",
    "\n",
    "        self.input_blocks = FastKANConvLayer(in_channel, ch, kernel_size=3, stride=1, padding=1, kan_type = \"BSpline\", num_grids=4, grid_min=-2., grid_max=2.)\n",
    "        # self.input_blocks = nn.Conv2d(in_channel, ch, kernel_size=3, stride=1, padding=1, bias=True)\n",
    "\n",
    "        self.conv1_0 = KResAttBlock(in_channels=ch,              out_channels=ch * ch_mult[0])\n",
    "        self.conv2_0 = KResAttBlock(in_channels=ch * ch_mult[0], out_channels=ch * ch_mult[1])\n",
    "        self.conv3_0 = KResAttBlock(in_channels=ch * ch_mult[1], out_channels=ch * ch_mult[2])\n",
    "        self.conv4_0 = KResAttBlock(in_channels=ch * ch_mult[2], out_channels=ch * ch_mult[3])\n",
    "\n",
    "        self.conv3_1 = KResAttBlock(in_channels=ch * (ch_mult[2] + ch_mult[3]), out_channels=ch * ch_mult[2])\n",
    "        self.conv2_2 = KResAttBlock(in_channels=ch * (ch_mult[1] + ch_mult[2]), out_channels=ch * ch_mult[1])\n",
    "        self.conv1_3 = KResAttBlock(in_channels=ch * (ch_mult[0] + ch_mult[1]), out_channels=ch * ch_mult[0])\n",
    "        self.conv0_4 = KResAttBlock(in_channels=ch * (1          + ch_mult[0]), out_channels=ch * 1)\n",
    "\n",
    "        self.convds3 = nn.Sequential(Normalize(ch * ch_mult[2]), \n",
    "                                    #  nn.SiLU(),\n",
    "                                     FastKANConvLayer(ch * ch_mult[2], out_channels, kernel_size=3, stride=1, padding=1, kan_type = \"BSpline\", num_grids=4, grid_min=-2., grid_max=2.)\n",
    "                                    #  nn.Conv2d(ch * ch_mult[2], out_channels, kernel_size=3, stride=1, padding=1, bias=False)\n",
    "                                     )\n",
    "        self.convds2 = nn.Sequential(Normalize(ch * ch_mult[1]), \n",
    "                                    #  nn.SiLU(),\n",
    "                                     FastKANConvLayer(ch * ch_mult[1], out_channels, kernel_size=3, stride=1, padding=1, kan_type = \"BSpline\", num_grids=4, grid_min=-2., grid_max=2.)\n",
    "                                    #  nn.Conv2d(ch * ch_mult[1], out_channels, kernel_size=3, stride=1, padding=1, bias=False)\n",
    "                                    )\n",
    "        self.convds1 = nn.Sequential(Normalize(ch * ch_mult[0]), \n",
    "                                    #  nn.SiLU(),\n",
    "                                     FastKANConvLayer(ch * ch_mult[0], out_channels, kernel_size=3, stride=1, padding=1, kan_type = \"BSpline\", num_grids=4, grid_min=-2., grid_max=2.)\n",
    "                                    #  nn.Conv2d(ch * ch_mult[0], out_channels, kernel_size=3, stride=1, padding=1, bias=False)\n",
    "                                    )\n",
    "        self.convds0 = nn.Sequential(Normalize(ch * 1), \n",
    "                                    #  nn.SiLU(),\n",
    "                                     FastKANConvLayer(ch * 1, out_channels, kernel_size=3, stride=1, padding=1, kan_type = \"BSpline\", num_grids=4, grid_min=-2., grid_max=2.)\n",
    "                                    #  nn.Conv2d(ch * 1, out_channels, kernel_size=3, stride=1, padding=1, bias=False)\n",
    "                                     )\n",
    "        \n",
    "\n",
    "        self._initialize_weights()\n",
    "        self._print_networks(verbose=False)\n",
    "\n",
    "    def forward(self, x) -> torch.Tensor:\n",
    "        x0 = self.input_blocks(x)\n",
    "        x1 = self.conv1_0(x0)\n",
    "        x2 = self.conv2_0(x1)\n",
    "        x3 = self.conv3_0(x2)\n",
    "        x4 = self.conv4_0(x3)\n",
    "\n",
    "        x3_1 = self.conv3_1(torch.cat([x3, x4], dim=1))\n",
    "        x2_2 = self.conv2_2(torch.cat([x2, x3_1], dim=1))\n",
    "        x1_3 = self.conv1_3(torch.cat([x1, x2_2], dim=1))\n",
    "        x0_4 = self.conv0_4(torch.cat([x0, x1_3], dim=1))\n",
    "\n",
    "        out = dict()\n",
    "        out['level3'] = self.convds3(x3_1)\n",
    "        out['level2'] = self.convds2(x2_2)\n",
    "        out['level1'] = self.convds1(x1_3)\n",
    "        out['out']    = self.convds0(x0_4)\n",
    "        return out\n",
    "\n",
    "    def _initialize_weights(self) -> None:\n",
    "        for m in self.modules():\n",
    "            if isinstance(m, (nn.Conv2d, nn.ConvTranspose2d)):\n",
    "                nn.init.kaiming_normal_(m.weight, mode=\"fan_out\", nonlinearity=\"leaky_relu\")\n",
    "                if m.bias is not None:\n",
    "                    nn.init.constant_(m.bias, 0)\n",
    "            elif isinstance(m, nn.BatchNorm2d):\n",
    "                nn.init.constant_(m.weight, 1)\n",
    "                nn.init.constant_(m.bias, 0)\n",
    "            elif isinstance(m, nn.Linear):\n",
    "                nn.init.normal_(m.weight, 0, 0.01)\n",
    "                nn.init.constant_(m.bias, 0)\n",
    "\n",
    "    def _print_networks(self, verbose=False) -> None:\n",
    "        logging.info('---------- Networks initialized -------------')\n",
    "        num_params = 0\n",
    "        for param in self.parameters():\n",
    "            num_params += param.numel()\n",
    "        if verbose:\n",
    "            logging.info(self.modules())\n",
    "        logging.info('Total number of parameters : %.3f M' % (num_params / 1e6))\n",
    "        logging.info('-----------------------------------------------')"
   ]
  },
  {
   "cell_type": "code",
   "execution_count": 24,
   "id": "1c51bb66",
   "metadata": {
    "execution": {
     "iopub.execute_input": "2025-09-09T08:06:47.635578Z",
     "iopub.status.busy": "2025-09-09T08:06:47.635372Z",
     "iopub.status.idle": "2025-09-09T08:06:47.796117Z",
     "shell.execute_reply": "2025-09-09T08:06:47.795425Z"
    },
    "papermill": {
     "duration": 0.169773,
     "end_time": "2025-09-09T08:06:47.797722",
     "exception": false,
     "start_time": "2025-09-09T08:06:47.627949",
     "status": "completed"
    },
    "tags": []
   },
   "outputs": [],
   "source": [
    "mapping_model = get_cuda(KResAttnUNet_DS(\n",
    "    in_channel=4, \n",
    "    out_channels=4, \n",
    "    num_res_blocks=2, \n",
    "    ch=32, \n",
    "    ch_mult=[1,2,4,4]\n",
    "))"
   ]
  },
  {
   "cell_type": "code",
   "execution_count": 25,
   "id": "f2d0fac9",
   "metadata": {
    "execution": {
     "iopub.execute_input": "2025-09-09T08:06:47.813348Z",
     "iopub.status.busy": "2025-09-09T08:06:47.813065Z",
     "iopub.status.idle": "2025-09-09T08:06:47.818128Z",
     "shell.execute_reply": "2025-09-09T08:06:47.817350Z"
    },
    "papermill": {
     "duration": 0.014037,
     "end_time": "2025-09-09T08:06:47.819388",
     "exception": false,
     "start_time": "2025-09-09T08:06:47.805351",
     "status": "completed"
    },
    "tags": []
   },
   "outputs": [],
   "source": [
    "def dice_coef(pred, target, eps=1e-7):\n",
    "    # make sure pred has same shape as target\n",
    "    if pred.shape != target.shape:\n",
    "        raise ValueError(f\"Shape mismatch: pred {pred.shape}, target {target.shape}\")\n",
    "\n",
    "    # if pred are logits -> convert to probabilities\n",
    "    pred = torch.sigmoid(pred)\n",
    "    \n",
    "    # binarize\n",
    "    pred = (pred > 0.5).float()\n",
    "\n",
    "    intersection = (pred * target).sum(dim=(1,2,3))\n",
    "    union = pred.sum(dim=(1,2,3)) + target.sum(dim=(1,2,3))\n",
    "\n",
    "    dice = (2. * intersection + eps) / (union + eps)\n",
    "    return dice.mean()\n",
    "\n",
    "def dice_loss(pred, target):\n",
    "    return 1 - dice_coef(pred, target)\n"
   ]
  },
  {
   "cell_type": "code",
   "execution_count": 26,
   "id": "6d2770db",
   "metadata": {
    "execution": {
     "iopub.execute_input": "2025-09-09T08:06:47.833991Z",
     "iopub.status.busy": "2025-09-09T08:06:47.833763Z",
     "iopub.status.idle": "2025-09-09T12:48:25.561347Z",
     "shell.execute_reply": "2025-09-09T12:48:25.560346Z"
    },
    "papermill": {
     "duration": 16897.736429,
     "end_time": "2025-09-09T12:48:25.562713",
     "exception": false,
     "start_time": "2025-09-09T08:06:47.826284",
     "status": "completed"
    },
    "tags": []
   },
   "outputs": [
    {
     "name": "stderr",
     "output_type": "stream",
     "text": [
      "Train: 100%|██████████| 42/42 [00:43<00:00,  1.03s/it]\n"
     ]
    },
    {
     "name": "stdout",
     "output_type": "stream",
     "text": [
      "Train:\n",
      "loss: 58.0691, loss_Rec: 56.8243, loss_Dice: 1.2449, IoU: 0.4430\n"
     ]
    },
    {
     "name": "stderr",
     "output_type": "stream",
     "text": [
      "Valid: 100%|██████████| 40/40 [00:14<00:00,  2.70it/s]\n"
     ]
    },
    {
     "name": "stdout",
     "output_type": "stream",
     "text": [
      "Valid:\n",
      "loss: 13.7662, loss_Rec: 13.3825, loss_Dice: 0.3838, Dice: 0.6162, IoU: 0.4724\n",
      "Save best valid Dice !\n",
      "Save best valid Loss All !\n",
      "Save best valid Loss Rec !\n",
      "Save best valid Loss Dice !\n",
      "Current learning rate: 0.00050\n",
      "epoch 1 / 1 \t Time Taken: 58 sec\n",
      "best valid dice: 0.6162 at epoch: 1\n",
      "\n",
      "\n"
     ]
    },
    {
     "name": "stderr",
     "output_type": "stream",
     "text": [
      "Train: 100%|██████████| 42/42 [00:41<00:00,  1.02it/s]\n"
     ]
    },
    {
     "name": "stdout",
     "output_type": "stream",
     "text": [
      "Train:\n",
      "loss: 12.8288, loss_Rec: 11.2926, loss_Dice: 1.5362, IoU: 0.3555\n"
     ]
    },
    {
     "name": "stderr",
     "output_type": "stream",
     "text": [
      "Valid: 100%|██████████| 40/40 [00:14<00:00,  2.71it/s]\n"
     ]
    },
    {
     "name": "stdout",
     "output_type": "stream",
     "text": [
      "Valid:\n",
      "loss: 2.0942, loss_Rec: 1.5853, loss_Dice: 0.5089, Dice: 0.4911, IoU: 0.3465\n",
      "Save best valid Loss All !\n",
      "Save best valid Loss Rec !\n",
      "Current learning rate: 0.00100\n",
      "epoch 2 / 2 \t Time Taken: 56 sec\n",
      "best valid dice: 0.6162 at epoch: 1\n",
      "\n",
      "\n"
     ]
    },
    {
     "name": "stderr",
     "output_type": "stream",
     "text": [
      "Train:  38%|███▊      | 16/42 [00:15<00:26,  1.03s/it]"
     ]
    },
    {
     "name": "stdout",
     "output_type": "stream",
     "text": [
      "loss/loss tensor(6.0293, device='cuda:0', grad_fn=<AddBackward0>) 100\n",
      "loss/loss_Rec tensor(4.7727, device='cuda:0', grad_fn=<AddBackward0>) 100\n",
      "loss/loss_Dice tensor(1.2566, device='cuda:0', grad_fn=<AddBackward0>) 100\n"
     ]
    },
    {
     "name": "stderr",
     "output_type": "stream",
     "text": [
      "Train: 100%|██████████| 42/42 [00:41<00:00,  1.01it/s]\n"
     ]
    },
    {
     "name": "stdout",
     "output_type": "stream",
     "text": [
      "Train:\n",
      "loss: 6.0687, loss_Rec: 4.5827, loss_Dice: 1.4860, IoU: 0.3941\n"
     ]
    },
    {
     "name": "stderr",
     "output_type": "stream",
     "text": [
      "Valid: 100%|██████████| 40/40 [00:14<00:00,  2.67it/s]\n"
     ]
    },
    {
     "name": "stdout",
     "output_type": "stream",
     "text": [
      "Valid:\n",
      "loss: 1.8481, loss_Rec: 1.3522, loss_Dice: 0.4958, Dice: 0.5042, IoU: 0.4004\n",
      "Save best valid Loss All !\n",
      "Save best valid Loss Rec !\n",
      "Current learning rate: 0.00150\n",
      "epoch 3 / 3 \t Time Taken: 56 sec\n",
      "best valid dice: 0.6162 at epoch: 1\n",
      "\n",
      "\n"
     ]
    },
    {
     "name": "stderr",
     "output_type": "stream",
     "text": [
      "Train: 100%|██████████| 42/42 [00:41<00:00,  1.00it/s]\n"
     ]
    },
    {
     "name": "stdout",
     "output_type": "stream",
     "text": [
      "Train:\n",
      "loss: 5.6241, loss_Rec: 4.1554, loss_Dice: 1.4687, IoU: 0.3950\n"
     ]
    },
    {
     "name": "stderr",
     "output_type": "stream",
     "text": [
      "Valid: 100%|██████████| 40/40 [00:14<00:00,  2.68it/s]\n"
     ]
    },
    {
     "name": "stdout",
     "output_type": "stream",
     "text": [
      "Valid:\n",
      "loss: 1.7739, loss_Rec: 1.3556, loss_Dice: 0.4184, Dice: 0.5816, IoU: 0.5242\n",
      "Save best valid Loss All !\n",
      "Current learning rate: 0.00200\n",
      "epoch 4 / 4 \t Time Taken: 56 sec\n",
      "best valid dice: 0.6162 at epoch: 1\n",
      "\n",
      "\n"
     ]
    },
    {
     "name": "stderr",
     "output_type": "stream",
     "text": [
      "Train:  76%|███████▌  | 32/42 [00:32<00:09,  1.01it/s]"
     ]
    },
    {
     "name": "stdout",
     "output_type": "stream",
     "text": [
      "loss/loss tensor(5.1259, device='cuda:0', grad_fn=<AddBackward0>) 200\n",
      "loss/loss_Rec tensor(3.7830, device='cuda:0', grad_fn=<AddBackward0>) 200\n",
      "loss/loss_Dice tensor(1.3430, device='cuda:0', grad_fn=<AddBackward0>) 200\n"
     ]
    },
    {
     "name": "stderr",
     "output_type": "stream",
     "text": [
      "Train: 100%|██████████| 42/42 [00:41<00:00,  1.00it/s]\n"
     ]
    },
    {
     "name": "stdout",
     "output_type": "stream",
     "text": [
      "Train:\n",
      "loss: 5.6388, loss_Rec: 4.1422, loss_Dice: 1.4966, IoU: 0.3756\n"
     ]
    },
    {
     "name": "stderr",
     "output_type": "stream",
     "text": [
      "Valid: 100%|██████████| 40/40 [00:14<00:00,  2.70it/s]\n"
     ]
    },
    {
     "name": "stdout",
     "output_type": "stream",
     "text": [
      "Valid:\n",
      "loss: 1.7795, loss_Rec: 1.2345, loss_Dice: 0.5450, Dice: 0.4550, IoU: 0.1168\n",
      "Save best valid Loss Rec !\n",
      "Current learning rate: 0.00200\n",
      "epoch 5 / 5 \t Time Taken: 56 sec\n",
      "best valid dice: 0.6162 at epoch: 1\n",
      "\n",
      "\n"
     ]
    },
    {
     "name": "stderr",
     "output_type": "stream",
     "text": [
      "Train: 100%|██████████| 42/42 [00:41<00:00,  1.01it/s]\n"
     ]
    },
    {
     "name": "stdout",
     "output_type": "stream",
     "text": [
      "Train:\n",
      "loss: 5.6815, loss_Rec: 4.1659, loss_Dice: 1.5156, IoU: 0.3313\n"
     ]
    },
    {
     "name": "stderr",
     "output_type": "stream",
     "text": [
      "Valid: 100%|██████████| 40/40 [00:14<00:00,  2.69it/s]\n"
     ]
    },
    {
     "name": "stdout",
     "output_type": "stream",
     "text": [
      "Valid:\n",
      "loss: 1.6631, loss_Rec: 1.2575, loss_Dice: 0.4056, Dice: 0.5944, IoU: 0.5514\n",
      "Save best valid Loss All !\n",
      "Current learning rate: 0.00200\n",
      "epoch 6 / 6 \t Time Taken: 56 sec\n",
      "best valid dice: 0.6162 at epoch: 1\n",
      "\n",
      "\n"
     ]
    },
    {
     "name": "stderr",
     "output_type": "stream",
     "text": [
      "Train: 100%|██████████| 42/42 [00:41<00:00,  1.02it/s]\n"
     ]
    },
    {
     "name": "stdout",
     "output_type": "stream",
     "text": [
      "Train:\n",
      "loss: 5.4548, loss_Rec: 4.0015, loss_Dice: 1.4534, IoU: 0.4006\n"
     ]
    },
    {
     "name": "stderr",
     "output_type": "stream",
     "text": [
      "Valid: 100%|██████████| 40/40 [00:14<00:00,  2.70it/s]\n"
     ]
    },
    {
     "name": "stdout",
     "output_type": "stream",
     "text": [
      "Valid:\n",
      "loss: 1.6382, loss_Rec: 1.2513, loss_Dice: 0.3869, Dice: 0.6131, IoU: 0.5564\n",
      "Save best valid Loss All !\n",
      "Current learning rate: 0.00200\n",
      "epoch 7 / 7 \t Time Taken: 55 sec\n",
      "best valid dice: 0.6162 at epoch: 1\n",
      "\n",
      "\n"
     ]
    },
    {
     "name": "stderr",
     "output_type": "stream",
     "text": [
      "Train:  14%|█▍        | 6/42 [00:05<00:35,  1.02it/s]"
     ]
    },
    {
     "name": "stdout",
     "output_type": "stream",
     "text": [
      "loss/loss tensor(5.2872, device='cuda:0', grad_fn=<AddBackward0>) 300\n",
      "loss/loss_Rec tensor(3.7924, device='cuda:0', grad_fn=<AddBackward0>) 300\n",
      "loss/loss_Dice tensor(1.4948, device='cuda:0', grad_fn=<AddBackward0>) 300\n"
     ]
    },
    {
     "name": "stderr",
     "output_type": "stream",
     "text": [
      "Train: 100%|██████████| 42/42 [00:41<00:00,  1.02it/s]\n"
     ]
    },
    {
     "name": "stdout",
     "output_type": "stream",
     "text": [
      "Train:\n",
      "loss: 5.5745, loss_Rec: 4.0814, loss_Dice: 1.4930, IoU: 0.3410\n"
     ]
    },
    {
     "name": "stderr",
     "output_type": "stream",
     "text": [
      "Valid: 100%|██████████| 40/40 [00:14<00:00,  2.70it/s]\n"
     ]
    },
    {
     "name": "stdout",
     "output_type": "stream",
     "text": [
      "Valid:\n",
      "loss: 1.6295, loss_Rec: 1.1998, loss_Dice: 0.4297, Dice: 0.5703, IoU: 0.5507\n",
      "Save best valid Loss All !\n",
      "Save best valid Loss Rec !\n",
      "Current learning rate: 0.00200\n",
      "epoch 8 / 8 \t Time Taken: 56 sec\n",
      "best valid dice: 0.6162 at epoch: 1\n",
      "\n",
      "\n"
     ]
    },
    {
     "name": "stderr",
     "output_type": "stream",
     "text": [
      "Train: 100%|██████████| 42/42 [00:41<00:00,  1.01it/s]\n"
     ]
    },
    {
     "name": "stdout",
     "output_type": "stream",
     "text": [
      "Train:\n",
      "loss: 5.4254, loss_Rec: 3.9849, loss_Dice: 1.4405, IoU: 0.3869\n"
     ]
    },
    {
     "name": "stderr",
     "output_type": "stream",
     "text": [
      "Valid: 100%|██████████| 40/40 [00:14<00:00,  2.70it/s]\n"
     ]
    },
    {
     "name": "stdout",
     "output_type": "stream",
     "text": [
      "Valid:\n",
      "loss: 1.6062, loss_Rec: 1.2012, loss_Dice: 0.4051, Dice: 0.5949, IoU: 0.5639\n",
      "Save best valid Loss All !\n",
      "Current learning rate: 0.00200\n",
      "epoch 9 / 9 \t Time Taken: 56 sec\n",
      "best valid dice: 0.6162 at epoch: 1\n",
      "\n",
      "\n"
     ]
    },
    {
     "name": "stderr",
     "output_type": "stream",
     "text": [
      "Train:  52%|█████▏    | 22/42 [00:21<00:19,  1.04it/s]"
     ]
    },
    {
     "name": "stdout",
     "output_type": "stream",
     "text": [
      "loss/loss tensor(5.3597, device='cuda:0', grad_fn=<AddBackward0>) 400\n",
      "loss/loss_Rec tensor(3.9151, device='cuda:0', grad_fn=<AddBackward0>) 400\n",
      "loss/loss_Dice tensor(1.4446, device='cuda:0', grad_fn=<AddBackward0>) 400\n"
     ]
    },
    {
     "name": "stderr",
     "output_type": "stream",
     "text": [
      "Train: 100%|██████████| 42/42 [00:41<00:00,  1.02it/s]\n"
     ]
    },
    {
     "name": "stdout",
     "output_type": "stream",
     "text": [
      "Train:\n",
      "loss: 5.1828, loss_Rec: 3.7778, loss_Dice: 1.4050, IoU: 0.4291\n"
     ]
    },
    {
     "name": "stderr",
     "output_type": "stream",
     "text": [
      "Valid: 100%|██████████| 40/40 [00:14<00:00,  2.71it/s]\n"
     ]
    },
    {
     "name": "stdout",
     "output_type": "stream",
     "text": [
      "Valid:\n",
      "loss: 1.4959, loss_Rec: 1.0736, loss_Dice: 0.4223, Dice: 0.5777, IoU: 0.5114\n",
      "Save best valid Loss All !\n",
      "Save best valid Loss Rec !\n",
      "Current learning rate: 0.00200\n",
      "epoch 10 / 10 \t Time Taken: 56 sec\n",
      "best valid dice: 0.6162 at epoch: 1\n",
      "\n",
      "\n"
     ]
    },
    {
     "name": "stderr",
     "output_type": "stream",
     "text": [
      "Train: 100%|██████████| 42/42 [00:42<00:00,  1.01s/it]\n"
     ]
    },
    {
     "name": "stdout",
     "output_type": "stream",
     "text": [
      "Train:\n",
      "loss: 5.2559, loss_Rec: 3.8281, loss_Dice: 1.4278, IoU: 0.4097\n"
     ]
    },
    {
     "name": "stderr",
     "output_type": "stream",
     "text": [
      "Valid: 100%|██████████| 40/40 [00:14<00:00,  2.71it/s]\n"
     ]
    },
    {
     "name": "stdout",
     "output_type": "stream",
     "text": [
      "Valid:\n",
      "loss: 1.4829, loss_Rec: 1.0861, loss_Dice: 0.3968, Dice: 0.6032, IoU: 0.5460\n",
      "Save best valid Loss All !\n",
      "Current learning rate: 0.00200\n",
      "epoch 11 / 11 \t Time Taken: 57 sec\n",
      "best valid dice: 0.6162 at epoch: 1\n",
      "\n",
      "\n"
     ]
    },
    {
     "name": "stderr",
     "output_type": "stream",
     "text": [
      "Train:  90%|█████████ | 38/42 [00:37<00:03,  1.02it/s]"
     ]
    },
    {
     "name": "stdout",
     "output_type": "stream",
     "text": [
      "loss/loss tensor(7.2154, device='cuda:0', grad_fn=<AddBackward0>) 500\n",
      "loss/loss_Rec tensor(5.8008, device='cuda:0', grad_fn=<AddBackward0>) 500\n",
      "loss/loss_Dice tensor(1.4145, device='cuda:0', grad_fn=<AddBackward0>) 500\n"
     ]
    },
    {
     "name": "stderr",
     "output_type": "stream",
     "text": [
      "Train: 100%|██████████| 42/42 [00:41<00:00,  1.02it/s]\n"
     ]
    },
    {
     "name": "stdout",
     "output_type": "stream",
     "text": [
      "Train:\n",
      "loss: 5.0237, loss_Rec: 3.6661, loss_Dice: 1.3576, IoU: 0.4426\n"
     ]
    },
    {
     "name": "stderr",
     "output_type": "stream",
     "text": [
      "Valid: 100%|██████████| 40/40 [00:14<00:00,  2.71it/s]\n"
     ]
    },
    {
     "name": "stdout",
     "output_type": "stream",
     "text": [
      "Valid:\n",
      "loss: 1.6356, loss_Rec: 1.1394, loss_Dice: 0.4962, Dice: 0.5038, IoU: 0.3228\n",
      "Current learning rate: 0.00200\n",
      "epoch 12 / 12 \t Time Taken: 56 sec\n",
      "best valid dice: 0.6162 at epoch: 1\n",
      "\n",
      "\n"
     ]
    },
    {
     "name": "stderr",
     "output_type": "stream",
     "text": [
      "Train: 100%|██████████| 42/42 [00:41<00:00,  1.02it/s]\n"
     ]
    },
    {
     "name": "stdout",
     "output_type": "stream",
     "text": [
      "Train:\n",
      "loss: 5.0430, loss_Rec: 3.6583, loss_Dice: 1.3847, IoU: 0.4222\n"
     ]
    },
    {
     "name": "stderr",
     "output_type": "stream",
     "text": [
      "Valid: 100%|██████████| 40/40 [00:14<00:00,  2.71it/s]\n"
     ]
    },
    {
     "name": "stdout",
     "output_type": "stream",
     "text": [
      "Valid:\n",
      "loss: 1.4713, loss_Rec: 1.1030, loss_Dice: 0.3683, Dice: 0.6317, IoU: 0.5792\n",
      "Save best valid Dice !\n",
      "Save best valid Loss All !\n",
      "Save best valid Loss Dice !\n",
      "Current learning rate: 0.00200\n",
      "epoch 13 / 13 \t Time Taken: 56 sec\n",
      "best valid dice: 0.6317 at epoch: 13\n",
      "\n",
      "\n"
     ]
    },
    {
     "name": "stderr",
     "output_type": "stream",
     "text": [
      "Train: 100%|██████████| 42/42 [00:41<00:00,  1.02it/s]\n"
     ]
    },
    {
     "name": "stdout",
     "output_type": "stream",
     "text": [
      "Train:\n",
      "loss: 4.9010, loss_Rec: 3.5519, loss_Dice: 1.3491, IoU: 0.4579\n"
     ]
    },
    {
     "name": "stderr",
     "output_type": "stream",
     "text": [
      "Valid: 100%|██████████| 40/40 [00:14<00:00,  2.71it/s]\n"
     ]
    },
    {
     "name": "stdout",
     "output_type": "stream",
     "text": [
      "Valid:\n",
      "loss: 1.5016, loss_Rec: 1.1257, loss_Dice: 0.3759, Dice: 0.6241, IoU: 0.5784\n",
      "Current learning rate: 0.00200\n",
      "epoch 14 / 14 \t Time Taken: 55 sec\n",
      "best valid dice: 0.6317 at epoch: 13\n",
      "\n",
      "\n"
     ]
    },
    {
     "name": "stderr",
     "output_type": "stream",
     "text": [
      "Train:  29%|██▊       | 12/42 [00:11<00:29,  1.03it/s]"
     ]
    },
    {
     "name": "stdout",
     "output_type": "stream",
     "text": [
      "loss/loss tensor(4.0422, device='cuda:0', grad_fn=<AddBackward0>) 600\n",
      "loss/loss_Rec tensor(2.8979, device='cuda:0', grad_fn=<AddBackward0>) 600\n",
      "loss/loss_Dice tensor(1.1442, device='cuda:0', grad_fn=<AddBackward0>) 600\n"
     ]
    },
    {
     "name": "stderr",
     "output_type": "stream",
     "text": [
      "Train: 100%|██████████| 42/42 [00:41<00:00,  1.01it/s]\n"
     ]
    },
    {
     "name": "stdout",
     "output_type": "stream",
     "text": [
      "Train:\n",
      "loss: 4.9843, loss_Rec: 3.6519, loss_Dice: 1.3324, IoU: 0.4703\n"
     ]
    },
    {
     "name": "stderr",
     "output_type": "stream",
     "text": [
      "Valid: 100%|██████████| 40/40 [00:14<00:00,  2.70it/s]\n"
     ]
    },
    {
     "name": "stdout",
     "output_type": "stream",
     "text": [
      "Valid:\n",
      "loss: 1.4924, loss_Rec: 1.0558, loss_Dice: 0.4367, Dice: 0.5633, IoU: 0.4693\n",
      "Save best valid Loss Rec !\n",
      "Current learning rate: 0.00199\n",
      "epoch 15 / 15 \t Time Taken: 56 sec\n",
      "best valid dice: 0.6317 at epoch: 13\n",
      "\n",
      "\n"
     ]
    },
    {
     "name": "stderr",
     "output_type": "stream",
     "text": [
      "Train: 100%|██████████| 42/42 [00:41<00:00,  1.01it/s]\n"
     ]
    },
    {
     "name": "stdout",
     "output_type": "stream",
     "text": [
      "Train:\n",
      "loss: 4.7828, loss_Rec: 3.4261, loss_Dice: 1.3567, IoU: 0.4648\n"
     ]
    },
    {
     "name": "stderr",
     "output_type": "stream",
     "text": [
      "Valid: 100%|██████████| 40/40 [00:14<00:00,  2.70it/s]\n"
     ]
    },
    {
     "name": "stdout",
     "output_type": "stream",
     "text": [
      "Valid:\n",
      "loss: 1.4593, loss_Rec: 1.0334, loss_Dice: 0.4259, Dice: 0.5741, IoU: 0.5152\n",
      "Save best valid Loss All !\n",
      "Save best valid Loss Rec !\n",
      "Current learning rate: 0.00199\n",
      "epoch 16 / 16 \t Time Taken: 56 sec\n",
      "best valid dice: 0.6317 at epoch: 13\n",
      "\n",
      "\n"
     ]
    },
    {
     "name": "stderr",
     "output_type": "stream",
     "text": [
      "Train:  67%|██████▋   | 28/42 [00:27<00:13,  1.02it/s]"
     ]
    },
    {
     "name": "stdout",
     "output_type": "stream",
     "text": [
      "loss/loss tensor(4.1077, device='cuda:0', grad_fn=<AddBackward0>) 700\n",
      "loss/loss_Rec tensor(2.9078, device='cuda:0', grad_fn=<AddBackward0>) 700\n",
      "loss/loss_Dice tensor(1.1999, device='cuda:0', grad_fn=<AddBackward0>) 700\n"
     ]
    },
    {
     "name": "stderr",
     "output_type": "stream",
     "text": [
      "Train: 100%|██████████| 42/42 [00:41<00:00,  1.01it/s]\n"
     ]
    },
    {
     "name": "stdout",
     "output_type": "stream",
     "text": [
      "Train:\n",
      "loss: 4.9890, loss_Rec: 3.6583, loss_Dice: 1.3307, IoU: 0.4493\n"
     ]
    },
    {
     "name": "stderr",
     "output_type": "stream",
     "text": [
      "Valid: 100%|██████████| 40/40 [00:14<00:00,  2.71it/s]\n"
     ]
    },
    {
     "name": "stdout",
     "output_type": "stream",
     "text": [
      "Valid:\n",
      "loss: 1.6109, loss_Rec: 1.1285, loss_Dice: 0.4824, Dice: 0.5176, IoU: 0.3563\n",
      "Current learning rate: 0.00199\n",
      "epoch 17 / 17 \t Time Taken: 56 sec\n",
      "best valid dice: 0.6317 at epoch: 13\n",
      "\n",
      "\n"
     ]
    },
    {
     "name": "stderr",
     "output_type": "stream",
     "text": [
      "Train: 100%|██████████| 42/42 [00:41<00:00,  1.01it/s]\n"
     ]
    },
    {
     "name": "stdout",
     "output_type": "stream",
     "text": [
      "Train:\n",
      "loss: 5.1483, loss_Rec: 3.8043, loss_Dice: 1.3440, IoU: 0.4304\n"
     ]
    },
    {
     "name": "stderr",
     "output_type": "stream",
     "text": [
      "Valid: 100%|██████████| 40/40 [00:14<00:00,  2.71it/s]\n"
     ]
    },
    {
     "name": "stdout",
     "output_type": "stream",
     "text": [
      "Valid:\n",
      "loss: 1.5077, loss_Rec: 1.0724, loss_Dice: 0.4353, Dice: 0.5647, IoU: 0.4641\n",
      "Current learning rate: 0.00199\n",
      "epoch 18 / 18 \t Time Taken: 56 sec\n",
      "best valid dice: 0.6317 at epoch: 13\n",
      "\n",
      "\n"
     ]
    },
    {
     "name": "stderr",
     "output_type": "stream",
     "text": [
      "Train: 100%|██████████| 42/42 [00:41<00:00,  1.02it/s]\n"
     ]
    },
    {
     "name": "stdout",
     "output_type": "stream",
     "text": [
      "Train:\n",
      "loss: 4.9047, loss_Rec: 3.6091, loss_Dice: 1.2956, IoU: 0.4815\n"
     ]
    },
    {
     "name": "stderr",
     "output_type": "stream",
     "text": [
      "Valid: 100%|██████████| 40/40 [00:14<00:00,  2.71it/s]\n"
     ]
    },
    {
     "name": "stdout",
     "output_type": "stream",
     "text": [
      "Valid:\n",
      "loss: 1.3403, loss_Rec: 0.9486, loss_Dice: 0.3918, Dice: 0.6082, IoU: 0.5925\n",
      "Save best valid Loss All !\n",
      "Save best valid Loss Rec !\n",
      "Current learning rate: 0.00199\n",
      "epoch 19 / 19 \t Time Taken: 56 sec\n",
      "best valid dice: 0.6317 at epoch: 13\n",
      "\n",
      "\n"
     ]
    },
    {
     "name": "stderr",
     "output_type": "stream",
     "text": [
      "Train:   5%|▍         | 2/42 [00:01<00:38,  1.03it/s]"
     ]
    },
    {
     "name": "stdout",
     "output_type": "stream",
     "text": [
      "loss/loss tensor(3.6675, device='cuda:0', grad_fn=<AddBackward0>) 800\n",
      "loss/loss_Rec tensor(2.5536, device='cuda:0', grad_fn=<AddBackward0>) 800\n",
      "loss/loss_Dice tensor(1.1138, device='cuda:0', grad_fn=<AddBackward0>) 800\n"
     ]
    },
    {
     "name": "stderr",
     "output_type": "stream",
     "text": [
      "Train: 100%|██████████| 42/42 [00:41<00:00,  1.01it/s]\n"
     ]
    },
    {
     "name": "stdout",
     "output_type": "stream",
     "text": [
      "Train:\n",
      "loss: 4.7793, loss_Rec: 3.4731, loss_Dice: 1.3061, IoU: 0.4638\n"
     ]
    },
    {
     "name": "stderr",
     "output_type": "stream",
     "text": [
      "Valid: 100%|██████████| 40/40 [00:14<00:00,  2.70it/s]\n"
     ]
    },
    {
     "name": "stdout",
     "output_type": "stream",
     "text": [
      "Valid:\n",
      "loss: 1.6414, loss_Rec: 1.3212, loss_Dice: 0.3202, Dice: 0.6798, IoU: 0.5795\n",
      "Save best valid Dice !\n",
      "Save best valid Loss Dice !\n",
      "Current learning rate: 0.00199\n",
      "epoch 20 / 20 \t Time Taken: 56 sec\n",
      "best valid dice: 0.6798 at epoch: 20\n",
      "\n",
      "\n"
     ]
    },
    {
     "name": "stderr",
     "output_type": "stream",
     "text": [
      "Train: 100%|██████████| 42/42 [00:41<00:00,  1.02it/s]\n"
     ]
    },
    {
     "name": "stdout",
     "output_type": "stream",
     "text": [
      "Train:\n",
      "loss: 4.8222, loss_Rec: 3.5338, loss_Dice: 1.2884, IoU: 0.4824\n"
     ]
    },
    {
     "name": "stderr",
     "output_type": "stream",
     "text": [
      "Valid: 100%|██████████| 40/40 [00:14<00:00,  2.71it/s]\n"
     ]
    },
    {
     "name": "stdout",
     "output_type": "stream",
     "text": [
      "Valid:\n",
      "loss: 1.3336, loss_Rec: 0.9395, loss_Dice: 0.3940, Dice: 0.6060, IoU: 0.5461\n",
      "Save best valid Loss All !\n",
      "Save best valid Loss Rec !\n",
      "Current learning rate: 0.00199\n",
      "epoch 21 / 21 \t Time Taken: 56 sec\n",
      "best valid dice: 0.6798 at epoch: 20\n",
      "\n",
      "\n"
     ]
    },
    {
     "name": "stderr",
     "output_type": "stream",
     "text": [
      "Train:  43%|████▎     | 18/42 [00:17<00:23,  1.01it/s]"
     ]
    },
    {
     "name": "stdout",
     "output_type": "stream",
     "text": [
      "loss/loss tensor(5.5291, device='cuda:0', grad_fn=<AddBackward0>) 900\n",
      "loss/loss_Rec tensor(3.9229, device='cuda:0', grad_fn=<AddBackward0>) 900\n",
      "loss/loss_Dice tensor(1.6062, device='cuda:0', grad_fn=<AddBackward0>) 900\n"
     ]
    },
    {
     "name": "stderr",
     "output_type": "stream",
     "text": [
      "Train: 100%|██████████| 42/42 [00:41<00:00,  1.02it/s]\n"
     ]
    },
    {
     "name": "stdout",
     "output_type": "stream",
     "text": [
      "Train:\n",
      "loss: 4.6810, loss_Rec: 3.3968, loss_Dice: 1.2841, IoU: 0.4865\n"
     ]
    },
    {
     "name": "stderr",
     "output_type": "stream",
     "text": [
      "Valid: 100%|██████████| 40/40 [00:14<00:00,  2.70it/s]\n"
     ]
    },
    {
     "name": "stdout",
     "output_type": "stream",
     "text": [
      "Valid:\n",
      "loss: 1.2651, loss_Rec: 0.9109, loss_Dice: 0.3542, Dice: 0.6458, IoU: 0.5959\n",
      "Save best valid Loss All !\n",
      "Save best valid Loss Rec !\n",
      "Current learning rate: 0.00198\n",
      "epoch 22 / 22 \t Time Taken: 56 sec\n",
      "best valid dice: 0.6798 at epoch: 20\n",
      "\n",
      "\n"
     ]
    },
    {
     "name": "stderr",
     "output_type": "stream",
     "text": [
      "Train: 100%|██████████| 42/42 [00:41<00:00,  1.01it/s]\n"
     ]
    },
    {
     "name": "stdout",
     "output_type": "stream",
     "text": [
      "Train:\n",
      "loss: 4.5235, loss_Rec: 3.2667, loss_Dice: 1.2568, IoU: 0.5063\n"
     ]
    },
    {
     "name": "stderr",
     "output_type": "stream",
     "text": [
      "Valid: 100%|██████████| 40/40 [00:14<00:00,  2.69it/s]\n"
     ]
    },
    {
     "name": "stdout",
     "output_type": "stream",
     "text": [
      "Valid:\n",
      "loss: 1.3484, loss_Rec: 0.9784, loss_Dice: 0.3700, Dice: 0.6300, IoU: 0.6070\n",
      "Current learning rate: 0.00198\n",
      "epoch 23 / 23 \t Time Taken: 56 sec\n",
      "best valid dice: 0.6798 at epoch: 20\n",
      "\n",
      "\n"
     ]
    },
    {
     "name": "stderr",
     "output_type": "stream",
     "text": [
      "Train:  81%|████████  | 34/42 [00:33<00:07,  1.01it/s]"
     ]
    },
    {
     "name": "stdout",
     "output_type": "stream",
     "text": [
      "loss/loss tensor(3.4483, device='cuda:0', grad_fn=<AddBackward0>) 1000\n",
      "loss/loss_Rec tensor(2.2532, device='cuda:0', grad_fn=<AddBackward0>) 1000\n",
      "loss/loss_Dice tensor(1.1950, device='cuda:0', grad_fn=<AddBackward0>) 1000\n"
     ]
    },
    {
     "name": "stderr",
     "output_type": "stream",
     "text": [
      "Train: 100%|██████████| 42/42 [00:41<00:00,  1.01it/s]\n"
     ]
    },
    {
     "name": "stdout",
     "output_type": "stream",
     "text": [
      "Train:\n",
      "loss: 4.7959, loss_Rec: 3.4771, loss_Dice: 1.3188, IoU: 0.4539\n"
     ]
    },
    {
     "name": "stderr",
     "output_type": "stream",
     "text": [
      "Valid: 100%|██████████| 40/40 [00:14<00:00,  2.70it/s]\n"
     ]
    },
    {
     "name": "stdout",
     "output_type": "stream",
     "text": [
      "Valid:\n",
      "loss: 1.5841, loss_Rec: 1.2709, loss_Dice: 0.3132, Dice: 0.6868, IoU: 0.5876\n",
      "Save best valid Dice !\n",
      "Save best valid Loss Dice !\n",
      "Current learning rate: 0.00198\n",
      "epoch 24 / 24 \t Time Taken: 56 sec\n",
      "best valid dice: 0.6868 at epoch: 24\n",
      "\n",
      "\n"
     ]
    },
    {
     "name": "stderr",
     "output_type": "stream",
     "text": [
      "Train: 100%|██████████| 42/42 [00:41<00:00,  1.00it/s]\n"
     ]
    },
    {
     "name": "stdout",
     "output_type": "stream",
     "text": [
      "Train:\n",
      "loss: 4.7543, loss_Rec: 3.5061, loss_Dice: 1.2482, IoU: 0.4954\n"
     ]
    },
    {
     "name": "stderr",
     "output_type": "stream",
     "text": [
      "Valid: 100%|██████████| 40/40 [00:14<00:00,  2.69it/s]\n"
     ]
    },
    {
     "name": "stdout",
     "output_type": "stream",
     "text": [
      "Valid:\n",
      "loss: 1.3201, loss_Rec: 0.9712, loss_Dice: 0.3488, Dice: 0.6512, IoU: 0.6224\n",
      "Current learning rate: 0.00198\n",
      "epoch 25 / 25 \t Time Taken: 56 sec\n",
      "best valid dice: 0.6868 at epoch: 24\n",
      "\n",
      "\n"
     ]
    },
    {
     "name": "stderr",
     "output_type": "stream",
     "text": [
      "Train: 100%|██████████| 42/42 [00:41<00:00,  1.01it/s]\n"
     ]
    },
    {
     "name": "stdout",
     "output_type": "stream",
     "text": [
      "Train:\n",
      "loss: 4.4842, loss_Rec: 3.2764, loss_Dice: 1.2078, IoU: 0.5136\n"
     ]
    },
    {
     "name": "stderr",
     "output_type": "stream",
     "text": [
      "Valid: 100%|██████████| 40/40 [00:14<00:00,  2.68it/s]\n"
     ]
    },
    {
     "name": "stdout",
     "output_type": "stream",
     "text": [
      "Valid:\n",
      "loss: 1.2634, loss_Rec: 0.9047, loss_Dice: 0.3587, Dice: 0.6413, IoU: 0.6282\n",
      "Save best valid Loss All !\n",
      "Save best valid Loss Rec !\n",
      "Current learning rate: 0.00198\n",
      "epoch 26 / 26 \t Time Taken: 56 sec\n",
      "best valid dice: 0.6868 at epoch: 24\n",
      "\n",
      "\n"
     ]
    },
    {
     "name": "stderr",
     "output_type": "stream",
     "text": [
      "Train:  19%|█▉        | 8/42 [00:07<00:33,  1.00it/s]"
     ]
    },
    {
     "name": "stdout",
     "output_type": "stream",
     "text": [
      "loss/loss tensor(3.8951, device='cuda:0', grad_fn=<AddBackward0>) 1100\n",
      "loss/loss_Rec tensor(3.0158, device='cuda:0', grad_fn=<AddBackward0>) 1100\n",
      "loss/loss_Dice tensor(0.8793, device='cuda:0', grad_fn=<AddBackward0>) 1100\n"
     ]
    },
    {
     "name": "stderr",
     "output_type": "stream",
     "text": [
      "Train: 100%|██████████| 42/42 [00:41<00:00,  1.01it/s]\n"
     ]
    },
    {
     "name": "stdout",
     "output_type": "stream",
     "text": [
      "Train:\n",
      "loss: 4.5722, loss_Rec: 3.3342, loss_Dice: 1.2380, IoU: 0.4976\n"
     ]
    },
    {
     "name": "stderr",
     "output_type": "stream",
     "text": [
      "Valid: 100%|██████████| 40/40 [00:14<00:00,  2.68it/s]\n"
     ]
    },
    {
     "name": "stdout",
     "output_type": "stream",
     "text": [
      "Valid:\n",
      "loss: 1.2046, loss_Rec: 0.8642, loss_Dice: 0.3403, Dice: 0.6597, IoU: 0.6143\n",
      "Save best valid Loss All !\n",
      "Save best valid Loss Rec !\n",
      "Current learning rate: 0.00197\n",
      "epoch 27 / 27 \t Time Taken: 56 sec\n",
      "best valid dice: 0.6868 at epoch: 24\n",
      "\n",
      "\n"
     ]
    },
    {
     "name": "stderr",
     "output_type": "stream",
     "text": [
      "Train: 100%|██████████| 42/42 [00:41<00:00,  1.01it/s]\n"
     ]
    },
    {
     "name": "stdout",
     "output_type": "stream",
     "text": [
      "Train:\n",
      "loss: 4.4562, loss_Rec: 3.2314, loss_Dice: 1.2247, IoU: 0.5131\n"
     ]
    },
    {
     "name": "stderr",
     "output_type": "stream",
     "text": [
      "Valid: 100%|██████████| 40/40 [00:14<00:00,  2.67it/s]\n"
     ]
    },
    {
     "name": "stdout",
     "output_type": "stream",
     "text": [
      "Valid:\n",
      "loss: 1.2645, loss_Rec: 0.9303, loss_Dice: 0.3342, Dice: 0.6658, IoU: 0.5775\n",
      "Current learning rate: 0.00197\n",
      "epoch 28 / 28 \t Time Taken: 56 sec\n",
      "best valid dice: 0.6868 at epoch: 24\n",
      "\n",
      "\n"
     ]
    },
    {
     "name": "stderr",
     "output_type": "stream",
     "text": [
      "Train:  57%|█████▋    | 24/42 [00:23<00:17,  1.00it/s]"
     ]
    },
    {
     "name": "stdout",
     "output_type": "stream",
     "text": [
      "loss/loss tensor(4.6767, device='cuda:0', grad_fn=<AddBackward0>) 1200\n",
      "loss/loss_Rec tensor(3.4829, device='cuda:0', grad_fn=<AddBackward0>) 1200\n",
      "loss/loss_Dice tensor(1.1938, device='cuda:0', grad_fn=<AddBackward0>) 1200\n"
     ]
    },
    {
     "name": "stderr",
     "output_type": "stream",
     "text": [
      "Train: 100%|██████████| 42/42 [00:41<00:00,  1.02it/s]\n"
     ]
    },
    {
     "name": "stdout",
     "output_type": "stream",
     "text": [
      "Train:\n",
      "loss: 4.5398, loss_Rec: 3.3221, loss_Dice: 1.2177, IoU: 0.5024\n"
     ]
    },
    {
     "name": "stderr",
     "output_type": "stream",
     "text": [
      "Valid: 100%|██████████| 40/40 [00:14<00:00,  2.69it/s]\n"
     ]
    },
    {
     "name": "stdout",
     "output_type": "stream",
     "text": [
      "Valid:\n",
      "loss: 1.2560, loss_Rec: 0.8953, loss_Dice: 0.3607, Dice: 0.6393, IoU: 0.5664\n",
      "Current learning rate: 0.00197\n",
      "epoch 29 / 29 \t Time Taken: 56 sec\n",
      "best valid dice: 0.6868 at epoch: 24\n",
      "\n",
      "\n"
     ]
    },
    {
     "name": "stderr",
     "output_type": "stream",
     "text": [
      "Train: 100%|██████████| 42/42 [00:42<00:00,  1.00s/it]\n"
     ]
    },
    {
     "name": "stdout",
     "output_type": "stream",
     "text": [
      "Train:\n",
      "loss: 4.8047, loss_Rec: 3.5358, loss_Dice: 1.2690, IoU: 0.4693\n"
     ]
    },
    {
     "name": "stderr",
     "output_type": "stream",
     "text": [
      "Valid: 100%|██████████| 40/40 [00:14<00:00,  2.71it/s]\n"
     ]
    },
    {
     "name": "stdout",
     "output_type": "stream",
     "text": [
      "Valid:\n",
      "loss: 1.5342, loss_Rec: 1.0507, loss_Dice: 0.4835, Dice: 0.5165, IoU: 0.3423\n",
      "Current learning rate: 0.00196\n",
      "epoch 30 / 30 \t Time Taken: 56 sec\n",
      "best valid dice: 0.6868 at epoch: 24\n",
      "\n",
      "\n"
     ]
    },
    {
     "name": "stderr",
     "output_type": "stream",
     "text": [
      "Train:  95%|█████████▌| 40/42 [00:39<00:01,  1.00it/s]"
     ]
    },
    {
     "name": "stdout",
     "output_type": "stream",
     "text": [
      "loss/loss tensor(4.7003, device='cuda:0', grad_fn=<AddBackward0>) 1300\n",
      "loss/loss_Rec tensor(3.6918, device='cuda:0', grad_fn=<AddBackward0>) 1300\n",
      "loss/loss_Dice tensor(1.0084, device='cuda:0', grad_fn=<AddBackward0>) 1300\n"
     ]
    },
    {
     "name": "stderr",
     "output_type": "stream",
     "text": [
      "Train: 100%|██████████| 42/42 [00:41<00:00,  1.01it/s]\n"
     ]
    },
    {
     "name": "stdout",
     "output_type": "stream",
     "text": [
      "Train:\n",
      "loss: 4.6279, loss_Rec: 3.3953, loss_Dice: 1.2327, IoU: 0.4851\n"
     ]
    },
    {
     "name": "stderr",
     "output_type": "stream",
     "text": [
      "Valid: 100%|██████████| 40/40 [00:14<00:00,  2.69it/s]\n"
     ]
    },
    {
     "name": "stdout",
     "output_type": "stream",
     "text": [
      "Valid:\n",
      "loss: 1.3015, loss_Rec: 0.9600, loss_Dice: 0.3416, Dice: 0.6584, IoU: 0.6242\n",
      "Current learning rate: 0.00196\n",
      "epoch 31 / 31 \t Time Taken: 56 sec\n",
      "best valid dice: 0.6868 at epoch: 24\n",
      "\n",
      "\n"
     ]
    },
    {
     "name": "stderr",
     "output_type": "stream",
     "text": [
      "Train: 100%|██████████| 42/42 [00:41<00:00,  1.01it/s]\n"
     ]
    },
    {
     "name": "stdout",
     "output_type": "stream",
     "text": [
      "Train:\n",
      "loss: 4.5589, loss_Rec: 3.3233, loss_Dice: 1.2355, IoU: 0.5068\n"
     ]
    },
    {
     "name": "stderr",
     "output_type": "stream",
     "text": [
      "Valid: 100%|██████████| 40/40 [00:14<00:00,  2.69it/s]\n"
     ]
    },
    {
     "name": "stdout",
     "output_type": "stream",
     "text": [
      "Valid:\n",
      "loss: 1.3108, loss_Rec: 0.8959, loss_Dice: 0.4149, Dice: 0.5851, IoU: 0.5261\n",
      "Current learning rate: 0.00196\n",
      "epoch 32 / 32 \t Time Taken: 56 sec\n",
      "best valid dice: 0.6868 at epoch: 24\n",
      "\n",
      "\n"
     ]
    },
    {
     "name": "stderr",
     "output_type": "stream",
     "text": [
      "Train: 100%|██████████| 42/42 [00:41<00:00,  1.00it/s]\n"
     ]
    },
    {
     "name": "stdout",
     "output_type": "stream",
     "text": [
      "Train:\n",
      "loss: 4.4408, loss_Rec: 3.2246, loss_Dice: 1.2163, IoU: 0.5158\n"
     ]
    },
    {
     "name": "stderr",
     "output_type": "stream",
     "text": [
      "Valid: 100%|██████████| 40/40 [00:14<00:00,  2.68it/s]\n"
     ]
    },
    {
     "name": "stdout",
     "output_type": "stream",
     "text": [
      "Valid:\n",
      "loss: 1.2208, loss_Rec: 0.8572, loss_Dice: 0.3636, Dice: 0.6364, IoU: 0.5881\n",
      "Save best valid Loss Rec !\n",
      "Current learning rate: 0.00196\n",
      "epoch 33 / 33 \t Time Taken: 56 sec\n",
      "best valid dice: 0.6868 at epoch: 24\n",
      "\n",
      "\n"
     ]
    },
    {
     "name": "stderr",
     "output_type": "stream",
     "text": [
      "Train:  33%|███▎      | 14/42 [00:13<00:28,  1.01s/it]"
     ]
    },
    {
     "name": "stdout",
     "output_type": "stream",
     "text": [
      "loss/loss tensor(5.2084, device='cuda:0', grad_fn=<AddBackward0>) 1400\n",
      "loss/loss_Rec tensor(3.8020, device='cuda:0', grad_fn=<AddBackward0>) 1400\n",
      "loss/loss_Dice tensor(1.4064, device='cuda:0', grad_fn=<AddBackward0>) 1400\n"
     ]
    },
    {
     "name": "stderr",
     "output_type": "stream",
     "text": [
      "Train: 100%|██████████| 42/42 [00:42<00:00,  1.01s/it]\n"
     ]
    },
    {
     "name": "stdout",
     "output_type": "stream",
     "text": [
      "Train:\n",
      "loss: 4.4096, loss_Rec: 3.2129, loss_Dice: 1.1967, IoU: 0.5146\n"
     ]
    },
    {
     "name": "stderr",
     "output_type": "stream",
     "text": [
      "Valid: 100%|██████████| 40/40 [00:15<00:00,  2.65it/s]\n"
     ]
    },
    {
     "name": "stdout",
     "output_type": "stream",
     "text": [
      "Valid:\n",
      "loss: 1.1796, loss_Rec: 0.8759, loss_Dice: 0.3037, Dice: 0.6963, IoU: 0.6485\n",
      "Save best valid Dice !\n",
      "Save best valid Loss All !\n",
      "Save best valid Loss Dice !\n",
      "Current learning rate: 0.00195\n",
      "epoch 34 / 34 \t Time Taken: 57 sec\n",
      "best valid dice: 0.6963 at epoch: 34\n",
      "\n",
      "\n"
     ]
    },
    {
     "name": "stderr",
     "output_type": "stream",
     "text": [
      "Train: 100%|██████████| 42/42 [00:41<00:00,  1.01it/s]\n"
     ]
    },
    {
     "name": "stdout",
     "output_type": "stream",
     "text": [
      "Train:\n",
      "loss: 4.4073, loss_Rec: 3.2351, loss_Dice: 1.1722, IoU: 0.5286\n"
     ]
    },
    {
     "name": "stderr",
     "output_type": "stream",
     "text": [
      "Valid: 100%|██████████| 40/40 [00:14<00:00,  2.69it/s]\n"
     ]
    },
    {
     "name": "stdout",
     "output_type": "stream",
     "text": [
      "Valid:\n",
      "loss: 1.1658, loss_Rec: 0.8298, loss_Dice: 0.3360, Dice: 0.6640, IoU: 0.6254\n",
      "Save best valid Loss All !\n",
      "Save best valid Loss Rec !\n",
      "Current learning rate: 0.00195\n",
      "epoch 35 / 35 \t Time Taken: 56 sec\n",
      "best valid dice: 0.6963 at epoch: 34\n",
      "\n",
      "\n"
     ]
    },
    {
     "name": "stderr",
     "output_type": "stream",
     "text": [
      "Train:  71%|███████▏  | 30/42 [00:29<00:11,  1.01it/s]"
     ]
    },
    {
     "name": "stdout",
     "output_type": "stream",
     "text": [
      "loss/loss tensor(2.5631, device='cuda:0', grad_fn=<AddBackward0>) 1500\n",
      "loss/loss_Rec tensor(1.8396, device='cuda:0', grad_fn=<AddBackward0>) 1500\n",
      "loss/loss_Dice tensor(0.7235, device='cuda:0', grad_fn=<AddBackward0>) 1500\n"
     ]
    },
    {
     "name": "stderr",
     "output_type": "stream",
     "text": [
      "Train: 100%|██████████| 42/42 [00:41<00:00,  1.01it/s]\n"
     ]
    },
    {
     "name": "stdout",
     "output_type": "stream",
     "text": [
      "Train:\n",
      "loss: 4.1807, loss_Rec: 3.0459, loss_Dice: 1.1348, IoU: 0.5606\n"
     ]
    },
    {
     "name": "stderr",
     "output_type": "stream",
     "text": [
      "Valid: 100%|██████████| 40/40 [00:14<00:00,  2.68it/s]\n"
     ]
    },
    {
     "name": "stdout",
     "output_type": "stream",
     "text": [
      "Valid:\n",
      "loss: 1.1309, loss_Rec: 0.8054, loss_Dice: 0.3256, Dice: 0.6744, IoU: 0.6339\n",
      "Save best valid Loss All !\n",
      "Save best valid Loss Rec !\n",
      "Current learning rate: 0.00195\n",
      "epoch 36 / 36 \t Time Taken: 56 sec\n",
      "best valid dice: 0.6963 at epoch: 34\n",
      "\n",
      "\n"
     ]
    },
    {
     "name": "stderr",
     "output_type": "stream",
     "text": [
      "Train: 100%|██████████| 42/42 [00:41<00:00,  1.01it/s]\n"
     ]
    },
    {
     "name": "stdout",
     "output_type": "stream",
     "text": [
      "Train:\n",
      "loss: 4.2707, loss_Rec: 3.1005, loss_Dice: 1.1702, IoU: 0.5342\n"
     ]
    },
    {
     "name": "stderr",
     "output_type": "stream",
     "text": [
      "Valid: 100%|██████████| 40/40 [00:14<00:00,  2.69it/s]\n"
     ]
    },
    {
     "name": "stdout",
     "output_type": "stream",
     "text": [
      "Valid:\n",
      "loss: 1.1542, loss_Rec: 0.8088, loss_Dice: 0.3454, Dice: 0.6546, IoU: 0.6008\n",
      "Current learning rate: 0.00194\n",
      "epoch 37 / 37 \t Time Taken: 56 sec\n",
      "best valid dice: 0.6963 at epoch: 34\n",
      "\n",
      "\n"
     ]
    },
    {
     "name": "stderr",
     "output_type": "stream",
     "text": [
      "Train: 100%|██████████| 42/42 [00:41<00:00,  1.00it/s]\n"
     ]
    },
    {
     "name": "stdout",
     "output_type": "stream",
     "text": [
      "Train:\n",
      "loss: 4.2682, loss_Rec: 3.0918, loss_Dice: 1.1764, IoU: 0.5364\n"
     ]
    },
    {
     "name": "stderr",
     "output_type": "stream",
     "text": [
      "Valid: 100%|██████████| 40/40 [00:14<00:00,  2.68it/s]\n"
     ]
    },
    {
     "name": "stdout",
     "output_type": "stream",
     "text": [
      "Valid:\n",
      "loss: 1.1591, loss_Rec: 0.8323, loss_Dice: 0.3268, Dice: 0.6732, IoU: 0.6216\n",
      "Current learning rate: 0.00194\n",
      "epoch 38 / 38 \t Time Taken: 56 sec\n",
      "best valid dice: 0.6963 at epoch: 34\n",
      "\n",
      "\n"
     ]
    },
    {
     "name": "stderr",
     "output_type": "stream",
     "text": [
      "Train:  10%|▉         | 4/42 [00:03<00:36,  1.03it/s]"
     ]
    },
    {
     "name": "stdout",
     "output_type": "stream",
     "text": [
      "loss/loss tensor(3.0153, device='cuda:0', grad_fn=<AddBackward0>) 1600\n",
      "loss/loss_Rec tensor(1.9982, device='cuda:0', grad_fn=<AddBackward0>) 1600\n",
      "loss/loss_Dice tensor(1.0171, device='cuda:0', grad_fn=<AddBackward0>) 1600\n"
     ]
    },
    {
     "name": "stderr",
     "output_type": "stream",
     "text": [
      "Train: 100%|██████████| 42/42 [00:42<00:00,  1.00s/it]\n"
     ]
    },
    {
     "name": "stdout",
     "output_type": "stream",
     "text": [
      "Train:\n",
      "loss: 4.2600, loss_Rec: 3.1042, loss_Dice: 1.1558, IoU: 0.5372\n"
     ]
    },
    {
     "name": "stderr",
     "output_type": "stream",
     "text": [
      "Valid: 100%|██████████| 40/40 [00:14<00:00,  2.68it/s]\n"
     ]
    },
    {
     "name": "stdout",
     "output_type": "stream",
     "text": [
      "Valid:\n",
      "loss: 1.1910, loss_Rec: 0.8488, loss_Dice: 0.3422, Dice: 0.6578, IoU: 0.6281\n",
      "Current learning rate: 0.00194\n",
      "epoch 39 / 39 \t Time Taken: 57 sec\n",
      "best valid dice: 0.6963 at epoch: 34\n",
      "\n",
      "\n"
     ]
    },
    {
     "name": "stderr",
     "output_type": "stream",
     "text": [
      "Train: 100%|██████████| 42/42 [00:41<00:00,  1.00it/s]\n"
     ]
    },
    {
     "name": "stdout",
     "output_type": "stream",
     "text": [
      "Train:\n",
      "loss: 4.2653, loss_Rec: 3.0956, loss_Dice: 1.1697, IoU: 0.5373\n"
     ]
    },
    {
     "name": "stderr",
     "output_type": "stream",
     "text": [
      "Valid: 100%|██████████| 40/40 [00:14<00:00,  2.68it/s]\n"
     ]
    },
    {
     "name": "stdout",
     "output_type": "stream",
     "text": [
      "Valid:\n",
      "loss: 1.1146, loss_Rec: 0.8051, loss_Dice: 0.3095, Dice: 0.6905, IoU: 0.6595\n",
      "Save best valid Loss All !\n",
      "Save best valid Loss Rec !\n",
      "Current learning rate: 0.00193\n",
      "epoch 40 / 40 \t Time Taken: 56 sec\n",
      "best valid dice: 0.6963 at epoch: 34\n",
      "\n",
      "\n"
     ]
    },
    {
     "name": "stderr",
     "output_type": "stream",
     "text": [
      "Train:  48%|████▊     | 20/42 [00:19<00:21,  1.01it/s]"
     ]
    },
    {
     "name": "stdout",
     "output_type": "stream",
     "text": [
      "loss/loss tensor(3.9834, device='cuda:0', grad_fn=<AddBackward0>) 1700\n",
      "loss/loss_Rec tensor(2.9494, device='cuda:0', grad_fn=<AddBackward0>) 1700\n",
      "loss/loss_Dice tensor(1.0340, device='cuda:0', grad_fn=<AddBackward0>) 1700\n"
     ]
    },
    {
     "name": "stderr",
     "output_type": "stream",
     "text": [
      "Train: 100%|██████████| 42/42 [00:41<00:00,  1.00it/s]\n"
     ]
    },
    {
     "name": "stdout",
     "output_type": "stream",
     "text": [
      "Train:\n",
      "loss: 4.2975, loss_Rec: 3.1314, loss_Dice: 1.1661, IoU: 0.5367\n"
     ]
    },
    {
     "name": "stderr",
     "output_type": "stream",
     "text": [
      "Valid: 100%|██████████| 40/40 [00:14<00:00,  2.69it/s]\n"
     ]
    },
    {
     "name": "stdout",
     "output_type": "stream",
     "text": [
      "Valid:\n",
      "loss: 1.1078, loss_Rec: 0.7877, loss_Dice: 0.3201, Dice: 0.6799, IoU: 0.6415\n",
      "Save best valid Loss All !\n",
      "Save best valid Loss Rec !\n",
      "Current learning rate: 0.00193\n",
      "epoch 41 / 41 \t Time Taken: 56 sec\n",
      "best valid dice: 0.6963 at epoch: 34\n",
      "\n",
      "\n"
     ]
    },
    {
     "name": "stderr",
     "output_type": "stream",
     "text": [
      "Train: 100%|██████████| 42/42 [00:41<00:00,  1.00it/s]\n"
     ]
    },
    {
     "name": "stdout",
     "output_type": "stream",
     "text": [
      "Train:\n",
      "loss: 4.0975, loss_Rec: 2.9764, loss_Dice: 1.1211, IoU: 0.5458\n"
     ]
    },
    {
     "name": "stderr",
     "output_type": "stream",
     "text": [
      "Valid: 100%|██████████| 40/40 [00:14<00:00,  2.68it/s]\n"
     ]
    },
    {
     "name": "stdout",
     "output_type": "stream",
     "text": [
      "Valid:\n",
      "loss: 1.0763, loss_Rec: 0.7892, loss_Dice: 0.2871, Dice: 0.7129, IoU: 0.6448\n",
      "Save best valid Dice !\n",
      "Save best valid Loss All !\n",
      "Save best valid Loss Dice !\n",
      "Current learning rate: 0.00192\n",
      "epoch 42 / 42 \t Time Taken: 57 sec\n",
      "best valid dice: 0.7129 at epoch: 42\n",
      "\n",
      "\n"
     ]
    },
    {
     "name": "stderr",
     "output_type": "stream",
     "text": [
      "Train:  86%|████████▌ | 36/42 [00:35<00:06,  1.01s/it]"
     ]
    },
    {
     "name": "stdout",
     "output_type": "stream",
     "text": [
      "loss/loss tensor(3.0258, device='cuda:0', grad_fn=<AddBackward0>) 1800\n",
      "loss/loss_Rec tensor(2.0473, device='cuda:0', grad_fn=<AddBackward0>) 1800\n",
      "loss/loss_Dice tensor(0.9785, device='cuda:0', grad_fn=<AddBackward0>) 1800\n"
     ]
    },
    {
     "name": "stderr",
     "output_type": "stream",
     "text": [
      "Train: 100%|██████████| 42/42 [00:42<00:00,  1.00s/it]\n"
     ]
    },
    {
     "name": "stdout",
     "output_type": "stream",
     "text": [
      "Train:\n",
      "loss: 4.2219, loss_Rec: 3.1080, loss_Dice: 1.1139, IoU: 0.5613\n"
     ]
    },
    {
     "name": "stderr",
     "output_type": "stream",
     "text": [
      "Valid: 100%|██████████| 40/40 [00:14<00:00,  2.67it/s]\n"
     ]
    },
    {
     "name": "stdout",
     "output_type": "stream",
     "text": [
      "Valid:\n",
      "loss: 1.1883, loss_Rec: 0.8572, loss_Dice: 0.3311, Dice: 0.6689, IoU: 0.6478\n",
      "Current learning rate: 0.00192\n",
      "epoch 43 / 43 \t Time Taken: 57 sec\n",
      "best valid dice: 0.7129 at epoch: 42\n",
      "\n",
      "\n"
     ]
    },
    {
     "name": "stderr",
     "output_type": "stream",
     "text": [
      "Train: 100%|██████████| 42/42 [00:41<00:00,  1.01it/s]\n"
     ]
    },
    {
     "name": "stdout",
     "output_type": "stream",
     "text": [
      "Train:\n",
      "loss: 4.2711, loss_Rec: 3.1132, loss_Dice: 1.1579, IoU: 0.5351\n"
     ]
    },
    {
     "name": "stderr",
     "output_type": "stream",
     "text": [
      "Valid: 100%|██████████| 40/40 [00:14<00:00,  2.67it/s]\n"
     ]
    },
    {
     "name": "stdout",
     "output_type": "stream",
     "text": [
      "Valid:\n",
      "loss: 1.1164, loss_Rec: 0.7990, loss_Dice: 0.3174, Dice: 0.6826, IoU: 0.6372\n",
      "Current learning rate: 0.00191\n",
      "epoch 44 / 44 \t Time Taken: 56 sec\n",
      "best valid dice: 0.7129 at epoch: 42\n",
      "\n",
      "\n"
     ]
    },
    {
     "name": "stderr",
     "output_type": "stream",
     "text": [
      "Train: 100%|██████████| 42/42 [00:42<00:00,  1.01s/it]\n"
     ]
    },
    {
     "name": "stdout",
     "output_type": "stream",
     "text": [
      "Train:\n",
      "loss: 4.1918, loss_Rec: 3.0568, loss_Dice: 1.1350, IoU: 0.5382\n"
     ]
    },
    {
     "name": "stderr",
     "output_type": "stream",
     "text": [
      "Valid: 100%|██████████| 40/40 [00:15<00:00,  2.66it/s]\n"
     ]
    },
    {
     "name": "stdout",
     "output_type": "stream",
     "text": [
      "Valid:\n",
      "loss: 1.3702, loss_Rec: 0.9807, loss_Dice: 0.3895, Dice: 0.6105, IoU: 0.5246\n",
      "Current learning rate: 0.00191\n",
      "epoch 45 / 45 \t Time Taken: 57 sec\n",
      "best valid dice: 0.7129 at epoch: 42\n",
      "\n",
      "\n"
     ]
    },
    {
     "name": "stderr",
     "output_type": "stream",
     "text": [
      "Train:  24%|██▍       | 10/42 [00:09<00:31,  1.01it/s]"
     ]
    },
    {
     "name": "stdout",
     "output_type": "stream",
     "text": [
      "loss/loss tensor(4.8786, device='cuda:0', grad_fn=<AddBackward0>) 1900\n",
      "loss/loss_Rec tensor(3.5070, device='cuda:0', grad_fn=<AddBackward0>) 1900\n",
      "loss/loss_Dice tensor(1.3716, device='cuda:0', grad_fn=<AddBackward0>) 1900\n"
     ]
    },
    {
     "name": "stderr",
     "output_type": "stream",
     "text": [
      "Train: 100%|██████████| 42/42 [00:41<00:00,  1.02it/s]\n"
     ]
    },
    {
     "name": "stdout",
     "output_type": "stream",
     "text": [
      "Train:\n",
      "loss: 3.8830, loss_Rec: 2.8380, loss_Dice: 1.0450, IoU: 0.5937\n"
     ]
    },
    {
     "name": "stderr",
     "output_type": "stream",
     "text": [
      "Valid: 100%|██████████| 40/40 [00:14<00:00,  2.70it/s]\n"
     ]
    },
    {
     "name": "stdout",
     "output_type": "stream",
     "text": [
      "Valid:\n",
      "loss: 1.0544, loss_Rec: 0.7736, loss_Dice: 0.2808, Dice: 0.7192, IoU: 0.6479\n",
      "Save best valid Dice !\n",
      "Save best valid Loss All !\n",
      "Save best valid Loss Rec !\n",
      "Save best valid Loss Dice !\n",
      "Current learning rate: 0.00191\n",
      "epoch 46 / 46 \t Time Taken: 56 sec\n",
      "best valid dice: 0.7192 at epoch: 46\n",
      "\n",
      "\n"
     ]
    },
    {
     "name": "stderr",
     "output_type": "stream",
     "text": [
      "Train: 100%|██████████| 42/42 [00:41<00:00,  1.02it/s]\n"
     ]
    },
    {
     "name": "stdout",
     "output_type": "stream",
     "text": [
      "Train:\n",
      "loss: 3.8808, loss_Rec: 2.8185, loss_Dice: 1.0623, IoU: 0.5795\n"
     ]
    },
    {
     "name": "stderr",
     "output_type": "stream",
     "text": [
      "Valid: 100%|██████████| 40/40 [00:14<00:00,  2.69it/s]\n"
     ]
    },
    {
     "name": "stdout",
     "output_type": "stream",
     "text": [
      "Valid:\n",
      "loss: 1.1194, loss_Rec: 0.7814, loss_Dice: 0.3380, Dice: 0.6620, IoU: 0.6133\n",
      "Current learning rate: 0.00190\n",
      "epoch 47 / 47 \t Time Taken: 56 sec\n",
      "best valid dice: 0.7192 at epoch: 46\n",
      "\n",
      "\n"
     ]
    },
    {
     "name": "stderr",
     "output_type": "stream",
     "text": [
      "Train:  62%|██████▏   | 26/42 [00:25<00:15,  1.02it/s]"
     ]
    },
    {
     "name": "stdout",
     "output_type": "stream",
     "text": [
      "loss/loss tensor(3.2654, device='cuda:0', grad_fn=<AddBackward0>) 2000\n",
      "loss/loss_Rec tensor(2.4304, device='cuda:0', grad_fn=<AddBackward0>) 2000\n",
      "loss/loss_Dice tensor(0.8349, device='cuda:0', grad_fn=<AddBackward0>) 2000\n"
     ]
    },
    {
     "name": "stderr",
     "output_type": "stream",
     "text": [
      "Train: 100%|██████████| 42/42 [00:41<00:00,  1.02it/s]\n"
     ]
    },
    {
     "name": "stdout",
     "output_type": "stream",
     "text": [
      "Train:\n",
      "loss: 3.9951, loss_Rec: 2.9129, loss_Dice: 1.0822, IoU: 0.5771\n"
     ]
    },
    {
     "name": "stderr",
     "output_type": "stream",
     "text": [
      "Valid: 100%|██████████| 40/40 [00:14<00:00,  2.72it/s]\n"
     ]
    },
    {
     "name": "stdout",
     "output_type": "stream",
     "text": [
      "Valid:\n",
      "loss: 1.0515, loss_Rec: 0.7518, loss_Dice: 0.2997, Dice: 0.7003, IoU: 0.6844\n",
      "Save best valid Loss All !\n",
      "Save best valid Loss Rec !\n",
      "Current learning rate: 0.00190\n",
      "epoch 48 / 48 \t Time Taken: 56 sec\n",
      "best valid dice: 0.7192 at epoch: 46\n",
      "\n",
      "\n"
     ]
    },
    {
     "name": "stderr",
     "output_type": "stream",
     "text": [
      "Train: 100%|██████████| 42/42 [00:41<00:00,  1.01it/s]\n"
     ]
    },
    {
     "name": "stdout",
     "output_type": "stream",
     "text": [
      "Train:\n",
      "loss: 4.1287, loss_Rec: 2.9972, loss_Dice: 1.1316, IoU: 0.5429\n"
     ]
    },
    {
     "name": "stderr",
     "output_type": "stream",
     "text": [
      "Valid: 100%|██████████| 40/40 [00:14<00:00,  2.72it/s]\n"
     ]
    },
    {
     "name": "stdout",
     "output_type": "stream",
     "text": [
      "Valid:\n",
      "loss: 1.0998, loss_Rec: 0.7902, loss_Dice: 0.3096, Dice: 0.6904, IoU: 0.6227\n",
      "Current learning rate: 0.00189\n",
      "epoch 49 / 49 \t Time Taken: 56 sec\n",
      "best valid dice: 0.7192 at epoch: 46\n",
      "\n",
      "\n"
     ]
    },
    {
     "name": "stderr",
     "output_type": "stream",
     "text": [
      "Train: 100%|██████████| 42/42 [00:41<00:00,  1.01it/s]\n"
     ]
    },
    {
     "name": "stdout",
     "output_type": "stream",
     "text": [
      "loss/loss tensor(4.1139, device='cuda:0', grad_fn=<AddBackward0>) 2100\n",
      "loss/loss_Rec tensor(2.9887, device='cuda:0', grad_fn=<AddBackward0>) 2100\n",
      "loss/loss_Dice tensor(1.1251, device='cuda:0', grad_fn=<AddBackward0>) 2100\n",
      "Train:\n",
      "loss: 4.1923, loss_Rec: 3.0666, loss_Dice: 1.1257, IoU: 0.5444\n"
     ]
    },
    {
     "name": "stderr",
     "output_type": "stream",
     "text": [
      "Valid: 100%|██████████| 40/40 [00:14<00:00,  2.71it/s]\n"
     ]
    },
    {
     "name": "stdout",
     "output_type": "stream",
     "text": [
      "Valid:\n",
      "loss: 1.0305, loss_Rec: 0.7542, loss_Dice: 0.2763, Dice: 0.7237, IoU: 0.6853\n",
      "Save best valid Dice !\n",
      "Save best valid Loss All !\n",
      "Save best valid Loss Dice !\n",
      "Current learning rate: 0.00189\n",
      "epoch 50 / 50 \t Time Taken: 56 sec\n",
      "best valid dice: 0.7237 at epoch: 50\n",
      "\n",
      "\n"
     ]
    },
    {
     "name": "stderr",
     "output_type": "stream",
     "text": [
      "Train: 100%|██████████| 42/42 [00:42<00:00,  1.00s/it]\n"
     ]
    },
    {
     "name": "stdout",
     "output_type": "stream",
     "text": [
      "Train:\n",
      "loss: 3.7583, loss_Rec: 2.7401, loss_Dice: 1.0183, IoU: 0.5982\n"
     ]
    },
    {
     "name": "stderr",
     "output_type": "stream",
     "text": [
      "Valid: 100%|██████████| 40/40 [00:14<00:00,  2.70it/s]\n"
     ]
    },
    {
     "name": "stdout",
     "output_type": "stream",
     "text": [
      "Valid:\n",
      "loss: 1.1216, loss_Rec: 0.8354, loss_Dice: 0.2861, Dice: 0.7139, IoU: 0.6614\n",
      "Current learning rate: 0.00188\n",
      "epoch 51 / 51 \t Time Taken: 56 sec\n",
      "best valid dice: 0.7237 at epoch: 50\n",
      "\n",
      "\n"
     ]
    },
    {
     "name": "stderr",
     "output_type": "stream",
     "text": [
      "Train: 100%|██████████| 42/42 [00:41<00:00,  1.01it/s]\n"
     ]
    },
    {
     "name": "stdout",
     "output_type": "stream",
     "text": [
      "Train:\n",
      "loss: 3.9264, loss_Rec: 2.8596, loss_Dice: 1.0668, IoU: 0.5738\n"
     ]
    },
    {
     "name": "stderr",
     "output_type": "stream",
     "text": [
      "Valid: 100%|██████████| 40/40 [00:14<00:00,  2.70it/s]\n"
     ]
    },
    {
     "name": "stdout",
     "output_type": "stream",
     "text": [
      "Valid:\n",
      "loss: 1.0840, loss_Rec: 0.8019, loss_Dice: 0.2821, Dice: 0.7179, IoU: 0.6706\n",
      "Current learning rate: 0.00188\n",
      "epoch 52 / 52 \t Time Taken: 56 sec\n",
      "best valid dice: 0.7237 at epoch: 50\n",
      "\n",
      "\n"
     ]
    },
    {
     "name": "stderr",
     "output_type": "stream",
     "text": [
      "Train:  38%|███▊      | 16/42 [00:15<00:26,  1.00s/it]"
     ]
    },
    {
     "name": "stdout",
     "output_type": "stream",
     "text": [
      "loss/loss tensor(3.7967, device='cuda:0', grad_fn=<AddBackward0>) 2200\n",
      "loss/loss_Rec tensor(2.9525, device='cuda:0', grad_fn=<AddBackward0>) 2200\n",
      "loss/loss_Dice tensor(0.8442, device='cuda:0', grad_fn=<AddBackward0>) 2200\n"
     ]
    },
    {
     "name": "stderr",
     "output_type": "stream",
     "text": [
      "Train: 100%|██████████| 42/42 [00:41<00:00,  1.01it/s]\n"
     ]
    },
    {
     "name": "stdout",
     "output_type": "stream",
     "text": [
      "Train:\n",
      "loss: 3.9614, loss_Rec: 2.9149, loss_Dice: 1.0465, IoU: 0.5833\n"
     ]
    },
    {
     "name": "stderr",
     "output_type": "stream",
     "text": [
      "Valid: 100%|██████████| 40/40 [00:14<00:00,  2.69it/s]\n"
     ]
    },
    {
     "name": "stdout",
     "output_type": "stream",
     "text": [
      "Valid:\n",
      "loss: 1.0912, loss_Rec: 0.7870, loss_Dice: 0.3042, Dice: 0.6958, IoU: 0.6693\n",
      "Current learning rate: 0.00187\n",
      "epoch 53 / 53 \t Time Taken: 56 sec\n",
      "best valid dice: 0.7237 at epoch: 50\n",
      "\n",
      "\n"
     ]
    },
    {
     "name": "stderr",
     "output_type": "stream",
     "text": [
      "Train: 100%|██████████| 42/42 [00:41<00:00,  1.01it/s]\n"
     ]
    },
    {
     "name": "stdout",
     "output_type": "stream",
     "text": [
      "Train:\n",
      "loss: 4.2072, loss_Rec: 3.0769, loss_Dice: 1.1303, IoU: 0.5433\n"
     ]
    },
    {
     "name": "stderr",
     "output_type": "stream",
     "text": [
      "Valid: 100%|██████████| 40/40 [00:14<00:00,  2.70it/s]\n"
     ]
    },
    {
     "name": "stdout",
     "output_type": "stream",
     "text": [
      "Valid:\n",
      "loss: 1.0049, loss_Rec: 0.7220, loss_Dice: 0.2828, Dice: 0.7172, IoU: 0.6646\n",
      "Save best valid Loss All !\n",
      "Save best valid Loss Rec !\n",
      "Current learning rate: 0.00187\n",
      "epoch 54 / 54 \t Time Taken: 56 sec\n",
      "best valid dice: 0.7237 at epoch: 50\n",
      "\n",
      "\n"
     ]
    },
    {
     "name": "stderr",
     "output_type": "stream",
     "text": [
      "Train:  76%|███████▌  | 32/42 [00:31<00:09,  1.01it/s]"
     ]
    },
    {
     "name": "stdout",
     "output_type": "stream",
     "text": [
      "loss/loss tensor(3.8086, device='cuda:0', grad_fn=<AddBackward0>) 2300\n",
      "loss/loss_Rec tensor(2.7002, device='cuda:0', grad_fn=<AddBackward0>) 2300\n",
      "loss/loss_Dice tensor(1.1084, device='cuda:0', grad_fn=<AddBackward0>) 2300\n"
     ]
    },
    {
     "name": "stderr",
     "output_type": "stream",
     "text": [
      "Train: 100%|██████████| 42/42 [00:41<00:00,  1.01it/s]\n"
     ]
    },
    {
     "name": "stdout",
     "output_type": "stream",
     "text": [
      "Train:\n",
      "loss: 3.9667, loss_Rec: 2.9151, loss_Dice: 1.0516, IoU: 0.5768\n"
     ]
    },
    {
     "name": "stderr",
     "output_type": "stream",
     "text": [
      "Valid: 100%|██████████| 40/40 [00:14<00:00,  2.71it/s]\n"
     ]
    },
    {
     "name": "stdout",
     "output_type": "stream",
     "text": [
      "Valid:\n",
      "loss: 1.0351, loss_Rec: 0.7730, loss_Dice: 0.2621, Dice: 0.7379, IoU: 0.6772\n",
      "Save best valid Dice !\n",
      "Save best valid Loss Dice !\n",
      "Current learning rate: 0.00186\n",
      "epoch 55 / 55 \t Time Taken: 56 sec\n",
      "best valid dice: 0.7379 at epoch: 55\n",
      "\n",
      "\n"
     ]
    },
    {
     "name": "stderr",
     "output_type": "stream",
     "text": [
      "Train: 100%|██████████| 42/42 [00:42<00:00,  1.01s/it]\n"
     ]
    },
    {
     "name": "stdout",
     "output_type": "stream",
     "text": [
      "Train:\n",
      "loss: 4.5853, loss_Rec: 3.3539, loss_Dice: 1.2314, IoU: 0.5010\n"
     ]
    },
    {
     "name": "stderr",
     "output_type": "stream",
     "text": [
      "Valid: 100%|██████████| 40/40 [00:14<00:00,  2.69it/s]\n"
     ]
    },
    {
     "name": "stdout",
     "output_type": "stream",
     "text": [
      "Valid:\n",
      "loss: 1.0747, loss_Rec: 0.7882, loss_Dice: 0.2865, Dice: 0.7135, IoU: 0.6601\n",
      "Current learning rate: 0.00186\n",
      "epoch 56 / 56 \t Time Taken: 57 sec\n",
      "best valid dice: 0.7379 at epoch: 55\n",
      "\n",
      "\n"
     ]
    },
    {
     "name": "stderr",
     "output_type": "stream",
     "text": [
      "Train: 100%|██████████| 42/42 [00:41<00:00,  1.02it/s]\n"
     ]
    },
    {
     "name": "stdout",
     "output_type": "stream",
     "text": [
      "Train:\n",
      "loss: 3.7904, loss_Rec: 2.7614, loss_Dice: 1.0290, IoU: 0.5954\n"
     ]
    },
    {
     "name": "stderr",
     "output_type": "stream",
     "text": [
      "Valid: 100%|██████████| 40/40 [00:14<00:00,  2.71it/s]\n"
     ]
    },
    {
     "name": "stdout",
     "output_type": "stream",
     "text": [
      "Valid:\n",
      "loss: 1.0902, loss_Rec: 0.7678, loss_Dice: 0.3224, Dice: 0.6776, IoU: 0.6236\n",
      "Current learning rate: 0.00185\n",
      "epoch 57 / 57 \t Time Taken: 56 sec\n",
      "best valid dice: 0.7379 at epoch: 55\n",
      "\n",
      "\n"
     ]
    },
    {
     "name": "stderr",
     "output_type": "stream",
     "text": [
      "Train:  14%|█▍        | 6/42 [00:05<00:36,  1.00s/it]"
     ]
    },
    {
     "name": "stdout",
     "output_type": "stream",
     "text": [
      "loss/loss tensor(2.8677, device='cuda:0', grad_fn=<AddBackward0>) 2400\n",
      "loss/loss_Rec tensor(2.0368, device='cuda:0', grad_fn=<AddBackward0>) 2400\n",
      "loss/loss_Dice tensor(0.8309, device='cuda:0', grad_fn=<AddBackward0>) 2400\n"
     ]
    },
    {
     "name": "stderr",
     "output_type": "stream",
     "text": [
      "Train: 100%|██████████| 42/42 [00:41<00:00,  1.02it/s]\n"
     ]
    },
    {
     "name": "stdout",
     "output_type": "stream",
     "text": [
      "Train:\n",
      "loss: 3.7909, loss_Rec: 2.7565, loss_Dice: 1.0344, IoU: 0.5913\n"
     ]
    },
    {
     "name": "stderr",
     "output_type": "stream",
     "text": [
      "Valid: 100%|██████████| 40/40 [00:14<00:00,  2.71it/s]\n"
     ]
    },
    {
     "name": "stdout",
     "output_type": "stream",
     "text": [
      "Valid:\n",
      "loss: 1.0508, loss_Rec: 0.7535, loss_Dice: 0.2973, Dice: 0.7027, IoU: 0.6679\n",
      "Current learning rate: 0.00184\n",
      "epoch 58 / 58 \t Time Taken: 56 sec\n",
      "best valid dice: 0.7379 at epoch: 55\n",
      "\n",
      "\n"
     ]
    },
    {
     "name": "stderr",
     "output_type": "stream",
     "text": [
      "Train: 100%|██████████| 42/42 [00:41<00:00,  1.02it/s]\n"
     ]
    },
    {
     "name": "stdout",
     "output_type": "stream",
     "text": [
      "Train:\n",
      "loss: 4.0053, loss_Rec: 2.9444, loss_Dice: 1.0610, IoU: 0.5659\n"
     ]
    },
    {
     "name": "stderr",
     "output_type": "stream",
     "text": [
      "Valid: 100%|██████████| 40/40 [00:14<00:00,  2.71it/s]\n"
     ]
    },
    {
     "name": "stdout",
     "output_type": "stream",
     "text": [
      "Valid:\n",
      "loss: 1.0036, loss_Rec: 0.7100, loss_Dice: 0.2936, Dice: 0.7064, IoU: 0.6650\n",
      "Save best valid Loss All !\n",
      "Save best valid Loss Rec !\n",
      "Current learning rate: 0.00184\n",
      "epoch 59 / 59 \t Time Taken: 56 sec\n",
      "best valid dice: 0.7379 at epoch: 55\n",
      "\n",
      "\n"
     ]
    },
    {
     "name": "stderr",
     "output_type": "stream",
     "text": [
      "Train:  52%|█████▏    | 22/42 [00:21<00:19,  1.02it/s]"
     ]
    },
    {
     "name": "stdout",
     "output_type": "stream",
     "text": [
      "loss/loss tensor(5.1291, device='cuda:0', grad_fn=<AddBackward0>) 2500\n",
      "loss/loss_Rec tensor(3.7565, device='cuda:0', grad_fn=<AddBackward0>) 2500\n",
      "loss/loss_Dice tensor(1.3726, device='cuda:0', grad_fn=<AddBackward0>) 2500\n"
     ]
    },
    {
     "name": "stderr",
     "output_type": "stream",
     "text": [
      "Train: 100%|██████████| 42/42 [00:41<00:00,  1.02it/s]\n"
     ]
    },
    {
     "name": "stdout",
     "output_type": "stream",
     "text": [
      "Train:\n",
      "loss: 4.1150, loss_Rec: 3.0208, loss_Dice: 1.0943, IoU: 0.5533\n"
     ]
    },
    {
     "name": "stderr",
     "output_type": "stream",
     "text": [
      "Valid: 100%|██████████| 40/40 [00:14<00:00,  2.71it/s]\n"
     ]
    },
    {
     "name": "stdout",
     "output_type": "stream",
     "text": [
      "Valid:\n",
      "loss: 1.1216, loss_Rec: 0.7929, loss_Dice: 0.3288, Dice: 0.6712, IoU: 0.6514\n",
      "Current learning rate: 0.00183\n",
      "epoch 60 / 60 \t Time Taken: 56 sec\n",
      "best valid dice: 0.7379 at epoch: 55\n",
      "\n",
      "\n"
     ]
    },
    {
     "name": "stderr",
     "output_type": "stream",
     "text": [
      "Train: 100%|██████████| 42/42 [00:41<00:00,  1.01it/s]\n"
     ]
    },
    {
     "name": "stdout",
     "output_type": "stream",
     "text": [
      "Train:\n",
      "loss: 3.8783, loss_Rec: 2.8190, loss_Dice: 1.0594, IoU: 0.5681\n"
     ]
    },
    {
     "name": "stderr",
     "output_type": "stream",
     "text": [
      "Valid: 100%|██████████| 40/40 [00:14<00:00,  2.72it/s]\n"
     ]
    },
    {
     "name": "stdout",
     "output_type": "stream",
     "text": [
      "Valid:\n",
      "loss: 1.0056, loss_Rec: 0.7187, loss_Dice: 0.2869, Dice: 0.7131, IoU: 0.6709\n",
      "Current learning rate: 0.00183\n",
      "epoch 61 / 61 \t Time Taken: 56 sec\n",
      "best valid dice: 0.7379 at epoch: 55\n",
      "\n",
      "\n"
     ]
    },
    {
     "name": "stderr",
     "output_type": "stream",
     "text": [
      "Train:  90%|█████████ | 38/42 [00:37<00:03,  1.02it/s]"
     ]
    },
    {
     "name": "stdout",
     "output_type": "stream",
     "text": [
      "loss/loss tensor(4.3419, device='cuda:0', grad_fn=<AddBackward0>) 2600\n",
      "loss/loss_Rec tensor(3.2433, device='cuda:0', grad_fn=<AddBackward0>) 2600\n",
      "loss/loss_Dice tensor(1.0986, device='cuda:0', grad_fn=<AddBackward0>) 2600\n"
     ]
    },
    {
     "name": "stderr",
     "output_type": "stream",
     "text": [
      "Train: 100%|██████████| 42/42 [00:40<00:00,  1.03it/s]\n"
     ]
    },
    {
     "name": "stdout",
     "output_type": "stream",
     "text": [
      "Train:\n",
      "loss: 3.9003, loss_Rec: 2.8719, loss_Dice: 1.0284, IoU: 0.5985\n"
     ]
    },
    {
     "name": "stderr",
     "output_type": "stream",
     "text": [
      "Valid: 100%|██████████| 40/40 [00:14<00:00,  2.72it/s]\n"
     ]
    },
    {
     "name": "stdout",
     "output_type": "stream",
     "text": [
      "Valid:\n",
      "loss: 0.9827, loss_Rec: 0.7087, loss_Dice: 0.2739, Dice: 0.7261, IoU: 0.6815\n",
      "Save best valid Loss All !\n",
      "Save best valid Loss Rec !\n",
      "Current learning rate: 0.00182\n",
      "epoch 62 / 62 \t Time Taken: 55 sec\n",
      "best valid dice: 0.7379 at epoch: 55\n",
      "\n",
      "\n"
     ]
    },
    {
     "name": "stderr",
     "output_type": "stream",
     "text": [
      "Train: 100%|██████████| 42/42 [00:41<00:00,  1.02it/s]\n"
     ]
    },
    {
     "name": "stdout",
     "output_type": "stream",
     "text": [
      "Train:\n",
      "loss: 3.7665, loss_Rec: 2.7344, loss_Dice: 1.0321, IoU: 0.6033\n"
     ]
    },
    {
     "name": "stderr",
     "output_type": "stream",
     "text": [
      "Valid: 100%|██████████| 40/40 [00:14<00:00,  2.71it/s]\n"
     ]
    },
    {
     "name": "stdout",
     "output_type": "stream",
     "text": [
      "Valid:\n",
      "loss: 0.9781, loss_Rec: 0.7254, loss_Dice: 0.2526, Dice: 0.7474, IoU: 0.6745\n",
      "Save best valid Dice !\n",
      "Save best valid Loss All !\n",
      "Save best valid Loss Dice !\n",
      "Current learning rate: 0.00182\n",
      "epoch 63 / 63 \t Time Taken: 56 sec\n",
      "best valid dice: 0.7474 at epoch: 63\n",
      "\n",
      "\n"
     ]
    },
    {
     "name": "stderr",
     "output_type": "stream",
     "text": [
      "Train: 100%|██████████| 42/42 [00:40<00:00,  1.03it/s]\n"
     ]
    },
    {
     "name": "stdout",
     "output_type": "stream",
     "text": [
      "Train:\n",
      "loss: 3.5058, loss_Rec: 2.5756, loss_Dice: 0.9301, IoU: 0.6290\n"
     ]
    },
    {
     "name": "stderr",
     "output_type": "stream",
     "text": [
      "Valid: 100%|██████████| 40/40 [00:14<00:00,  2.72it/s]\n"
     ]
    },
    {
     "name": "stdout",
     "output_type": "stream",
     "text": [
      "Valid:\n",
      "loss: 1.0062, loss_Rec: 0.7259, loss_Dice: 0.2802, Dice: 0.7198, IoU: 0.6644\n",
      "Current learning rate: 0.00181\n",
      "epoch 64 / 64 \t Time Taken: 55 sec\n",
      "best valid dice: 0.7474 at epoch: 63\n",
      "\n",
      "\n"
     ]
    },
    {
     "name": "stderr",
     "output_type": "stream",
     "text": [
      "Train:  29%|██▊       | 12/42 [00:11<00:30,  1.01s/it]"
     ]
    },
    {
     "name": "stdout",
     "output_type": "stream",
     "text": [
      "loss/loss tensor(4.2999, device='cuda:0', grad_fn=<AddBackward0>) 2700\n",
      "loss/loss_Rec tensor(3.2162, device='cuda:0', grad_fn=<AddBackward0>) 2700\n",
      "loss/loss_Dice tensor(1.0836, device='cuda:0', grad_fn=<AddBackward0>) 2700\n"
     ]
    },
    {
     "name": "stderr",
     "output_type": "stream",
     "text": [
      "Train: 100%|██████████| 42/42 [00:41<00:00,  1.02it/s]\n"
     ]
    },
    {
     "name": "stdout",
     "output_type": "stream",
     "text": [
      "Train:\n",
      "loss: 3.6726, loss_Rec: 2.6808, loss_Dice: 0.9918, IoU: 0.6009\n"
     ]
    },
    {
     "name": "stderr",
     "output_type": "stream",
     "text": [
      "Valid: 100%|██████████| 40/40 [00:14<00:00,  2.72it/s]\n"
     ]
    },
    {
     "name": "stdout",
     "output_type": "stream",
     "text": [
      "Valid:\n",
      "loss: 0.9474, loss_Rec: 0.7027, loss_Dice: 0.2447, Dice: 0.7553, IoU: 0.6890\n",
      "Save best valid Dice !\n",
      "Save best valid Loss All !\n",
      "Save best valid Loss Rec !\n",
      "Save best valid Loss Dice !\n",
      "Current learning rate: 0.00180\n",
      "epoch 65 / 65 \t Time Taken: 56 sec\n",
      "best valid dice: 0.7553 at epoch: 65\n",
      "\n",
      "\n"
     ]
    },
    {
     "name": "stderr",
     "output_type": "stream",
     "text": [
      "Train: 100%|██████████| 42/42 [00:41<00:00,  1.02it/s]\n"
     ]
    },
    {
     "name": "stdout",
     "output_type": "stream",
     "text": [
      "Train:\n",
      "loss: 3.6823, loss_Rec: 2.6933, loss_Dice: 0.9890, IoU: 0.6072\n"
     ]
    },
    {
     "name": "stderr",
     "output_type": "stream",
     "text": [
      "Valid: 100%|██████████| 40/40 [00:14<00:00,  2.71it/s]\n"
     ]
    },
    {
     "name": "stdout",
     "output_type": "stream",
     "text": [
      "Valid:\n",
      "loss: 0.9949, loss_Rec: 0.7208, loss_Dice: 0.2741, Dice: 0.7259, IoU: 0.6706\n",
      "Current learning rate: 0.00180\n",
      "epoch 66 / 66 \t Time Taken: 55 sec\n",
      "best valid dice: 0.7553 at epoch: 65\n",
      "\n",
      "\n"
     ]
    },
    {
     "name": "stderr",
     "output_type": "stream",
     "text": [
      "Train:  67%|██████▋   | 28/42 [00:27<00:13,  1.01it/s]"
     ]
    },
    {
     "name": "stdout",
     "output_type": "stream",
     "text": [
      "loss/loss tensor(2.9608, device='cuda:0', grad_fn=<AddBackward0>) 2800\n",
      "loss/loss_Rec tensor(2.2134, device='cuda:0', grad_fn=<AddBackward0>) 2800\n",
      "loss/loss_Dice tensor(0.7473, device='cuda:0', grad_fn=<AddBackward0>) 2800\n"
     ]
    },
    {
     "name": "stderr",
     "output_type": "stream",
     "text": [
      "Train: 100%|██████████| 42/42 [00:41<00:00,  1.02it/s]\n"
     ]
    },
    {
     "name": "stdout",
     "output_type": "stream",
     "text": [
      "Train:\n",
      "loss: 3.4795, loss_Rec: 2.5309, loss_Dice: 0.9486, IoU: 0.6206\n"
     ]
    },
    {
     "name": "stderr",
     "output_type": "stream",
     "text": [
      "Valid: 100%|██████████| 40/40 [00:14<00:00,  2.72it/s]\n"
     ]
    },
    {
     "name": "stdout",
     "output_type": "stream",
     "text": [
      "Valid:\n",
      "loss: 0.9645, loss_Rec: 0.7173, loss_Dice: 0.2472, Dice: 0.7528, IoU: 0.7068\n",
      "Current learning rate: 0.00179\n",
      "epoch 67 / 67 \t Time Taken: 55 sec\n",
      "best valid dice: 0.7553 at epoch: 65\n",
      "\n",
      "\n"
     ]
    },
    {
     "name": "stderr",
     "output_type": "stream",
     "text": [
      "Train: 100%|██████████| 42/42 [00:41<00:00,  1.01it/s]\n"
     ]
    },
    {
     "name": "stdout",
     "output_type": "stream",
     "text": [
      "Train:\n",
      "loss: 3.6827, loss_Rec: 2.7020, loss_Dice: 0.9807, IoU: 0.6030\n"
     ]
    },
    {
     "name": "stderr",
     "output_type": "stream",
     "text": [
      "Valid: 100%|██████████| 40/40 [00:14<00:00,  2.71it/s]\n"
     ]
    },
    {
     "name": "stdout",
     "output_type": "stream",
     "text": [
      "Valid:\n",
      "loss: 1.1113, loss_Rec: 0.8123, loss_Dice: 0.2991, Dice: 0.7009, IoU: 0.6773\n",
      "Current learning rate: 0.00178\n",
      "epoch 68 / 68 \t Time Taken: 56 sec\n",
      "best valid dice: 0.7553 at epoch: 65\n",
      "\n",
      "\n"
     ]
    },
    {
     "name": "stderr",
     "output_type": "stream",
     "text": [
      "Train: 100%|██████████| 42/42 [00:41<00:00,  1.02it/s]\n"
     ]
    },
    {
     "name": "stdout",
     "output_type": "stream",
     "text": [
      "Train:\n",
      "loss: 3.8822, loss_Rec: 2.8465, loss_Dice: 1.0357, IoU: 0.5836\n"
     ]
    },
    {
     "name": "stderr",
     "output_type": "stream",
     "text": [
      "Valid: 100%|██████████| 40/40 [00:14<00:00,  2.72it/s]\n"
     ]
    },
    {
     "name": "stdout",
     "output_type": "stream",
     "text": [
      "Valid:\n",
      "loss: 1.0055, loss_Rec: 0.7289, loss_Dice: 0.2766, Dice: 0.7234, IoU: 0.6537\n",
      "Current learning rate: 0.00178\n",
      "epoch 69 / 69 \t Time Taken: 56 sec\n",
      "best valid dice: 0.7553 at epoch: 65\n",
      "\n",
      "\n"
     ]
    },
    {
     "name": "stderr",
     "output_type": "stream",
     "text": [
      "Train:   5%|▍         | 2/42 [00:01<00:39,  1.02it/s]"
     ]
    },
    {
     "name": "stdout",
     "output_type": "stream",
     "text": [
      "loss/loss tensor(2.5640, device='cuda:0', grad_fn=<AddBackward0>) 2900\n",
      "loss/loss_Rec tensor(1.8521, device='cuda:0', grad_fn=<AddBackward0>) 2900\n",
      "loss/loss_Dice tensor(0.7119, device='cuda:0', grad_fn=<AddBackward0>) 2900\n"
     ]
    },
    {
     "name": "stderr",
     "output_type": "stream",
     "text": [
      "Train: 100%|██████████| 42/42 [00:41<00:00,  1.02it/s]\n"
     ]
    },
    {
     "name": "stdout",
     "output_type": "stream",
     "text": [
      "Train:\n",
      "loss: 3.9818, loss_Rec: 2.9139, loss_Dice: 1.0679, IoU: 0.5586\n"
     ]
    },
    {
     "name": "stderr",
     "output_type": "stream",
     "text": [
      "Valid: 100%|██████████| 40/40 [00:14<00:00,  2.70it/s]\n"
     ]
    },
    {
     "name": "stdout",
     "output_type": "stream",
     "text": [
      "Valid:\n",
      "loss: 1.1376, loss_Rec: 0.7944, loss_Dice: 0.3432, Dice: 0.6568, IoU: 0.6039\n",
      "Current learning rate: 0.00177\n",
      "epoch 70 / 70 \t Time Taken: 55 sec\n",
      "best valid dice: 0.7553 at epoch: 65\n",
      "\n",
      "\n"
     ]
    },
    {
     "name": "stderr",
     "output_type": "stream",
     "text": [
      "Train: 100%|██████████| 42/42 [00:41<00:00,  1.02it/s]\n"
     ]
    },
    {
     "name": "stdout",
     "output_type": "stream",
     "text": [
      "Train:\n",
      "loss: 3.9218, loss_Rec: 2.8664, loss_Dice: 1.0554, IoU: 0.5791\n"
     ]
    },
    {
     "name": "stderr",
     "output_type": "stream",
     "text": [
      "Valid: 100%|██████████| 40/40 [00:14<00:00,  2.70it/s]\n"
     ]
    },
    {
     "name": "stdout",
     "output_type": "stream",
     "text": [
      "Valid:\n",
      "loss: 1.3640, loss_Rec: 1.0139, loss_Dice: 0.3502, Dice: 0.6498, IoU: 0.5524\n",
      "Current learning rate: 0.00176\n",
      "epoch 71 / 71 \t Time Taken: 56 sec\n",
      "best valid dice: 0.7553 at epoch: 65\n",
      "\n",
      "\n"
     ]
    },
    {
     "name": "stderr",
     "output_type": "stream",
     "text": [
      "Train:  43%|████▎     | 18/42 [00:17<00:23,  1.03it/s]"
     ]
    },
    {
     "name": "stdout",
     "output_type": "stream",
     "text": [
      "loss/loss tensor(4.0472, device='cuda:0', grad_fn=<AddBackward0>) 3000\n",
      "loss/loss_Rec tensor(3.0921, device='cuda:0', grad_fn=<AddBackward0>) 3000\n",
      "loss/loss_Dice tensor(0.9551, device='cuda:0', grad_fn=<AddBackward0>) 3000\n"
     ]
    },
    {
     "name": "stderr",
     "output_type": "stream",
     "text": [
      "Train: 100%|██████████| 42/42 [00:41<00:00,  1.02it/s]\n"
     ]
    },
    {
     "name": "stdout",
     "output_type": "stream",
     "text": [
      "Train:\n",
      "loss: 3.8047, loss_Rec: 2.8040, loss_Dice: 1.0007, IoU: 0.5934\n"
     ]
    },
    {
     "name": "stderr",
     "output_type": "stream",
     "text": [
      "Valid: 100%|██████████| 40/40 [00:14<00:00,  2.73it/s]\n"
     ]
    },
    {
     "name": "stdout",
     "output_type": "stream",
     "text": [
      "Valid:\n",
      "loss: 1.2089, loss_Rec: 0.8549, loss_Dice: 0.3540, Dice: 0.6460, IoU: 0.5639\n",
      "Current learning rate: 0.00176\n",
      "epoch 72 / 72 \t Time Taken: 55 sec\n",
      "best valid dice: 0.7553 at epoch: 65\n",
      "\n",
      "\n"
     ]
    },
    {
     "name": "stderr",
     "output_type": "stream",
     "text": [
      "Train: 100%|██████████| 42/42 [00:41<00:00,  1.02it/s]\n"
     ]
    },
    {
     "name": "stdout",
     "output_type": "stream",
     "text": [
      "Train:\n",
      "loss: 3.6631, loss_Rec: 2.6670, loss_Dice: 0.9961, IoU: 0.5954\n"
     ]
    },
    {
     "name": "stderr",
     "output_type": "stream",
     "text": [
      "Valid: 100%|██████████| 40/40 [00:14<00:00,  2.72it/s]\n"
     ]
    },
    {
     "name": "stdout",
     "output_type": "stream",
     "text": [
      "Valid:\n",
      "loss: 1.0489, loss_Rec: 0.7935, loss_Dice: 0.2554, Dice: 0.7446, IoU: 0.6827\n",
      "Current learning rate: 0.00175\n",
      "epoch 73 / 73 \t Time Taken: 56 sec\n",
      "best valid dice: 0.7553 at epoch: 65\n",
      "\n",
      "\n"
     ]
    },
    {
     "name": "stderr",
     "output_type": "stream",
     "text": [
      "Train:  81%|████████  | 34/42 [00:33<00:08,  1.00s/it]"
     ]
    },
    {
     "name": "stdout",
     "output_type": "stream",
     "text": [
      "loss/loss tensor(3.5123, device='cuda:0', grad_fn=<AddBackward0>) 3100\n",
      "loss/loss_Rec tensor(2.6854, device='cuda:0', grad_fn=<AddBackward0>) 3100\n",
      "loss/loss_Dice tensor(0.8270, device='cuda:0', grad_fn=<AddBackward0>) 3100\n"
     ]
    },
    {
     "name": "stderr",
     "output_type": "stream",
     "text": [
      "Train: 100%|██████████| 42/42 [00:41<00:00,  1.01it/s]\n"
     ]
    },
    {
     "name": "stdout",
     "output_type": "stream",
     "text": [
      "Train:\n",
      "loss: 3.5794, loss_Rec: 2.6286, loss_Dice: 0.9508, IoU: 0.6294\n"
     ]
    },
    {
     "name": "stderr",
     "output_type": "stream",
     "text": [
      "Valid: 100%|██████████| 40/40 [00:14<00:00,  2.72it/s]\n"
     ]
    },
    {
     "name": "stdout",
     "output_type": "stream",
     "text": [
      "Valid:\n",
      "loss: 0.9438, loss_Rec: 0.6570, loss_Dice: 0.2868, Dice: 0.7132, IoU: 0.6823\n",
      "Save best valid Loss All !\n",
      "Save best valid Loss Rec !\n",
      "Current learning rate: 0.00174\n",
      "epoch 74 / 74 \t Time Taken: 56 sec\n",
      "best valid dice: 0.7553 at epoch: 65\n",
      "\n",
      "\n"
     ]
    },
    {
     "name": "stderr",
     "output_type": "stream",
     "text": [
      "Train: 100%|██████████| 42/42 [00:41<00:00,  1.02it/s]\n"
     ]
    },
    {
     "name": "stdout",
     "output_type": "stream",
     "text": [
      "Train:\n",
      "loss: 3.7593, loss_Rec: 2.7390, loss_Dice: 1.0203, IoU: 0.5993\n"
     ]
    },
    {
     "name": "stderr",
     "output_type": "stream",
     "text": [
      "Valid: 100%|██████████| 40/40 [00:14<00:00,  2.70it/s]\n"
     ]
    },
    {
     "name": "stdout",
     "output_type": "stream",
     "text": [
      "Valid:\n",
      "loss: 0.9729, loss_Rec: 0.7249, loss_Dice: 0.2480, Dice: 0.7520, IoU: 0.7187\n",
      "Current learning rate: 0.00173\n",
      "epoch 75 / 75 \t Time Taken: 56 sec\n",
      "best valid dice: 0.7553 at epoch: 65\n",
      "\n",
      "\n"
     ]
    },
    {
     "name": "stderr",
     "output_type": "stream",
     "text": [
      "Train: 100%|██████████| 42/42 [00:41<00:00,  1.02it/s]\n"
     ]
    },
    {
     "name": "stdout",
     "output_type": "stream",
     "text": [
      "Train:\n",
      "loss: 3.4954, loss_Rec: 2.5708, loss_Dice: 0.9245, IoU: 0.6181\n"
     ]
    },
    {
     "name": "stderr",
     "output_type": "stream",
     "text": [
      "Valid: 100%|██████████| 40/40 [00:14<00:00,  2.70it/s]\n"
     ]
    },
    {
     "name": "stdout",
     "output_type": "stream",
     "text": [
      "Valid:\n",
      "loss: 0.9217, loss_Rec: 0.6744, loss_Dice: 0.2473, Dice: 0.7527, IoU: 0.6978\n",
      "Save best valid Loss All !\n",
      "Current learning rate: 0.00173\n",
      "epoch 76 / 76 \t Time Taken: 56 sec\n",
      "best valid dice: 0.7553 at epoch: 65\n",
      "\n",
      "\n"
     ]
    },
    {
     "name": "stderr",
     "output_type": "stream",
     "text": [
      "Train:  19%|█▉        | 8/42 [00:07<00:33,  1.01it/s]"
     ]
    },
    {
     "name": "stdout",
     "output_type": "stream",
     "text": [
      "loss/loss tensor(4.7127, device='cuda:0', grad_fn=<AddBackward0>) 3200\n",
      "loss/loss_Rec tensor(3.5179, device='cuda:0', grad_fn=<AddBackward0>) 3200\n",
      "loss/loss_Dice tensor(1.1948, device='cuda:0', grad_fn=<AddBackward0>) 3200\n"
     ]
    },
    {
     "name": "stderr",
     "output_type": "stream",
     "text": [
      "Train: 100%|██████████| 42/42 [00:41<00:00,  1.02it/s]\n"
     ]
    },
    {
     "name": "stdout",
     "output_type": "stream",
     "text": [
      "Train:\n",
      "loss: 3.6869, loss_Rec: 2.7008, loss_Dice: 0.9860, IoU: 0.6012\n"
     ]
    },
    {
     "name": "stderr",
     "output_type": "stream",
     "text": [
      "Valid: 100%|██████████| 40/40 [00:14<00:00,  2.69it/s]\n"
     ]
    },
    {
     "name": "stdout",
     "output_type": "stream",
     "text": [
      "Valid:\n",
      "loss: 0.9435, loss_Rec: 0.6581, loss_Dice: 0.2853, Dice: 0.7147, IoU: 0.6774\n",
      "Current learning rate: 0.00172\n",
      "epoch 77 / 77 \t Time Taken: 56 sec\n",
      "best valid dice: 0.7553 at epoch: 65\n",
      "\n",
      "\n"
     ]
    },
    {
     "name": "stderr",
     "output_type": "stream",
     "text": [
      "Train: 100%|██████████| 42/42 [00:41<00:00,  1.01it/s]\n"
     ]
    },
    {
     "name": "stdout",
     "output_type": "stream",
     "text": [
      "Train:\n",
      "loss: 3.5558, loss_Rec: 2.6151, loss_Dice: 0.9407, IoU: 0.6304\n"
     ]
    },
    {
     "name": "stderr",
     "output_type": "stream",
     "text": [
      "Valid: 100%|██████████| 40/40 [00:14<00:00,  2.70it/s]\n"
     ]
    },
    {
     "name": "stdout",
     "output_type": "stream",
     "text": [
      "Valid:\n",
      "loss: 0.9285, loss_Rec: 0.6568, loss_Dice: 0.2717, Dice: 0.7283, IoU: 0.6904\n",
      "Save best valid Loss Rec !\n",
      "Current learning rate: 0.00171\n",
      "epoch 78 / 78 \t Time Taken: 56 sec\n",
      "best valid dice: 0.7553 at epoch: 65\n",
      "\n",
      "\n"
     ]
    },
    {
     "name": "stderr",
     "output_type": "stream",
     "text": [
      "Train:  57%|█████▋    | 24/42 [00:23<00:17,  1.02it/s]"
     ]
    },
    {
     "name": "stdout",
     "output_type": "stream",
     "text": [
      "loss/loss tensor(2.9200, device='cuda:0', grad_fn=<AddBackward0>) 3300\n",
      "loss/loss_Rec tensor(2.1017, device='cuda:0', grad_fn=<AddBackward0>) 3300\n",
      "loss/loss_Dice tensor(0.8183, device='cuda:0', grad_fn=<AddBackward0>) 3300\n"
     ]
    },
    {
     "name": "stderr",
     "output_type": "stream",
     "text": [
      "Train: 100%|██████████| 42/42 [00:41<00:00,  1.01it/s]\n"
     ]
    },
    {
     "name": "stdout",
     "output_type": "stream",
     "text": [
      "Train:\n",
      "loss: 4.0090, loss_Rec: 2.9351, loss_Dice: 1.0739, IoU: 0.5505\n"
     ]
    },
    {
     "name": "stderr",
     "output_type": "stream",
     "text": [
      "Valid: 100%|██████████| 40/40 [00:15<00:00,  2.66it/s]\n"
     ]
    },
    {
     "name": "stdout",
     "output_type": "stream",
     "text": [
      "Valid:\n",
      "loss: 1.0056, loss_Rec: 0.7505, loss_Dice: 0.2551, Dice: 0.7449, IoU: 0.6877\n",
      "Current learning rate: 0.00171\n",
      "epoch 79 / 79 \t Time Taken: 56 sec\n",
      "best valid dice: 0.7553 at epoch: 65\n",
      "\n",
      "\n"
     ]
    },
    {
     "name": "stderr",
     "output_type": "stream",
     "text": [
      "Train: 100%|██████████| 42/42 [00:42<00:00,  1.00s/it]\n"
     ]
    },
    {
     "name": "stdout",
     "output_type": "stream",
     "text": [
      "Train:\n",
      "loss: 4.1089, loss_Rec: 3.0278, loss_Dice: 1.0811, IoU: 0.5523\n"
     ]
    },
    {
     "name": "stderr",
     "output_type": "stream",
     "text": [
      "Valid: 100%|██████████| 40/40 [00:14<00:00,  2.69it/s]\n"
     ]
    },
    {
     "name": "stdout",
     "output_type": "stream",
     "text": [
      "Valid:\n",
      "loss: 0.9901, loss_Rec: 0.6837, loss_Dice: 0.3064, Dice: 0.6936, IoU: 0.6779\n",
      "Current learning rate: 0.00170\n",
      "epoch 80 / 80 \t Time Taken: 56 sec\n",
      "best valid dice: 0.7553 at epoch: 65\n",
      "\n",
      "\n"
     ]
    },
    {
     "name": "stderr",
     "output_type": "stream",
     "text": [
      "Train:  95%|█████████▌| 40/42 [00:39<00:01,  1.01it/s]"
     ]
    },
    {
     "name": "stdout",
     "output_type": "stream",
     "text": [
      "loss/loss tensor(4.7390, device='cuda:0', grad_fn=<AddBackward0>) 3400\n",
      "loss/loss_Rec tensor(3.2868, device='cuda:0', grad_fn=<AddBackward0>) 3400\n",
      "loss/loss_Dice tensor(1.4522, device='cuda:0', grad_fn=<AddBackward0>) 3400\n"
     ]
    },
    {
     "name": "stderr",
     "output_type": "stream",
     "text": [
      "Train: 100%|██████████| 42/42 [00:41<00:00,  1.01it/s]\n"
     ]
    },
    {
     "name": "stdout",
     "output_type": "stream",
     "text": [
      "Train:\n",
      "loss: 3.7644, loss_Rec: 2.7845, loss_Dice: 0.9800, IoU: 0.6005\n"
     ]
    },
    {
     "name": "stderr",
     "output_type": "stream",
     "text": [
      "Valid: 100%|██████████| 40/40 [00:14<00:00,  2.70it/s]\n"
     ]
    },
    {
     "name": "stdout",
     "output_type": "stream",
     "text": [
      "Valid:\n",
      "loss: 1.0099, loss_Rec: 0.7372, loss_Dice: 0.2727, Dice: 0.7273, IoU: 0.6537\n",
      "Current learning rate: 0.00169\n",
      "epoch 81 / 81 \t Time Taken: 56 sec\n",
      "best valid dice: 0.7553 at epoch: 65\n",
      "\n",
      "\n"
     ]
    },
    {
     "name": "stderr",
     "output_type": "stream",
     "text": [
      "Train: 100%|██████████| 42/42 [00:41<00:00,  1.01it/s]\n"
     ]
    },
    {
     "name": "stdout",
     "output_type": "stream",
     "text": [
      "Train:\n",
      "loss: 3.4612, loss_Rec: 2.5182, loss_Dice: 0.9431, IoU: 0.6247\n"
     ]
    },
    {
     "name": "stderr",
     "output_type": "stream",
     "text": [
      "Valid: 100%|██████████| 40/40 [00:14<00:00,  2.71it/s]\n"
     ]
    },
    {
     "name": "stdout",
     "output_type": "stream",
     "text": [
      "Valid:\n",
      "loss: 0.8950, loss_Rec: 0.6362, loss_Dice: 0.2588, Dice: 0.7412, IoU: 0.7214\n",
      "Save best valid Loss All !\n",
      "Save best valid Loss Rec !\n",
      "Current learning rate: 0.00168\n",
      "epoch 82 / 82 \t Time Taken: 56 sec\n",
      "best valid dice: 0.7553 at epoch: 65\n",
      "\n",
      "\n"
     ]
    },
    {
     "name": "stderr",
     "output_type": "stream",
     "text": [
      "Train: 100%|██████████| 42/42 [00:41<00:00,  1.01it/s]\n"
     ]
    },
    {
     "name": "stdout",
     "output_type": "stream",
     "text": [
      "Train:\n",
      "loss: 3.2065, loss_Rec: 2.3587, loss_Dice: 0.8479, IoU: 0.6632\n"
     ]
    },
    {
     "name": "stderr",
     "output_type": "stream",
     "text": [
      "Valid: 100%|██████████| 40/40 [00:14<00:00,  2.72it/s]\n"
     ]
    },
    {
     "name": "stdout",
     "output_type": "stream",
     "text": [
      "Valid:\n",
      "loss: 0.8045, loss_Rec: 0.5855, loss_Dice: 0.2190, Dice: 0.7810, IoU: 0.7360\n",
      "Save best valid Dice !\n",
      "Save best valid Loss All !\n",
      "Save best valid Loss Rec !\n",
      "Save best valid Loss Dice !\n",
      "Current learning rate: 0.00167\n",
      "epoch 83 / 83 \t Time Taken: 56 sec\n",
      "best valid dice: 0.7810 at epoch: 83\n",
      "\n",
      "\n"
     ]
    },
    {
     "name": "stderr",
     "output_type": "stream",
     "text": [
      "Train:  33%|███▎      | 14/42 [00:13<00:27,  1.02it/s]"
     ]
    },
    {
     "name": "stdout",
     "output_type": "stream",
     "text": [
      "loss/loss tensor(3.8661, device='cuda:0', grad_fn=<AddBackward0>) 3500\n",
      "loss/loss_Rec tensor(2.8785, device='cuda:0', grad_fn=<AddBackward0>) 3500\n",
      "loss/loss_Dice tensor(0.9876, device='cuda:0', grad_fn=<AddBackward0>) 3500\n"
     ]
    },
    {
     "name": "stderr",
     "output_type": "stream",
     "text": [
      "Train: 100%|██████████| 42/42 [00:41<00:00,  1.02it/s]\n"
     ]
    },
    {
     "name": "stdout",
     "output_type": "stream",
     "text": [
      "Train:\n",
      "loss: 3.2758, loss_Rec: 2.3969, loss_Dice: 0.8789, IoU: 0.6508\n"
     ]
    },
    {
     "name": "stderr",
     "output_type": "stream",
     "text": [
      "Valid: 100%|██████████| 40/40 [00:14<00:00,  2.72it/s]\n"
     ]
    },
    {
     "name": "stdout",
     "output_type": "stream",
     "text": [
      "Valid:\n",
      "loss: 0.9238, loss_Rec: 0.6655, loss_Dice: 0.2583, Dice: 0.7417, IoU: 0.7168\n",
      "Current learning rate: 0.00167\n",
      "epoch 84 / 84 \t Time Taken: 55 sec\n",
      "best valid dice: 0.7810 at epoch: 83\n",
      "\n",
      "\n"
     ]
    },
    {
     "name": "stderr",
     "output_type": "stream",
     "text": [
      "Train: 100%|██████████| 42/42 [00:40<00:00,  1.03it/s]\n"
     ]
    },
    {
     "name": "stdout",
     "output_type": "stream",
     "text": [
      "Train:\n",
      "loss: 3.3225, loss_Rec: 2.4185, loss_Dice: 0.9040, IoU: 0.6468\n"
     ]
    },
    {
     "name": "stderr",
     "output_type": "stream",
     "text": [
      "Valid: 100%|██████████| 40/40 [00:14<00:00,  2.73it/s]\n"
     ]
    },
    {
     "name": "stdout",
     "output_type": "stream",
     "text": [
      "Valid:\n",
      "loss: 0.8450, loss_Rec: 0.6101, loss_Dice: 0.2348, Dice: 0.7652, IoU: 0.7302\n",
      "Current learning rate: 0.00166\n",
      "epoch 85 / 85 \t Time Taken: 55 sec\n",
      "best valid dice: 0.7810 at epoch: 83\n",
      "\n",
      "\n"
     ]
    },
    {
     "name": "stderr",
     "output_type": "stream",
     "text": [
      "Train:  71%|███████▏  | 30/42 [00:29<00:11,  1.01it/s]"
     ]
    },
    {
     "name": "stdout",
     "output_type": "stream",
     "text": [
      "loss/loss tensor(2.1460, device='cuda:0', grad_fn=<AddBackward0>) 3600\n",
      "loss/loss_Rec tensor(1.5163, device='cuda:0', grad_fn=<AddBackward0>) 3600\n",
      "loss/loss_Dice tensor(0.6297, device='cuda:0', grad_fn=<AddBackward0>) 3600\n"
     ]
    },
    {
     "name": "stderr",
     "output_type": "stream",
     "text": [
      "Train: 100%|██████████| 42/42 [00:41<00:00,  1.02it/s]\n"
     ]
    },
    {
     "name": "stdout",
     "output_type": "stream",
     "text": [
      "Train:\n",
      "loss: 3.2911, loss_Rec: 2.4133, loss_Dice: 0.8779, IoU: 0.6533\n"
     ]
    },
    {
     "name": "stderr",
     "output_type": "stream",
     "text": [
      "Valid: 100%|██████████| 40/40 [00:14<00:00,  2.72it/s]\n"
     ]
    },
    {
     "name": "stdout",
     "output_type": "stream",
     "text": [
      "Valid:\n",
      "loss: 0.8714, loss_Rec: 0.6350, loss_Dice: 0.2364, Dice: 0.7636, IoU: 0.7257\n",
      "Current learning rate: 0.00165\n",
      "epoch 86 / 86 \t Time Taken: 56 sec\n",
      "best valid dice: 0.7810 at epoch: 83\n",
      "\n",
      "\n"
     ]
    },
    {
     "name": "stderr",
     "output_type": "stream",
     "text": [
      "Train: 100%|██████████| 42/42 [00:41<00:00,  1.02it/s]\n"
     ]
    },
    {
     "name": "stdout",
     "output_type": "stream",
     "text": [
      "Train:\n",
      "loss: 3.4013, loss_Rec: 2.4881, loss_Dice: 0.9132, IoU: 0.6341\n"
     ]
    },
    {
     "name": "stderr",
     "output_type": "stream",
     "text": [
      "Valid: 100%|██████████| 40/40 [00:14<00:00,  2.72it/s]\n"
     ]
    },
    {
     "name": "stdout",
     "output_type": "stream",
     "text": [
      "Valid:\n",
      "loss: 0.9282, loss_Rec: 0.6834, loss_Dice: 0.2449, Dice: 0.7551, IoU: 0.6938\n",
      "Current learning rate: 0.00164\n",
      "epoch 87 / 87 \t Time Taken: 56 sec\n",
      "best valid dice: 0.7810 at epoch: 83\n",
      "\n",
      "\n"
     ]
    },
    {
     "name": "stderr",
     "output_type": "stream",
     "text": [
      "Train: 100%|██████████| 42/42 [00:41<00:00,  1.02it/s]\n"
     ]
    },
    {
     "name": "stdout",
     "output_type": "stream",
     "text": [
      "Train:\n",
      "loss: 3.5710, loss_Rec: 2.6094, loss_Dice: 0.9615, IoU: 0.6092\n"
     ]
    },
    {
     "name": "stderr",
     "output_type": "stream",
     "text": [
      "Valid: 100%|██████████| 40/40 [00:14<00:00,  2.72it/s]\n"
     ]
    },
    {
     "name": "stdout",
     "output_type": "stream",
     "text": [
      "Valid:\n",
      "loss: 0.8601, loss_Rec: 0.6109, loss_Dice: 0.2492, Dice: 0.7508, IoU: 0.7129\n",
      "Current learning rate: 0.00163\n",
      "epoch 88 / 88 \t Time Taken: 55 sec\n",
      "best valid dice: 0.7810 at epoch: 83\n",
      "\n",
      "\n"
     ]
    },
    {
     "name": "stderr",
     "output_type": "stream",
     "text": [
      "Train:  10%|▉         | 4/42 [00:03<00:37,  1.02it/s]"
     ]
    },
    {
     "name": "stdout",
     "output_type": "stream",
     "text": [
      "loss/loss tensor(4.6900, device='cuda:0', grad_fn=<AddBackward0>) 3700\n",
      "loss/loss_Rec tensor(3.4596, device='cuda:0', grad_fn=<AddBackward0>) 3700\n",
      "loss/loss_Dice tensor(1.2303, device='cuda:0', grad_fn=<AddBackward0>) 3700\n"
     ]
    },
    {
     "name": "stderr",
     "output_type": "stream",
     "text": [
      "Train: 100%|██████████| 42/42 [00:41<00:00,  1.02it/s]\n"
     ]
    },
    {
     "name": "stdout",
     "output_type": "stream",
     "text": [
      "Train:\n",
      "loss: 3.5520, loss_Rec: 2.6023, loss_Dice: 0.9497, IoU: 0.6152\n"
     ]
    },
    {
     "name": "stderr",
     "output_type": "stream",
     "text": [
      "Valid: 100%|██████████| 40/40 [00:14<00:00,  2.72it/s]\n"
     ]
    },
    {
     "name": "stdout",
     "output_type": "stream",
     "text": [
      "Valid:\n",
      "loss: 0.8158, loss_Rec: 0.5947, loss_Dice: 0.2211, Dice: 0.7789, IoU: 0.7365\n",
      "Current learning rate: 0.00163\n",
      "epoch 89 / 89 \t Time Taken: 55 sec\n",
      "best valid dice: 0.7810 at epoch: 83\n",
      "\n",
      "\n"
     ]
    },
    {
     "name": "stderr",
     "output_type": "stream",
     "text": [
      "Train: 100%|██████████| 42/42 [00:41<00:00,  1.02it/s]\n"
     ]
    },
    {
     "name": "stdout",
     "output_type": "stream",
     "text": [
      "Train:\n",
      "loss: 3.2290, loss_Rec: 2.3761, loss_Dice: 0.8530, IoU: 0.6578\n"
     ]
    },
    {
     "name": "stderr",
     "output_type": "stream",
     "text": [
      "Valid: 100%|██████████| 40/40 [00:14<00:00,  2.71it/s]\n"
     ]
    },
    {
     "name": "stdout",
     "output_type": "stream",
     "text": [
      "Valid:\n",
      "loss: 0.8056, loss_Rec: 0.5654, loss_Dice: 0.2402, Dice: 0.7598, IoU: 0.7473\n",
      "Save best valid Loss Rec !\n",
      "Current learning rate: 0.00162\n",
      "epoch 90 / 90 \t Time Taken: 55 sec\n",
      "best valid dice: 0.7810 at epoch: 83\n",
      "\n",
      "\n"
     ]
    },
    {
     "name": "stderr",
     "output_type": "stream",
     "text": [
      "Train:  48%|████▊     | 20/42 [00:20<00:21,  1.02it/s]"
     ]
    },
    {
     "name": "stdout",
     "output_type": "stream",
     "text": [
      "loss/loss tensor(8.3800, device='cuda:0', grad_fn=<AddBackward0>) 3800\n",
      "loss/loss_Rec tensor(6.2339, device='cuda:0', grad_fn=<AddBackward0>) 3800\n",
      "loss/loss_Dice tensor(2.1461, device='cuda:0', grad_fn=<AddBackward0>) 3800\n"
     ]
    },
    {
     "name": "stderr",
     "output_type": "stream",
     "text": [
      "Train: 100%|██████████| 42/42 [00:41<00:00,  1.01it/s]\n"
     ]
    },
    {
     "name": "stdout",
     "output_type": "stream",
     "text": [
      "Train:\n",
      "loss: 3.4039, loss_Rec: 2.4650, loss_Dice: 0.9389, IoU: 0.6096\n"
     ]
    },
    {
     "name": "stderr",
     "output_type": "stream",
     "text": [
      "Valid: 100%|██████████| 40/40 [00:14<00:00,  2.72it/s]\n"
     ]
    },
    {
     "name": "stdout",
     "output_type": "stream",
     "text": [
      "Valid:\n",
      "loss: 0.7989, loss_Rec: 0.5743, loss_Dice: 0.2245, Dice: 0.7755, IoU: 0.7454\n",
      "Save best valid Loss All !\n",
      "Current learning rate: 0.00161\n",
      "epoch 91 / 91 \t Time Taken: 56 sec\n",
      "best valid dice: 0.7810 at epoch: 83\n",
      "\n",
      "\n"
     ]
    },
    {
     "name": "stderr",
     "output_type": "stream",
     "text": [
      "Train: 100%|██████████| 42/42 [00:41<00:00,  1.02it/s]\n"
     ]
    },
    {
     "name": "stdout",
     "output_type": "stream",
     "text": [
      "Train:\n",
      "loss: 3.4376, loss_Rec: 2.5309, loss_Dice: 0.9066, IoU: 0.6348\n"
     ]
    },
    {
     "name": "stderr",
     "output_type": "stream",
     "text": [
      "Valid: 100%|██████████| 40/40 [00:14<00:00,  2.72it/s]\n"
     ]
    },
    {
     "name": "stdout",
     "output_type": "stream",
     "text": [
      "Valid:\n",
      "loss: 0.7718, loss_Rec: 0.5613, loss_Dice: 0.2105, Dice: 0.7895, IoU: 0.7480\n",
      "Save best valid Dice !\n",
      "Save best valid Loss All !\n",
      "Save best valid Loss Rec !\n",
      "Save best valid Loss Dice !\n",
      "Current learning rate: 0.00160\n",
      "epoch 92 / 92 \t Time Taken: 56 sec\n",
      "best valid dice: 0.7895 at epoch: 92\n",
      "\n",
      "\n"
     ]
    },
    {
     "name": "stderr",
     "output_type": "stream",
     "text": [
      "Train:  86%|████████▌ | 36/42 [00:35<00:05,  1.03it/s]"
     ]
    },
    {
     "name": "stdout",
     "output_type": "stream",
     "text": [
      "loss/loss tensor(2.3955, device='cuda:0', grad_fn=<AddBackward0>) 3900\n",
      "loss/loss_Rec tensor(1.6606, device='cuda:0', grad_fn=<AddBackward0>) 3900\n",
      "loss/loss_Dice tensor(0.7350, device='cuda:0', grad_fn=<AddBackward0>) 3900\n"
     ]
    },
    {
     "name": "stderr",
     "output_type": "stream",
     "text": [
      "Train: 100%|██████████| 42/42 [00:40<00:00,  1.03it/s]\n"
     ]
    },
    {
     "name": "stdout",
     "output_type": "stream",
     "text": [
      "Train:\n",
      "loss: 3.6242, loss_Rec: 2.6701, loss_Dice: 0.9540, IoU: 0.6114\n"
     ]
    },
    {
     "name": "stderr",
     "output_type": "stream",
     "text": [
      "Valid: 100%|██████████| 40/40 [00:14<00:00,  2.71it/s]\n"
     ]
    },
    {
     "name": "stdout",
     "output_type": "stream",
     "text": [
      "Valid:\n",
      "loss: 0.9038, loss_Rec: 0.6431, loss_Dice: 0.2607, Dice: 0.7393, IoU: 0.7262\n",
      "Current learning rate: 0.00159\n",
      "epoch 93 / 93 \t Time Taken: 55 sec\n",
      "best valid dice: 0.7895 at epoch: 92\n",
      "\n",
      "\n"
     ]
    },
    {
     "name": "stderr",
     "output_type": "stream",
     "text": [
      "Train: 100%|██████████| 42/42 [00:41<00:00,  1.02it/s]\n"
     ]
    },
    {
     "name": "stdout",
     "output_type": "stream",
     "text": [
      "Train:\n",
      "loss: 3.1155, loss_Rec: 2.2770, loss_Dice: 0.8385, IoU: 0.6623\n"
     ]
    },
    {
     "name": "stderr",
     "output_type": "stream",
     "text": [
      "Valid: 100%|██████████| 40/40 [00:14<00:00,  2.71it/s]\n"
     ]
    },
    {
     "name": "stdout",
     "output_type": "stream",
     "text": [
      "Valid:\n",
      "loss: 0.8526, loss_Rec: 0.6235, loss_Dice: 0.2291, Dice: 0.7709, IoU: 0.7192\n",
      "Current learning rate: 0.00158\n",
      "epoch 94 / 94 \t Time Taken: 55 sec\n",
      "best valid dice: 0.7895 at epoch: 92\n",
      "\n",
      "\n"
     ]
    },
    {
     "name": "stderr",
     "output_type": "stream",
     "text": [
      "Train: 100%|██████████| 42/42 [00:40<00:00,  1.02it/s]\n"
     ]
    },
    {
     "name": "stdout",
     "output_type": "stream",
     "text": [
      "Train:\n",
      "loss: 3.0740, loss_Rec: 2.2639, loss_Dice: 0.8102, IoU: 0.6741\n"
     ]
    },
    {
     "name": "stderr",
     "output_type": "stream",
     "text": [
      "Valid: 100%|██████████| 40/40 [00:14<00:00,  2.72it/s]\n"
     ]
    },
    {
     "name": "stdout",
     "output_type": "stream",
     "text": [
      "Valid:\n",
      "loss: 0.8122, loss_Rec: 0.5977, loss_Dice: 0.2146, Dice: 0.7854, IoU: 0.7369\n",
      "Current learning rate: 0.00157\n",
      "epoch 95 / 95 \t Time Taken: 55 sec\n",
      "best valid dice: 0.7895 at epoch: 92\n",
      "\n",
      "\n"
     ]
    },
    {
     "name": "stderr",
     "output_type": "stream",
     "text": [
      "Train:  24%|██▍       | 10/42 [00:09<00:31,  1.02it/s]"
     ]
    },
    {
     "name": "stdout",
     "output_type": "stream",
     "text": [
      "loss/loss tensor(2.2692, device='cuda:0', grad_fn=<AddBackward0>) 4000\n",
      "loss/loss_Rec tensor(1.6329, device='cuda:0', grad_fn=<AddBackward0>) 4000\n",
      "loss/loss_Dice tensor(0.6364, device='cuda:0', grad_fn=<AddBackward0>) 4000\n"
     ]
    },
    {
     "name": "stderr",
     "output_type": "stream",
     "text": [
      "Train: 100%|██████████| 42/42 [00:41<00:00,  1.02it/s]\n"
     ]
    },
    {
     "name": "stdout",
     "output_type": "stream",
     "text": [
      "Train:\n",
      "loss: 3.4983, loss_Rec: 2.5677, loss_Dice: 0.9305, IoU: 0.6250\n"
     ]
    },
    {
     "name": "stderr",
     "output_type": "stream",
     "text": [
      "Valid: 100%|██████████| 40/40 [00:14<00:00,  2.71it/s]\n"
     ]
    },
    {
     "name": "stdout",
     "output_type": "stream",
     "text": [
      "Valid:\n",
      "loss: 0.8229, loss_Rec: 0.5917, loss_Dice: 0.2312, Dice: 0.7688, IoU: 0.7480\n",
      "Current learning rate: 0.00157\n",
      "epoch 96 / 96 \t Time Taken: 56 sec\n",
      "best valid dice: 0.7895 at epoch: 92\n",
      "\n",
      "\n"
     ]
    },
    {
     "name": "stderr",
     "output_type": "stream",
     "text": [
      "Train: 100%|██████████| 42/42 [00:41<00:00,  1.02it/s]\n"
     ]
    },
    {
     "name": "stdout",
     "output_type": "stream",
     "text": [
      "Train:\n",
      "loss: 3.8536, loss_Rec: 2.8349, loss_Dice: 1.0187, IoU: 0.5684\n"
     ]
    },
    {
     "name": "stderr",
     "output_type": "stream",
     "text": [
      "Valid: 100%|██████████| 40/40 [00:14<00:00,  2.72it/s]\n"
     ]
    },
    {
     "name": "stdout",
     "output_type": "stream",
     "text": [
      "Valid:\n",
      "loss: 0.8423, loss_Rec: 0.6005, loss_Dice: 0.2418, Dice: 0.7582, IoU: 0.7097\n",
      "Current learning rate: 0.00156\n",
      "epoch 97 / 97 \t Time Taken: 55 sec\n",
      "best valid dice: 0.7895 at epoch: 92\n",
      "\n",
      "\n"
     ]
    },
    {
     "name": "stderr",
     "output_type": "stream",
     "text": [
      "Train:  62%|██████▏   | 26/42 [00:25<00:15,  1.01it/s]"
     ]
    },
    {
     "name": "stdout",
     "output_type": "stream",
     "text": [
      "loss/loss tensor(3.1715, device='cuda:0', grad_fn=<AddBackward0>) 4100\n",
      "loss/loss_Rec tensor(2.3118, device='cuda:0', grad_fn=<AddBackward0>) 4100\n",
      "loss/loss_Dice tensor(0.8597, device='cuda:0', grad_fn=<AddBackward0>) 4100\n"
     ]
    },
    {
     "name": "stderr",
     "output_type": "stream",
     "text": [
      "Train: 100%|██████████| 42/42 [00:41<00:00,  1.02it/s]\n"
     ]
    },
    {
     "name": "stdout",
     "output_type": "stream",
     "text": [
      "Train:\n",
      "loss: 3.5565, loss_Rec: 2.6153, loss_Dice: 0.9413, IoU: 0.6152\n"
     ]
    },
    {
     "name": "stderr",
     "output_type": "stream",
     "text": [
      "Valid: 100%|██████████| 40/40 [00:14<00:00,  2.69it/s]\n"
     ]
    },
    {
     "name": "stdout",
     "output_type": "stream",
     "text": [
      "Valid:\n",
      "loss: 0.7916, loss_Rec: 0.5646, loss_Dice: 0.2269, Dice: 0.7731, IoU: 0.7299\n",
      "Current learning rate: 0.00155\n",
      "epoch 98 / 98 \t Time Taken: 56 sec\n",
      "best valid dice: 0.7895 at epoch: 92\n",
      "\n",
      "\n"
     ]
    },
    {
     "name": "stderr",
     "output_type": "stream",
     "text": [
      "Train: 100%|██████████| 42/42 [00:41<00:00,  1.01it/s]\n"
     ]
    },
    {
     "name": "stdout",
     "output_type": "stream",
     "text": [
      "Train:\n",
      "loss: 3.1709, loss_Rec: 2.2952, loss_Dice: 0.8758, IoU: 0.6560\n"
     ]
    },
    {
     "name": "stderr",
     "output_type": "stream",
     "text": [
      "Valid: 100%|██████████| 40/40 [00:14<00:00,  2.71it/s]\n"
     ]
    },
    {
     "name": "stdout",
     "output_type": "stream",
     "text": [
      "Valid:\n",
      "loss: 0.7802, loss_Rec: 0.5666, loss_Dice: 0.2136, Dice: 0.7864, IoU: 0.7384\n",
      "Current learning rate: 0.00154\n",
      "epoch 99 / 99 \t Time Taken: 56 sec\n",
      "best valid dice: 0.7895 at epoch: 92\n",
      "\n",
      "\n"
     ]
    },
    {
     "name": "stderr",
     "output_type": "stream",
     "text": [
      "Train: 100%|██████████| 42/42 [00:41<00:00,  1.02it/s]\n"
     ]
    },
    {
     "name": "stdout",
     "output_type": "stream",
     "text": [
      "loss/loss tensor(1.5959, device='cuda:0', grad_fn=<AddBackward0>) 4200\n",
      "loss/loss_Rec tensor(1.1254, device='cuda:0', grad_fn=<AddBackward0>) 4200\n",
      "loss/loss_Dice tensor(0.4705, device='cuda:0', grad_fn=<AddBackward0>) 4200\n",
      "Train:\n",
      "loss: 3.4854, loss_Rec: 2.5406, loss_Dice: 0.9448, IoU: 0.6211\n"
     ]
    },
    {
     "name": "stderr",
     "output_type": "stream",
     "text": [
      "Valid: 100%|██████████| 40/40 [00:14<00:00,  2.71it/s]\n"
     ]
    },
    {
     "name": "stdout",
     "output_type": "stream",
     "text": [
      "Valid:\n",
      "loss: 0.7423, loss_Rec: 0.5387, loss_Dice: 0.2037, Dice: 0.7963, IoU: 0.7534\n",
      "Save best valid Dice !\n",
      "Save best valid Loss All !\n",
      "Save best valid Loss Rec !\n",
      "Save best valid Loss Dice !\n",
      "Current learning rate: 0.00153\n",
      "epoch 100 / 100 \t Time Taken: 56 sec\n",
      "best valid dice: 0.7963 at epoch: 100\n",
      "\n",
      "\n"
     ]
    },
    {
     "name": "stderr",
     "output_type": "stream",
     "text": [
      "Train: 100%|██████████| 42/42 [00:42<00:00,  1.00s/it]\n"
     ]
    },
    {
     "name": "stdout",
     "output_type": "stream",
     "text": [
      "Train:\n",
      "loss: 3.5056, loss_Rec: 2.5874, loss_Dice: 0.9182, IoU: 0.6221\n"
     ]
    },
    {
     "name": "stderr",
     "output_type": "stream",
     "text": [
      "Valid: 100%|██████████| 40/40 [00:14<00:00,  2.72it/s]\n"
     ]
    },
    {
     "name": "stdout",
     "output_type": "stream",
     "text": [
      "Valid:\n",
      "loss: 0.9443, loss_Rec: 0.6522, loss_Dice: 0.2921, Dice: 0.7079, IoU: 0.7066\n",
      "Current learning rate: 0.00152\n",
      "epoch 101 / 101 \t Time Taken: 56 sec\n",
      "best valid dice: 0.7963 at epoch: 100\n",
      "\n",
      "\n"
     ]
    },
    {
     "name": "stderr",
     "output_type": "stream",
     "text": [
      "Train: 100%|██████████| 42/42 [00:41<00:00,  1.02it/s]\n"
     ]
    },
    {
     "name": "stdout",
     "output_type": "stream",
     "text": [
      "Train:\n",
      "loss: 3.8469, loss_Rec: 2.8375, loss_Dice: 1.0093, IoU: 0.5789\n"
     ]
    },
    {
     "name": "stderr",
     "output_type": "stream",
     "text": [
      "Valid: 100%|██████████| 40/40 [00:14<00:00,  2.71it/s]\n"
     ]
    },
    {
     "name": "stdout",
     "output_type": "stream",
     "text": [
      "Valid:\n",
      "loss: 0.8354, loss_Rec: 0.6186, loss_Dice: 0.2168, Dice: 0.7832, IoU: 0.7456\n",
      "Current learning rate: 0.00151\n",
      "epoch 102 / 102 \t Time Taken: 55 sec\n",
      "best valid dice: 0.7963 at epoch: 100\n",
      "\n",
      "\n"
     ]
    },
    {
     "name": "stderr",
     "output_type": "stream",
     "text": [
      "Train:  38%|███▊      | 16/42 [00:15<00:25,  1.04it/s]"
     ]
    },
    {
     "name": "stdout",
     "output_type": "stream",
     "text": [
      "loss/loss tensor(3.5285, device='cuda:0', grad_fn=<AddBackward0>) 4300\n",
      "loss/loss_Rec tensor(2.5955, device='cuda:0', grad_fn=<AddBackward0>) 4300\n",
      "loss/loss_Dice tensor(0.9330, device='cuda:0', grad_fn=<AddBackward0>) 4300\n"
     ]
    },
    {
     "name": "stderr",
     "output_type": "stream",
     "text": [
      "Train: 100%|██████████| 42/42 [00:41<00:00,  1.02it/s]\n"
     ]
    },
    {
     "name": "stdout",
     "output_type": "stream",
     "text": [
      "Train:\n",
      "loss: 3.2844, loss_Rec: 2.3903, loss_Dice: 0.8941, IoU: 0.6361\n"
     ]
    },
    {
     "name": "stderr",
     "output_type": "stream",
     "text": [
      "Valid: 100%|██████████| 40/40 [00:14<00:00,  2.72it/s]\n"
     ]
    },
    {
     "name": "stdout",
     "output_type": "stream",
     "text": [
      "Valid:\n",
      "loss: 0.7590, loss_Rec: 0.5359, loss_Dice: 0.2231, Dice: 0.7769, IoU: 0.7476\n",
      "Save best valid Loss Rec !\n",
      "Current learning rate: 0.00150\n",
      "epoch 103 / 103 \t Time Taken: 55 sec\n",
      "best valid dice: 0.7963 at epoch: 100\n",
      "\n",
      "\n"
     ]
    },
    {
     "name": "stderr",
     "output_type": "stream",
     "text": [
      "Train: 100%|██████████| 42/42 [00:40<00:00,  1.03it/s]\n"
     ]
    },
    {
     "name": "stdout",
     "output_type": "stream",
     "text": [
      "Train:\n",
      "loss: 3.1259, loss_Rec: 2.2944, loss_Dice: 0.8315, IoU: 0.6625\n"
     ]
    },
    {
     "name": "stderr",
     "output_type": "stream",
     "text": [
      "Valid: 100%|██████████| 40/40 [00:14<00:00,  2.72it/s]\n"
     ]
    },
    {
     "name": "stdout",
     "output_type": "stream",
     "text": [
      "Valid:\n",
      "loss: 0.7233, loss_Rec: 0.5326, loss_Dice: 0.1907, Dice: 0.8093, IoU: 0.7620\n",
      "Save best valid Dice !\n",
      "Save best valid Loss All !\n",
      "Save best valid Loss Rec !\n",
      "Save best valid Loss Dice !\n",
      "Current learning rate: 0.00149\n",
      "epoch 104 / 104 \t Time Taken: 55 sec\n",
      "best valid dice: 0.8093 at epoch: 104\n",
      "\n",
      "\n"
     ]
    },
    {
     "name": "stderr",
     "output_type": "stream",
     "text": [
      "Train:  76%|███████▌  | 32/42 [00:31<00:09,  1.01it/s]"
     ]
    },
    {
     "name": "stdout",
     "output_type": "stream",
     "text": [
      "loss/loss tensor(3.4802, device='cuda:0', grad_fn=<AddBackward0>) 4400\n",
      "loss/loss_Rec tensor(2.6093, device='cuda:0', grad_fn=<AddBackward0>) 4400\n",
      "loss/loss_Dice tensor(0.8709, device='cuda:0', grad_fn=<AddBackward0>) 4400\n"
     ]
    },
    {
     "name": "stderr",
     "output_type": "stream",
     "text": [
      "Train: 100%|██████████| 42/42 [00:41<00:00,  1.01it/s]\n"
     ]
    },
    {
     "name": "stdout",
     "output_type": "stream",
     "text": [
      "Train:\n",
      "loss: 3.2735, loss_Rec: 2.4142, loss_Dice: 0.8593, IoU: 0.6524\n"
     ]
    },
    {
     "name": "stderr",
     "output_type": "stream",
     "text": [
      "Valid: 100%|██████████| 40/40 [00:14<00:00,  2.72it/s]\n"
     ]
    },
    {
     "name": "stdout",
     "output_type": "stream",
     "text": [
      "Valid:\n",
      "loss: 0.7293, loss_Rec: 0.5346, loss_Dice: 0.1948, Dice: 0.8052, IoU: 0.7463\n",
      "Current learning rate: 0.00148\n",
      "epoch 105 / 105 \t Time Taken: 56 sec\n",
      "best valid dice: 0.8093 at epoch: 104\n",
      "\n",
      "\n"
     ]
    },
    {
     "name": "stderr",
     "output_type": "stream",
     "text": [
      "Train: 100%|██████████| 42/42 [00:41<00:00,  1.01it/s]\n"
     ]
    },
    {
     "name": "stdout",
     "output_type": "stream",
     "text": [
      "Train:\n",
      "loss: 3.1926, loss_Rec: 2.3305, loss_Dice: 0.8621, IoU: 0.6575\n"
     ]
    },
    {
     "name": "stderr",
     "output_type": "stream",
     "text": [
      "Valid: 100%|██████████| 40/40 [00:14<00:00,  2.72it/s]\n"
     ]
    },
    {
     "name": "stdout",
     "output_type": "stream",
     "text": [
      "Valid:\n",
      "loss: 0.7867, loss_Rec: 0.5925, loss_Dice: 0.1942, Dice: 0.8058, IoU: 0.7560\n",
      "Current learning rate: 0.00148\n",
      "epoch 106 / 106 \t Time Taken: 56 sec\n",
      "best valid dice: 0.8093 at epoch: 104\n",
      "\n",
      "\n"
     ]
    },
    {
     "name": "stderr",
     "output_type": "stream",
     "text": [
      "Train: 100%|██████████| 42/42 [00:40<00:00,  1.03it/s]\n"
     ]
    },
    {
     "name": "stdout",
     "output_type": "stream",
     "text": [
      "Train:\n",
      "loss: 3.0084, loss_Rec: 2.1986, loss_Dice: 0.8098, IoU: 0.6747\n"
     ]
    },
    {
     "name": "stderr",
     "output_type": "stream",
     "text": [
      "Valid: 100%|██████████| 40/40 [00:14<00:00,  2.73it/s]\n"
     ]
    },
    {
     "name": "stdout",
     "output_type": "stream",
     "text": [
      "Valid:\n",
      "loss: 0.7177, loss_Rec: 0.5139, loss_Dice: 0.2038, Dice: 0.7962, IoU: 0.7702\n",
      "Save best valid Loss All !\n",
      "Save best valid Loss Rec !\n",
      "Current learning rate: 0.00147\n",
      "epoch 107 / 107 \t Time Taken: 55 sec\n",
      "best valid dice: 0.8093 at epoch: 104\n",
      "\n",
      "\n"
     ]
    },
    {
     "name": "stderr",
     "output_type": "stream",
     "text": [
      "Train:  14%|█▍        | 6/42 [00:05<00:35,  1.02it/s]"
     ]
    },
    {
     "name": "stdout",
     "output_type": "stream",
     "text": [
      "loss/loss tensor(1.7556, device='cuda:0', grad_fn=<AddBackward0>) 4500\n",
      "loss/loss_Rec tensor(1.2725, device='cuda:0', grad_fn=<AddBackward0>) 4500\n",
      "loss/loss_Dice tensor(0.4831, device='cuda:0', grad_fn=<AddBackward0>) 4500\n"
     ]
    },
    {
     "name": "stderr",
     "output_type": "stream",
     "text": [
      "Train: 100%|██████████| 42/42 [00:41<00:00,  1.02it/s]\n"
     ]
    },
    {
     "name": "stdout",
     "output_type": "stream",
     "text": [
      "Train:\n",
      "loss: 3.2289, loss_Rec: 2.3674, loss_Dice: 0.8615, IoU: 0.6400\n"
     ]
    },
    {
     "name": "stderr",
     "output_type": "stream",
     "text": [
      "Valid: 100%|██████████| 40/40 [00:14<00:00,  2.72it/s]\n"
     ]
    },
    {
     "name": "stdout",
     "output_type": "stream",
     "text": [
      "Valid:\n",
      "loss: 0.8537, loss_Rec: 0.6439, loss_Dice: 0.2098, Dice: 0.7902, IoU: 0.7375\n",
      "Current learning rate: 0.00146\n",
      "epoch 108 / 108 \t Time Taken: 55 sec\n",
      "best valid dice: 0.8093 at epoch: 104\n",
      "\n",
      "\n"
     ]
    },
    {
     "name": "stderr",
     "output_type": "stream",
     "text": [
      "Train: 100%|██████████| 42/42 [00:40<00:00,  1.03it/s]\n"
     ]
    },
    {
     "name": "stdout",
     "output_type": "stream",
     "text": [
      "Train:\n",
      "loss: 3.5764, loss_Rec: 2.6291, loss_Dice: 0.9472, IoU: 0.6183\n"
     ]
    },
    {
     "name": "stderr",
     "output_type": "stream",
     "text": [
      "Valid: 100%|██████████| 40/40 [00:14<00:00,  2.70it/s]\n"
     ]
    },
    {
     "name": "stdout",
     "output_type": "stream",
     "text": [
      "Valid:\n",
      "loss: 1.0698, loss_Rec: 0.7880, loss_Dice: 0.2818, Dice: 0.7182, IoU: 0.6745\n",
      "Current learning rate: 0.00145\n",
      "epoch 109 / 109 \t Time Taken: 55 sec\n",
      "best valid dice: 0.8093 at epoch: 104\n",
      "\n",
      "\n"
     ]
    },
    {
     "name": "stderr",
     "output_type": "stream",
     "text": [
      "Train:  52%|█████▏    | 22/42 [00:21<00:20,  1.01s/it]"
     ]
    },
    {
     "name": "stdout",
     "output_type": "stream",
     "text": [
      "loss/loss tensor(5.5736, device='cuda:0', grad_fn=<AddBackward0>) 4600\n",
      "loss/loss_Rec tensor(4.1948, device='cuda:0', grad_fn=<AddBackward0>) 4600\n",
      "loss/loss_Dice tensor(1.3788, device='cuda:0', grad_fn=<AddBackward0>) 4600\n"
     ]
    },
    {
     "name": "stderr",
     "output_type": "stream",
     "text": [
      "Train: 100%|██████████| 42/42 [00:41<00:00,  1.01it/s]\n"
     ]
    },
    {
     "name": "stdout",
     "output_type": "stream",
     "text": [
      "Train:\n",
      "loss: 3.3685, loss_Rec: 2.4905, loss_Dice: 0.8779, IoU: 0.6555\n"
     ]
    },
    {
     "name": "stderr",
     "output_type": "stream",
     "text": [
      "Valid: 100%|██████████| 40/40 [00:14<00:00,  2.71it/s]\n"
     ]
    },
    {
     "name": "stdout",
     "output_type": "stream",
     "text": [
      "Valid:\n",
      "loss: 0.8959, loss_Rec: 0.6561, loss_Dice: 0.2398, Dice: 0.7602, IoU: 0.7043\n",
      "Current learning rate: 0.00144\n",
      "epoch 110 / 110 \t Time Taken: 56 sec\n",
      "best valid dice: 0.8093 at epoch: 104\n",
      "\n",
      "\n"
     ]
    },
    {
     "name": "stderr",
     "output_type": "stream",
     "text": [
      "Train: 100%|██████████| 42/42 [00:41<00:00,  1.02it/s]\n"
     ]
    },
    {
     "name": "stdout",
     "output_type": "stream",
     "text": [
      "Train:\n",
      "loss: 3.5164, loss_Rec: 2.5583, loss_Dice: 0.9581, IoU: 0.6034\n"
     ]
    },
    {
     "name": "stderr",
     "output_type": "stream",
     "text": [
      "Valid: 100%|██████████| 40/40 [00:14<00:00,  2.71it/s]\n"
     ]
    },
    {
     "name": "stdout",
     "output_type": "stream",
     "text": [
      "Valid:\n",
      "loss: 0.7926, loss_Rec: 0.5764, loss_Dice: 0.2162, Dice: 0.7838, IoU: 0.7405\n",
      "Current learning rate: 0.00143\n",
      "epoch 111 / 111 \t Time Taken: 56 sec\n",
      "best valid dice: 0.8093 at epoch: 104\n",
      "\n",
      "\n"
     ]
    },
    {
     "name": "stderr",
     "output_type": "stream",
     "text": [
      "Train:  90%|█████████ | 38/42 [00:37<00:03,  1.03it/s]"
     ]
    },
    {
     "name": "stdout",
     "output_type": "stream",
     "text": [
      "loss/loss tensor(1.6979, device='cuda:0', grad_fn=<AddBackward0>) 4700\n",
      "loss/loss_Rec tensor(1.2280, device='cuda:0', grad_fn=<AddBackward0>) 4700\n",
      "loss/loss_Dice tensor(0.4700, device='cuda:0', grad_fn=<AddBackward0>) 4700\n"
     ]
    },
    {
     "name": "stderr",
     "output_type": "stream",
     "text": [
      "Train: 100%|██████████| 42/42 [00:41<00:00,  1.02it/s]\n"
     ]
    },
    {
     "name": "stdout",
     "output_type": "stream",
     "text": [
      "Train:\n",
      "loss: 3.3663, loss_Rec: 2.4827, loss_Dice: 0.8836, IoU: 0.6433\n"
     ]
    },
    {
     "name": "stderr",
     "output_type": "stream",
     "text": [
      "Valid: 100%|██████████| 40/40 [00:14<00:00,  2.70it/s]\n"
     ]
    },
    {
     "name": "stdout",
     "output_type": "stream",
     "text": [
      "Valid:\n",
      "loss: 0.7927, loss_Rec: 0.5544, loss_Dice: 0.2382, Dice: 0.7618, IoU: 0.7397\n",
      "Current learning rate: 0.00142\n",
      "epoch 112 / 112 \t Time Taken: 56 sec\n",
      "best valid dice: 0.8093 at epoch: 104\n",
      "\n",
      "\n"
     ]
    },
    {
     "name": "stderr",
     "output_type": "stream",
     "text": [
      "Train: 100%|██████████| 42/42 [00:41<00:00,  1.01it/s]\n"
     ]
    },
    {
     "name": "stdout",
     "output_type": "stream",
     "text": [
      "Train:\n",
      "loss: 3.0646, loss_Rec: 2.2542, loss_Dice: 0.8104, IoU: 0.6770\n"
     ]
    },
    {
     "name": "stderr",
     "output_type": "stream",
     "text": [
      "Valid: 100%|██████████| 40/40 [00:14<00:00,  2.71it/s]\n"
     ]
    },
    {
     "name": "stdout",
     "output_type": "stream",
     "text": [
      "Valid:\n",
      "loss: 0.8880, loss_Rec: 0.6299, loss_Dice: 0.2581, Dice: 0.7419, IoU: 0.7009\n",
      "Current learning rate: 0.00141\n",
      "epoch 113 / 113 \t Time Taken: 56 sec\n",
      "best valid dice: 0.8093 at epoch: 104\n",
      "\n",
      "\n"
     ]
    },
    {
     "name": "stderr",
     "output_type": "stream",
     "text": [
      "Train: 100%|██████████| 42/42 [00:41<00:00,  1.01it/s]\n"
     ]
    },
    {
     "name": "stdout",
     "output_type": "stream",
     "text": [
      "Train:\n",
      "loss: 3.0949, loss_Rec: 2.2642, loss_Dice: 0.8306, IoU: 0.6627\n"
     ]
    },
    {
     "name": "stderr",
     "output_type": "stream",
     "text": [
      "Valid: 100%|██████████| 40/40 [00:14<00:00,  2.71it/s]\n"
     ]
    },
    {
     "name": "stdout",
     "output_type": "stream",
     "text": [
      "Valid:\n",
      "loss: 0.7207, loss_Rec: 0.5138, loss_Dice: 0.2069, Dice: 0.7931, IoU: 0.7530\n",
      "Save best valid Loss Rec !\n",
      "Current learning rate: 0.00140\n",
      "epoch 114 / 114 \t Time Taken: 56 sec\n",
      "best valid dice: 0.8093 at epoch: 104\n",
      "\n",
      "\n"
     ]
    },
    {
     "name": "stderr",
     "output_type": "stream",
     "text": [
      "Train:  29%|██▊       | 12/42 [00:11<00:29,  1.03it/s]"
     ]
    },
    {
     "name": "stdout",
     "output_type": "stream",
     "text": [
      "loss/loss tensor(1.6011, device='cuda:0', grad_fn=<AddBackward0>) 4800\n",
      "loss/loss_Rec tensor(1.1101, device='cuda:0', grad_fn=<AddBackward0>) 4800\n",
      "loss/loss_Dice tensor(0.4910, device='cuda:0', grad_fn=<AddBackward0>) 4800\n"
     ]
    },
    {
     "name": "stderr",
     "output_type": "stream",
     "text": [
      "Train: 100%|██████████| 42/42 [00:41<00:00,  1.02it/s]\n"
     ]
    },
    {
     "name": "stdout",
     "output_type": "stream",
     "text": [
      "Train:\n",
      "loss: 3.2443, loss_Rec: 2.3949, loss_Dice: 0.8494, IoU: 0.6483\n"
     ]
    },
    {
     "name": "stderr",
     "output_type": "stream",
     "text": [
      "Valid: 100%|██████████| 40/40 [00:14<00:00,  2.70it/s]\n"
     ]
    },
    {
     "name": "stdout",
     "output_type": "stream",
     "text": [
      "Valid:\n",
      "loss: 0.7338, loss_Rec: 0.5420, loss_Dice: 0.1918, Dice: 0.8082, IoU: 0.7652\n",
      "Current learning rate: 0.00139\n",
      "epoch 115 / 115 \t Time Taken: 55 sec\n",
      "best valid dice: 0.8093 at epoch: 104\n",
      "\n",
      "\n"
     ]
    },
    {
     "name": "stderr",
     "output_type": "stream",
     "text": [
      "Train: 100%|██████████| 42/42 [00:41<00:00,  1.02it/s]\n"
     ]
    },
    {
     "name": "stdout",
     "output_type": "stream",
     "text": [
      "Train:\n",
      "loss: 3.1946, loss_Rec: 2.3597, loss_Dice: 0.8349, IoU: 0.6687\n"
     ]
    },
    {
     "name": "stderr",
     "output_type": "stream",
     "text": [
      "Valid: 100%|██████████| 40/40 [00:14<00:00,  2.72it/s]\n"
     ]
    },
    {
     "name": "stdout",
     "output_type": "stream",
     "text": [
      "Valid:\n",
      "loss: 0.6870, loss_Rec: 0.5067, loss_Dice: 0.1803, Dice: 0.8197, IoU: 0.7673\n",
      "Save best valid Dice !\n",
      "Save best valid Loss All !\n",
      "Save best valid Loss Rec !\n",
      "Save best valid Loss Dice !\n",
      "Current learning rate: 0.00138\n",
      "epoch 116 / 116 \t Time Taken: 56 sec\n",
      "best valid dice: 0.8197 at epoch: 116\n",
      "\n",
      "\n"
     ]
    },
    {
     "name": "stderr",
     "output_type": "stream",
     "text": [
      "Train:  67%|██████▋   | 28/42 [00:27<00:13,  1.02it/s]"
     ]
    },
    {
     "name": "stdout",
     "output_type": "stream",
     "text": [
      "loss/loss tensor(3.5698, device='cuda:0', grad_fn=<AddBackward0>) 4900\n",
      "loss/loss_Rec tensor(2.7790, device='cuda:0', grad_fn=<AddBackward0>) 4900\n",
      "loss/loss_Dice tensor(0.7908, device='cuda:0', grad_fn=<AddBackward0>) 4900\n"
     ]
    },
    {
     "name": "stderr",
     "output_type": "stream",
     "text": [
      "Train: 100%|██████████| 42/42 [00:41<00:00,  1.02it/s]\n"
     ]
    },
    {
     "name": "stdout",
     "output_type": "stream",
     "text": [
      "Train:\n",
      "loss: 2.9505, loss_Rec: 2.1750, loss_Dice: 0.7755, IoU: 0.6878\n"
     ]
    },
    {
     "name": "stderr",
     "output_type": "stream",
     "text": [
      "Valid: 100%|██████████| 40/40 [00:14<00:00,  2.70it/s]\n"
     ]
    },
    {
     "name": "stdout",
     "output_type": "stream",
     "text": [
      "Valid:\n",
      "loss: 0.7317, loss_Rec: 0.5353, loss_Dice: 0.1964, Dice: 0.8036, IoU: 0.7695\n",
      "Current learning rate: 0.00137\n",
      "epoch 117 / 117 \t Time Taken: 55 sec\n",
      "best valid dice: 0.8197 at epoch: 116\n",
      "\n",
      "\n"
     ]
    },
    {
     "name": "stderr",
     "output_type": "stream",
     "text": [
      "Train: 100%|██████████| 42/42 [00:41<00:00,  1.01it/s]\n"
     ]
    },
    {
     "name": "stdout",
     "output_type": "stream",
     "text": [
      "Train:\n",
      "loss: 3.1664, loss_Rec: 2.3083, loss_Dice: 0.8581, IoU: 0.6457\n"
     ]
    },
    {
     "name": "stderr",
     "output_type": "stream",
     "text": [
      "Valid: 100%|██████████| 40/40 [00:14<00:00,  2.73it/s]\n"
     ]
    },
    {
     "name": "stdout",
     "output_type": "stream",
     "text": [
      "Valid:\n",
      "loss: 0.7949, loss_Rec: 0.5678, loss_Dice: 0.2271, Dice: 0.7729, IoU: 0.7181\n",
      "Current learning rate: 0.00136\n",
      "epoch 118 / 118 \t Time Taken: 56 sec\n",
      "best valid dice: 0.8197 at epoch: 116\n",
      "\n",
      "\n"
     ]
    },
    {
     "name": "stderr",
     "output_type": "stream",
     "text": [
      "Train: 100%|██████████| 42/42 [00:40<00:00,  1.03it/s]\n"
     ]
    },
    {
     "name": "stdout",
     "output_type": "stream",
     "text": [
      "Train:\n",
      "loss: 2.9836, loss_Rec: 2.2132, loss_Dice: 0.7704, IoU: 0.6824\n"
     ]
    },
    {
     "name": "stderr",
     "output_type": "stream",
     "text": [
      "Valid: 100%|██████████| 40/40 [00:14<00:00,  2.72it/s]\n"
     ]
    },
    {
     "name": "stdout",
     "output_type": "stream",
     "text": [
      "Valid:\n",
      "loss: 0.7451, loss_Rec: 0.5223, loss_Dice: 0.2228, Dice: 0.7772, IoU: 0.7624\n",
      "Current learning rate: 0.00135\n",
      "epoch 119 / 119 \t Time Taken: 55 sec\n",
      "best valid dice: 0.8197 at epoch: 116\n",
      "\n",
      "\n"
     ]
    },
    {
     "name": "stderr",
     "output_type": "stream",
     "text": [
      "Train:   5%|▍         | 2/42 [00:01<00:38,  1.05it/s]"
     ]
    },
    {
     "name": "stdout",
     "output_type": "stream",
     "text": [
      "loss/loss tensor(3.4234, device='cuda:0', grad_fn=<AddBackward0>) 5000\n",
      "loss/loss_Rec tensor(2.6255, device='cuda:0', grad_fn=<AddBackward0>) 5000\n",
      "loss/loss_Dice tensor(0.7980, device='cuda:0', grad_fn=<AddBackward0>) 5000\n"
     ]
    },
    {
     "name": "stderr",
     "output_type": "stream",
     "text": [
      "Train: 100%|██████████| 42/42 [00:40<00:00,  1.03it/s]\n"
     ]
    },
    {
     "name": "stdout",
     "output_type": "stream",
     "text": [
      "Train:\n",
      "loss: 2.8148, loss_Rec: 2.0687, loss_Dice: 0.7461, IoU: 0.7043\n"
     ]
    },
    {
     "name": "stderr",
     "output_type": "stream",
     "text": [
      "Valid: 100%|██████████| 40/40 [00:14<00:00,  2.72it/s]\n"
     ]
    },
    {
     "name": "stdout",
     "output_type": "stream",
     "text": [
      "Valid:\n",
      "loss: 0.7371, loss_Rec: 0.5413, loss_Dice: 0.1957, Dice: 0.8043, IoU: 0.7618\n",
      "Current learning rate: 0.00134\n",
      "epoch 120 / 120 \t Time Taken: 55 sec\n",
      "best valid dice: 0.8197 at epoch: 116\n",
      "\n",
      "\n"
     ]
    },
    {
     "name": "stderr",
     "output_type": "stream",
     "text": [
      "Train: 100%|██████████| 42/42 [00:41<00:00,  1.02it/s]\n"
     ]
    },
    {
     "name": "stdout",
     "output_type": "stream",
     "text": [
      "Train:\n",
      "loss: 2.9320, loss_Rec: 2.1508, loss_Dice: 0.7811, IoU: 0.6796\n"
     ]
    },
    {
     "name": "stderr",
     "output_type": "stream",
     "text": [
      "Valid: 100%|██████████| 40/40 [00:14<00:00,  2.71it/s]\n"
     ]
    },
    {
     "name": "stdout",
     "output_type": "stream",
     "text": [
      "Valid:\n",
      "loss: 0.7397, loss_Rec: 0.5358, loss_Dice: 0.2039, Dice: 0.7961, IoU: 0.7496\n",
      "Current learning rate: 0.00133\n",
      "epoch 121 / 121 \t Time Taken: 55 sec\n",
      "best valid dice: 0.8197 at epoch: 116\n",
      "\n",
      "\n"
     ]
    },
    {
     "name": "stderr",
     "output_type": "stream",
     "text": [
      "Train:  43%|████▎     | 18/42 [00:17<00:24,  1.00s/it]"
     ]
    },
    {
     "name": "stdout",
     "output_type": "stream",
     "text": [
      "loss/loss tensor(4.5127, device='cuda:0', grad_fn=<AddBackward0>) 5100\n",
      "loss/loss_Rec tensor(3.4031, device='cuda:0', grad_fn=<AddBackward0>) 5100\n",
      "loss/loss_Dice tensor(1.1096, device='cuda:0', grad_fn=<AddBackward0>) 5100\n"
     ]
    },
    {
     "name": "stderr",
     "output_type": "stream",
     "text": [
      "Train: 100%|██████████| 42/42 [00:41<00:00,  1.02it/s]\n"
     ]
    },
    {
     "name": "stdout",
     "output_type": "stream",
     "text": [
      "Train:\n",
      "loss: 2.9122, loss_Rec: 2.1270, loss_Dice: 0.7852, IoU: 0.6736\n"
     ]
    },
    {
     "name": "stderr",
     "output_type": "stream",
     "text": [
      "Valid: 100%|██████████| 40/40 [00:14<00:00,  2.71it/s]\n"
     ]
    },
    {
     "name": "stdout",
     "output_type": "stream",
     "text": [
      "Valid:\n",
      "loss: 0.7196, loss_Rec: 0.5013, loss_Dice: 0.2184, Dice: 0.7816, IoU: 0.7566\n",
      "Save best valid Loss Rec !\n",
      "Current learning rate: 0.00132\n",
      "epoch 122 / 122 \t Time Taken: 56 sec\n",
      "best valid dice: 0.8197 at epoch: 116\n",
      "\n",
      "\n"
     ]
    },
    {
     "name": "stderr",
     "output_type": "stream",
     "text": [
      "Train: 100%|██████████| 42/42 [00:41<00:00,  1.01it/s]\n"
     ]
    },
    {
     "name": "stdout",
     "output_type": "stream",
     "text": [
      "Train:\n",
      "loss: 2.8053, loss_Rec: 2.0469, loss_Dice: 0.7583, IoU: 0.6848\n"
     ]
    },
    {
     "name": "stderr",
     "output_type": "stream",
     "text": [
      "Valid: 100%|██████████| 40/40 [00:14<00:00,  2.71it/s]\n"
     ]
    },
    {
     "name": "stdout",
     "output_type": "stream",
     "text": [
      "Valid:\n",
      "loss: 0.6768, loss_Rec: 0.4956, loss_Dice: 0.1812, Dice: 0.8188, IoU: 0.7672\n",
      "Save best valid Loss All !\n",
      "Save best valid Loss Rec !\n",
      "Current learning rate: 0.00131\n",
      "epoch 123 / 123 \t Time Taken: 56 sec\n",
      "best valid dice: 0.8197 at epoch: 116\n",
      "\n",
      "\n"
     ]
    },
    {
     "name": "stderr",
     "output_type": "stream",
     "text": [
      "Train:  81%|████████  | 34/42 [00:33<00:07,  1.03it/s]"
     ]
    },
    {
     "name": "stdout",
     "output_type": "stream",
     "text": [
      "loss/loss tensor(2.3642, device='cuda:0', grad_fn=<AddBackward0>) 5200\n",
      "loss/loss_Rec tensor(1.7616, device='cuda:0', grad_fn=<AddBackward0>) 5200\n",
      "loss/loss_Dice tensor(0.6027, device='cuda:0', grad_fn=<AddBackward0>) 5200\n"
     ]
    },
    {
     "name": "stderr",
     "output_type": "stream",
     "text": [
      "Train: 100%|██████████| 42/42 [00:40<00:00,  1.02it/s]\n"
     ]
    },
    {
     "name": "stdout",
     "output_type": "stream",
     "text": [
      "Train:\n",
      "loss: 3.1882, loss_Rec: 2.3379, loss_Dice: 0.8503, IoU: 0.6373\n"
     ]
    },
    {
     "name": "stderr",
     "output_type": "stream",
     "text": [
      "Valid: 100%|██████████| 40/40 [00:14<00:00,  2.72it/s]\n"
     ]
    },
    {
     "name": "stdout",
     "output_type": "stream",
     "text": [
      "Valid:\n",
      "loss: 0.6865, loss_Rec: 0.5061, loss_Dice: 0.1804, Dice: 0.8196, IoU: 0.7630\n",
      "Current learning rate: 0.00130\n",
      "epoch 124 / 124 \t Time Taken: 55 sec\n",
      "best valid dice: 0.8197 at epoch: 116\n",
      "\n",
      "\n"
     ]
    },
    {
     "name": "stderr",
     "output_type": "stream",
     "text": [
      "Train: 100%|██████████| 42/42 [00:40<00:00,  1.03it/s]\n"
     ]
    },
    {
     "name": "stdout",
     "output_type": "stream",
     "text": [
      "Train:\n",
      "loss: 2.7370, loss_Rec: 1.9976, loss_Dice: 0.7394, IoU: 0.6920\n"
     ]
    },
    {
     "name": "stderr",
     "output_type": "stream",
     "text": [
      "Valid: 100%|██████████| 40/40 [00:14<00:00,  2.72it/s]\n"
     ]
    },
    {
     "name": "stdout",
     "output_type": "stream",
     "text": [
      "Valid:\n",
      "loss: 0.7261, loss_Rec: 0.5360, loss_Dice: 0.1902, Dice: 0.8098, IoU: 0.7648\n",
      "Current learning rate: 0.00129\n",
      "epoch 125 / 125 \t Time Taken: 55 sec\n",
      "best valid dice: 0.8197 at epoch: 116\n",
      "\n",
      "\n"
     ]
    },
    {
     "name": "stderr",
     "output_type": "stream",
     "text": [
      "Train: 100%|██████████| 42/42 [00:41<00:00,  1.02it/s]\n"
     ]
    },
    {
     "name": "stdout",
     "output_type": "stream",
     "text": [
      "Train:\n",
      "loss: 3.5288, loss_Rec: 2.5922, loss_Dice: 0.9366, IoU: 0.6036\n"
     ]
    },
    {
     "name": "stderr",
     "output_type": "stream",
     "text": [
      "Valid: 100%|██████████| 40/40 [00:14<00:00,  2.72it/s]\n"
     ]
    },
    {
     "name": "stdout",
     "output_type": "stream",
     "text": [
      "Valid:\n",
      "loss: 0.7385, loss_Rec: 0.5363, loss_Dice: 0.2022, Dice: 0.7978, IoU: 0.7529\n",
      "Current learning rate: 0.00128\n",
      "epoch 126 / 126 \t Time Taken: 55 sec\n",
      "best valid dice: 0.8197 at epoch: 116\n",
      "\n",
      "\n"
     ]
    },
    {
     "name": "stderr",
     "output_type": "stream",
     "text": [
      "Train:  19%|█▉        | 8/42 [00:07<00:33,  1.01it/s]"
     ]
    },
    {
     "name": "stdout",
     "output_type": "stream",
     "text": [
      "loss/loss tensor(2.8078, device='cuda:0', grad_fn=<AddBackward0>) 5300\n",
      "loss/loss_Rec tensor(1.8784, device='cuda:0', grad_fn=<AddBackward0>) 5300\n",
      "loss/loss_Dice tensor(0.9293, device='cuda:0', grad_fn=<AddBackward0>) 5300\n"
     ]
    },
    {
     "name": "stderr",
     "output_type": "stream",
     "text": [
      "Train: 100%|██████████| 42/42 [00:41<00:00,  1.02it/s]\n"
     ]
    },
    {
     "name": "stdout",
     "output_type": "stream",
     "text": [
      "Train:\n",
      "loss: 3.2080, loss_Rec: 2.3309, loss_Dice: 0.8771, IoU: 0.6579\n"
     ]
    },
    {
     "name": "stderr",
     "output_type": "stream",
     "text": [
      "Valid: 100%|██████████| 40/40 [00:14<00:00,  2.73it/s]\n"
     ]
    },
    {
     "name": "stdout",
     "output_type": "stream",
     "text": [
      "Valid:\n",
      "loss: 0.6497, loss_Rec: 0.4782, loss_Dice: 0.1715, Dice: 0.8285, IoU: 0.7858\n",
      "Save best valid Dice !\n",
      "Save best valid Loss All !\n",
      "Save best valid Loss Rec !\n",
      "Save best valid Loss Dice !\n",
      "Current learning rate: 0.00127\n",
      "epoch 127 / 127 \t Time Taken: 56 sec\n",
      "best valid dice: 0.8285 at epoch: 127\n",
      "\n",
      "\n"
     ]
    },
    {
     "name": "stderr",
     "output_type": "stream",
     "text": [
      "Train: 100%|██████████| 42/42 [00:41<00:00,  1.01it/s]\n"
     ]
    },
    {
     "name": "stdout",
     "output_type": "stream",
     "text": [
      "Train:\n",
      "loss: 3.0928, loss_Rec: 2.2768, loss_Dice: 0.8160, IoU: 0.6536\n"
     ]
    },
    {
     "name": "stderr",
     "output_type": "stream",
     "text": [
      "Valid: 100%|██████████| 40/40 [00:14<00:00,  2.71it/s]\n"
     ]
    },
    {
     "name": "stdout",
     "output_type": "stream",
     "text": [
      "Valid:\n",
      "loss: 0.7051, loss_Rec: 0.5212, loss_Dice: 0.1839, Dice: 0.8161, IoU: 0.7494\n",
      "Current learning rate: 0.00126\n",
      "epoch 128 / 128 \t Time Taken: 56 sec\n",
      "best valid dice: 0.8285 at epoch: 127\n",
      "\n",
      "\n"
     ]
    },
    {
     "name": "stderr",
     "output_type": "stream",
     "text": [
      "Train:  57%|█████▋    | 24/42 [00:23<00:17,  1.02it/s]"
     ]
    },
    {
     "name": "stdout",
     "output_type": "stream",
     "text": [
      "loss/loss tensor(4.8546, device='cuda:0', grad_fn=<AddBackward0>) 5400\n",
      "loss/loss_Rec tensor(3.7255, device='cuda:0', grad_fn=<AddBackward0>) 5400\n",
      "loss/loss_Dice tensor(1.1291, device='cuda:0', grad_fn=<AddBackward0>) 5400\n"
     ]
    },
    {
     "name": "stderr",
     "output_type": "stream",
     "text": [
      "Train: 100%|██████████| 42/42 [00:41<00:00,  1.02it/s]\n"
     ]
    },
    {
     "name": "stdout",
     "output_type": "stream",
     "text": [
      "Train:\n",
      "loss: 2.8477, loss_Rec: 2.0725, loss_Dice: 0.7753, IoU: 0.6790\n"
     ]
    },
    {
     "name": "stderr",
     "output_type": "stream",
     "text": [
      "Valid: 100%|██████████| 40/40 [00:14<00:00,  2.71it/s]\n"
     ]
    },
    {
     "name": "stdout",
     "output_type": "stream",
     "text": [
      "Valid:\n",
      "loss: 0.6364, loss_Rec: 0.4806, loss_Dice: 0.1559, Dice: 0.8441, IoU: 0.7882\n",
      "Save best valid Dice !\n",
      "Save best valid Loss All !\n",
      "Save best valid Loss Dice !\n",
      "Current learning rate: 0.00125\n",
      "epoch 129 / 129 \t Time Taken: 56 sec\n",
      "best valid dice: 0.8441 at epoch: 129\n",
      "\n",
      "\n"
     ]
    },
    {
     "name": "stderr",
     "output_type": "stream",
     "text": [
      "Train: 100%|██████████| 42/42 [00:41<00:00,  1.02it/s]\n"
     ]
    },
    {
     "name": "stdout",
     "output_type": "stream",
     "text": [
      "Train:\n",
      "loss: 3.0869, loss_Rec: 2.2590, loss_Dice: 0.8279, IoU: 0.6483\n"
     ]
    },
    {
     "name": "stderr",
     "output_type": "stream",
     "text": [
      "Valid: 100%|██████████| 40/40 [00:14<00:00,  2.71it/s]\n"
     ]
    },
    {
     "name": "stdout",
     "output_type": "stream",
     "text": [
      "Valid:\n",
      "loss: 0.6377, loss_Rec: 0.4640, loss_Dice: 0.1738, Dice: 0.8262, IoU: 0.7854\n",
      "Save best valid Loss Rec !\n",
      "Current learning rate: 0.00124\n",
      "epoch 130 / 130 \t Time Taken: 55 sec\n",
      "best valid dice: 0.8441 at epoch: 129\n",
      "\n",
      "\n"
     ]
    },
    {
     "name": "stderr",
     "output_type": "stream",
     "text": [
      "Train:  95%|█████████▌| 40/42 [00:39<00:01,  1.02it/s]"
     ]
    },
    {
     "name": "stdout",
     "output_type": "stream",
     "text": [
      "loss/loss tensor(3.4950, device='cuda:0', grad_fn=<AddBackward0>) 5500\n",
      "loss/loss_Rec tensor(2.4935, device='cuda:0', grad_fn=<AddBackward0>) 5500\n",
      "loss/loss_Dice tensor(1.0015, device='cuda:0', grad_fn=<AddBackward0>) 5500\n"
     ]
    },
    {
     "name": "stderr",
     "output_type": "stream",
     "text": [
      "Train: 100%|██████████| 42/42 [00:41<00:00,  1.02it/s]\n"
     ]
    },
    {
     "name": "stdout",
     "output_type": "stream",
     "text": [
      "Train:\n",
      "loss: 2.9386, loss_Rec: 2.1906, loss_Dice: 0.7481, IoU: 0.6888\n"
     ]
    },
    {
     "name": "stderr",
     "output_type": "stream",
     "text": [
      "Valid: 100%|██████████| 40/40 [00:14<00:00,  2.72it/s]\n"
     ]
    },
    {
     "name": "stdout",
     "output_type": "stream",
     "text": [
      "Valid:\n",
      "loss: 0.7329, loss_Rec: 0.5159, loss_Dice: 0.2170, Dice: 0.7830, IoU: 0.7572\n",
      "Current learning rate: 0.00123\n",
      "epoch 131 / 131 \t Time Taken: 55 sec\n",
      "best valid dice: 0.8441 at epoch: 129\n",
      "\n",
      "\n"
     ]
    },
    {
     "name": "stderr",
     "output_type": "stream",
     "text": [
      "Train: 100%|██████████| 42/42 [00:41<00:00,  1.02it/s]\n"
     ]
    },
    {
     "name": "stdout",
     "output_type": "stream",
     "text": [
      "Train:\n",
      "loss: 2.8713, loss_Rec: 2.0860, loss_Dice: 0.7853, IoU: 0.6847\n"
     ]
    },
    {
     "name": "stderr",
     "output_type": "stream",
     "text": [
      "Valid: 100%|██████████| 40/40 [00:14<00:00,  2.71it/s]\n"
     ]
    },
    {
     "name": "stdout",
     "output_type": "stream",
     "text": [
      "Valid:\n",
      "loss: 0.8158, loss_Rec: 0.5818, loss_Dice: 0.2340, Dice: 0.7660, IoU: 0.7461\n",
      "Current learning rate: 0.00122\n",
      "epoch 132 / 132 \t Time Taken: 56 sec\n",
      "best valid dice: 0.8441 at epoch: 129\n",
      "\n",
      "\n"
     ]
    },
    {
     "name": "stderr",
     "output_type": "stream",
     "text": [
      "Train: 100%|██████████| 42/42 [00:41<00:00,  1.02it/s]\n"
     ]
    },
    {
     "name": "stdout",
     "output_type": "stream",
     "text": [
      "Train:\n",
      "loss: 3.0860, loss_Rec: 2.2639, loss_Dice: 0.8221, IoU: 0.6576\n"
     ]
    },
    {
     "name": "stderr",
     "output_type": "stream",
     "text": [
      "Valid: 100%|██████████| 40/40 [00:14<00:00,  2.71it/s]\n"
     ]
    },
    {
     "name": "stdout",
     "output_type": "stream",
     "text": [
      "Valid:\n",
      "loss: 0.6431, loss_Rec: 0.4670, loss_Dice: 0.1761, Dice: 0.8239, IoU: 0.7796\n",
      "Current learning rate: 0.00121\n",
      "epoch 133 / 133 \t Time Taken: 56 sec\n",
      "best valid dice: 0.8441 at epoch: 129\n",
      "\n",
      "\n"
     ]
    },
    {
     "name": "stderr",
     "output_type": "stream",
     "text": [
      "Train:  33%|███▎      | 14/42 [00:13<00:27,  1.02it/s]"
     ]
    },
    {
     "name": "stdout",
     "output_type": "stream",
     "text": [
      "loss/loss tensor(1.3210, device='cuda:0', grad_fn=<AddBackward0>) 5600\n",
      "loss/loss_Rec tensor(0.9825, device='cuda:0', grad_fn=<AddBackward0>) 5600\n",
      "loss/loss_Dice tensor(0.3385, device='cuda:0', grad_fn=<AddBackward0>) 5600\n"
     ]
    },
    {
     "name": "stderr",
     "output_type": "stream",
     "text": [
      "Train: 100%|██████████| 42/42 [00:41<00:00,  1.02it/s]\n"
     ]
    },
    {
     "name": "stdout",
     "output_type": "stream",
     "text": [
      "Train:\n",
      "loss: 2.7302, loss_Rec: 1.9929, loss_Dice: 0.7373, IoU: 0.7006\n"
     ]
    },
    {
     "name": "stderr",
     "output_type": "stream",
     "text": [
      "Valid: 100%|██████████| 40/40 [00:14<00:00,  2.72it/s]\n"
     ]
    },
    {
     "name": "stdout",
     "output_type": "stream",
     "text": [
      "Valid:\n",
      "loss: 0.6874, loss_Rec: 0.4952, loss_Dice: 0.1921, Dice: 0.8079, IoU: 0.7915\n",
      "Current learning rate: 0.00120\n",
      "epoch 134 / 134 \t Time Taken: 56 sec\n",
      "best valid dice: 0.8441 at epoch: 129\n",
      "\n",
      "\n"
     ]
    },
    {
     "name": "stderr",
     "output_type": "stream",
     "text": [
      "Train: 100%|██████████| 42/42 [00:41<00:00,  1.02it/s]\n"
     ]
    },
    {
     "name": "stdout",
     "output_type": "stream",
     "text": [
      "Train:\n",
      "loss: 3.1038, loss_Rec: 2.2673, loss_Dice: 0.8365, IoU: 0.6442\n"
     ]
    },
    {
     "name": "stderr",
     "output_type": "stream",
     "text": [
      "Valid: 100%|██████████| 40/40 [00:14<00:00,  2.70it/s]\n"
     ]
    },
    {
     "name": "stdout",
     "output_type": "stream",
     "text": [
      "Valid:\n",
      "loss: 0.6849, loss_Rec: 0.5002, loss_Dice: 0.1846, Dice: 0.8154, IoU: 0.7747\n",
      "Current learning rate: 0.00119\n",
      "epoch 135 / 135 \t Time Taken: 56 sec\n",
      "best valid dice: 0.8441 at epoch: 129\n",
      "\n",
      "\n"
     ]
    },
    {
     "name": "stderr",
     "output_type": "stream",
     "text": [
      "Train:  71%|███████▏  | 30/42 [00:29<00:11,  1.02it/s]"
     ]
    },
    {
     "name": "stdout",
     "output_type": "stream",
     "text": [
      "loss/loss tensor(2.2849, device='cuda:0', grad_fn=<AddBackward0>) 5700\n",
      "loss/loss_Rec tensor(1.6596, device='cuda:0', grad_fn=<AddBackward0>) 5700\n",
      "loss/loss_Dice tensor(0.6253, device='cuda:0', grad_fn=<AddBackward0>) 5700\n"
     ]
    },
    {
     "name": "stderr",
     "output_type": "stream",
     "text": [
      "Train: 100%|██████████| 42/42 [00:41<00:00,  1.01it/s]\n"
     ]
    },
    {
     "name": "stdout",
     "output_type": "stream",
     "text": [
      "Train:\n",
      "loss: 2.7255, loss_Rec: 1.9995, loss_Dice: 0.7260, IoU: 0.6983\n"
     ]
    },
    {
     "name": "stderr",
     "output_type": "stream",
     "text": [
      "Valid: 100%|██████████| 40/40 [00:14<00:00,  2.71it/s]\n"
     ]
    },
    {
     "name": "stdout",
     "output_type": "stream",
     "text": [
      "Valid:\n",
      "loss: 0.6124, loss_Rec: 0.4361, loss_Dice: 0.1762, Dice: 0.8238, IoU: 0.8027\n",
      "Save best valid Loss All !\n",
      "Save best valid Loss Rec !\n",
      "Current learning rate: 0.00117\n",
      "epoch 136 / 136 \t Time Taken: 56 sec\n",
      "best valid dice: 0.8441 at epoch: 129\n",
      "\n",
      "\n"
     ]
    },
    {
     "name": "stderr",
     "output_type": "stream",
     "text": [
      "Train: 100%|██████████| 42/42 [00:40<00:00,  1.03it/s]\n"
     ]
    },
    {
     "name": "stdout",
     "output_type": "stream",
     "text": [
      "Train:\n",
      "loss: 2.3965, loss_Rec: 1.7710, loss_Dice: 0.6255, IoU: 0.7364\n"
     ]
    },
    {
     "name": "stderr",
     "output_type": "stream",
     "text": [
      "Valid: 100%|██████████| 40/40 [00:14<00:00,  2.71it/s]\n"
     ]
    },
    {
     "name": "stdout",
     "output_type": "stream",
     "text": [
      "Valid:\n",
      "loss: 0.6581, loss_Rec: 0.4700, loss_Dice: 0.1881, Dice: 0.8119, IoU: 0.7682\n",
      "Current learning rate: 0.00116\n",
      "epoch 137 / 137 \t Time Taken: 55 sec\n",
      "best valid dice: 0.8441 at epoch: 129\n",
      "\n",
      "\n"
     ]
    },
    {
     "name": "stderr",
     "output_type": "stream",
     "text": [
      "Train: 100%|██████████| 42/42 [00:41<00:00,  1.01it/s]\n"
     ]
    },
    {
     "name": "stdout",
     "output_type": "stream",
     "text": [
      "Train:\n",
      "loss: 3.1737, loss_Rec: 2.3166, loss_Dice: 0.8571, IoU: 0.6463\n"
     ]
    },
    {
     "name": "stderr",
     "output_type": "stream",
     "text": [
      "Valid: 100%|██████████| 40/40 [00:14<00:00,  2.72it/s]\n"
     ]
    },
    {
     "name": "stdout",
     "output_type": "stream",
     "text": [
      "Valid:\n",
      "loss: 0.7051, loss_Rec: 0.5102, loss_Dice: 0.1950, Dice: 0.8050, IoU: 0.7615\n",
      "Current learning rate: 0.00115\n",
      "epoch 138 / 138 \t Time Taken: 56 sec\n",
      "best valid dice: 0.8441 at epoch: 129\n",
      "\n",
      "\n"
     ]
    },
    {
     "name": "stderr",
     "output_type": "stream",
     "text": [
      "Train:  10%|▉         | 4/42 [00:03<00:36,  1.03it/s]"
     ]
    },
    {
     "name": "stdout",
     "output_type": "stream",
     "text": [
      "loss/loss tensor(1.9303, device='cuda:0', grad_fn=<AddBackward0>) 5800\n",
      "loss/loss_Rec tensor(1.4063, device='cuda:0', grad_fn=<AddBackward0>) 5800\n",
      "loss/loss_Dice tensor(0.5240, device='cuda:0', grad_fn=<AddBackward0>) 5800\n"
     ]
    },
    {
     "name": "stderr",
     "output_type": "stream",
     "text": [
      "Train: 100%|██████████| 42/42 [00:41<00:00,  1.02it/s]\n"
     ]
    },
    {
     "name": "stdout",
     "output_type": "stream",
     "text": [
      "Train:\n",
      "loss: 2.8049, loss_Rec: 2.0660, loss_Dice: 0.7389, IoU: 0.6953\n"
     ]
    },
    {
     "name": "stderr",
     "output_type": "stream",
     "text": [
      "Valid: 100%|██████████| 40/40 [00:14<00:00,  2.72it/s]\n"
     ]
    },
    {
     "name": "stdout",
     "output_type": "stream",
     "text": [
      "Valid:\n",
      "loss: 0.7508, loss_Rec: 0.5441, loss_Dice: 0.2067, Dice: 0.7933, IoU: 0.7712\n",
      "Current learning rate: 0.00114\n",
      "epoch 139 / 139 \t Time Taken: 55 sec\n",
      "best valid dice: 0.8441 at epoch: 129\n",
      "\n",
      "\n"
     ]
    },
    {
     "name": "stderr",
     "output_type": "stream",
     "text": [
      "Train: 100%|██████████| 42/42 [00:41<00:00,  1.02it/s]\n"
     ]
    },
    {
     "name": "stdout",
     "output_type": "stream",
     "text": [
      "Train:\n",
      "loss: 3.1816, loss_Rec: 2.3099, loss_Dice: 0.8717, IoU: 0.6392\n"
     ]
    },
    {
     "name": "stderr",
     "output_type": "stream",
     "text": [
      "Valid: 100%|██████████| 40/40 [00:14<00:00,  2.71it/s]\n"
     ]
    },
    {
     "name": "stdout",
     "output_type": "stream",
     "text": [
      "Valid:\n",
      "loss: 0.6460, loss_Rec: 0.4745, loss_Dice: 0.1716, Dice: 0.8284, IoU: 0.7788\n",
      "Current learning rate: 0.00113\n",
      "epoch 140 / 140 \t Time Taken: 55 sec\n",
      "best valid dice: 0.8441 at epoch: 129\n",
      "\n",
      "\n"
     ]
    },
    {
     "name": "stderr",
     "output_type": "stream",
     "text": [
      "Train:  48%|████▊     | 20/42 [00:19<00:21,  1.02it/s]"
     ]
    },
    {
     "name": "stdout",
     "output_type": "stream",
     "text": [
      "loss/loss tensor(3.7203, device='cuda:0', grad_fn=<AddBackward0>) 5900\n",
      "loss/loss_Rec tensor(2.8674, device='cuda:0', grad_fn=<AddBackward0>) 5900\n",
      "loss/loss_Dice tensor(0.8529, device='cuda:0', grad_fn=<AddBackward0>) 5900\n"
     ]
    },
    {
     "name": "stderr",
     "output_type": "stream",
     "text": [
      "Train: 100%|██████████| 42/42 [00:41<00:00,  1.02it/s]\n"
     ]
    },
    {
     "name": "stdout",
     "output_type": "stream",
     "text": [
      "Train:\n",
      "loss: 3.2470, loss_Rec: 2.3912, loss_Dice: 0.8558, IoU: 0.6353\n"
     ]
    },
    {
     "name": "stderr",
     "output_type": "stream",
     "text": [
      "Valid: 100%|██████████| 40/40 [00:14<00:00,  2.71it/s]\n"
     ]
    },
    {
     "name": "stdout",
     "output_type": "stream",
     "text": [
      "Valid:\n",
      "loss: 0.9198, loss_Rec: 0.6923, loss_Dice: 0.2275, Dice: 0.7725, IoU: 0.7234\n",
      "Current learning rate: 0.00112\n",
      "epoch 141 / 141 \t Time Taken: 55 sec\n",
      "best valid dice: 0.8441 at epoch: 129\n",
      "\n",
      "\n"
     ]
    },
    {
     "name": "stderr",
     "output_type": "stream",
     "text": [
      "Train: 100%|██████████| 42/42 [00:41<00:00,  1.01it/s]\n"
     ]
    },
    {
     "name": "stdout",
     "output_type": "stream",
     "text": [
      "Train:\n",
      "loss: 3.1748, loss_Rec: 2.3228, loss_Dice: 0.8520, IoU: 0.6397\n"
     ]
    },
    {
     "name": "stderr",
     "output_type": "stream",
     "text": [
      "Valid: 100%|██████████| 40/40 [00:14<00:00,  2.70it/s]\n"
     ]
    },
    {
     "name": "stdout",
     "output_type": "stream",
     "text": [
      "Valid:\n",
      "loss: 0.5870, loss_Rec: 0.4208, loss_Dice: 0.1662, Dice: 0.8338, IoU: 0.8077\n",
      "Save best valid Loss All !\n",
      "Save best valid Loss Rec !\n",
      "Current learning rate: 0.00111\n",
      "epoch 142 / 142 \t Time Taken: 56 sec\n",
      "best valid dice: 0.8441 at epoch: 129\n",
      "\n",
      "\n"
     ]
    },
    {
     "name": "stderr",
     "output_type": "stream",
     "text": [
      "Train:  86%|████████▌ | 36/42 [00:35<00:05,  1.02it/s]"
     ]
    },
    {
     "name": "stdout",
     "output_type": "stream",
     "text": [
      "loss/loss tensor(4.4208, device='cuda:0', grad_fn=<AddBackward0>) 6000\n",
      "loss/loss_Rec tensor(3.2210, device='cuda:0', grad_fn=<AddBackward0>) 6000\n",
      "loss/loss_Dice tensor(1.1998, device='cuda:0', grad_fn=<AddBackward0>) 6000\n"
     ]
    },
    {
     "name": "stderr",
     "output_type": "stream",
     "text": [
      "Train: 100%|██████████| 42/42 [00:41<00:00,  1.01it/s]\n"
     ]
    },
    {
     "name": "stdout",
     "output_type": "stream",
     "text": [
      "Train:\n",
      "loss: 2.7625, loss_Rec: 2.0410, loss_Dice: 0.7214, IoU: 0.7070\n"
     ]
    },
    {
     "name": "stderr",
     "output_type": "stream",
     "text": [
      "Valid: 100%|██████████| 40/40 [00:14<00:00,  2.73it/s]\n"
     ]
    },
    {
     "name": "stdout",
     "output_type": "stream",
     "text": [
      "Valid:\n",
      "loss: 0.6326, loss_Rec: 0.4620, loss_Dice: 0.1706, Dice: 0.8294, IoU: 0.7942\n",
      "Current learning rate: 0.00110\n",
      "epoch 143 / 143 \t Time Taken: 56 sec\n",
      "best valid dice: 0.8441 at epoch: 129\n",
      "\n",
      "\n"
     ]
    },
    {
     "name": "stderr",
     "output_type": "stream",
     "text": [
      "Train: 100%|██████████| 42/42 [00:40<00:00,  1.02it/s]\n"
     ]
    },
    {
     "name": "stdout",
     "output_type": "stream",
     "text": [
      "Train:\n",
      "loss: 2.8986, loss_Rec: 2.1392, loss_Dice: 0.7594, IoU: 0.6843\n"
     ]
    },
    {
     "name": "stderr",
     "output_type": "stream",
     "text": [
      "Valid: 100%|██████████| 40/40 [00:14<00:00,  2.72it/s]\n"
     ]
    },
    {
     "name": "stdout",
     "output_type": "stream",
     "text": [
      "Valid:\n",
      "loss: 0.6688, loss_Rec: 0.5057, loss_Dice: 0.1631, Dice: 0.8369, IoU: 0.7861\n",
      "Current learning rate: 0.00109\n",
      "epoch 144 / 144 \t Time Taken: 55 sec\n",
      "best valid dice: 0.8441 at epoch: 129\n",
      "\n",
      "\n"
     ]
    },
    {
     "name": "stderr",
     "output_type": "stream",
     "text": [
      "Train: 100%|██████████| 42/42 [00:41<00:00,  1.01it/s]\n"
     ]
    },
    {
     "name": "stdout",
     "output_type": "stream",
     "text": [
      "Train:\n",
      "loss: 3.0566, loss_Rec: 2.2342, loss_Dice: 0.8224, IoU: 0.6571\n"
     ]
    },
    {
     "name": "stderr",
     "output_type": "stream",
     "text": [
      "Valid: 100%|██████████| 40/40 [00:14<00:00,  2.72it/s]\n"
     ]
    },
    {
     "name": "stdout",
     "output_type": "stream",
     "text": [
      "Valid:\n",
      "loss: 0.6106, loss_Rec: 0.4577, loss_Dice: 0.1530, Dice: 0.8470, IoU: 0.7977\n",
      "Save best valid Dice !\n",
      "Save best valid Loss Dice !\n",
      "Current learning rate: 0.00108\n",
      "epoch 145 / 145 \t Time Taken: 56 sec\n",
      "best valid dice: 0.8470 at epoch: 145\n",
      "\n",
      "\n"
     ]
    },
    {
     "name": "stderr",
     "output_type": "stream",
     "text": [
      "Train:  24%|██▍       | 10/42 [00:09<00:30,  1.03it/s]"
     ]
    },
    {
     "name": "stdout",
     "output_type": "stream",
     "text": [
      "loss/loss tensor(3.9356, device='cuda:0', grad_fn=<AddBackward0>) 6100\n",
      "loss/loss_Rec tensor(2.9532, device='cuda:0', grad_fn=<AddBackward0>) 6100\n",
      "loss/loss_Dice tensor(0.9824, device='cuda:0', grad_fn=<AddBackward0>) 6100\n"
     ]
    },
    {
     "name": "stderr",
     "output_type": "stream",
     "text": [
      "Train: 100%|██████████| 42/42 [00:40<00:00,  1.03it/s]\n"
     ]
    },
    {
     "name": "stdout",
     "output_type": "stream",
     "text": [
      "Train:\n",
      "loss: 2.8054, loss_Rec: 2.0573, loss_Dice: 0.7481, IoU: 0.6830\n"
     ]
    },
    {
     "name": "stderr",
     "output_type": "stream",
     "text": [
      "Valid: 100%|██████████| 40/40 [00:14<00:00,  2.73it/s]\n"
     ]
    },
    {
     "name": "stdout",
     "output_type": "stream",
     "text": [
      "Valid:\n",
      "loss: 0.6017, loss_Rec: 0.4451, loss_Dice: 0.1566, Dice: 0.8434, IoU: 0.7931\n",
      "Current learning rate: 0.00107\n",
      "epoch 146 / 146 \t Time Taken: 55 sec\n",
      "best valid dice: 0.8470 at epoch: 145\n",
      "\n",
      "\n"
     ]
    },
    {
     "name": "stderr",
     "output_type": "stream",
     "text": [
      "Train: 100%|██████████| 42/42 [00:40<00:00,  1.03it/s]\n"
     ]
    },
    {
     "name": "stdout",
     "output_type": "stream",
     "text": [
      "Train:\n",
      "loss: 2.4912, loss_Rec: 1.8233, loss_Dice: 0.6679, IoU: 0.7191\n"
     ]
    },
    {
     "name": "stderr",
     "output_type": "stream",
     "text": [
      "Valid: 100%|██████████| 40/40 [00:14<00:00,  2.72it/s]\n"
     ]
    },
    {
     "name": "stdout",
     "output_type": "stream",
     "text": [
      "Valid:\n",
      "loss: 0.6115, loss_Rec: 0.4471, loss_Dice: 0.1644, Dice: 0.8356, IoU: 0.7765\n",
      "Current learning rate: 0.00106\n",
      "epoch 147 / 147 \t Time Taken: 55 sec\n",
      "best valid dice: 0.8470 at epoch: 145\n",
      "\n",
      "\n"
     ]
    },
    {
     "name": "stderr",
     "output_type": "stream",
     "text": [
      "Train:  62%|██████▏   | 26/42 [00:25<00:15,  1.04it/s]"
     ]
    },
    {
     "name": "stdout",
     "output_type": "stream",
     "text": [
      "loss/loss tensor(1.0291, device='cuda:0', grad_fn=<AddBackward0>) 6200\n",
      "loss/loss_Rec tensor(0.8034, device='cuda:0', grad_fn=<AddBackward0>) 6200\n",
      "loss/loss_Dice tensor(0.2257, device='cuda:0', grad_fn=<AddBackward0>) 6200\n"
     ]
    },
    {
     "name": "stderr",
     "output_type": "stream",
     "text": [
      "Train: 100%|██████████| 42/42 [00:41<00:00,  1.02it/s]\n"
     ]
    },
    {
     "name": "stdout",
     "output_type": "stream",
     "text": [
      "Train:\n",
      "loss: 2.8033, loss_Rec: 2.0406, loss_Dice: 0.7627, IoU: 0.6901\n"
     ]
    },
    {
     "name": "stderr",
     "output_type": "stream",
     "text": [
      "Valid: 100%|██████████| 40/40 [00:14<00:00,  2.71it/s]\n"
     ]
    },
    {
     "name": "stdout",
     "output_type": "stream",
     "text": [
      "Valid:\n",
      "loss: 0.6369, loss_Rec: 0.4682, loss_Dice: 0.1687, Dice: 0.8313, IoU: 0.7706\n",
      "Current learning rate: 0.00105\n",
      "epoch 148 / 148 \t Time Taken: 55 sec\n",
      "best valid dice: 0.8470 at epoch: 145\n",
      "\n",
      "\n"
     ]
    },
    {
     "name": "stderr",
     "output_type": "stream",
     "text": [
      "Train: 100%|██████████| 42/42 [00:41<00:00,  1.02it/s]\n"
     ]
    },
    {
     "name": "stdout",
     "output_type": "stream",
     "text": [
      "Train:\n",
      "loss: 2.7656, loss_Rec: 2.0388, loss_Dice: 0.7268, IoU: 0.7037\n"
     ]
    },
    {
     "name": "stderr",
     "output_type": "stream",
     "text": [
      "Valid: 100%|██████████| 40/40 [00:14<00:00,  2.72it/s]\n"
     ]
    },
    {
     "name": "stdout",
     "output_type": "stream",
     "text": [
      "Valid:\n",
      "loss: 0.5798, loss_Rec: 0.4293, loss_Dice: 0.1504, Dice: 0.8496, IoU: 0.8020\n",
      "Save best valid Dice !\n",
      "Save best valid Loss All !\n",
      "Save best valid Loss Dice !\n",
      "Current learning rate: 0.00104\n",
      "epoch 149 / 149 \t Time Taken: 55 sec\n",
      "best valid dice: 0.8496 at epoch: 149\n",
      "\n",
      "\n"
     ]
    },
    {
     "name": "stderr",
     "output_type": "stream",
     "text": [
      "Train: 100%|██████████| 42/42 [00:41<00:00,  1.02it/s]\n"
     ]
    },
    {
     "name": "stdout",
     "output_type": "stream",
     "text": [
      "loss/loss tensor(3.3852, device='cuda:0', grad_fn=<AddBackward0>) 6300\n",
      "loss/loss_Rec tensor(2.5663, device='cuda:0', grad_fn=<AddBackward0>) 6300\n",
      "loss/loss_Dice tensor(0.8189, device='cuda:0', grad_fn=<AddBackward0>) 6300\n",
      "Train:\n",
      "loss: 2.8442, loss_Rec: 2.0958, loss_Dice: 0.7483, IoU: 0.6861\n"
     ]
    },
    {
     "name": "stderr",
     "output_type": "stream",
     "text": [
      "Valid: 100%|██████████| 40/40 [00:14<00:00,  2.72it/s]\n"
     ]
    },
    {
     "name": "stdout",
     "output_type": "stream",
     "text": [
      "Valid:\n",
      "loss: 0.5769, loss_Rec: 0.4301, loss_Dice: 0.1468, Dice: 0.8532, IoU: 0.7970\n",
      "Save best valid Dice !\n",
      "Save best valid Loss All !\n",
      "Save best valid Loss Dice !\n",
      "Current learning rate: 0.00103\n",
      "epoch 150 / 150 \t Time Taken: 56 sec\n",
      "best valid dice: 0.8532 at epoch: 150\n",
      "\n",
      "\n"
     ]
    },
    {
     "name": "stderr",
     "output_type": "stream",
     "text": [
      "Train: 100%|██████████| 42/42 [00:41<00:00,  1.01it/s]\n"
     ]
    },
    {
     "name": "stdout",
     "output_type": "stream",
     "text": [
      "Train:\n",
      "loss: 2.7591, loss_Rec: 2.0238, loss_Dice: 0.7354, IoU: 0.6963\n"
     ]
    },
    {
     "name": "stderr",
     "output_type": "stream",
     "text": [
      "Valid: 100%|██████████| 40/40 [00:14<00:00,  2.72it/s]\n"
     ]
    },
    {
     "name": "stdout",
     "output_type": "stream",
     "text": [
      "Valid:\n",
      "loss: 0.5770, loss_Rec: 0.4094, loss_Dice: 0.1676, Dice: 0.8324, IoU: 0.8093\n",
      "Save best valid Loss Rec !\n",
      "Current learning rate: 0.00102\n",
      "epoch 151 / 151 \t Time Taken: 56 sec\n",
      "best valid dice: 0.8532 at epoch: 150\n",
      "\n",
      "\n"
     ]
    },
    {
     "name": "stderr",
     "output_type": "stream",
     "text": [
      "Train: 100%|██████████| 42/42 [00:41<00:00,  1.02it/s]\n"
     ]
    },
    {
     "name": "stdout",
     "output_type": "stream",
     "text": [
      "Train:\n",
      "loss: 2.8714, loss_Rec: 2.0785, loss_Dice: 0.7929, IoU: 0.6609\n"
     ]
    },
    {
     "name": "stderr",
     "output_type": "stream",
     "text": [
      "Valid: 100%|██████████| 40/40 [00:14<00:00,  2.72it/s]\n"
     ]
    },
    {
     "name": "stdout",
     "output_type": "stream",
     "text": [
      "Valid:\n",
      "loss: 0.5887, loss_Rec: 0.4388, loss_Dice: 0.1499, Dice: 0.8501, IoU: 0.8084\n",
      "Current learning rate: 0.00101\n",
      "epoch 152 / 152 \t Time Taken: 55 sec\n",
      "best valid dice: 0.8532 at epoch: 150\n",
      "\n",
      "\n"
     ]
    },
    {
     "name": "stderr",
     "output_type": "stream",
     "text": [
      "Train:  38%|███▊      | 16/42 [00:15<00:25,  1.04it/s]"
     ]
    },
    {
     "name": "stdout",
     "output_type": "stream",
     "text": [
      "loss/loss tensor(2.2282, device='cuda:0', grad_fn=<AddBackward0>) 6400\n",
      "loss/loss_Rec tensor(1.6287, device='cuda:0', grad_fn=<AddBackward0>) 6400\n",
      "loss/loss_Dice tensor(0.5995, device='cuda:0', grad_fn=<AddBackward0>) 6400\n"
     ]
    },
    {
     "name": "stderr",
     "output_type": "stream",
     "text": [
      "Train: 100%|██████████| 42/42 [00:40<00:00,  1.03it/s]\n"
     ]
    },
    {
     "name": "stdout",
     "output_type": "stream",
     "text": [
      "Train:\n",
      "loss: 2.4531, loss_Rec: 1.7985, loss_Dice: 0.6546, IoU: 0.7310\n"
     ]
    },
    {
     "name": "stderr",
     "output_type": "stream",
     "text": [
      "Valid: 100%|██████████| 40/40 [00:14<00:00,  2.72it/s]\n"
     ]
    },
    {
     "name": "stdout",
     "output_type": "stream",
     "text": [
      "Valid:\n",
      "loss: 0.5730, loss_Rec: 0.4236, loss_Dice: 0.1495, Dice: 0.8505, IoU: 0.7990\n",
      "Save best valid Loss All !\n",
      "Current learning rate: 0.00099\n",
      "epoch 153 / 153 \t Time Taken: 55 sec\n",
      "best valid dice: 0.8532 at epoch: 150\n",
      "\n",
      "\n"
     ]
    },
    {
     "name": "stderr",
     "output_type": "stream",
     "text": [
      "Train: 100%|██████████| 42/42 [00:41<00:00,  1.02it/s]\n"
     ]
    },
    {
     "name": "stdout",
     "output_type": "stream",
     "text": [
      "Train:\n",
      "loss: 2.7349, loss_Rec: 2.0200, loss_Dice: 0.7149, IoU: 0.7125\n"
     ]
    },
    {
     "name": "stderr",
     "output_type": "stream",
     "text": [
      "Valid: 100%|██████████| 40/40 [00:14<00:00,  2.72it/s]\n"
     ]
    },
    {
     "name": "stdout",
     "output_type": "stream",
     "text": [
      "Valid:\n",
      "loss: 0.5737, loss_Rec: 0.4237, loss_Dice: 0.1500, Dice: 0.8500, IoU: 0.8048\n",
      "Current learning rate: 0.00098\n",
      "epoch 154 / 154 \t Time Taken: 55 sec\n",
      "best valid dice: 0.8532 at epoch: 150\n",
      "\n",
      "\n"
     ]
    },
    {
     "name": "stderr",
     "output_type": "stream",
     "text": [
      "Train:  76%|███████▌  | 32/42 [00:31<00:09,  1.02it/s]"
     ]
    },
    {
     "name": "stdout",
     "output_type": "stream",
     "text": [
      "loss/loss tensor(3.4607, device='cuda:0', grad_fn=<AddBackward0>) 6500\n",
      "loss/loss_Rec tensor(2.5554, device='cuda:0', grad_fn=<AddBackward0>) 6500\n",
      "loss/loss_Dice tensor(0.9053, device='cuda:0', grad_fn=<AddBackward0>) 6500\n"
     ]
    },
    {
     "name": "stderr",
     "output_type": "stream",
     "text": [
      "Train: 100%|██████████| 42/42 [00:41<00:00,  1.02it/s]\n"
     ]
    },
    {
     "name": "stdout",
     "output_type": "stream",
     "text": [
      "Train:\n",
      "loss: 2.4926, loss_Rec: 1.8222, loss_Dice: 0.6704, IoU: 0.7200\n"
     ]
    },
    {
     "name": "stderr",
     "output_type": "stream",
     "text": [
      "Valid: 100%|██████████| 40/40 [00:14<00:00,  2.72it/s]\n"
     ]
    },
    {
     "name": "stdout",
     "output_type": "stream",
     "text": [
      "Valid:\n",
      "loss: 0.5345, loss_Rec: 0.3926, loss_Dice: 0.1419, Dice: 0.8581, IoU: 0.8119\n",
      "Save best valid Dice !\n",
      "Save best valid Loss All !\n",
      "Save best valid Loss Rec !\n",
      "Save best valid Loss Dice !\n",
      "Current learning rate: 0.00097\n",
      "epoch 155 / 155 \t Time Taken: 56 sec\n",
      "best valid dice: 0.8581 at epoch: 155\n",
      "\n",
      "\n"
     ]
    },
    {
     "name": "stderr",
     "output_type": "stream",
     "text": [
      "Train: 100%|██████████| 42/42 [00:41<00:00,  1.02it/s]\n"
     ]
    },
    {
     "name": "stdout",
     "output_type": "stream",
     "text": [
      "Train:\n",
      "loss: 2.8823, loss_Rec: 2.1216, loss_Dice: 0.7607, IoU: 0.6890\n"
     ]
    },
    {
     "name": "stderr",
     "output_type": "stream",
     "text": [
      "Valid: 100%|██████████| 40/40 [00:14<00:00,  2.72it/s]\n"
     ]
    },
    {
     "name": "stdout",
     "output_type": "stream",
     "text": [
      "Valid:\n",
      "loss: 0.5760, loss_Rec: 0.4165, loss_Dice: 0.1594, Dice: 0.8406, IoU: 0.8064\n",
      "Current learning rate: 0.00096\n",
      "epoch 156 / 156 \t Time Taken: 55 sec\n",
      "best valid dice: 0.8581 at epoch: 155\n",
      "\n",
      "\n"
     ]
    },
    {
     "name": "stderr",
     "output_type": "stream",
     "text": [
      "Train: 100%|██████████| 42/42 [00:40<00:00,  1.03it/s]\n"
     ]
    },
    {
     "name": "stdout",
     "output_type": "stream",
     "text": [
      "Train:\n",
      "loss: 2.6532, loss_Rec: 1.9408, loss_Dice: 0.7124, IoU: 0.7007\n"
     ]
    },
    {
     "name": "stderr",
     "output_type": "stream",
     "text": [
      "Valid: 100%|██████████| 40/40 [00:14<00:00,  2.72it/s]\n"
     ]
    },
    {
     "name": "stdout",
     "output_type": "stream",
     "text": [
      "Valid:\n",
      "loss: 0.5891, loss_Rec: 0.4131, loss_Dice: 0.1760, Dice: 0.8240, IoU: 0.8147\n",
      "Current learning rate: 0.00095\n",
      "epoch 157 / 157 \t Time Taken: 55 sec\n",
      "best valid dice: 0.8581 at epoch: 155\n",
      "\n",
      "\n"
     ]
    },
    {
     "name": "stderr",
     "output_type": "stream",
     "text": [
      "Train:  14%|█▍        | 6/42 [00:05<00:35,  1.02it/s]"
     ]
    },
    {
     "name": "stdout",
     "output_type": "stream",
     "text": [
      "loss/loss tensor(2.8599, device='cuda:0', grad_fn=<AddBackward0>) 6600\n",
      "loss/loss_Rec tensor(2.2017, device='cuda:0', grad_fn=<AddBackward0>) 6600\n",
      "loss/loss_Dice tensor(0.6583, device='cuda:0', grad_fn=<AddBackward0>) 6600\n"
     ]
    },
    {
     "name": "stderr",
     "output_type": "stream",
     "text": [
      "Train: 100%|██████████| 42/42 [00:41<00:00,  1.01it/s]\n"
     ]
    },
    {
     "name": "stdout",
     "output_type": "stream",
     "text": [
      "Train:\n",
      "loss: 2.7530, loss_Rec: 2.0135, loss_Dice: 0.7395, IoU: 0.6791\n"
     ]
    },
    {
     "name": "stderr",
     "output_type": "stream",
     "text": [
      "Valid: 100%|██████████| 40/40 [00:14<00:00,  2.72it/s]\n"
     ]
    },
    {
     "name": "stdout",
     "output_type": "stream",
     "text": [
      "Valid:\n",
      "loss: 0.6117, loss_Rec: 0.4540, loss_Dice: 0.1577, Dice: 0.8423, IoU: 0.8033\n",
      "Current learning rate: 0.00094\n",
      "epoch 158 / 158 \t Time Taken: 56 sec\n",
      "best valid dice: 0.8581 at epoch: 155\n",
      "\n",
      "\n"
     ]
    },
    {
     "name": "stderr",
     "output_type": "stream",
     "text": [
      "Train: 100%|██████████| 42/42 [00:41<00:00,  1.02it/s]\n"
     ]
    },
    {
     "name": "stdout",
     "output_type": "stream",
     "text": [
      "Train:\n",
      "loss: 2.9176, loss_Rec: 2.1316, loss_Dice: 0.7859, IoU: 0.6778\n"
     ]
    },
    {
     "name": "stderr",
     "output_type": "stream",
     "text": [
      "Valid: 100%|██████████| 40/40 [00:14<00:00,  2.73it/s]\n"
     ]
    },
    {
     "name": "stdout",
     "output_type": "stream",
     "text": [
      "Valid:\n",
      "loss: 0.5937, loss_Rec: 0.4232, loss_Dice: 0.1705, Dice: 0.8295, IoU: 0.7890\n",
      "Current learning rate: 0.00093\n",
      "epoch 159 / 159 \t Time Taken: 55 sec\n",
      "best valid dice: 0.8581 at epoch: 155\n",
      "\n",
      "\n"
     ]
    },
    {
     "name": "stderr",
     "output_type": "stream",
     "text": [
      "Train:  52%|█████▏    | 22/42 [00:21<00:19,  1.04it/s]"
     ]
    },
    {
     "name": "stdout",
     "output_type": "stream",
     "text": [
      "loss/loss tensor(1.5879, device='cuda:0', grad_fn=<AddBackward0>) 6700\n",
      "loss/loss_Rec tensor(1.1642, device='cuda:0', grad_fn=<AddBackward0>) 6700\n",
      "loss/loss_Dice tensor(0.4237, device='cuda:0', grad_fn=<AddBackward0>) 6700\n"
     ]
    },
    {
     "name": "stderr",
     "output_type": "stream",
     "text": [
      "Train: 100%|██████████| 42/42 [00:41<00:00,  1.02it/s]\n"
     ]
    },
    {
     "name": "stdout",
     "output_type": "stream",
     "text": [
      "Train:\n",
      "loss: 2.5294, loss_Rec: 1.8760, loss_Dice: 0.6533, IoU: 0.7308\n"
     ]
    },
    {
     "name": "stderr",
     "output_type": "stream",
     "text": [
      "Valid: 100%|██████████| 40/40 [00:14<00:00,  2.72it/s]\n"
     ]
    },
    {
     "name": "stdout",
     "output_type": "stream",
     "text": [
      "Valid:\n",
      "loss: 0.5581, loss_Rec: 0.4185, loss_Dice: 0.1395, Dice: 0.8605, IoU: 0.8175\n",
      "Save best valid Dice !\n",
      "Save best valid Loss Dice !\n",
      "Current learning rate: 0.00092\n",
      "epoch 160 / 160 \t Time Taken: 55 sec\n",
      "best valid dice: 0.8605 at epoch: 160\n",
      "\n",
      "\n"
     ]
    },
    {
     "name": "stderr",
     "output_type": "stream",
     "text": [
      "Train: 100%|██████████| 42/42 [00:40<00:00,  1.03it/s]\n"
     ]
    },
    {
     "name": "stdout",
     "output_type": "stream",
     "text": [
      "Train:\n",
      "loss: 2.3158, loss_Rec: 1.6923, loss_Dice: 0.6235, IoU: 0.7383\n"
     ]
    },
    {
     "name": "stderr",
     "output_type": "stream",
     "text": [
      "Valid: 100%|██████████| 40/40 [00:14<00:00,  2.72it/s]\n"
     ]
    },
    {
     "name": "stdout",
     "output_type": "stream",
     "text": [
      "Valid:\n",
      "loss: 0.5145, loss_Rec: 0.3737, loss_Dice: 0.1408, Dice: 0.8592, IoU: 0.8185\n",
      "Save best valid Loss All !\n",
      "Save best valid Loss Rec !\n",
      "Current learning rate: 0.00091\n",
      "epoch 161 / 161 \t Time Taken: 55 sec\n",
      "best valid dice: 0.8605 at epoch: 160\n",
      "\n",
      "\n"
     ]
    },
    {
     "name": "stderr",
     "output_type": "stream",
     "text": [
      "Train:  90%|█████████ | 38/42 [00:37<00:03,  1.02it/s]"
     ]
    },
    {
     "name": "stdout",
     "output_type": "stream",
     "text": [
      "loss/loss tensor(1.1742, device='cuda:0', grad_fn=<AddBackward0>) 6800\n",
      "loss/loss_Rec tensor(0.8977, device='cuda:0', grad_fn=<AddBackward0>) 6800\n",
      "loss/loss_Dice tensor(0.2765, device='cuda:0', grad_fn=<AddBackward0>) 6800\n"
     ]
    },
    {
     "name": "stderr",
     "output_type": "stream",
     "text": [
      "Train: 100%|██████████| 42/42 [00:41<00:00,  1.01it/s]\n"
     ]
    },
    {
     "name": "stdout",
     "output_type": "stream",
     "text": [
      "Train:\n",
      "loss: 2.7865, loss_Rec: 2.0261, loss_Dice: 0.7604, IoU: 0.6845\n"
     ]
    },
    {
     "name": "stderr",
     "output_type": "stream",
     "text": [
      "Valid: 100%|██████████| 40/40 [00:14<00:00,  2.73it/s]\n"
     ]
    },
    {
     "name": "stdout",
     "output_type": "stream",
     "text": [
      "Valid:\n",
      "loss: 0.5431, loss_Rec: 0.3989, loss_Dice: 0.1441, Dice: 0.8559, IoU: 0.8160\n",
      "Current learning rate: 0.00090\n",
      "epoch 162 / 162 \t Time Taken: 56 sec\n",
      "best valid dice: 0.8605 at epoch: 160\n",
      "\n",
      "\n"
     ]
    },
    {
     "name": "stderr",
     "output_type": "stream",
     "text": [
      "Train: 100%|██████████| 42/42 [00:40<00:00,  1.03it/s]\n"
     ]
    },
    {
     "name": "stdout",
     "output_type": "stream",
     "text": [
      "Train:\n",
      "loss: 2.6393, loss_Rec: 1.9132, loss_Dice: 0.7261, IoU: 0.6748\n"
     ]
    },
    {
     "name": "stderr",
     "output_type": "stream",
     "text": [
      "Valid: 100%|██████████| 40/40 [00:14<00:00,  2.73it/s]\n"
     ]
    },
    {
     "name": "stdout",
     "output_type": "stream",
     "text": [
      "Valid:\n",
      "loss: 0.5210, loss_Rec: 0.3822, loss_Dice: 0.1388, Dice: 0.8612, IoU: 0.8204\n",
      "Save best valid Dice !\n",
      "Save best valid Loss Dice !\n",
      "Current learning rate: 0.00089\n",
      "epoch 163 / 163 \t Time Taken: 55 sec\n",
      "best valid dice: 0.8612 at epoch: 163\n",
      "\n",
      "\n"
     ]
    },
    {
     "name": "stderr",
     "output_type": "stream",
     "text": [
      "Train: 100%|██████████| 42/42 [00:41<00:00,  1.02it/s]\n"
     ]
    },
    {
     "name": "stdout",
     "output_type": "stream",
     "text": [
      "Train:\n",
      "loss: 2.5592, loss_Rec: 1.8485, loss_Dice: 0.7106, IoU: 0.7001\n"
     ]
    },
    {
     "name": "stderr",
     "output_type": "stream",
     "text": [
      "Valid: 100%|██████████| 40/40 [00:14<00:00,  2.72it/s]\n"
     ]
    },
    {
     "name": "stdout",
     "output_type": "stream",
     "text": [
      "Valid:\n",
      "loss: 0.5766, loss_Rec: 0.4199, loss_Dice: 0.1567, Dice: 0.8433, IoU: 0.8112\n",
      "Current learning rate: 0.00088\n",
      "epoch 164 / 164 \t Time Taken: 55 sec\n",
      "best valid dice: 0.8612 at epoch: 163\n",
      "\n",
      "\n"
     ]
    },
    {
     "name": "stderr",
     "output_type": "stream",
     "text": [
      "Train:  29%|██▊       | 12/42 [00:11<00:29,  1.03it/s]"
     ]
    },
    {
     "name": "stdout",
     "output_type": "stream",
     "text": [
      "loss/loss tensor(4.5392, device='cuda:0', grad_fn=<AddBackward0>) 6900\n",
      "loss/loss_Rec tensor(3.0343, device='cuda:0', grad_fn=<AddBackward0>) 6900\n",
      "loss/loss_Dice tensor(1.5049, device='cuda:0', grad_fn=<AddBackward0>) 6900\n"
     ]
    },
    {
     "name": "stderr",
     "output_type": "stream",
     "text": [
      "Train: 100%|██████████| 42/42 [00:40<00:00,  1.03it/s]\n"
     ]
    },
    {
     "name": "stdout",
     "output_type": "stream",
     "text": [
      "Train:\n",
      "loss: 2.5460, loss_Rec: 1.8491, loss_Dice: 0.6970, IoU: 0.6933\n"
     ]
    },
    {
     "name": "stderr",
     "output_type": "stream",
     "text": [
      "Valid: 100%|██████████| 40/40 [00:14<00:00,  2.72it/s]\n"
     ]
    },
    {
     "name": "stdout",
     "output_type": "stream",
     "text": [
      "Valid:\n",
      "loss: 0.7177, loss_Rec: 0.5219, loss_Dice: 0.1957, Dice: 0.8043, IoU: 0.7619\n",
      "Current learning rate: 0.00087\n",
      "epoch 165 / 165 \t Time Taken: 55 sec\n",
      "best valid dice: 0.8612 at epoch: 163\n",
      "\n",
      "\n"
     ]
    },
    {
     "name": "stderr",
     "output_type": "stream",
     "text": [
      "Train: 100%|██████████| 42/42 [00:41<00:00,  1.02it/s]\n"
     ]
    },
    {
     "name": "stdout",
     "output_type": "stream",
     "text": [
      "Train:\n",
      "loss: 2.9368, loss_Rec: 2.1495, loss_Dice: 0.7873, IoU: 0.6576\n"
     ]
    },
    {
     "name": "stderr",
     "output_type": "stream",
     "text": [
      "Valid: 100%|██████████| 40/40 [00:14<00:00,  2.72it/s]\n"
     ]
    },
    {
     "name": "stdout",
     "output_type": "stream",
     "text": [
      "Valid:\n",
      "loss: 0.5342, loss_Rec: 0.3919, loss_Dice: 0.1423, Dice: 0.8577, IoU: 0.8227\n",
      "Current learning rate: 0.00086\n",
      "epoch 166 / 166 \t Time Taken: 55 sec\n",
      "best valid dice: 0.8612 at epoch: 163\n",
      "\n",
      "\n"
     ]
    },
    {
     "name": "stderr",
     "output_type": "stream",
     "text": [
      "Train:  67%|██████▋   | 28/42 [00:27<00:13,  1.01it/s]"
     ]
    },
    {
     "name": "stdout",
     "output_type": "stream",
     "text": [
      "loss/loss tensor(3.1595, device='cuda:0', grad_fn=<AddBackward0>) 7000\n",
      "loss/loss_Rec tensor(2.2977, device='cuda:0', grad_fn=<AddBackward0>) 7000\n",
      "loss/loss_Dice tensor(0.8618, device='cuda:0', grad_fn=<AddBackward0>) 7000\n"
     ]
    },
    {
     "name": "stderr",
     "output_type": "stream",
     "text": [
      "Train: 100%|██████████| 42/42 [00:41<00:00,  1.02it/s]\n"
     ]
    },
    {
     "name": "stdout",
     "output_type": "stream",
     "text": [
      "Train:\n",
      "loss: 2.5310, loss_Rec: 1.8628, loss_Dice: 0.6683, IoU: 0.7243\n"
     ]
    },
    {
     "name": "stderr",
     "output_type": "stream",
     "text": [
      "Valid: 100%|██████████| 40/40 [00:14<00:00,  2.71it/s]\n"
     ]
    },
    {
     "name": "stdout",
     "output_type": "stream",
     "text": [
      "Valid:\n",
      "loss: 0.4916, loss_Rec: 0.3626, loss_Dice: 0.1291, Dice: 0.8709, IoU: 0.8280\n",
      "Save best valid Dice !\n",
      "Save best valid Loss All !\n",
      "Save best valid Loss Rec !\n",
      "Save best valid Loss Dice !\n",
      "Current learning rate: 0.00085\n",
      "epoch 167 / 167 \t Time Taken: 56 sec\n",
      "best valid dice: 0.8709 at epoch: 167\n",
      "\n",
      "\n"
     ]
    },
    {
     "name": "stderr",
     "output_type": "stream",
     "text": [
      "Train: 100%|██████████| 42/42 [00:41<00:00,  1.01it/s]\n"
     ]
    },
    {
     "name": "stdout",
     "output_type": "stream",
     "text": [
      "Train:\n",
      "loss: 2.5783, loss_Rec: 1.9076, loss_Dice: 0.6707, IoU: 0.7266\n"
     ]
    },
    {
     "name": "stderr",
     "output_type": "stream",
     "text": [
      "Valid: 100%|██████████| 40/40 [00:14<00:00,  2.73it/s]\n"
     ]
    },
    {
     "name": "stdout",
     "output_type": "stream",
     "text": [
      "Valid:\n",
      "loss: 0.5385, loss_Rec: 0.3958, loss_Dice: 0.1427, Dice: 0.8573, IoU: 0.8101\n",
      "Current learning rate: 0.00084\n",
      "epoch 168 / 168 \t Time Taken: 56 sec\n",
      "best valid dice: 0.8709 at epoch: 167\n",
      "\n",
      "\n"
     ]
    },
    {
     "name": "stderr",
     "output_type": "stream",
     "text": [
      "Train: 100%|██████████| 42/42 [00:41<00:00,  1.02it/s]\n"
     ]
    },
    {
     "name": "stdout",
     "output_type": "stream",
     "text": [
      "Train:\n",
      "loss: 2.2433, loss_Rec: 1.6648, loss_Dice: 0.5785, IoU: 0.7552\n"
     ]
    },
    {
     "name": "stderr",
     "output_type": "stream",
     "text": [
      "Valid: 100%|██████████| 40/40 [00:14<00:00,  2.72it/s]\n"
     ]
    },
    {
     "name": "stdout",
     "output_type": "stream",
     "text": [
      "Valid:\n",
      "loss: 0.5103, loss_Rec: 0.3761, loss_Dice: 0.1342, Dice: 0.8658, IoU: 0.8219\n",
      "Current learning rate: 0.00083\n",
      "epoch 169 / 169 \t Time Taken: 55 sec\n",
      "best valid dice: 0.8709 at epoch: 167\n",
      "\n",
      "\n"
     ]
    },
    {
     "name": "stderr",
     "output_type": "stream",
     "text": [
      "Train:   5%|▍         | 2/42 [00:01<00:38,  1.04it/s]"
     ]
    },
    {
     "name": "stdout",
     "output_type": "stream",
     "text": [
      "loss/loss tensor(4.0735, device='cuda:0', grad_fn=<AddBackward0>) 7100\n",
      "loss/loss_Rec tensor(3.1027, device='cuda:0', grad_fn=<AddBackward0>) 7100\n",
      "loss/loss_Dice tensor(0.9707, device='cuda:0', grad_fn=<AddBackward0>) 7100\n"
     ]
    },
    {
     "name": "stderr",
     "output_type": "stream",
     "text": [
      "Train: 100%|██████████| 42/42 [00:40<00:00,  1.02it/s]\n"
     ]
    },
    {
     "name": "stdout",
     "output_type": "stream",
     "text": [
      "Train:\n",
      "loss: 2.4188, loss_Rec: 1.7728, loss_Dice: 0.6460, IoU: 0.7332\n"
     ]
    },
    {
     "name": "stderr",
     "output_type": "stream",
     "text": [
      "Valid: 100%|██████████| 40/40 [00:14<00:00,  2.73it/s]\n"
     ]
    },
    {
     "name": "stdout",
     "output_type": "stream",
     "text": [
      "Valid:\n",
      "loss: 0.5632, loss_Rec: 0.4151, loss_Dice: 0.1480, Dice: 0.8520, IoU: 0.8172\n",
      "Current learning rate: 0.00081\n",
      "epoch 170 / 170 \t Time Taken: 55 sec\n",
      "best valid dice: 0.8709 at epoch: 167\n",
      "\n",
      "\n"
     ]
    },
    {
     "name": "stderr",
     "output_type": "stream",
     "text": [
      "Train: 100%|██████████| 42/42 [00:41<00:00,  1.02it/s]\n"
     ]
    },
    {
     "name": "stdout",
     "output_type": "stream",
     "text": [
      "Train:\n",
      "loss: 2.5439, loss_Rec: 1.8666, loss_Dice: 0.6773, IoU: 0.7135\n"
     ]
    },
    {
     "name": "stderr",
     "output_type": "stream",
     "text": [
      "Valid: 100%|██████████| 40/40 [00:14<00:00,  2.72it/s]\n"
     ]
    },
    {
     "name": "stdout",
     "output_type": "stream",
     "text": [
      "Valid:\n",
      "loss: 0.5284, loss_Rec: 0.3902, loss_Dice: 0.1382, Dice: 0.8618, IoU: 0.8245\n",
      "Current learning rate: 0.00080\n",
      "epoch 171 / 171 \t Time Taken: 56 sec\n",
      "best valid dice: 0.8709 at epoch: 167\n",
      "\n",
      "\n"
     ]
    },
    {
     "name": "stderr",
     "output_type": "stream",
     "text": [
      "Train:  43%|████▎     | 18/42 [00:17<00:23,  1.03it/s]"
     ]
    },
    {
     "name": "stdout",
     "output_type": "stream",
     "text": [
      "loss/loss tensor(4.5815, device='cuda:0', grad_fn=<AddBackward0>) 7200\n",
      "loss/loss_Rec tensor(3.4845, device='cuda:0', grad_fn=<AddBackward0>) 7200\n",
      "loss/loss_Dice tensor(1.0971, device='cuda:0', grad_fn=<AddBackward0>) 7200\n"
     ]
    },
    {
     "name": "stderr",
     "output_type": "stream",
     "text": [
      "Train: 100%|██████████| 42/42 [00:40<00:00,  1.03it/s]\n"
     ]
    },
    {
     "name": "stdout",
     "output_type": "stream",
     "text": [
      "Train:\n",
      "loss: 2.6419, loss_Rec: 1.9593, loss_Dice: 0.6826, IoU: 0.7257\n"
     ]
    },
    {
     "name": "stderr",
     "output_type": "stream",
     "text": [
      "Valid: 100%|██████████| 40/40 [00:14<00:00,  2.72it/s]\n"
     ]
    },
    {
     "name": "stdout",
     "output_type": "stream",
     "text": [
      "Valid:\n",
      "loss: 0.7078, loss_Rec: 0.5192, loss_Dice: 0.1886, Dice: 0.8114, IoU: 0.7503\n",
      "Current learning rate: 0.00079\n",
      "epoch 172 / 172 \t Time Taken: 55 sec\n",
      "best valid dice: 0.8709 at epoch: 167\n",
      "\n",
      "\n"
     ]
    },
    {
     "name": "stderr",
     "output_type": "stream",
     "text": [
      "Train: 100%|██████████| 42/42 [00:40<00:00,  1.03it/s]\n"
     ]
    },
    {
     "name": "stdout",
     "output_type": "stream",
     "text": [
      "Train:\n",
      "loss: 2.6894, loss_Rec: 1.9662, loss_Dice: 0.7231, IoU: 0.6973\n"
     ]
    },
    {
     "name": "stderr",
     "output_type": "stream",
     "text": [
      "Valid: 100%|██████████| 40/40 [00:14<00:00,  2.73it/s]\n"
     ]
    },
    {
     "name": "stdout",
     "output_type": "stream",
     "text": [
      "Valid:\n",
      "loss: 0.6175, loss_Rec: 0.4465, loss_Dice: 0.1710, Dice: 0.8290, IoU: 0.7976\n",
      "Current learning rate: 0.00078\n",
      "epoch 173 / 173 \t Time Taken: 55 sec\n",
      "best valid dice: 0.8709 at epoch: 167\n",
      "\n",
      "\n"
     ]
    },
    {
     "name": "stderr",
     "output_type": "stream",
     "text": [
      "Train:  81%|████████  | 34/42 [00:33<00:07,  1.01it/s]"
     ]
    },
    {
     "name": "stdout",
     "output_type": "stream",
     "text": [
      "loss/loss tensor(2.5070, device='cuda:0', grad_fn=<AddBackward0>) 7300\n",
      "loss/loss_Rec tensor(1.9142, device='cuda:0', grad_fn=<AddBackward0>) 7300\n",
      "loss/loss_Dice tensor(0.5928, device='cuda:0', grad_fn=<AddBackward0>) 7300\n"
     ]
    },
    {
     "name": "stderr",
     "output_type": "stream",
     "text": [
      "Train: 100%|██████████| 42/42 [00:41<00:00,  1.02it/s]\n"
     ]
    },
    {
     "name": "stdout",
     "output_type": "stream",
     "text": [
      "Train:\n",
      "loss: 2.6662, loss_Rec: 1.9504, loss_Dice: 0.7158, IoU: 0.7084\n"
     ]
    },
    {
     "name": "stderr",
     "output_type": "stream",
     "text": [
      "Valid: 100%|██████████| 40/40 [00:14<00:00,  2.73it/s]\n"
     ]
    },
    {
     "name": "stdout",
     "output_type": "stream",
     "text": [
      "Valid:\n",
      "loss: 0.6068, loss_Rec: 0.4366, loss_Dice: 0.1702, Dice: 0.8298, IoU: 0.7679\n",
      "Current learning rate: 0.00077\n",
      "epoch 174 / 174 \t Time Taken: 56 sec\n",
      "best valid dice: 0.8709 at epoch: 167\n",
      "\n",
      "\n"
     ]
    },
    {
     "name": "stderr",
     "output_type": "stream",
     "text": [
      "Train: 100%|██████████| 42/42 [00:41<00:00,  1.02it/s]\n"
     ]
    },
    {
     "name": "stdout",
     "output_type": "stream",
     "text": [
      "Train:\n",
      "loss: 2.4422, loss_Rec: 1.7946, loss_Dice: 0.6475, IoU: 0.7290\n"
     ]
    },
    {
     "name": "stderr",
     "output_type": "stream",
     "text": [
      "Valid: 100%|██████████| 40/40 [00:14<00:00,  2.73it/s]\n"
     ]
    },
    {
     "name": "stdout",
     "output_type": "stream",
     "text": [
      "Valid:\n",
      "loss: 0.5937, loss_Rec: 0.4308, loss_Dice: 0.1629, Dice: 0.8371, IoU: 0.7985\n",
      "Current learning rate: 0.00076\n",
      "epoch 175 / 175 \t Time Taken: 55 sec\n",
      "best valid dice: 0.8709 at epoch: 167\n",
      "\n",
      "\n"
     ]
    },
    {
     "name": "stderr",
     "output_type": "stream",
     "text": [
      "Train: 100%|██████████| 42/42 [00:41<00:00,  1.02it/s]\n"
     ]
    },
    {
     "name": "stdout",
     "output_type": "stream",
     "text": [
      "Train:\n",
      "loss: 2.6124, loss_Rec: 1.9185, loss_Dice: 0.6939, IoU: 0.7053\n"
     ]
    },
    {
     "name": "stderr",
     "output_type": "stream",
     "text": [
      "Valid: 100%|██████████| 40/40 [00:14<00:00,  2.73it/s]\n"
     ]
    },
    {
     "name": "stdout",
     "output_type": "stream",
     "text": [
      "Valid:\n",
      "loss: 0.4977, loss_Rec: 0.3634, loss_Dice: 0.1342, Dice: 0.8658, IoU: 0.8263\n",
      "Current learning rate: 0.00075\n",
      "epoch 176 / 176 \t Time Taken: 55 sec\n",
      "best valid dice: 0.8709 at epoch: 167\n",
      "\n",
      "\n"
     ]
    },
    {
     "name": "stderr",
     "output_type": "stream",
     "text": [
      "Train:  19%|█▉        | 8/42 [00:07<00:33,  1.02it/s]"
     ]
    },
    {
     "name": "stdout",
     "output_type": "stream",
     "text": [
      "loss/loss tensor(3.0500, device='cuda:0', grad_fn=<AddBackward0>) 7400\n",
      "loss/loss_Rec tensor(2.2344, device='cuda:0', grad_fn=<AddBackward0>) 7400\n",
      "loss/loss_Dice tensor(0.8156, device='cuda:0', grad_fn=<AddBackward0>) 7400\n"
     ]
    },
    {
     "name": "stderr",
     "output_type": "stream",
     "text": [
      "Train: 100%|██████████| 42/42 [00:41<00:00,  1.02it/s]\n"
     ]
    },
    {
     "name": "stdout",
     "output_type": "stream",
     "text": [
      "Train:\n",
      "loss: 2.4437, loss_Rec: 1.7990, loss_Dice: 0.6447, IoU: 0.7307\n"
     ]
    },
    {
     "name": "stderr",
     "output_type": "stream",
     "text": [
      "Valid: 100%|██████████| 40/40 [00:14<00:00,  2.71it/s]\n"
     ]
    },
    {
     "name": "stdout",
     "output_type": "stream",
     "text": [
      "Valid:\n",
      "loss: 0.5048, loss_Rec: 0.3731, loss_Dice: 0.1317, Dice: 0.8683, IoU: 0.8244\n",
      "Current learning rate: 0.00074\n",
      "epoch 177 / 177 \t Time Taken: 55 sec\n",
      "best valid dice: 0.8709 at epoch: 167\n",
      "\n",
      "\n"
     ]
    },
    {
     "name": "stderr",
     "output_type": "stream",
     "text": [
      "Train: 100%|██████████| 42/42 [00:40<00:00,  1.03it/s]\n"
     ]
    },
    {
     "name": "stdout",
     "output_type": "stream",
     "text": [
      "Train:\n",
      "loss: 2.1778, loss_Rec: 1.6054, loss_Dice: 0.5724, IoU: 0.7588\n"
     ]
    },
    {
     "name": "stderr",
     "output_type": "stream",
     "text": [
      "Valid: 100%|██████████| 40/40 [00:14<00:00,  2.71it/s]\n"
     ]
    },
    {
     "name": "stdout",
     "output_type": "stream",
     "text": [
      "Valid:\n",
      "loss: 0.4736, loss_Rec: 0.3495, loss_Dice: 0.1241, Dice: 0.8759, IoU: 0.8299\n",
      "Save best valid Dice !\n",
      "Save best valid Loss All !\n",
      "Save best valid Loss Rec !\n",
      "Save best valid Loss Dice !\n",
      "Current learning rate: 0.00073\n",
      "epoch 178 / 178 \t Time Taken: 55 sec\n",
      "best valid dice: 0.8759 at epoch: 178\n",
      "\n",
      "\n"
     ]
    },
    {
     "name": "stderr",
     "output_type": "stream",
     "text": [
      "Train:  57%|█████▋    | 24/42 [00:23<00:17,  1.03it/s]"
     ]
    },
    {
     "name": "stdout",
     "output_type": "stream",
     "text": [
      "loss/loss tensor(3.2761, device='cuda:0', grad_fn=<AddBackward0>) 7500\n",
      "loss/loss_Rec tensor(2.3500, device='cuda:0', grad_fn=<AddBackward0>) 7500\n",
      "loss/loss_Dice tensor(0.9261, device='cuda:0', grad_fn=<AddBackward0>) 7500\n"
     ]
    },
    {
     "name": "stderr",
     "output_type": "stream",
     "text": [
      "Train: 100%|██████████| 42/42 [00:41<00:00,  1.02it/s]\n"
     ]
    },
    {
     "name": "stdout",
     "output_type": "stream",
     "text": [
      "Train:\n",
      "loss: 2.2097, loss_Rec: 1.6350, loss_Dice: 0.5747, IoU: 0.7558\n"
     ]
    },
    {
     "name": "stderr",
     "output_type": "stream",
     "text": [
      "Valid: 100%|██████████| 40/40 [00:14<00:00,  2.71it/s]\n"
     ]
    },
    {
     "name": "stdout",
     "output_type": "stream",
     "text": [
      "Valid:\n",
      "loss: 0.4732, loss_Rec: 0.3448, loss_Dice: 0.1284, Dice: 0.8716, IoU: 0.8252\n",
      "Save best valid Loss All !\n",
      "Save best valid Loss Rec !\n",
      "Current learning rate: 0.00072\n",
      "epoch 179 / 179 \t Time Taken: 55 sec\n",
      "best valid dice: 0.8759 at epoch: 178\n",
      "\n",
      "\n"
     ]
    },
    {
     "name": "stderr",
     "output_type": "stream",
     "text": [
      "Train: 100%|██████████| 42/42 [00:41<00:00,  1.02it/s]\n"
     ]
    },
    {
     "name": "stdout",
     "output_type": "stream",
     "text": [
      "Train:\n",
      "loss: 2.6646, loss_Rec: 1.9700, loss_Dice: 0.6946, IoU: 0.7201\n"
     ]
    },
    {
     "name": "stderr",
     "output_type": "stream",
     "text": [
      "Valid: 100%|██████████| 40/40 [00:14<00:00,  2.72it/s]\n"
     ]
    },
    {
     "name": "stdout",
     "output_type": "stream",
     "text": [
      "Valid:\n",
      "loss: 0.6193, loss_Rec: 0.4378, loss_Dice: 0.1815, Dice: 0.8185, IoU: 0.8072\n",
      "Current learning rate: 0.00071\n",
      "epoch 180 / 180 \t Time Taken: 55 sec\n",
      "best valid dice: 0.8759 at epoch: 178\n",
      "\n",
      "\n"
     ]
    },
    {
     "name": "stderr",
     "output_type": "stream",
     "text": [
      "Train:  95%|█████████▌| 40/42 [00:39<00:01,  1.03it/s]"
     ]
    },
    {
     "name": "stdout",
     "output_type": "stream",
     "text": [
      "loss/loss tensor(1.6915, device='cuda:0', grad_fn=<AddBackward0>) 7600\n",
      "loss/loss_Rec tensor(1.1570, device='cuda:0', grad_fn=<AddBackward0>) 7600\n",
      "loss/loss_Dice tensor(0.5345, device='cuda:0', grad_fn=<AddBackward0>) 7600\n"
     ]
    },
    {
     "name": "stderr",
     "output_type": "stream",
     "text": [
      "Train: 100%|██████████| 42/42 [00:41<00:00,  1.02it/s]\n"
     ]
    },
    {
     "name": "stdout",
     "output_type": "stream",
     "text": [
      "Train:\n",
      "loss: 2.4938, loss_Rec: 1.8146, loss_Dice: 0.6792, IoU: 0.7114\n"
     ]
    },
    {
     "name": "stderr",
     "output_type": "stream",
     "text": [
      "Valid: 100%|██████████| 40/40 [00:14<00:00,  2.72it/s]\n"
     ]
    },
    {
     "name": "stdout",
     "output_type": "stream",
     "text": [
      "Valid:\n",
      "loss: 0.5081, loss_Rec: 0.3657, loss_Dice: 0.1424, Dice: 0.8576, IoU: 0.8236\n",
      "Current learning rate: 0.00070\n",
      "epoch 181 / 181 \t Time Taken: 55 sec\n",
      "best valid dice: 0.8759 at epoch: 178\n",
      "\n",
      "\n"
     ]
    },
    {
     "name": "stderr",
     "output_type": "stream",
     "text": [
      "Train: 100%|██████████| 42/42 [00:41<00:00,  1.01it/s]\n"
     ]
    },
    {
     "name": "stdout",
     "output_type": "stream",
     "text": [
      "Train:\n",
      "loss: 2.1962, loss_Rec: 1.6223, loss_Dice: 0.5739, IoU: 0.7580\n"
     ]
    },
    {
     "name": "stderr",
     "output_type": "stream",
     "text": [
      "Valid: 100%|██████████| 40/40 [00:14<00:00,  2.73it/s]\n"
     ]
    },
    {
     "name": "stdout",
     "output_type": "stream",
     "text": [
      "Valid:\n",
      "loss: 0.4850, loss_Rec: 0.3564, loss_Dice: 0.1286, Dice: 0.8714, IoU: 0.8217\n",
      "Current learning rate: 0.00069\n",
      "epoch 182 / 182 \t Time Taken: 56 sec\n",
      "best valid dice: 0.8759 at epoch: 178\n",
      "\n",
      "\n"
     ]
    },
    {
     "name": "stderr",
     "output_type": "stream",
     "text": [
      "Train: 100%|██████████| 42/42 [00:41<00:00,  1.02it/s]\n"
     ]
    },
    {
     "name": "stdout",
     "output_type": "stream",
     "text": [
      "Train:\n",
      "loss: 2.5392, loss_Rec: 1.8717, loss_Dice: 0.6674, IoU: 0.7228\n"
     ]
    },
    {
     "name": "stderr",
     "output_type": "stream",
     "text": [
      "Valid: 100%|██████████| 40/40 [00:14<00:00,  2.73it/s]\n"
     ]
    },
    {
     "name": "stdout",
     "output_type": "stream",
     "text": [
      "Valid:\n",
      "loss: 0.4646, loss_Rec: 0.3444, loss_Dice: 0.1202, Dice: 0.8798, IoU: 0.8387\n",
      "Save best valid Dice !\n",
      "Save best valid Loss All !\n",
      "Save best valid Loss Rec !\n",
      "Save best valid Loss Dice !\n",
      "Current learning rate: 0.00068\n",
      "epoch 183 / 183 \t Time Taken: 56 sec\n",
      "best valid dice: 0.8798 at epoch: 183\n",
      "\n",
      "\n"
     ]
    },
    {
     "name": "stderr",
     "output_type": "stream",
     "text": [
      "Train:  33%|███▎      | 14/42 [00:13<00:27,  1.02it/s]"
     ]
    },
    {
     "name": "stdout",
     "output_type": "stream",
     "text": [
      "loss/loss tensor(1.4288, device='cuda:0', grad_fn=<AddBackward0>) 7700\n",
      "loss/loss_Rec tensor(1.0956, device='cuda:0', grad_fn=<AddBackward0>) 7700\n",
      "loss/loss_Dice tensor(0.3332, device='cuda:0', grad_fn=<AddBackward0>) 7700\n"
     ]
    },
    {
     "name": "stderr",
     "output_type": "stream",
     "text": [
      "Train: 100%|██████████| 42/42 [00:40<00:00,  1.02it/s]\n"
     ]
    },
    {
     "name": "stdout",
     "output_type": "stream",
     "text": [
      "Train:\n",
      "loss: 2.1794, loss_Rec: 1.5959, loss_Dice: 0.5835, IoU: 0.7447\n"
     ]
    },
    {
     "name": "stderr",
     "output_type": "stream",
     "text": [
      "Valid: 100%|██████████| 40/40 [00:14<00:00,  2.72it/s]\n"
     ]
    },
    {
     "name": "stdout",
     "output_type": "stream",
     "text": [
      "Valid:\n",
      "loss: 0.4802, loss_Rec: 0.3491, loss_Dice: 0.1311, Dice: 0.8689, IoU: 0.8350\n",
      "Current learning rate: 0.00067\n",
      "epoch 184 / 184 \t Time Taken: 55 sec\n",
      "best valid dice: 0.8798 at epoch: 183\n",
      "\n",
      "\n"
     ]
    },
    {
     "name": "stderr",
     "output_type": "stream",
     "text": [
      "Train: 100%|██████████| 42/42 [00:41<00:00,  1.02it/s]\n"
     ]
    },
    {
     "name": "stdout",
     "output_type": "stream",
     "text": [
      "Train:\n",
      "loss: 2.2737, loss_Rec: 1.6454, loss_Dice: 0.6283, IoU: 0.7303\n"
     ]
    },
    {
     "name": "stderr",
     "output_type": "stream",
     "text": [
      "Valid: 100%|██████████| 40/40 [00:14<00:00,  2.73it/s]\n"
     ]
    },
    {
     "name": "stdout",
     "output_type": "stream",
     "text": [
      "Valid:\n",
      "loss: 0.4696, loss_Rec: 0.3438, loss_Dice: 0.1258, Dice: 0.8742, IoU: 0.8369\n",
      "Save best valid Loss Rec !\n",
      "Current learning rate: 0.00066\n",
      "epoch 185 / 185 \t Time Taken: 55 sec\n",
      "best valid dice: 0.8798 at epoch: 183\n",
      "\n",
      "\n"
     ]
    },
    {
     "name": "stderr",
     "output_type": "stream",
     "text": [
      "Train:  71%|███████▏  | 30/42 [00:29<00:11,  1.03it/s]"
     ]
    },
    {
     "name": "stdout",
     "output_type": "stream",
     "text": [
      "loss/loss tensor(1.1748, device='cuda:0', grad_fn=<AddBackward0>) 7800\n",
      "loss/loss_Rec tensor(0.7435, device='cuda:0', grad_fn=<AddBackward0>) 7800\n",
      "loss/loss_Dice tensor(0.4313, device='cuda:0', grad_fn=<AddBackward0>) 7800\n"
     ]
    },
    {
     "name": "stderr",
     "output_type": "stream",
     "text": [
      "Train: 100%|██████████| 42/42 [00:40<00:00,  1.03it/s]\n"
     ]
    },
    {
     "name": "stdout",
     "output_type": "stream",
     "text": [
      "Train:\n",
      "loss: 2.1853, loss_Rec: 1.6092, loss_Dice: 0.5762, IoU: 0.7547\n"
     ]
    },
    {
     "name": "stderr",
     "output_type": "stream",
     "text": [
      "Valid: 100%|██████████| 40/40 [00:14<00:00,  2.72it/s]\n"
     ]
    },
    {
     "name": "stdout",
     "output_type": "stream",
     "text": [
      "Valid:\n",
      "loss: 0.4622, loss_Rec: 0.3391, loss_Dice: 0.1231, Dice: 0.8769, IoU: 0.8343\n",
      "Save best valid Loss All !\n",
      "Save best valid Loss Rec !\n",
      "Current learning rate: 0.00065\n",
      "epoch 186 / 186 \t Time Taken: 55 sec\n",
      "best valid dice: 0.8798 at epoch: 183\n",
      "\n",
      "\n"
     ]
    },
    {
     "name": "stderr",
     "output_type": "stream",
     "text": [
      "Train: 100%|██████████| 42/42 [00:41<00:00,  1.02it/s]\n"
     ]
    },
    {
     "name": "stdout",
     "output_type": "stream",
     "text": [
      "Train:\n",
      "loss: 2.1731, loss_Rec: 1.5909, loss_Dice: 0.5823, IoU: 0.7598\n"
     ]
    },
    {
     "name": "stderr",
     "output_type": "stream",
     "text": [
      "Valid: 100%|██████████| 40/40 [00:14<00:00,  2.69it/s]\n"
     ]
    },
    {
     "name": "stdout",
     "output_type": "stream",
     "text": [
      "Valid:\n",
      "loss: 0.4686, loss_Rec: 0.3478, loss_Dice: 0.1208, Dice: 0.8792, IoU: 0.8262\n",
      "Current learning rate: 0.00064\n",
      "epoch 187 / 187 \t Time Taken: 55 sec\n",
      "best valid dice: 0.8798 at epoch: 183\n",
      "\n",
      "\n"
     ]
    },
    {
     "name": "stderr",
     "output_type": "stream",
     "text": [
      "Train: 100%|██████████| 42/42 [00:41<00:00,  1.01it/s]\n"
     ]
    },
    {
     "name": "stdout",
     "output_type": "stream",
     "text": [
      "Train:\n",
      "loss: 2.1968, loss_Rec: 1.5985, loss_Dice: 0.5983, IoU: 0.7406\n"
     ]
    },
    {
     "name": "stderr",
     "output_type": "stream",
     "text": [
      "Valid: 100%|██████████| 40/40 [00:14<00:00,  2.72it/s]\n"
     ]
    },
    {
     "name": "stdout",
     "output_type": "stream",
     "text": [
      "Valid:\n",
      "loss: 0.4431, loss_Rec: 0.3290, loss_Dice: 0.1141, Dice: 0.8859, IoU: 0.8424\n",
      "Save best valid Dice !\n",
      "Save best valid Loss All !\n",
      "Save best valid Loss Rec !\n",
      "Save best valid Loss Dice !\n",
      "Current learning rate: 0.00063\n",
      "epoch 188 / 188 \t Time Taken: 56 sec\n",
      "best valid dice: 0.8859 at epoch: 188\n",
      "\n",
      "\n"
     ]
    },
    {
     "name": "stderr",
     "output_type": "stream",
     "text": [
      "Train:  10%|▉         | 4/42 [00:03<00:37,  1.02it/s]"
     ]
    },
    {
     "name": "stdout",
     "output_type": "stream",
     "text": [
      "loss/loss tensor(2.9744, device='cuda:0', grad_fn=<AddBackward0>) 7900\n",
      "loss/loss_Rec tensor(2.2395, device='cuda:0', grad_fn=<AddBackward0>) 7900\n",
      "loss/loss_Dice tensor(0.7349, device='cuda:0', grad_fn=<AddBackward0>) 7900\n"
     ]
    },
    {
     "name": "stderr",
     "output_type": "stream",
     "text": [
      "Train: 100%|██████████| 42/42 [00:40<00:00,  1.02it/s]\n"
     ]
    },
    {
     "name": "stdout",
     "output_type": "stream",
     "text": [
      "Train:\n",
      "loss: 2.3089, loss_Rec: 1.6969, loss_Dice: 0.6121, IoU: 0.7468\n"
     ]
    },
    {
     "name": "stderr",
     "output_type": "stream",
     "text": [
      "Valid: 100%|██████████| 40/40 [00:14<00:00,  2.71it/s]\n"
     ]
    },
    {
     "name": "stdout",
     "output_type": "stream",
     "text": [
      "Valid:\n",
      "loss: 0.5618, loss_Rec: 0.4042, loss_Dice: 0.1577, Dice: 0.8423, IoU: 0.8239\n",
      "Current learning rate: 0.00062\n",
      "epoch 189 / 189 \t Time Taken: 55 sec\n",
      "best valid dice: 0.8859 at epoch: 188\n",
      "\n",
      "\n"
     ]
    },
    {
     "name": "stderr",
     "output_type": "stream",
     "text": [
      "Train: 100%|██████████| 42/42 [00:41<00:00,  1.01it/s]\n"
     ]
    },
    {
     "name": "stdout",
     "output_type": "stream",
     "text": [
      "Train:\n",
      "loss: 2.8984, loss_Rec: 2.1220, loss_Dice: 0.7764, IoU: 0.6648\n"
     ]
    },
    {
     "name": "stderr",
     "output_type": "stream",
     "text": [
      "Valid: 100%|██████████| 40/40 [00:14<00:00,  2.72it/s]\n"
     ]
    },
    {
     "name": "stdout",
     "output_type": "stream",
     "text": [
      "Valid:\n",
      "loss: 0.5085, loss_Rec: 0.3668, loss_Dice: 0.1417, Dice: 0.8583, IoU: 0.8124\n",
      "Current learning rate: 0.00061\n",
      "epoch 190 / 190 \t Time Taken: 56 sec\n",
      "best valid dice: 0.8859 at epoch: 188\n",
      "\n",
      "\n"
     ]
    },
    {
     "name": "stderr",
     "output_type": "stream",
     "text": [
      "Train:  48%|████▊     | 20/42 [00:19<00:21,  1.03it/s]"
     ]
    },
    {
     "name": "stdout",
     "output_type": "stream",
     "text": [
      "loss/loss tensor(2.7888, device='cuda:0', grad_fn=<AddBackward0>) 8000\n",
      "loss/loss_Rec tensor(2.0071, device='cuda:0', grad_fn=<AddBackward0>) 8000\n",
      "loss/loss_Dice tensor(0.7816, device='cuda:0', grad_fn=<AddBackward0>) 8000\n"
     ]
    },
    {
     "name": "stderr",
     "output_type": "stream",
     "text": [
      "Train: 100%|██████████| 42/42 [00:41<00:00,  1.02it/s]\n"
     ]
    },
    {
     "name": "stdout",
     "output_type": "stream",
     "text": [
      "Train:\n",
      "loss: 2.2618, loss_Rec: 1.6585, loss_Dice: 0.6033, IoU: 0.7496\n"
     ]
    },
    {
     "name": "stderr",
     "output_type": "stream",
     "text": [
      "Valid: 100%|██████████| 40/40 [00:14<00:00,  2.72it/s]\n"
     ]
    },
    {
     "name": "stdout",
     "output_type": "stream",
     "text": [
      "Valid:\n",
      "loss: 0.4458, loss_Rec: 0.3244, loss_Dice: 0.1214, Dice: 0.8786, IoU: 0.8372\n",
      "Save best valid Loss Rec !\n",
      "Current learning rate: 0.00060\n",
      "epoch 191 / 191 \t Time Taken: 55 sec\n",
      "best valid dice: 0.8859 at epoch: 188\n",
      "\n",
      "\n"
     ]
    },
    {
     "name": "stderr",
     "output_type": "stream",
     "text": [
      "Train: 100%|██████████| 42/42 [00:41<00:00,  1.02it/s]\n"
     ]
    },
    {
     "name": "stdout",
     "output_type": "stream",
     "text": [
      "Train:\n",
      "loss: 2.4434, loss_Rec: 1.8065, loss_Dice: 0.6370, IoU: 0.7358\n"
     ]
    },
    {
     "name": "stderr",
     "output_type": "stream",
     "text": [
      "Valid: 100%|██████████| 40/40 [00:14<00:00,  2.71it/s]\n"
     ]
    },
    {
     "name": "stdout",
     "output_type": "stream",
     "text": [
      "Valid:\n",
      "loss: 0.4536, loss_Rec: 0.3365, loss_Dice: 0.1171, Dice: 0.8829, IoU: 0.8396\n",
      "Current learning rate: 0.00059\n",
      "epoch 192 / 192 \t Time Taken: 55 sec\n",
      "best valid dice: 0.8859 at epoch: 188\n",
      "\n",
      "\n"
     ]
    },
    {
     "name": "stderr",
     "output_type": "stream",
     "text": [
      "Train:  86%|████████▌ | 36/42 [00:35<00:05,  1.02it/s]"
     ]
    },
    {
     "name": "stdout",
     "output_type": "stream",
     "text": [
      "loss/loss tensor(2.9023, device='cuda:0', grad_fn=<AddBackward0>) 8100\n",
      "loss/loss_Rec tensor(2.2684, device='cuda:0', grad_fn=<AddBackward0>) 8100\n",
      "loss/loss_Dice tensor(0.6338, device='cuda:0', grad_fn=<AddBackward0>) 8100\n"
     ]
    },
    {
     "name": "stderr",
     "output_type": "stream",
     "text": [
      "Train: 100%|██████████| 42/42 [00:41<00:00,  1.01it/s]\n"
     ]
    },
    {
     "name": "stdout",
     "output_type": "stream",
     "text": [
      "Train:\n",
      "loss: 2.4459, loss_Rec: 1.7939, loss_Dice: 0.6520, IoU: 0.7264\n"
     ]
    },
    {
     "name": "stderr",
     "output_type": "stream",
     "text": [
      "Valid: 100%|██████████| 40/40 [00:14<00:00,  2.73it/s]\n"
     ]
    },
    {
     "name": "stdout",
     "output_type": "stream",
     "text": [
      "Valid:\n",
      "loss: 0.4450, loss_Rec: 0.3256, loss_Dice: 0.1195, Dice: 0.8805, IoU: 0.8383\n",
      "Current learning rate: 0.00058\n",
      "epoch 193 / 193 \t Time Taken: 56 sec\n",
      "best valid dice: 0.8859 at epoch: 188\n",
      "\n",
      "\n"
     ]
    },
    {
     "name": "stderr",
     "output_type": "stream",
     "text": [
      "Train: 100%|██████████| 42/42 [00:41<00:00,  1.02it/s]\n"
     ]
    },
    {
     "name": "stdout",
     "output_type": "stream",
     "text": [
      "Train:\n",
      "loss: 2.4255, loss_Rec: 1.7729, loss_Dice: 0.6527, IoU: 0.7243\n"
     ]
    },
    {
     "name": "stderr",
     "output_type": "stream",
     "text": [
      "Valid: 100%|██████████| 40/40 [00:14<00:00,  2.72it/s]\n"
     ]
    },
    {
     "name": "stdout",
     "output_type": "stream",
     "text": [
      "Valid:\n",
      "loss: 0.4366, loss_Rec: 0.3210, loss_Dice: 0.1156, Dice: 0.8844, IoU: 0.8471\n",
      "Save best valid Loss All !\n",
      "Save best valid Loss Rec !\n",
      "Current learning rate: 0.00057\n",
      "epoch 194 / 194 \t Time Taken: 55 sec\n",
      "best valid dice: 0.8859 at epoch: 188\n",
      "\n",
      "\n"
     ]
    },
    {
     "name": "stderr",
     "output_type": "stream",
     "text": [
      "Train: 100%|██████████| 42/42 [00:41<00:00,  1.02it/s]\n"
     ]
    },
    {
     "name": "stdout",
     "output_type": "stream",
     "text": [
      "Train:\n",
      "loss: 2.0225, loss_Rec: 1.5055, loss_Dice: 0.5170, IoU: 0.7765\n"
     ]
    },
    {
     "name": "stderr",
     "output_type": "stream",
     "text": [
      "Valid: 100%|██████████| 40/40 [00:14<00:00,  2.71it/s]\n"
     ]
    },
    {
     "name": "stdout",
     "output_type": "stream",
     "text": [
      "Valid:\n",
      "loss: 0.4124, loss_Rec: 0.2985, loss_Dice: 0.1139, Dice: 0.8861, IoU: 0.8494\n",
      "Save best valid Dice !\n",
      "Save best valid Loss All !\n",
      "Save best valid Loss Rec !\n",
      "Save best valid Loss Dice !\n",
      "Current learning rate: 0.00056\n",
      "epoch 195 / 195 \t Time Taken: 56 sec\n",
      "best valid dice: 0.8861 at epoch: 195\n",
      "\n",
      "\n"
     ]
    },
    {
     "name": "stderr",
     "output_type": "stream",
     "text": [
      "Train:  24%|██▍       | 10/42 [00:09<00:32,  1.01s/it]"
     ]
    },
    {
     "name": "stdout",
     "output_type": "stream",
     "text": [
      "loss/loss tensor(3.1830, device='cuda:0', grad_fn=<AddBackward0>) 8200\n",
      "loss/loss_Rec tensor(2.4782, device='cuda:0', grad_fn=<AddBackward0>) 8200\n",
      "loss/loss_Dice tensor(0.7048, device='cuda:0', grad_fn=<AddBackward0>) 8200\n"
     ]
    },
    {
     "name": "stderr",
     "output_type": "stream",
     "text": [
      "Train: 100%|██████████| 42/42 [00:41<00:00,  1.00it/s]\n"
     ]
    },
    {
     "name": "stdout",
     "output_type": "stream",
     "text": [
      "Train:\n",
      "loss: 2.3327, loss_Rec: 1.7284, loss_Dice: 0.6043, IoU: 0.7463\n"
     ]
    },
    {
     "name": "stderr",
     "output_type": "stream",
     "text": [
      "Valid: 100%|██████████| 40/40 [00:14<00:00,  2.69it/s]\n"
     ]
    },
    {
     "name": "stdout",
     "output_type": "stream",
     "text": [
      "Valid:\n",
      "loss: 0.4916, loss_Rec: 0.3498, loss_Dice: 0.1418, Dice: 0.8582, IoU: 0.8332\n",
      "Current learning rate: 0.00055\n",
      "epoch 196 / 196 \t Time Taken: 56 sec\n",
      "best valid dice: 0.8861 at epoch: 195\n",
      "\n",
      "\n"
     ]
    },
    {
     "name": "stderr",
     "output_type": "stream",
     "text": [
      "Train: 100%|██████████| 42/42 [00:41<00:00,  1.00it/s]\n"
     ]
    },
    {
     "name": "stdout",
     "output_type": "stream",
     "text": [
      "Train:\n",
      "loss: 2.2721, loss_Rec: 1.6746, loss_Dice: 0.5975, IoU: 0.7480\n"
     ]
    },
    {
     "name": "stderr",
     "output_type": "stream",
     "text": [
      "Valid: 100%|██████████| 40/40 [00:14<00:00,  2.69it/s]\n"
     ]
    },
    {
     "name": "stdout",
     "output_type": "stream",
     "text": [
      "Valid:\n",
      "loss: 0.5041, loss_Rec: 0.3612, loss_Dice: 0.1429, Dice: 0.8571, IoU: 0.8223\n",
      "Current learning rate: 0.00054\n",
      "epoch 197 / 197 \t Time Taken: 56 sec\n",
      "best valid dice: 0.8861 at epoch: 195\n",
      "\n",
      "\n"
     ]
    },
    {
     "name": "stderr",
     "output_type": "stream",
     "text": [
      "Train:  62%|██████▏   | 26/42 [00:25<00:15,  1.02it/s]"
     ]
    },
    {
     "name": "stdout",
     "output_type": "stream",
     "text": [
      "loss/loss tensor(2.8577, device='cuda:0', grad_fn=<AddBackward0>) 8300\n",
      "loss/loss_Rec tensor(2.0872, device='cuda:0', grad_fn=<AddBackward0>) 8300\n",
      "loss/loss_Dice tensor(0.7705, device='cuda:0', grad_fn=<AddBackward0>) 8300\n"
     ]
    },
    {
     "name": "stderr",
     "output_type": "stream",
     "text": [
      "Train: 100%|██████████| 42/42 [00:41<00:00,  1.01it/s]\n"
     ]
    },
    {
     "name": "stdout",
     "output_type": "stream",
     "text": [
      "Train:\n",
      "loss: 2.0209, loss_Rec: 1.4930, loss_Dice: 0.5280, IoU: 0.7760\n"
     ]
    },
    {
     "name": "stderr",
     "output_type": "stream",
     "text": [
      "Valid: 100%|██████████| 40/40 [00:14<00:00,  2.68it/s]\n"
     ]
    },
    {
     "name": "stdout",
     "output_type": "stream",
     "text": [
      "Valid:\n",
      "loss: 0.4470, loss_Rec: 0.3309, loss_Dice: 0.1162, Dice: 0.8838, IoU: 0.8371\n",
      "Current learning rate: 0.00053\n",
      "epoch 198 / 198 \t Time Taken: 56 sec\n",
      "best valid dice: 0.8861 at epoch: 195\n",
      "\n",
      "\n"
     ]
    },
    {
     "name": "stderr",
     "output_type": "stream",
     "text": [
      "Train: 100%|██████████| 42/42 [00:41<00:00,  1.01it/s]\n"
     ]
    },
    {
     "name": "stdout",
     "output_type": "stream",
     "text": [
      "Train:\n",
      "loss: 2.4574, loss_Rec: 1.7948, loss_Dice: 0.6626, IoU: 0.7190\n"
     ]
    },
    {
     "name": "stderr",
     "output_type": "stream",
     "text": [
      "Valid: 100%|██████████| 40/40 [00:14<00:00,  2.71it/s]\n"
     ]
    },
    {
     "name": "stdout",
     "output_type": "stream",
     "text": [
      "Valid:\n",
      "loss: 0.4276, loss_Rec: 0.3161, loss_Dice: 0.1116, Dice: 0.8884, IoU: 0.8453\n",
      "Save best valid Dice !\n",
      "Save best valid Loss Dice !\n",
      "Current learning rate: 0.00052\n",
      "epoch 199 / 199 \t Time Taken: 56 sec\n",
      "best valid dice: 0.8884 at epoch: 199\n",
      "\n",
      "\n"
     ]
    },
    {
     "name": "stderr",
     "output_type": "stream",
     "text": [
      "Train: 100%|██████████| 42/42 [00:41<00:00,  1.02it/s]\n"
     ]
    },
    {
     "name": "stdout",
     "output_type": "stream",
     "text": [
      "loss/loss tensor(1.6745, device='cuda:0', grad_fn=<AddBackward0>) 8400\n",
      "loss/loss_Rec tensor(1.2836, device='cuda:0', grad_fn=<AddBackward0>) 8400\n",
      "loss/loss_Dice tensor(0.3909, device='cuda:0', grad_fn=<AddBackward0>) 8400\n",
      "Train:\n",
      "loss: 2.2068, loss_Rec: 1.6341, loss_Dice: 0.5727, IoU: 0.7607\n"
     ]
    },
    {
     "name": "stderr",
     "output_type": "stream",
     "text": [
      "Valid: 100%|██████████| 40/40 [00:14<00:00,  2.69it/s]\n"
     ]
    },
    {
     "name": "stdout",
     "output_type": "stream",
     "text": [
      "Valid:\n",
      "loss: 0.4332, loss_Rec: 0.3192, loss_Dice: 0.1139, Dice: 0.8861, IoU: 0.8410\n",
      "Current learning rate: 0.00052\n",
      "epoch 200 / 200 \t Time Taken: 56 sec\n",
      "best valid dice: 0.8884 at epoch: 199\n",
      "\n",
      "\n"
     ]
    },
    {
     "name": "stderr",
     "output_type": "stream",
     "text": [
      "Train: 100%|██████████| 42/42 [00:41<00:00,  1.01it/s]\n"
     ]
    },
    {
     "name": "stdout",
     "output_type": "stream",
     "text": [
      "Train:\n",
      "loss: 2.4959, loss_Rec: 1.8588, loss_Dice: 0.6371, IoU: 0.7332\n"
     ]
    },
    {
     "name": "stderr",
     "output_type": "stream",
     "text": [
      "Valid: 100%|██████████| 40/40 [00:14<00:00,  2.72it/s]\n"
     ]
    },
    {
     "name": "stdout",
     "output_type": "stream",
     "text": [
      "Valid:\n",
      "loss: 0.4378, loss_Rec: 0.3186, loss_Dice: 0.1193, Dice: 0.8807, IoU: 0.8476\n",
      "Current learning rate: 0.00051\n",
      "epoch 201 / 201 \t Time Taken: 56 sec\n",
      "best valid dice: 0.8884 at epoch: 199\n",
      "\n",
      "\n"
     ]
    },
    {
     "name": "stderr",
     "output_type": "stream",
     "text": [
      "Train: 100%|██████████| 42/42 [00:41<00:00,  1.02it/s]\n"
     ]
    },
    {
     "name": "stdout",
     "output_type": "stream",
     "text": [
      "Train:\n",
      "loss: 2.3946, loss_Rec: 1.7692, loss_Dice: 0.6254, IoU: 0.7416\n"
     ]
    },
    {
     "name": "stderr",
     "output_type": "stream",
     "text": [
      "Valid: 100%|██████████| 40/40 [00:14<00:00,  2.70it/s]\n"
     ]
    },
    {
     "name": "stdout",
     "output_type": "stream",
     "text": [
      "Valid:\n",
      "loss: 0.4064, loss_Rec: 0.3000, loss_Dice: 0.1064, Dice: 0.8936, IoU: 0.8525\n",
      "Save best valid Dice !\n",
      "Save best valid Loss All !\n",
      "Save best valid Loss Dice !\n",
      "Current learning rate: 0.00050\n",
      "epoch 202 / 202 \t Time Taken: 56 sec\n",
      "best valid dice: 0.8936 at epoch: 202\n",
      "\n",
      "\n"
     ]
    },
    {
     "name": "stderr",
     "output_type": "stream",
     "text": [
      "Train:  38%|███▊      | 16/42 [00:15<00:25,  1.03it/s]"
     ]
    },
    {
     "name": "stdout",
     "output_type": "stream",
     "text": [
      "loss/loss tensor(3.8512, device='cuda:0', grad_fn=<AddBackward0>) 8500\n",
      "loss/loss_Rec tensor(2.9321, device='cuda:0', grad_fn=<AddBackward0>) 8500\n",
      "loss/loss_Dice tensor(0.9191, device='cuda:0', grad_fn=<AddBackward0>) 8500\n"
     ]
    },
    {
     "name": "stderr",
     "output_type": "stream",
     "text": [
      "Train: 100%|██████████| 42/42 [00:41<00:00,  1.02it/s]\n"
     ]
    },
    {
     "name": "stdout",
     "output_type": "stream",
     "text": [
      "Train:\n",
      "loss: 2.0149, loss_Rec: 1.5097, loss_Dice: 0.5052, IoU: 0.7769\n"
     ]
    },
    {
     "name": "stderr",
     "output_type": "stream",
     "text": [
      "Valid: 100%|██████████| 40/40 [00:14<00:00,  2.69it/s]\n"
     ]
    },
    {
     "name": "stdout",
     "output_type": "stream",
     "text": [
      "Valid:\n",
      "loss: 0.4313, loss_Rec: 0.3106, loss_Dice: 0.1208, Dice: 0.8792, IoU: 0.8527\n",
      "Current learning rate: 0.00049\n",
      "epoch 203 / 203 \t Time Taken: 55 sec\n",
      "best valid dice: 0.8936 at epoch: 202\n",
      "\n",
      "\n"
     ]
    },
    {
     "name": "stderr",
     "output_type": "stream",
     "text": [
      "Train: 100%|██████████| 42/42 [00:41<00:00,  1.01it/s]\n"
     ]
    },
    {
     "name": "stdout",
     "output_type": "stream",
     "text": [
      "Train:\n",
      "loss: 2.5324, loss_Rec: 1.8533, loss_Dice: 0.6791, IoU: 0.7216\n"
     ]
    },
    {
     "name": "stderr",
     "output_type": "stream",
     "text": [
      "Valid: 100%|██████████| 40/40 [00:14<00:00,  2.70it/s]\n"
     ]
    },
    {
     "name": "stdout",
     "output_type": "stream",
     "text": [
      "Valid:\n",
      "loss: 0.4251, loss_Rec: 0.3167, loss_Dice: 0.1084, Dice: 0.8916, IoU: 0.8549\n",
      "Current learning rate: 0.00048\n",
      "epoch 204 / 204 \t Time Taken: 56 sec\n",
      "best valid dice: 0.8936 at epoch: 202\n",
      "\n",
      "\n"
     ]
    },
    {
     "name": "stderr",
     "output_type": "stream",
     "text": [
      "Train:  76%|███████▌  | 32/42 [00:32<00:09,  1.01it/s]"
     ]
    },
    {
     "name": "stdout",
     "output_type": "stream",
     "text": [
      "loss/loss tensor(1.5417, device='cuda:0', grad_fn=<AddBackward0>) 8600\n",
      "loss/loss_Rec tensor(1.1310, device='cuda:0', grad_fn=<AddBackward0>) 8600\n",
      "loss/loss_Dice tensor(0.4107, device='cuda:0', grad_fn=<AddBackward0>) 8600\n"
     ]
    },
    {
     "name": "stderr",
     "output_type": "stream",
     "text": [
      "Train: 100%|██████████| 42/42 [00:42<00:00,  1.01s/it]\n"
     ]
    },
    {
     "name": "stdout",
     "output_type": "stream",
     "text": [
      "Train:\n",
      "loss: 2.4435, loss_Rec: 1.7970, loss_Dice: 0.6465, IoU: 0.7342\n"
     ]
    },
    {
     "name": "stderr",
     "output_type": "stream",
     "text": [
      "Valid: 100%|██████████| 40/40 [00:15<00:00,  2.67it/s]\n"
     ]
    },
    {
     "name": "stdout",
     "output_type": "stream",
     "text": [
      "Valid:\n",
      "loss: 0.4417, loss_Rec: 0.3227, loss_Dice: 0.1190, Dice: 0.8810, IoU: 0.8485\n",
      "Current learning rate: 0.00047\n",
      "epoch 205 / 205 \t Time Taken: 57 sec\n",
      "best valid dice: 0.8936 at epoch: 202\n",
      "\n",
      "\n"
     ]
    },
    {
     "name": "stderr",
     "output_type": "stream",
     "text": [
      "Train: 100%|██████████| 42/42 [00:41<00:00,  1.01it/s]\n"
     ]
    },
    {
     "name": "stdout",
     "output_type": "stream",
     "text": [
      "Train:\n",
      "loss: 1.9148, loss_Rec: 1.4222, loss_Dice: 0.4926, IoU: 0.7869\n"
     ]
    },
    {
     "name": "stderr",
     "output_type": "stream",
     "text": [
      "Valid: 100%|██████████| 40/40 [00:15<00:00,  2.64it/s]\n"
     ]
    },
    {
     "name": "stdout",
     "output_type": "stream",
     "text": [
      "Valid:\n",
      "loss: 0.4021, loss_Rec: 0.2981, loss_Dice: 0.1040, Dice: 0.8960, IoU: 0.8579\n",
      "Save best valid Dice !\n",
      "Save best valid Loss All !\n",
      "Save best valid Loss Rec !\n",
      "Save best valid Loss Dice !\n",
      "Current learning rate: 0.00046\n",
      "epoch 206 / 206 \t Time Taken: 57 sec\n",
      "best valid dice: 0.8960 at epoch: 206\n",
      "\n",
      "\n"
     ]
    },
    {
     "name": "stderr",
     "output_type": "stream",
     "text": [
      "Train: 100%|██████████| 42/42 [00:41<00:00,  1.01it/s]\n"
     ]
    },
    {
     "name": "stdout",
     "output_type": "stream",
     "text": [
      "Train:\n",
      "loss: 2.1292, loss_Rec: 1.5764, loss_Dice: 0.5528, IoU: 0.7660\n"
     ]
    },
    {
     "name": "stderr",
     "output_type": "stream",
     "text": [
      "Valid: 100%|██████████| 40/40 [00:14<00:00,  2.69it/s]\n"
     ]
    },
    {
     "name": "stdout",
     "output_type": "stream",
     "text": [
      "Valid:\n",
      "loss: 0.3919, loss_Rec: 0.2925, loss_Dice: 0.0995, Dice: 0.9005, IoU: 0.8595\n",
      "Save best valid Dice !\n",
      "Save best valid Loss All !\n",
      "Save best valid Loss Rec !\n",
      "Save best valid Loss Dice !\n",
      "Current learning rate: 0.00045\n",
      "epoch 207 / 207 \t Time Taken: 56 sec\n",
      "best valid dice: 0.9005 at epoch: 207\n",
      "\n",
      "\n"
     ]
    },
    {
     "name": "stderr",
     "output_type": "stream",
     "text": [
      "Train:  14%|█▍        | 6/42 [00:05<00:36,  1.01s/it]"
     ]
    },
    {
     "name": "stdout",
     "output_type": "stream",
     "text": [
      "loss/loss tensor(3.5196, device='cuda:0', grad_fn=<AddBackward0>) 8700\n",
      "loss/loss_Rec tensor(2.7347, device='cuda:0', grad_fn=<AddBackward0>) 8700\n",
      "loss/loss_Dice tensor(0.7849, device='cuda:0', grad_fn=<AddBackward0>) 8700\n"
     ]
    },
    {
     "name": "stderr",
     "output_type": "stream",
     "text": [
      "Train: 100%|██████████| 42/42 [00:41<00:00,  1.01it/s]\n"
     ]
    },
    {
     "name": "stdout",
     "output_type": "stream",
     "text": [
      "Train:\n",
      "loss: 2.2128, loss_Rec: 1.6139, loss_Dice: 0.5989, IoU: 0.7508\n"
     ]
    },
    {
     "name": "stderr",
     "output_type": "stream",
     "text": [
      "Valid: 100%|██████████| 40/40 [00:14<00:00,  2.72it/s]\n"
     ]
    },
    {
     "name": "stdout",
     "output_type": "stream",
     "text": [
      "Valid:\n",
      "loss: 0.4810, loss_Rec: 0.3564, loss_Dice: 0.1246, Dice: 0.8754, IoU: 0.8246\n",
      "Current learning rate: 0.00044\n",
      "epoch 208 / 208 \t Time Taken: 56 sec\n",
      "best valid dice: 0.9005 at epoch: 207\n",
      "\n",
      "\n"
     ]
    },
    {
     "name": "stderr",
     "output_type": "stream",
     "text": [
      "Train: 100%|██████████| 42/42 [00:41<00:00,  1.01it/s]\n"
     ]
    },
    {
     "name": "stdout",
     "output_type": "stream",
     "text": [
      "Train:\n",
      "loss: 2.3599, loss_Rec: 1.7442, loss_Dice: 0.6156, IoU: 0.7448\n"
     ]
    },
    {
     "name": "stderr",
     "output_type": "stream",
     "text": [
      "Valid: 100%|██████████| 40/40 [00:14<00:00,  2.70it/s]\n"
     ]
    },
    {
     "name": "stdout",
     "output_type": "stream",
     "text": [
      "Valid:\n",
      "loss: 0.4269, loss_Rec: 0.3175, loss_Dice: 0.1094, Dice: 0.8906, IoU: 0.8414\n",
      "Current learning rate: 0.00043\n",
      "epoch 209 / 209 \t Time Taken: 56 sec\n",
      "best valid dice: 0.9005 at epoch: 207\n",
      "\n",
      "\n"
     ]
    },
    {
     "name": "stderr",
     "output_type": "stream",
     "text": [
      "Train:  52%|█████▏    | 22/42 [00:21<00:19,  1.03it/s]"
     ]
    },
    {
     "name": "stdout",
     "output_type": "stream",
     "text": [
      "loss/loss tensor(1.4349, device='cuda:0', grad_fn=<AddBackward0>) 8800\n",
      "loss/loss_Rec tensor(1.1120, device='cuda:0', grad_fn=<AddBackward0>) 8800\n",
      "loss/loss_Dice tensor(0.3230, device='cuda:0', grad_fn=<AddBackward0>) 8800\n"
     ]
    },
    {
     "name": "stderr",
     "output_type": "stream",
     "text": [
      "Train: 100%|██████████| 42/42 [00:41<00:00,  1.01it/s]\n"
     ]
    },
    {
     "name": "stdout",
     "output_type": "stream",
     "text": [
      "Train:\n",
      "loss: 2.2556, loss_Rec: 1.6868, loss_Dice: 0.5688, IoU: 0.7554\n"
     ]
    },
    {
     "name": "stderr",
     "output_type": "stream",
     "text": [
      "Valid: 100%|██████████| 40/40 [00:14<00:00,  2.69it/s]\n"
     ]
    },
    {
     "name": "stdout",
     "output_type": "stream",
     "text": [
      "Valid:\n",
      "loss: 0.4206, loss_Rec: 0.3063, loss_Dice: 0.1142, Dice: 0.8858, IoU: 0.8502\n",
      "Current learning rate: 0.00043\n",
      "epoch 210 / 210 \t Time Taken: 56 sec\n",
      "best valid dice: 0.9005 at epoch: 207\n",
      "\n",
      "\n"
     ]
    },
    {
     "name": "stderr",
     "output_type": "stream",
     "text": [
      "Train: 100%|██████████| 42/42 [00:41<00:00,  1.00it/s]\n"
     ]
    },
    {
     "name": "stdout",
     "output_type": "stream",
     "text": [
      "Train:\n",
      "loss: 1.8960, loss_Rec: 1.3902, loss_Dice: 0.5058, IoU: 0.7866\n"
     ]
    },
    {
     "name": "stderr",
     "output_type": "stream",
     "text": [
      "Valid: 100%|██████████| 40/40 [00:14<00:00,  2.69it/s]\n"
     ]
    },
    {
     "name": "stdout",
     "output_type": "stream",
     "text": [
      "Valid:\n",
      "loss: 0.3929, loss_Rec: 0.2891, loss_Dice: 0.1039, Dice: 0.8961, IoU: 0.8530\n",
      "Save best valid Loss Rec !\n",
      "Current learning rate: 0.00042\n",
      "epoch 211 / 211 \t Time Taken: 56 sec\n",
      "best valid dice: 0.9005 at epoch: 207\n",
      "\n",
      "\n"
     ]
    },
    {
     "name": "stderr",
     "output_type": "stream",
     "text": [
      "Train:  90%|█████████ | 38/42 [00:37<00:03,  1.00it/s]"
     ]
    },
    {
     "name": "stdout",
     "output_type": "stream",
     "text": [
      "loss/loss tensor(0.8754, device='cuda:0', grad_fn=<AddBackward0>) 8900\n",
      "loss/loss_Rec tensor(0.6261, device='cuda:0', grad_fn=<AddBackward0>) 8900\n",
      "loss/loss_Dice tensor(0.2493, device='cuda:0', grad_fn=<AddBackward0>) 8900\n"
     ]
    },
    {
     "name": "stderr",
     "output_type": "stream",
     "text": [
      "Train: 100%|██████████| 42/42 [00:41<00:00,  1.01it/s]\n"
     ]
    },
    {
     "name": "stdout",
     "output_type": "stream",
     "text": [
      "Train:\n",
      "loss: 2.0043, loss_Rec: 1.4765, loss_Dice: 0.5278, IoU: 0.7691\n"
     ]
    },
    {
     "name": "stderr",
     "output_type": "stream",
     "text": [
      "Valid: 100%|██████████| 40/40 [00:14<00:00,  2.70it/s]\n"
     ]
    },
    {
     "name": "stdout",
     "output_type": "stream",
     "text": [
      "Valid:\n",
      "loss: 0.3985, loss_Rec: 0.2900, loss_Dice: 0.1085, Dice: 0.8915, IoU: 0.8540\n",
      "Current learning rate: 0.00041\n",
      "epoch 212 / 212 \t Time Taken: 56 sec\n",
      "best valid dice: 0.9005 at epoch: 207\n",
      "\n",
      "\n"
     ]
    },
    {
     "name": "stderr",
     "output_type": "stream",
     "text": [
      "Train: 100%|██████████| 42/42 [00:41<00:00,  1.01it/s]\n"
     ]
    },
    {
     "name": "stdout",
     "output_type": "stream",
     "text": [
      "Train:\n",
      "loss: 1.9910, loss_Rec: 1.4668, loss_Dice: 0.5242, IoU: 0.7764\n"
     ]
    },
    {
     "name": "stderr",
     "output_type": "stream",
     "text": [
      "Valid: 100%|██████████| 40/40 [00:14<00:00,  2.69it/s]\n"
     ]
    },
    {
     "name": "stdout",
     "output_type": "stream",
     "text": [
      "Valid:\n",
      "loss: 0.3959, loss_Rec: 0.2922, loss_Dice: 0.1036, Dice: 0.8964, IoU: 0.8527\n",
      "Current learning rate: 0.00040\n",
      "epoch 213 / 213 \t Time Taken: 56 sec\n",
      "best valid dice: 0.9005 at epoch: 207\n",
      "\n",
      "\n"
     ]
    },
    {
     "name": "stderr",
     "output_type": "stream",
     "text": [
      "Train: 100%|██████████| 42/42 [00:41<00:00,  1.01it/s]\n"
     ]
    },
    {
     "name": "stdout",
     "output_type": "stream",
     "text": [
      "Train:\n",
      "loss: 2.2457, loss_Rec: 1.6540, loss_Dice: 0.5917, IoU: 0.7514\n"
     ]
    },
    {
     "name": "stderr",
     "output_type": "stream",
     "text": [
      "Valid: 100%|██████████| 40/40 [00:14<00:00,  2.69it/s]\n"
     ]
    },
    {
     "name": "stdout",
     "output_type": "stream",
     "text": [
      "Valid:\n",
      "loss: 0.3914, loss_Rec: 0.2881, loss_Dice: 0.1034, Dice: 0.8966, IoU: 0.8507\n",
      "Save best valid Loss All !\n",
      "Save best valid Loss Rec !\n",
      "Current learning rate: 0.00039\n",
      "epoch 214 / 214 \t Time Taken: 56 sec\n",
      "best valid dice: 0.9005 at epoch: 207\n",
      "\n",
      "\n"
     ]
    },
    {
     "name": "stderr",
     "output_type": "stream",
     "text": [
      "Train:  29%|██▊       | 12/42 [00:11<00:29,  1.01it/s]"
     ]
    },
    {
     "name": "stdout",
     "output_type": "stream",
     "text": [
      "loss/loss tensor(1.6248, device='cuda:0', grad_fn=<AddBackward0>) 9000\n",
      "loss/loss_Rec tensor(1.2067, device='cuda:0', grad_fn=<AddBackward0>) 9000\n",
      "loss/loss_Dice tensor(0.4181, device='cuda:0', grad_fn=<AddBackward0>) 9000\n"
     ]
    },
    {
     "name": "stderr",
     "output_type": "stream",
     "text": [
      "Train: 100%|██████████| 42/42 [00:41<00:00,  1.01it/s]\n"
     ]
    },
    {
     "name": "stdout",
     "output_type": "stream",
     "text": [
      "Train:\n",
      "loss: 2.1093, loss_Rec: 1.5371, loss_Dice: 0.5722, IoU: 0.7566\n"
     ]
    },
    {
     "name": "stderr",
     "output_type": "stream",
     "text": [
      "Valid: 100%|██████████| 40/40 [00:14<00:00,  2.69it/s]\n"
     ]
    },
    {
     "name": "stdout",
     "output_type": "stream",
     "text": [
      "Valid:\n",
      "loss: 0.3796, loss_Rec: 0.2816, loss_Dice: 0.0981, Dice: 0.9019, IoU: 0.8600\n",
      "Save best valid Dice !\n",
      "Save best valid Loss All !\n",
      "Save best valid Loss Rec !\n",
      "Save best valid Loss Dice !\n",
      "Current learning rate: 0.00038\n",
      "epoch 215 / 215 \t Time Taken: 56 sec\n",
      "best valid dice: 0.9019 at epoch: 215\n",
      "\n",
      "\n"
     ]
    },
    {
     "name": "stderr",
     "output_type": "stream",
     "text": [
      "Train: 100%|██████████| 42/42 [00:41<00:00,  1.00it/s]\n"
     ]
    },
    {
     "name": "stdout",
     "output_type": "stream",
     "text": [
      "Train:\n",
      "loss: 2.6784, loss_Rec: 1.9642, loss_Dice: 0.7142, IoU: 0.6988\n"
     ]
    },
    {
     "name": "stderr",
     "output_type": "stream",
     "text": [
      "Valid: 100%|██████████| 40/40 [00:14<00:00,  2.71it/s]\n"
     ]
    },
    {
     "name": "stdout",
     "output_type": "stream",
     "text": [
      "Valid:\n",
      "loss: 0.3797, loss_Rec: 0.2804, loss_Dice: 0.0993, Dice: 0.9007, IoU: 0.8582\n",
      "Save best valid Loss Rec !\n",
      "Current learning rate: 0.00037\n",
      "epoch 216 / 216 \t Time Taken: 56 sec\n",
      "best valid dice: 0.9019 at epoch: 215\n",
      "\n",
      "\n"
     ]
    },
    {
     "name": "stderr",
     "output_type": "stream",
     "text": [
      "Train:  67%|██████▋   | 28/42 [00:27<00:13,  1.02it/s]"
     ]
    },
    {
     "name": "stdout",
     "output_type": "stream",
     "text": [
      "loss/loss tensor(1.1196, device='cuda:0', grad_fn=<AddBackward0>) 9100\n",
      "loss/loss_Rec tensor(0.8402, device='cuda:0', grad_fn=<AddBackward0>) 9100\n",
      "loss/loss_Dice tensor(0.2795, device='cuda:0', grad_fn=<AddBackward0>) 9100\n"
     ]
    },
    {
     "name": "stderr",
     "output_type": "stream",
     "text": [
      "Train: 100%|██████████| 42/42 [00:41<00:00,  1.01it/s]\n"
     ]
    },
    {
     "name": "stdout",
     "output_type": "stream",
     "text": [
      "Train:\n",
      "loss: 2.2679, loss_Rec: 1.6816, loss_Dice: 0.5863, IoU: 0.7582\n"
     ]
    },
    {
     "name": "stderr",
     "output_type": "stream",
     "text": [
      "Valid: 100%|██████████| 40/40 [00:14<00:00,  2.71it/s]\n"
     ]
    },
    {
     "name": "stdout",
     "output_type": "stream",
     "text": [
      "Valid:\n",
      "loss: 0.4214, loss_Rec: 0.3052, loss_Dice: 0.1162, Dice: 0.8838, IoU: 0.8401\n",
      "Current learning rate: 0.00037\n",
      "epoch 217 / 217 \t Time Taken: 56 sec\n",
      "best valid dice: 0.9019 at epoch: 215\n",
      "\n",
      "\n"
     ]
    },
    {
     "name": "stderr",
     "output_type": "stream",
     "text": [
      "Train: 100%|██████████| 42/42 [00:41<00:00,  1.00it/s]\n"
     ]
    },
    {
     "name": "stdout",
     "output_type": "stream",
     "text": [
      "Train:\n",
      "loss: 1.8333, loss_Rec: 1.3358, loss_Dice: 0.4975, IoU: 0.7836\n"
     ]
    },
    {
     "name": "stderr",
     "output_type": "stream",
     "text": [
      "Valid: 100%|██████████| 40/40 [00:14<00:00,  2.71it/s]\n"
     ]
    },
    {
     "name": "stdout",
     "output_type": "stream",
     "text": [
      "Valid:\n",
      "loss: 0.3993, loss_Rec: 0.2990, loss_Dice: 0.1003, Dice: 0.8997, IoU: 0.8604\n",
      "Current learning rate: 0.00036\n",
      "epoch 218 / 218 \t Time Taken: 56 sec\n",
      "best valid dice: 0.9019 at epoch: 215\n",
      "\n",
      "\n"
     ]
    },
    {
     "name": "stderr",
     "output_type": "stream",
     "text": [
      "Train: 100%|██████████| 42/42 [00:41<00:00,  1.02it/s]\n"
     ]
    },
    {
     "name": "stdout",
     "output_type": "stream",
     "text": [
      "Train:\n",
      "loss: 2.2356, loss_Rec: 1.6608, loss_Dice: 0.5748, IoU: 0.7565\n"
     ]
    },
    {
     "name": "stderr",
     "output_type": "stream",
     "text": [
      "Valid: 100%|██████████| 40/40 [00:14<00:00,  2.71it/s]\n"
     ]
    },
    {
     "name": "stdout",
     "output_type": "stream",
     "text": [
      "Valid:\n",
      "loss: 0.4204, loss_Rec: 0.3036, loss_Dice: 0.1168, Dice: 0.8832, IoU: 0.8454\n",
      "Current learning rate: 0.00035\n",
      "epoch 219 / 219 \t Time Taken: 56 sec\n",
      "best valid dice: 0.9019 at epoch: 215\n",
      "\n",
      "\n"
     ]
    },
    {
     "name": "stderr",
     "output_type": "stream",
     "text": [
      "Train:   5%|▍         | 2/42 [00:01<00:38,  1.03it/s]"
     ]
    },
    {
     "name": "stdout",
     "output_type": "stream",
     "text": [
      "loss/loss tensor(1.3006, device='cuda:0', grad_fn=<AddBackward0>) 9200\n",
      "loss/loss_Rec tensor(0.9284, device='cuda:0', grad_fn=<AddBackward0>) 9200\n",
      "loss/loss_Dice tensor(0.3722, device='cuda:0', grad_fn=<AddBackward0>) 9200\n"
     ]
    },
    {
     "name": "stderr",
     "output_type": "stream",
     "text": [
      "Train: 100%|██████████| 42/42 [00:41<00:00,  1.02it/s]\n"
     ]
    },
    {
     "name": "stdout",
     "output_type": "stream",
     "text": [
      "Train:\n",
      "loss: 2.1781, loss_Rec: 1.6214, loss_Dice: 0.5567, IoU: 0.7608\n"
     ]
    },
    {
     "name": "stderr",
     "output_type": "stream",
     "text": [
      "Valid: 100%|██████████| 40/40 [00:14<00:00,  2.70it/s]\n"
     ]
    },
    {
     "name": "stdout",
     "output_type": "stream",
     "text": [
      "Valid:\n",
      "loss: 0.3972, loss_Rec: 0.2917, loss_Dice: 0.1055, Dice: 0.8945, IoU: 0.8541\n",
      "Current learning rate: 0.00034\n",
      "epoch 220 / 220 \t Time Taken: 55 sec\n",
      "best valid dice: 0.9019 at epoch: 215\n",
      "\n",
      "\n"
     ]
    },
    {
     "name": "stderr",
     "output_type": "stream",
     "text": [
      "Train: 100%|██████████| 42/42 [00:41<00:00,  1.01it/s]\n"
     ]
    },
    {
     "name": "stdout",
     "output_type": "stream",
     "text": [
      "Train:\n",
      "loss: 2.2362, loss_Rec: 1.6467, loss_Dice: 0.5894, IoU: 0.7577\n"
     ]
    },
    {
     "name": "stderr",
     "output_type": "stream",
     "text": [
      "Valid: 100%|██████████| 40/40 [00:14<00:00,  2.72it/s]\n"
     ]
    },
    {
     "name": "stdout",
     "output_type": "stream",
     "text": [
      "Valid:\n",
      "loss: 0.4104, loss_Rec: 0.3082, loss_Dice: 0.1021, Dice: 0.8979, IoU: 0.8554\n",
      "Current learning rate: 0.00033\n",
      "epoch 221 / 221 \t Time Taken: 56 sec\n",
      "best valid dice: 0.9019 at epoch: 215\n",
      "\n",
      "\n"
     ]
    },
    {
     "name": "stderr",
     "output_type": "stream",
     "text": [
      "Train:  43%|████▎     | 18/42 [00:17<00:23,  1.02it/s]"
     ]
    },
    {
     "name": "stdout",
     "output_type": "stream",
     "text": [
      "loss/loss tensor(0.9701, device='cuda:0', grad_fn=<AddBackward0>) 9300\n",
      "loss/loss_Rec tensor(0.6708, device='cuda:0', grad_fn=<AddBackward0>) 9300\n",
      "loss/loss_Dice tensor(0.2994, device='cuda:0', grad_fn=<AddBackward0>) 9300\n"
     ]
    },
    {
     "name": "stderr",
     "output_type": "stream",
     "text": [
      "Train: 100%|██████████| 42/42 [00:41<00:00,  1.01it/s]\n"
     ]
    },
    {
     "name": "stdout",
     "output_type": "stream",
     "text": [
      "Train:\n",
      "loss: 2.2785, loss_Rec: 1.6881, loss_Dice: 0.5905, IoU: 0.7538\n"
     ]
    },
    {
     "name": "stderr",
     "output_type": "stream",
     "text": [
      "Valid: 100%|██████████| 40/40 [00:14<00:00,  2.71it/s]\n"
     ]
    },
    {
     "name": "stdout",
     "output_type": "stream",
     "text": [
      "Valid:\n",
      "loss: 0.3679, loss_Rec: 0.2697, loss_Dice: 0.0982, Dice: 0.9018, IoU: 0.8622\n",
      "Save best valid Loss All !\n",
      "Save best valid Loss Rec !\n",
      "Current learning rate: 0.00033\n",
      "epoch 222 / 222 \t Time Taken: 56 sec\n",
      "best valid dice: 0.9019 at epoch: 215\n",
      "\n",
      "\n"
     ]
    },
    {
     "name": "stderr",
     "output_type": "stream",
     "text": [
      "Train: 100%|██████████| 42/42 [00:41<00:00,  1.01it/s]\n"
     ]
    },
    {
     "name": "stdout",
     "output_type": "stream",
     "text": [
      "Train:\n",
      "loss: 2.0979, loss_Rec: 1.5563, loss_Dice: 0.5415, IoU: 0.7701\n"
     ]
    },
    {
     "name": "stderr",
     "output_type": "stream",
     "text": [
      "Valid: 100%|██████████| 40/40 [00:14<00:00,  2.69it/s]\n"
     ]
    },
    {
     "name": "stdout",
     "output_type": "stream",
     "text": [
      "Valid:\n",
      "loss: 0.3686, loss_Rec: 0.2726, loss_Dice: 0.0960, Dice: 0.9040, IoU: 0.8634\n",
      "Save best valid Dice !\n",
      "Save best valid Loss Dice !\n",
      "Current learning rate: 0.00032\n",
      "epoch 223 / 223 \t Time Taken: 56 sec\n",
      "best valid dice: 0.9040 at epoch: 223\n",
      "\n",
      "\n"
     ]
    },
    {
     "name": "stderr",
     "output_type": "stream",
     "text": [
      "Train:  81%|████████  | 34/42 [00:33<00:07,  1.02it/s]"
     ]
    },
    {
     "name": "stdout",
     "output_type": "stream",
     "text": [
      "loss/loss tensor(1.2993, device='cuda:0', grad_fn=<AddBackward0>) 9400\n",
      "loss/loss_Rec tensor(0.9923, device='cuda:0', grad_fn=<AddBackward0>) 9400\n",
      "loss/loss_Dice tensor(0.3069, device='cuda:0', grad_fn=<AddBackward0>) 9400\n"
     ]
    },
    {
     "name": "stderr",
     "output_type": "stream",
     "text": [
      "Train: 100%|██████████| 42/42 [00:41<00:00,  1.01it/s]\n"
     ]
    },
    {
     "name": "stdout",
     "output_type": "stream",
     "text": [
      "Train:\n",
      "loss: 2.0584, loss_Rec: 1.5130, loss_Dice: 0.5454, IoU: 0.7705\n"
     ]
    },
    {
     "name": "stderr",
     "output_type": "stream",
     "text": [
      "Valid: 100%|██████████| 40/40 [00:14<00:00,  2.69it/s]\n"
     ]
    },
    {
     "name": "stdout",
     "output_type": "stream",
     "text": [
      "Valid:\n",
      "loss: 0.3631, loss_Rec: 0.2686, loss_Dice: 0.0945, Dice: 0.9055, IoU: 0.8647\n",
      "Save best valid Dice !\n",
      "Save best valid Loss All !\n",
      "Save best valid Loss Rec !\n",
      "Save best valid Loss Dice !\n",
      "Current learning rate: 0.00031\n",
      "epoch 224 / 224 \t Time Taken: 56 sec\n",
      "best valid dice: 0.9055 at epoch: 224\n",
      "\n",
      "\n"
     ]
    },
    {
     "name": "stderr",
     "output_type": "stream",
     "text": [
      "Train: 100%|██████████| 42/42 [00:41<00:00,  1.00it/s]\n"
     ]
    },
    {
     "name": "stdout",
     "output_type": "stream",
     "text": [
      "Train:\n",
      "loss: 2.0228, loss_Rec: 1.4856, loss_Dice: 0.5372, IoU: 0.7728\n"
     ]
    },
    {
     "name": "stderr",
     "output_type": "stream",
     "text": [
      "Valid: 100%|██████████| 40/40 [00:14<00:00,  2.70it/s]\n"
     ]
    },
    {
     "name": "stdout",
     "output_type": "stream",
     "text": [
      "Valid:\n",
      "loss: 0.3938, loss_Rec: 0.2931, loss_Dice: 0.1007, Dice: 0.8993, IoU: 0.8553\n",
      "Current learning rate: 0.00030\n",
      "epoch 225 / 225 \t Time Taken: 56 sec\n",
      "best valid dice: 0.9055 at epoch: 224\n",
      "\n",
      "\n"
     ]
    },
    {
     "name": "stderr",
     "output_type": "stream",
     "text": [
      "Train: 100%|██████████| 42/42 [00:41<00:00,  1.01it/s]\n"
     ]
    },
    {
     "name": "stdout",
     "output_type": "stream",
     "text": [
      "Train:\n",
      "loss: 2.2477, loss_Rec: 1.6583, loss_Dice: 0.5894, IoU: 0.7569\n"
     ]
    },
    {
     "name": "stderr",
     "output_type": "stream",
     "text": [
      "Valid: 100%|██████████| 40/40 [00:14<00:00,  2.68it/s]\n"
     ]
    },
    {
     "name": "stdout",
     "output_type": "stream",
     "text": [
      "Valid:\n",
      "loss: 0.3660, loss_Rec: 0.2681, loss_Dice: 0.0980, Dice: 0.9020, IoU: 0.8612\n",
      "Save best valid Loss Rec !\n",
      "Current learning rate: 0.00029\n",
      "epoch 226 / 226 \t Time Taken: 56 sec\n",
      "best valid dice: 0.9055 at epoch: 224\n",
      "\n",
      "\n"
     ]
    },
    {
     "name": "stderr",
     "output_type": "stream",
     "text": [
      "Train:  19%|█▉        | 8/42 [00:07<00:34,  1.00s/it]"
     ]
    },
    {
     "name": "stdout",
     "output_type": "stream",
     "text": [
      "loss/loss tensor(2.8020, device='cuda:0', grad_fn=<AddBackward0>) 9500\n",
      "loss/loss_Rec tensor(2.0892, device='cuda:0', grad_fn=<AddBackward0>) 9500\n",
      "loss/loss_Dice tensor(0.7128, device='cuda:0', grad_fn=<AddBackward0>) 9500\n"
     ]
    },
    {
     "name": "stderr",
     "output_type": "stream",
     "text": [
      "Train: 100%|██████████| 42/42 [00:41<00:00,  1.01it/s]\n"
     ]
    },
    {
     "name": "stdout",
     "output_type": "stream",
     "text": [
      "Train:\n",
      "loss: 2.2294, loss_Rec: 1.6390, loss_Dice: 0.5904, IoU: 0.7532\n"
     ]
    },
    {
     "name": "stderr",
     "output_type": "stream",
     "text": [
      "Valid: 100%|██████████| 40/40 [00:14<00:00,  2.69it/s]\n"
     ]
    },
    {
     "name": "stdout",
     "output_type": "stream",
     "text": [
      "Valid:\n",
      "loss: 0.3744, loss_Rec: 0.2762, loss_Dice: 0.0982, Dice: 0.9018, IoU: 0.8628\n",
      "Current learning rate: 0.00029\n",
      "epoch 227 / 227 \t Time Taken: 56 sec\n",
      "best valid dice: 0.9055 at epoch: 224\n",
      "\n",
      "\n"
     ]
    },
    {
     "name": "stderr",
     "output_type": "stream",
     "text": [
      "Train: 100%|██████████| 42/42 [00:41<00:00,  1.01it/s]\n"
     ]
    },
    {
     "name": "stdout",
     "output_type": "stream",
     "text": [
      "Train:\n",
      "loss: 2.2711, loss_Rec: 1.6681, loss_Dice: 0.6030, IoU: 0.7481\n"
     ]
    },
    {
     "name": "stderr",
     "output_type": "stream",
     "text": [
      "Valid: 100%|██████████| 40/40 [00:14<00:00,  2.68it/s]\n"
     ]
    },
    {
     "name": "stdout",
     "output_type": "stream",
     "text": [
      "Valid:\n",
      "loss: 0.3919, loss_Rec: 0.2898, loss_Dice: 0.1021, Dice: 0.8979, IoU: 0.8599\n",
      "Current learning rate: 0.00028\n",
      "epoch 228 / 228 \t Time Taken: 56 sec\n",
      "best valid dice: 0.9055 at epoch: 224\n",
      "\n",
      "\n"
     ]
    },
    {
     "name": "stderr",
     "output_type": "stream",
     "text": [
      "Train:  57%|█████▋    | 24/42 [00:24<00:18,  1.01s/it]"
     ]
    },
    {
     "name": "stdout",
     "output_type": "stream",
     "text": [
      "loss/loss tensor(3.2495, device='cuda:0', grad_fn=<AddBackward0>) 9600\n",
      "loss/loss_Rec tensor(2.3972, device='cuda:0', grad_fn=<AddBackward0>) 9600\n",
      "loss/loss_Dice tensor(0.8523, device='cuda:0', grad_fn=<AddBackward0>) 9600\n"
     ]
    },
    {
     "name": "stderr",
     "output_type": "stream",
     "text": [
      "Train: 100%|██████████| 42/42 [00:42<00:00,  1.01s/it]\n"
     ]
    },
    {
     "name": "stdout",
     "output_type": "stream",
     "text": [
      "Train:\n",
      "loss: 2.5675, loss_Rec: 1.8812, loss_Dice: 0.6862, IoU: 0.7102\n"
     ]
    },
    {
     "name": "stderr",
     "output_type": "stream",
     "text": [
      "Valid: 100%|██████████| 40/40 [00:15<00:00,  2.65it/s]\n"
     ]
    },
    {
     "name": "stdout",
     "output_type": "stream",
     "text": [
      "Valid:\n",
      "loss: 0.3596, loss_Rec: 0.2652, loss_Dice: 0.0943, Dice: 0.9057, IoU: 0.8648\n",
      "Save best valid Dice !\n",
      "Save best valid Loss All !\n",
      "Save best valid Loss Rec !\n",
      "Save best valid Loss Dice !\n",
      "Current learning rate: 0.00027\n",
      "epoch 229 / 229 \t Time Taken: 57 sec\n",
      "best valid dice: 0.9057 at epoch: 229\n",
      "\n",
      "\n"
     ]
    },
    {
     "name": "stderr",
     "output_type": "stream",
     "text": [
      "Train: 100%|██████████| 42/42 [00:41<00:00,  1.00it/s]\n"
     ]
    },
    {
     "name": "stdout",
     "output_type": "stream",
     "text": [
      "Train:\n",
      "loss: 1.9098, loss_Rec: 1.4057, loss_Dice: 0.5041, IoU: 0.7759\n"
     ]
    },
    {
     "name": "stderr",
     "output_type": "stream",
     "text": [
      "Valid: 100%|██████████| 40/40 [00:14<00:00,  2.68it/s]\n"
     ]
    },
    {
     "name": "stdout",
     "output_type": "stream",
     "text": [
      "Valid:\n",
      "loss: 0.3600, loss_Rec: 0.2638, loss_Dice: 0.0963, Dice: 0.9037, IoU: 0.8642\n",
      "Save best valid Loss Rec !\n",
      "Current learning rate: 0.00027\n",
      "epoch 230 / 230 \t Time Taken: 56 sec\n",
      "best valid dice: 0.9057 at epoch: 229\n",
      "\n",
      "\n"
     ]
    },
    {
     "name": "stderr",
     "output_type": "stream",
     "text": [
      "Train:  95%|█████████▌| 40/42 [00:39<00:01,  1.01it/s]"
     ]
    },
    {
     "name": "stdout",
     "output_type": "stream",
     "text": [
      "loss/loss tensor(0.7382, device='cuda:0', grad_fn=<AddBackward0>) 9700\n",
      "loss/loss_Rec tensor(0.5134, device='cuda:0', grad_fn=<AddBackward0>) 9700\n",
      "loss/loss_Dice tensor(0.2248, device='cuda:0', grad_fn=<AddBackward0>) 9700\n"
     ]
    },
    {
     "name": "stderr",
     "output_type": "stream",
     "text": [
      "Train: 100%|██████████| 42/42 [00:41<00:00,  1.01it/s]\n"
     ]
    },
    {
     "name": "stdout",
     "output_type": "stream",
     "text": [
      "Train:\n",
      "loss: 2.1683, loss_Rec: 1.6096, loss_Dice: 0.5586, IoU: 0.7635\n"
     ]
    },
    {
     "name": "stderr",
     "output_type": "stream",
     "text": [
      "Valid: 100%|██████████| 40/40 [00:14<00:00,  2.71it/s]\n"
     ]
    },
    {
     "name": "stdout",
     "output_type": "stream",
     "text": [
      "Valid:\n",
      "loss: 0.3673, loss_Rec: 0.2680, loss_Dice: 0.0994, Dice: 0.9006, IoU: 0.8598\n",
      "Current learning rate: 0.00026\n",
      "epoch 231 / 231 \t Time Taken: 56 sec\n",
      "best valid dice: 0.9057 at epoch: 229\n",
      "\n",
      "\n"
     ]
    },
    {
     "name": "stderr",
     "output_type": "stream",
     "text": [
      "Train: 100%|██████████| 42/42 [00:41<00:00,  1.01it/s]\n"
     ]
    },
    {
     "name": "stdout",
     "output_type": "stream",
     "text": [
      "Train:\n",
      "loss: 2.1438, loss_Rec: 1.5615, loss_Dice: 0.5823, IoU: 0.7592\n"
     ]
    },
    {
     "name": "stderr",
     "output_type": "stream",
     "text": [
      "Valid: 100%|██████████| 40/40 [00:14<00:00,  2.71it/s]\n"
     ]
    },
    {
     "name": "stdout",
     "output_type": "stream",
     "text": [
      "Valid:\n",
      "loss: 0.3655, loss_Rec: 0.2701, loss_Dice: 0.0954, Dice: 0.9046, IoU: 0.8619\n",
      "Current learning rate: 0.00025\n",
      "epoch 232 / 232 \t Time Taken: 56 sec\n",
      "best valid dice: 0.9057 at epoch: 229\n",
      "\n",
      "\n"
     ]
    },
    {
     "name": "stderr",
     "output_type": "stream",
     "text": [
      "Train: 100%|██████████| 42/42 [00:41<00:00,  1.01it/s]\n"
     ]
    },
    {
     "name": "stdout",
     "output_type": "stream",
     "text": [
      "Train:\n",
      "loss: 2.2536, loss_Rec: 1.6405, loss_Dice: 0.6132, IoU: 0.7419\n"
     ]
    },
    {
     "name": "stderr",
     "output_type": "stream",
     "text": [
      "Valid: 100%|██████████| 40/40 [00:14<00:00,  2.69it/s]\n"
     ]
    },
    {
     "name": "stdout",
     "output_type": "stream",
     "text": [
      "Valid:\n",
      "loss: 0.3716, loss_Rec: 0.2723, loss_Dice: 0.0993, Dice: 0.9007, IoU: 0.8643\n",
      "Current learning rate: 0.00024\n",
      "epoch 233 / 233 \t Time Taken: 56 sec\n",
      "best valid dice: 0.9057 at epoch: 229\n",
      "\n",
      "\n"
     ]
    },
    {
     "name": "stderr",
     "output_type": "stream",
     "text": [
      "Train:  33%|███▎      | 14/42 [00:13<00:28,  1.00s/it]"
     ]
    },
    {
     "name": "stdout",
     "output_type": "stream",
     "text": [
      "loss/loss tensor(2.8335, device='cuda:0', grad_fn=<AddBackward0>) 9800\n",
      "loss/loss_Rec tensor(2.2936, device='cuda:0', grad_fn=<AddBackward0>) 9800\n",
      "loss/loss_Dice tensor(0.5398, device='cuda:0', grad_fn=<AddBackward0>) 9800\n"
     ]
    },
    {
     "name": "stderr",
     "output_type": "stream",
     "text": [
      "Train: 100%|██████████| 42/42 [00:41<00:00,  1.00it/s]\n"
     ]
    },
    {
     "name": "stdout",
     "output_type": "stream",
     "text": [
      "Train:\n",
      "loss: 2.3644, loss_Rec: 1.7540, loss_Dice: 0.6104, IoU: 0.7482\n"
     ]
    },
    {
     "name": "stderr",
     "output_type": "stream",
     "text": [
      "Valid: 100%|██████████| 40/40 [00:14<00:00,  2.70it/s]\n"
     ]
    },
    {
     "name": "stdout",
     "output_type": "stream",
     "text": [
      "Valid:\n",
      "loss: 0.3724, loss_Rec: 0.2731, loss_Dice: 0.0994, Dice: 0.9006, IoU: 0.8612\n",
      "Current learning rate: 0.00024\n",
      "epoch 234 / 234 \t Time Taken: 56 sec\n",
      "best valid dice: 0.9057 at epoch: 229\n",
      "\n",
      "\n"
     ]
    },
    {
     "name": "stderr",
     "output_type": "stream",
     "text": [
      "Train: 100%|██████████| 42/42 [00:41<00:00,  1.02it/s]\n"
     ]
    },
    {
     "name": "stdout",
     "output_type": "stream",
     "text": [
      "Train:\n",
      "loss: 2.0196, loss_Rec: 1.4892, loss_Dice: 0.5304, IoU: 0.7697\n"
     ]
    },
    {
     "name": "stderr",
     "output_type": "stream",
     "text": [
      "Valid: 100%|██████████| 40/40 [00:14<00:00,  2.71it/s]\n"
     ]
    },
    {
     "name": "stdout",
     "output_type": "stream",
     "text": [
      "Valid:\n",
      "loss: 0.3625, loss_Rec: 0.2654, loss_Dice: 0.0971, Dice: 0.9029, IoU: 0.8649\n",
      "Current learning rate: 0.00023\n",
      "epoch 235 / 235 \t Time Taken: 56 sec\n",
      "best valid dice: 0.9057 at epoch: 229\n",
      "\n",
      "\n"
     ]
    },
    {
     "name": "stderr",
     "output_type": "stream",
     "text": [
      "Train:  71%|███████▏  | 30/42 [00:29<00:11,  1.00it/s]"
     ]
    },
    {
     "name": "stdout",
     "output_type": "stream",
     "text": [
      "loss/loss tensor(4.0083, device='cuda:0', grad_fn=<AddBackward0>) 9900\n",
      "loss/loss_Rec tensor(2.8658, device='cuda:0', grad_fn=<AddBackward0>) 9900\n",
      "loss/loss_Dice tensor(1.1425, device='cuda:0', grad_fn=<AddBackward0>) 9900\n"
     ]
    },
    {
     "name": "stderr",
     "output_type": "stream",
     "text": [
      "Train: 100%|██████████| 42/42 [00:41<00:00,  1.01it/s]\n"
     ]
    },
    {
     "name": "stdout",
     "output_type": "stream",
     "text": [
      "Train:\n",
      "loss: 2.0428, loss_Rec: 1.5014, loss_Dice: 0.5414, IoU: 0.7723\n"
     ]
    },
    {
     "name": "stderr",
     "output_type": "stream",
     "text": [
      "Valid: 100%|██████████| 40/40 [00:14<00:00,  2.70it/s]\n"
     ]
    },
    {
     "name": "stdout",
     "output_type": "stream",
     "text": [
      "Valid:\n",
      "loss: 0.3561, loss_Rec: 0.2618, loss_Dice: 0.0943, Dice: 0.9057, IoU: 0.8679\n",
      "Save best valid Dice !\n",
      "Save best valid Loss All !\n",
      "Save best valid Loss Rec !\n",
      "Save best valid Loss Dice !\n",
      "Current learning rate: 0.00022\n",
      "epoch 236 / 236 \t Time Taken: 56 sec\n",
      "best valid dice: 0.9057 at epoch: 236\n",
      "\n",
      "\n"
     ]
    },
    {
     "name": "stderr",
     "output_type": "stream",
     "text": [
      "Train: 100%|██████████| 42/42 [00:41<00:00,  1.02it/s]\n"
     ]
    },
    {
     "name": "stdout",
     "output_type": "stream",
     "text": [
      "Train:\n",
      "loss: 1.4307, loss_Rec: 1.0565, loss_Dice: 0.3742, IoU: 0.8286\n"
     ]
    },
    {
     "name": "stderr",
     "output_type": "stream",
     "text": [
      "Valid: 100%|██████████| 40/40 [00:14<00:00,  2.71it/s]\n"
     ]
    },
    {
     "name": "stdout",
     "output_type": "stream",
     "text": [
      "Valid:\n",
      "loss: 0.3430, loss_Rec: 0.2505, loss_Dice: 0.0925, Dice: 0.9075, IoU: 0.8692\n",
      "Save best valid Dice !\n",
      "Save best valid Loss All !\n",
      "Save best valid Loss Rec !\n",
      "Save best valid Loss Dice !\n",
      "Current learning rate: 0.00022\n",
      "epoch 237 / 237 \t Time Taken: 56 sec\n",
      "best valid dice: 0.9075 at epoch: 237\n",
      "\n",
      "\n"
     ]
    },
    {
     "name": "stderr",
     "output_type": "stream",
     "text": [
      "Train: 100%|██████████| 42/42 [00:41<00:00,  1.00it/s]\n"
     ]
    },
    {
     "name": "stdout",
     "output_type": "stream",
     "text": [
      "Train:\n",
      "loss: 2.0024, loss_Rec: 1.4782, loss_Dice: 0.5242, IoU: 0.7768\n"
     ]
    },
    {
     "name": "stderr",
     "output_type": "stream",
     "text": [
      "Valid: 100%|██████████| 40/40 [00:14<00:00,  2.71it/s]\n"
     ]
    },
    {
     "name": "stdout",
     "output_type": "stream",
     "text": [
      "Valid:\n",
      "loss: 0.3401, loss_Rec: 0.2512, loss_Dice: 0.0889, Dice: 0.9111, IoU: 0.8704\n",
      "Save best valid Dice !\n",
      "Save best valid Loss All !\n",
      "Save best valid Loss Dice !\n",
      "Current learning rate: 0.00021\n",
      "epoch 238 / 238 \t Time Taken: 56 sec\n",
      "best valid dice: 0.9111 at epoch: 238\n",
      "\n",
      "\n"
     ]
    },
    {
     "name": "stderr",
     "output_type": "stream",
     "text": [
      "Train:  10%|▉         | 4/42 [00:03<00:37,  1.01it/s]"
     ]
    },
    {
     "name": "stdout",
     "output_type": "stream",
     "text": [
      "loss/loss tensor(2.3019, device='cuda:0', grad_fn=<AddBackward0>) 10000\n",
      "loss/loss_Rec tensor(1.6314, device='cuda:0', grad_fn=<AddBackward0>) 10000\n",
      "loss/loss_Dice tensor(0.6705, device='cuda:0', grad_fn=<AddBackward0>) 10000\n"
     ]
    },
    {
     "name": "stderr",
     "output_type": "stream",
     "text": [
      "Train: 100%|██████████| 42/42 [00:41<00:00,  1.01it/s]\n"
     ]
    },
    {
     "name": "stdout",
     "output_type": "stream",
     "text": [
      "Train:\n",
      "loss: 2.1354, loss_Rec: 1.5637, loss_Dice: 0.5717, IoU: 0.7624\n"
     ]
    },
    {
     "name": "stderr",
     "output_type": "stream",
     "text": [
      "Valid: 100%|██████████| 40/40 [00:14<00:00,  2.70it/s]\n"
     ]
    },
    {
     "name": "stdout",
     "output_type": "stream",
     "text": [
      "Valid:\n",
      "loss: 0.3476, loss_Rec: 0.2532, loss_Dice: 0.0944, Dice: 0.9056, IoU: 0.8684\n",
      "Current learning rate: 0.00020\n",
      "epoch 239 / 239 \t Time Taken: 56 sec\n",
      "best valid dice: 0.9111 at epoch: 238\n",
      "\n",
      "\n"
     ]
    },
    {
     "name": "stderr",
     "output_type": "stream",
     "text": [
      "Train: 100%|██████████| 42/42 [00:41<00:00,  1.02it/s]\n"
     ]
    },
    {
     "name": "stdout",
     "output_type": "stream",
     "text": [
      "Train:\n",
      "loss: 2.0912, loss_Rec: 1.5151, loss_Dice: 0.5761, IoU: 0.7384\n"
     ]
    },
    {
     "name": "stderr",
     "output_type": "stream",
     "text": [
      "Valid: 100%|██████████| 40/40 [00:14<00:00,  2.70it/s]\n"
     ]
    },
    {
     "name": "stdout",
     "output_type": "stream",
     "text": [
      "Valid:\n",
      "loss: 0.3534, loss_Rec: 0.2632, loss_Dice: 0.0902, Dice: 0.9098, IoU: 0.8739\n",
      "Current learning rate: 0.00020\n",
      "epoch 240 / 240 \t Time Taken: 56 sec\n",
      "best valid dice: 0.9111 at epoch: 238\n",
      "\n",
      "\n"
     ]
    },
    {
     "name": "stderr",
     "output_type": "stream",
     "text": [
      "Train:  48%|████▊     | 20/42 [00:19<00:21,  1.01it/s]"
     ]
    },
    {
     "name": "stdout",
     "output_type": "stream",
     "text": [
      "loss/loss tensor(3.8162, device='cuda:0', grad_fn=<AddBackward0>) 10100\n",
      "loss/loss_Rec tensor(2.6074, device='cuda:0', grad_fn=<AddBackward0>) 10100\n",
      "loss/loss_Dice tensor(1.2087, device='cuda:0', grad_fn=<AddBackward0>) 10100\n"
     ]
    },
    {
     "name": "stderr",
     "output_type": "stream",
     "text": [
      "Train: 100%|██████████| 42/42 [00:41<00:00,  1.02it/s]\n"
     ]
    },
    {
     "name": "stdout",
     "output_type": "stream",
     "text": [
      "Train:\n",
      "loss: 1.8264, loss_Rec: 1.3218, loss_Dice: 0.5046, IoU: 0.7779\n"
     ]
    },
    {
     "name": "stderr",
     "output_type": "stream",
     "text": [
      "Valid: 100%|██████████| 40/40 [00:14<00:00,  2.71it/s]\n"
     ]
    },
    {
     "name": "stdout",
     "output_type": "stream",
     "text": [
      "Valid:\n",
      "loss: 0.3471, loss_Rec: 0.2564, loss_Dice: 0.0907, Dice: 0.9093, IoU: 0.8697\n",
      "Current learning rate: 0.00019\n",
      "epoch 241 / 241 \t Time Taken: 55 sec\n",
      "best valid dice: 0.9111 at epoch: 238\n",
      "\n",
      "\n"
     ]
    },
    {
     "name": "stderr",
     "output_type": "stream",
     "text": [
      "Train: 100%|██████████| 42/42 [00:42<00:00,  1.01s/it]\n"
     ]
    },
    {
     "name": "stdout",
     "output_type": "stream",
     "text": [
      "Train:\n",
      "loss: 2.3029, loss_Rec: 1.6670, loss_Dice: 0.6359, IoU: 0.6941\n"
     ]
    },
    {
     "name": "stderr",
     "output_type": "stream",
     "text": [
      "Valid: 100%|██████████| 40/40 [00:14<00:00,  2.69it/s]\n"
     ]
    },
    {
     "name": "stdout",
     "output_type": "stream",
     "text": [
      "Valid:\n",
      "loss: 0.3422, loss_Rec: 0.2513, loss_Dice: 0.0909, Dice: 0.9091, IoU: 0.8724\n",
      "Current learning rate: 0.00018\n",
      "epoch 242 / 242 \t Time Taken: 57 sec\n",
      "best valid dice: 0.9111 at epoch: 238\n",
      "\n",
      "\n"
     ]
    },
    {
     "name": "stderr",
     "output_type": "stream",
     "text": [
      "Train:  86%|████████▌ | 36/42 [00:35<00:05,  1.01it/s]"
     ]
    },
    {
     "name": "stdout",
     "output_type": "stream",
     "text": [
      "loss/loss tensor(0.9919, device='cuda:0', grad_fn=<AddBackward0>) 10200\n",
      "loss/loss_Rec tensor(0.7681, device='cuda:0', grad_fn=<AddBackward0>) 10200\n",
      "loss/loss_Dice tensor(0.2239, device='cuda:0', grad_fn=<AddBackward0>) 10200\n"
     ]
    },
    {
     "name": "stderr",
     "output_type": "stream",
     "text": [
      "Train: 100%|██████████| 42/42 [00:41<00:00,  1.01it/s]\n"
     ]
    },
    {
     "name": "stdout",
     "output_type": "stream",
     "text": [
      "Train:\n",
      "loss: 1.8046, loss_Rec: 1.3164, loss_Dice: 0.4882, IoU: 0.7807\n"
     ]
    },
    {
     "name": "stderr",
     "output_type": "stream",
     "text": [
      "Valid: 100%|██████████| 40/40 [00:14<00:00,  2.70it/s]\n"
     ]
    },
    {
     "name": "stdout",
     "output_type": "stream",
     "text": [
      "Valid:\n",
      "loss: 0.3317, loss_Rec: 0.2440, loss_Dice: 0.0877, Dice: 0.9123, IoU: 0.8731\n",
      "Save best valid Dice !\n",
      "Save best valid Loss All !\n",
      "Save best valid Loss Rec !\n",
      "Save best valid Loss Dice !\n",
      "Current learning rate: 0.00018\n",
      "epoch 243 / 243 \t Time Taken: 56 sec\n",
      "best valid dice: 0.9123 at epoch: 243\n",
      "\n",
      "\n"
     ]
    },
    {
     "name": "stderr",
     "output_type": "stream",
     "text": [
      "Train: 100%|██████████| 42/42 [00:41<00:00,  1.01it/s]\n"
     ]
    },
    {
     "name": "stdout",
     "output_type": "stream",
     "text": [
      "Train:\n",
      "loss: 2.1333, loss_Rec: 1.5589, loss_Dice: 0.5744, IoU: 0.7534\n"
     ]
    },
    {
     "name": "stderr",
     "output_type": "stream",
     "text": [
      "Valid: 100%|██████████| 40/40 [00:14<00:00,  2.69it/s]\n"
     ]
    },
    {
     "name": "stdout",
     "output_type": "stream",
     "text": [
      "Valid:\n",
      "loss: 0.3280, loss_Rec: 0.2404, loss_Dice: 0.0876, Dice: 0.9124, IoU: 0.8765\n",
      "Save best valid Dice !\n",
      "Save best valid Loss All !\n",
      "Save best valid Loss Rec !\n",
      "Save best valid Loss Dice !\n",
      "Current learning rate: 0.00017\n",
      "epoch 244 / 244 \t Time Taken: 56 sec\n",
      "best valid dice: 0.9124 at epoch: 244\n",
      "\n",
      "\n"
     ]
    },
    {
     "name": "stderr",
     "output_type": "stream",
     "text": [
      "Train: 100%|██████████| 42/42 [00:41<00:00,  1.01it/s]\n"
     ]
    },
    {
     "name": "stdout",
     "output_type": "stream",
     "text": [
      "Train:\n",
      "loss: 2.0734, loss_Rec: 1.5221, loss_Dice: 0.5512, IoU: 0.7779\n"
     ]
    },
    {
     "name": "stderr",
     "output_type": "stream",
     "text": [
      "Valid: 100%|██████████| 40/40 [00:14<00:00,  2.71it/s]\n"
     ]
    },
    {
     "name": "stdout",
     "output_type": "stream",
     "text": [
      "Valid:\n",
      "loss: 0.3775, loss_Rec: 0.2744, loss_Dice: 0.1030, Dice: 0.8970, IoU: 0.8515\n",
      "Current learning rate: 0.00017\n",
      "epoch 245 / 245 \t Time Taken: 56 sec\n",
      "best valid dice: 0.9124 at epoch: 244\n",
      "\n",
      "\n"
     ]
    },
    {
     "name": "stderr",
     "output_type": "stream",
     "text": [
      "Train:  24%|██▍       | 10/42 [00:09<00:30,  1.03it/s]"
     ]
    },
    {
     "name": "stdout",
     "output_type": "stream",
     "text": [
      "loss/loss tensor(1.6755, device='cuda:0', grad_fn=<AddBackward0>) 10300\n",
      "loss/loss_Rec tensor(1.2190, device='cuda:0', grad_fn=<AddBackward0>) 10300\n",
      "loss/loss_Dice tensor(0.4565, device='cuda:0', grad_fn=<AddBackward0>) 10300\n"
     ]
    },
    {
     "name": "stderr",
     "output_type": "stream",
     "text": [
      "Train: 100%|██████████| 42/42 [00:41<00:00,  1.02it/s]\n"
     ]
    },
    {
     "name": "stdout",
     "output_type": "stream",
     "text": [
      "Train:\n",
      "loss: 1.8354, loss_Rec: 1.3542, loss_Dice: 0.4812, IoU: 0.7949\n"
     ]
    },
    {
     "name": "stderr",
     "output_type": "stream",
     "text": [
      "Valid: 100%|██████████| 40/40 [00:14<00:00,  2.71it/s]\n"
     ]
    },
    {
     "name": "stdout",
     "output_type": "stream",
     "text": [
      "Valid:\n",
      "loss: 0.3281, loss_Rec: 0.2418, loss_Dice: 0.0863, Dice: 0.9137, IoU: 0.8757\n",
      "Save best valid Dice !\n",
      "Save best valid Loss Dice !\n",
      "Current learning rate: 0.00016\n",
      "epoch 246 / 246 \t Time Taken: 56 sec\n",
      "best valid dice: 0.9137 at epoch: 246\n",
      "\n",
      "\n"
     ]
    },
    {
     "name": "stderr",
     "output_type": "stream",
     "text": [
      "Train: 100%|██████████| 42/42 [00:41<00:00,  1.00it/s]\n"
     ]
    },
    {
     "name": "stdout",
     "output_type": "stream",
     "text": [
      "Train:\n",
      "loss: 2.0679, loss_Rec: 1.5312, loss_Dice: 0.5367, IoU: 0.7787\n"
     ]
    },
    {
     "name": "stderr",
     "output_type": "stream",
     "text": [
      "Valid: 100%|██████████| 40/40 [00:14<00:00,  2.71it/s]\n"
     ]
    },
    {
     "name": "stdout",
     "output_type": "stream",
     "text": [
      "Valid:\n",
      "loss: 0.3461, loss_Rec: 0.2547, loss_Dice: 0.0915, Dice: 0.9085, IoU: 0.8727\n",
      "Current learning rate: 0.00016\n",
      "epoch 247 / 247 \t Time Taken: 56 sec\n",
      "best valid dice: 0.9137 at epoch: 246\n",
      "\n",
      "\n"
     ]
    },
    {
     "name": "stderr",
     "output_type": "stream",
     "text": [
      "Train:  62%|██████▏   | 26/42 [00:25<00:15,  1.00it/s]"
     ]
    },
    {
     "name": "stdout",
     "output_type": "stream",
     "text": [
      "loss/loss tensor(1.4254, device='cuda:0', grad_fn=<AddBackward0>) 10400\n",
      "loss/loss_Rec tensor(1.1533, device='cuda:0', grad_fn=<AddBackward0>) 10400\n",
      "loss/loss_Dice tensor(0.2722, device='cuda:0', grad_fn=<AddBackward0>) 10400\n"
     ]
    },
    {
     "name": "stderr",
     "output_type": "stream",
     "text": [
      "Train: 100%|██████████| 42/42 [00:41<00:00,  1.02it/s]\n"
     ]
    },
    {
     "name": "stdout",
     "output_type": "stream",
     "text": [
      "Train:\n",
      "loss: 1.8671, loss_Rec: 1.3588, loss_Dice: 0.5082, IoU: 0.7753\n"
     ]
    },
    {
     "name": "stderr",
     "output_type": "stream",
     "text": [
      "Valid: 100%|██████████| 40/40 [00:15<00:00,  2.63it/s]\n"
     ]
    },
    {
     "name": "stdout",
     "output_type": "stream",
     "text": [
      "Valid:\n",
      "loss: 0.3213, loss_Rec: 0.2382, loss_Dice: 0.0832, Dice: 0.9168, IoU: 0.8769\n",
      "Save best valid Dice !\n",
      "Save best valid Loss All !\n",
      "Save best valid Loss Rec !\n",
      "Save best valid Loss Dice !\n",
      "Current learning rate: 0.00015\n",
      "epoch 248 / 248 \t Time Taken: 56 sec\n",
      "best valid dice: 0.9168 at epoch: 248\n",
      "\n",
      "\n"
     ]
    },
    {
     "name": "stderr",
     "output_type": "stream",
     "text": [
      "Train: 100%|██████████| 42/42 [00:41<00:00,  1.01it/s]\n"
     ]
    },
    {
     "name": "stdout",
     "output_type": "stream",
     "text": [
      "Train:\n",
      "loss: 2.2365, loss_Rec: 1.6414, loss_Dice: 0.5951, IoU: 0.7563\n"
     ]
    },
    {
     "name": "stderr",
     "output_type": "stream",
     "text": [
      "Valid: 100%|██████████| 40/40 [00:14<00:00,  2.70it/s]\n"
     ]
    },
    {
     "name": "stdout",
     "output_type": "stream",
     "text": [
      "Valid:\n",
      "loss: 0.3299, loss_Rec: 0.2405, loss_Dice: 0.0894, Dice: 0.9106, IoU: 0.8713\n",
      "Current learning rate: 0.00014\n",
      "epoch 249 / 249 \t Time Taken: 56 sec\n",
      "best valid dice: 0.9168 at epoch: 248\n",
      "\n",
      "\n"
     ]
    },
    {
     "name": "stderr",
     "output_type": "stream",
     "text": [
      "Train: 100%|██████████| 42/42 [00:41<00:00,  1.01it/s]\n"
     ]
    },
    {
     "name": "stdout",
     "output_type": "stream",
     "text": [
      "loss/loss tensor(0.7739, device='cuda:0', grad_fn=<AddBackward0>) 10500\n",
      "loss/loss_Rec tensor(0.6118, device='cuda:0', grad_fn=<AddBackward0>) 10500\n",
      "loss/loss_Dice tensor(0.1621, device='cuda:0', grad_fn=<AddBackward0>) 10500\n",
      "Train:\n",
      "loss: 2.1117, loss_Rec: 1.5574, loss_Dice: 0.5543, IoU: 0.7688\n"
     ]
    },
    {
     "name": "stderr",
     "output_type": "stream",
     "text": [
      "Valid: 100%|██████████| 40/40 [00:14<00:00,  2.71it/s]\n"
     ]
    },
    {
     "name": "stdout",
     "output_type": "stream",
     "text": [
      "Valid:\n",
      "loss: 0.3235, loss_Rec: 0.2363, loss_Dice: 0.0872, Dice: 0.9128, IoU: 0.8771\n",
      "Save best valid Loss Rec !\n",
      "Current learning rate: 0.00014\n",
      "epoch 250 / 250 \t Time Taken: 56 sec\n",
      "best valid dice: 0.9168 at epoch: 248\n",
      "\n",
      "\n"
     ]
    },
    {
     "name": "stderr",
     "output_type": "stream",
     "text": [
      "Train: 100%|██████████| 42/42 [00:41<00:00,  1.01it/s]\n"
     ]
    },
    {
     "name": "stdout",
     "output_type": "stream",
     "text": [
      "Train:\n",
      "loss: 1.9017, loss_Rec: 1.3901, loss_Dice: 0.5116, IoU: 0.7875\n"
     ]
    },
    {
     "name": "stderr",
     "output_type": "stream",
     "text": [
      "Valid: 100%|██████████| 40/40 [00:14<00:00,  2.71it/s]\n"
     ]
    },
    {
     "name": "stdout",
     "output_type": "stream",
     "text": [
      "Valid:\n",
      "loss: 0.3279, loss_Rec: 0.2388, loss_Dice: 0.0890, Dice: 0.9110, IoU: 0.8718\n",
      "Current learning rate: 0.00013\n",
      "epoch 251 / 251 \t Time Taken: 56 sec\n",
      "best valid dice: 0.9168 at epoch: 248\n",
      "\n",
      "\n"
     ]
    },
    {
     "name": "stderr",
     "output_type": "stream",
     "text": [
      "Train: 100%|██████████| 42/42 [00:42<00:00,  1.00s/it]\n"
     ]
    },
    {
     "name": "stdout",
     "output_type": "stream",
     "text": [
      "Train:\n",
      "loss: 2.2863, loss_Rec: 1.6769, loss_Dice: 0.6094, IoU: 0.7528\n"
     ]
    },
    {
     "name": "stderr",
     "output_type": "stream",
     "text": [
      "Valid: 100%|██████████| 40/40 [00:14<00:00,  2.71it/s]\n"
     ]
    },
    {
     "name": "stdout",
     "output_type": "stream",
     "text": [
      "Valid:\n",
      "loss: 0.3160, loss_Rec: 0.2328, loss_Dice: 0.0832, Dice: 0.9168, IoU: 0.8777\n",
      "Save best valid Loss All !\n",
      "Save best valid Loss Rec !\n",
      "Current learning rate: 0.00013\n",
      "epoch 252 / 252 \t Time Taken: 56 sec\n",
      "best valid dice: 0.9168 at epoch: 248\n",
      "\n",
      "\n"
     ]
    },
    {
     "name": "stderr",
     "output_type": "stream",
     "text": [
      "Train:  38%|███▊      | 16/42 [00:15<00:25,  1.01it/s]"
     ]
    },
    {
     "name": "stdout",
     "output_type": "stream",
     "text": [
      "loss/loss tensor(2.4568, device='cuda:0', grad_fn=<AddBackward0>) 10600\n",
      "loss/loss_Rec tensor(1.7406, device='cuda:0', grad_fn=<AddBackward0>) 10600\n",
      "loss/loss_Dice tensor(0.7163, device='cuda:0', grad_fn=<AddBackward0>) 10600\n"
     ]
    },
    {
     "name": "stderr",
     "output_type": "stream",
     "text": [
      "Train: 100%|██████████| 42/42 [00:41<00:00,  1.02it/s]\n"
     ]
    },
    {
     "name": "stdout",
     "output_type": "stream",
     "text": [
      "Train:\n",
      "loss: 1.8314, loss_Rec: 1.3585, loss_Dice: 0.4728, IoU: 0.7942\n"
     ]
    },
    {
     "name": "stderr",
     "output_type": "stream",
     "text": [
      "Valid: 100%|██████████| 40/40 [00:14<00:00,  2.71it/s]\n"
     ]
    },
    {
     "name": "stdout",
     "output_type": "stream",
     "text": [
      "Valid:\n",
      "loss: 0.3147, loss_Rec: 0.2308, loss_Dice: 0.0838, Dice: 0.9162, IoU: 0.8805\n",
      "Save best valid Loss All !\n",
      "Save best valid Loss Rec !\n",
      "Current learning rate: 0.00012\n",
      "epoch 253 / 253 \t Time Taken: 56 sec\n",
      "best valid dice: 0.9168 at epoch: 248\n",
      "\n",
      "\n"
     ]
    },
    {
     "name": "stderr",
     "output_type": "stream",
     "text": [
      "Train: 100%|██████████| 42/42 [00:41<00:00,  1.01it/s]\n"
     ]
    },
    {
     "name": "stdout",
     "output_type": "stream",
     "text": [
      "Train:\n",
      "loss: 2.2898, loss_Rec: 1.6801, loss_Dice: 0.6097, IoU: 0.7553\n"
     ]
    },
    {
     "name": "stderr",
     "output_type": "stream",
     "text": [
      "Valid: 100%|██████████| 40/40 [00:14<00:00,  2.71it/s]\n"
     ]
    },
    {
     "name": "stdout",
     "output_type": "stream",
     "text": [
      "Valid:\n",
      "loss: 0.3093, loss_Rec: 0.2282, loss_Dice: 0.0812, Dice: 0.9188, IoU: 0.8810\n",
      "Save best valid Dice !\n",
      "Save best valid Loss All !\n",
      "Save best valid Loss Rec !\n",
      "Save best valid Loss Dice !\n",
      "Current learning rate: 0.00012\n",
      "epoch 254 / 254 \t Time Taken: 56 sec\n",
      "best valid dice: 0.9188 at epoch: 254\n",
      "\n",
      "\n"
     ]
    },
    {
     "name": "stderr",
     "output_type": "stream",
     "text": [
      "Train:  76%|███████▌  | 32/42 [00:31<00:09,  1.01it/s]"
     ]
    },
    {
     "name": "stdout",
     "output_type": "stream",
     "text": [
      "loss/loss tensor(0.8913, device='cuda:0', grad_fn=<AddBackward0>) 10700\n",
      "loss/loss_Rec tensor(0.6624, device='cuda:0', grad_fn=<AddBackward0>) 10700\n",
      "loss/loss_Dice tensor(0.2289, device='cuda:0', grad_fn=<AddBackward0>) 10700\n"
     ]
    },
    {
     "name": "stderr",
     "output_type": "stream",
     "text": [
      "Train: 100%|██████████| 42/42 [00:41<00:00,  1.00it/s]\n"
     ]
    },
    {
     "name": "stdout",
     "output_type": "stream",
     "text": [
      "Train:\n",
      "loss: 1.9738, loss_Rec: 1.4532, loss_Dice: 0.5206, IoU: 0.7859\n"
     ]
    },
    {
     "name": "stderr",
     "output_type": "stream",
     "text": [
      "Valid: 100%|██████████| 40/40 [00:14<00:00,  2.69it/s]\n"
     ]
    },
    {
     "name": "stdout",
     "output_type": "stream",
     "text": [
      "Valid:\n",
      "loss: 0.3083, loss_Rec: 0.2262, loss_Dice: 0.0821, Dice: 0.9179, IoU: 0.8809\n",
      "Save best valid Loss All !\n",
      "Save best valid Loss Rec !\n",
      "Current learning rate: 0.00011\n",
      "epoch 255 / 255 \t Time Taken: 56 sec\n",
      "best valid dice: 0.9188 at epoch: 254\n",
      "\n",
      "\n"
     ]
    },
    {
     "name": "stderr",
     "output_type": "stream",
     "text": [
      "Train: 100%|██████████| 42/42 [00:41<00:00,  1.01it/s]\n"
     ]
    },
    {
     "name": "stdout",
     "output_type": "stream",
     "text": [
      "Train:\n",
      "loss: 1.8307, loss_Rec: 1.3381, loss_Dice: 0.4926, IoU: 0.7911\n"
     ]
    },
    {
     "name": "stderr",
     "output_type": "stream",
     "text": [
      "Valid: 100%|██████████| 40/40 [00:14<00:00,  2.69it/s]\n"
     ]
    },
    {
     "name": "stdout",
     "output_type": "stream",
     "text": [
      "Valid:\n",
      "loss: 0.3205, loss_Rec: 0.2338, loss_Dice: 0.0867, Dice: 0.9133, IoU: 0.8784\n",
      "Current learning rate: 0.00011\n",
      "epoch 256 / 256 \t Time Taken: 56 sec\n",
      "best valid dice: 0.9188 at epoch: 254\n",
      "\n",
      "\n"
     ]
    },
    {
     "name": "stderr",
     "output_type": "stream",
     "text": [
      "Train: 100%|██████████| 42/42 [00:41<00:00,  1.01it/s]\n"
     ]
    },
    {
     "name": "stdout",
     "output_type": "stream",
     "text": [
      "Train:\n",
      "loss: 1.9170, loss_Rec: 1.4189, loss_Dice: 0.4981, IoU: 0.7925\n"
     ]
    },
    {
     "name": "stderr",
     "output_type": "stream",
     "text": [
      "Valid: 100%|██████████| 40/40 [00:14<00:00,  2.68it/s]\n"
     ]
    },
    {
     "name": "stdout",
     "output_type": "stream",
     "text": [
      "Valid:\n",
      "loss: 0.3127, loss_Rec: 0.2306, loss_Dice: 0.0821, Dice: 0.9179, IoU: 0.8785\n",
      "Current learning rate: 0.00010\n",
      "epoch 257 / 257 \t Time Taken: 56 sec\n",
      "best valid dice: 0.9188 at epoch: 254\n",
      "\n",
      "\n"
     ]
    },
    {
     "name": "stderr",
     "output_type": "stream",
     "text": [
      "Train:  14%|█▍        | 6/42 [00:06<00:36,  1.02s/it]"
     ]
    },
    {
     "name": "stdout",
     "output_type": "stream",
     "text": [
      "loss/loss tensor(2.0325, device='cuda:0', grad_fn=<AddBackward0>) 10800\n",
      "loss/loss_Rec tensor(1.4052, device='cuda:0', grad_fn=<AddBackward0>) 10800\n",
      "loss/loss_Dice tensor(0.6272, device='cuda:0', grad_fn=<AddBackward0>) 10800\n"
     ]
    },
    {
     "name": "stderr",
     "output_type": "stream",
     "text": [
      "Train: 100%|██████████| 42/42 [00:41<00:00,  1.01it/s]\n"
     ]
    },
    {
     "name": "stdout",
     "output_type": "stream",
     "text": [
      "Train:\n",
      "loss: 1.9902, loss_Rec: 1.4598, loss_Dice: 0.5304, IoU: 0.7753\n"
     ]
    },
    {
     "name": "stderr",
     "output_type": "stream",
     "text": [
      "Valid: 100%|██████████| 40/40 [00:14<00:00,  2.71it/s]\n"
     ]
    },
    {
     "name": "stdout",
     "output_type": "stream",
     "text": [
      "Valid:\n",
      "loss: 0.3087, loss_Rec: 0.2268, loss_Dice: 0.0819, Dice: 0.9181, IoU: 0.8804\n",
      "Current learning rate: 0.00010\n",
      "epoch 258 / 258 \t Time Taken: 56 sec\n",
      "best valid dice: 0.9188 at epoch: 254\n",
      "\n",
      "\n"
     ]
    },
    {
     "name": "stderr",
     "output_type": "stream",
     "text": [
      "Train: 100%|██████████| 42/42 [00:41<00:00,  1.00it/s]\n"
     ]
    },
    {
     "name": "stdout",
     "output_type": "stream",
     "text": [
      "Train:\n",
      "loss: 1.9724, loss_Rec: 1.4618, loss_Dice: 0.5106, IoU: 0.7827\n"
     ]
    },
    {
     "name": "stderr",
     "output_type": "stream",
     "text": [
      "Valid: 100%|██████████| 40/40 [00:14<00:00,  2.70it/s]\n"
     ]
    },
    {
     "name": "stdout",
     "output_type": "stream",
     "text": [
      "Valid:\n",
      "loss: 0.3050, loss_Rec: 0.2240, loss_Dice: 0.0810, Dice: 0.9190, IoU: 0.8811\n",
      "Save best valid Dice !\n",
      "Save best valid Loss All !\n",
      "Save best valid Loss Rec !\n",
      "Save best valid Loss Dice !\n",
      "Current learning rate: 0.00009\n",
      "epoch 259 / 259 \t Time Taken: 56 sec\n",
      "best valid dice: 0.9190 at epoch: 259\n",
      "\n",
      "\n"
     ]
    },
    {
     "name": "stderr",
     "output_type": "stream",
     "text": [
      "Train:  52%|█████▏    | 22/42 [00:22<00:20,  1.00s/it]"
     ]
    },
    {
     "name": "stdout",
     "output_type": "stream",
     "text": [
      "loss/loss tensor(4.7705, device='cuda:0', grad_fn=<AddBackward0>) 10900\n",
      "loss/loss_Rec tensor(3.4826, device='cuda:0', grad_fn=<AddBackward0>) 10900\n",
      "loss/loss_Dice tensor(1.2879, device='cuda:0', grad_fn=<AddBackward0>) 10900\n"
     ]
    },
    {
     "name": "stderr",
     "output_type": "stream",
     "text": [
      "Train: 100%|██████████| 42/42 [00:41<00:00,  1.00it/s]\n"
     ]
    },
    {
     "name": "stdout",
     "output_type": "stream",
     "text": [
      "Train:\n",
      "loss: 1.9973, loss_Rec: 1.4704, loss_Dice: 0.5268, IoU: 0.7780\n"
     ]
    },
    {
     "name": "stderr",
     "output_type": "stream",
     "text": [
      "Valid: 100%|██████████| 40/40 [00:14<00:00,  2.70it/s]\n"
     ]
    },
    {
     "name": "stdout",
     "output_type": "stream",
     "text": [
      "Valid:\n",
      "loss: 0.3096, loss_Rec: 0.2262, loss_Dice: 0.0834, Dice: 0.9166, IoU: 0.8796\n",
      "Current learning rate: 0.00009\n",
      "epoch 260 / 260 \t Time Taken: 56 sec\n",
      "best valid dice: 0.9190 at epoch: 259\n",
      "\n",
      "\n"
     ]
    },
    {
     "name": "stderr",
     "output_type": "stream",
     "text": [
      "Train: 100%|██████████| 42/42 [00:41<00:00,  1.01it/s]\n"
     ]
    },
    {
     "name": "stdout",
     "output_type": "stream",
     "text": [
      "Train:\n",
      "loss: 1.5468, loss_Rec: 1.1287, loss_Dice: 0.4181, IoU: 0.8161\n"
     ]
    },
    {
     "name": "stderr",
     "output_type": "stream",
     "text": [
      "Valid: 100%|██████████| 40/40 [00:14<00:00,  2.69it/s]\n"
     ]
    },
    {
     "name": "stdout",
     "output_type": "stream",
     "text": [
      "Valid:\n",
      "loss: 0.3067, loss_Rec: 0.2250, loss_Dice: 0.0818, Dice: 0.9182, IoU: 0.8817\n",
      "Current learning rate: 0.00009\n",
      "epoch 261 / 261 \t Time Taken: 56 sec\n",
      "best valid dice: 0.9190 at epoch: 259\n",
      "\n",
      "\n"
     ]
    },
    {
     "name": "stderr",
     "output_type": "stream",
     "text": [
      "Train:  90%|█████████ | 38/42 [00:37<00:03,  1.01it/s]"
     ]
    },
    {
     "name": "stdout",
     "output_type": "stream",
     "text": [
      "loss/loss tensor(0.7791, device='cuda:0', grad_fn=<AddBackward0>) 11000\n",
      "loss/loss_Rec tensor(0.5563, device='cuda:0', grad_fn=<AddBackward0>) 11000\n",
      "loss/loss_Dice tensor(0.2228, device='cuda:0', grad_fn=<AddBackward0>) 11000\n"
     ]
    },
    {
     "name": "stderr",
     "output_type": "stream",
     "text": [
      "Train: 100%|██████████| 42/42 [00:41<00:00,  1.01it/s]\n"
     ]
    },
    {
     "name": "stdout",
     "output_type": "stream",
     "text": [
      "Train:\n",
      "loss: 1.8384, loss_Rec: 1.3698, loss_Dice: 0.4686, IoU: 0.7989\n"
     ]
    },
    {
     "name": "stderr",
     "output_type": "stream",
     "text": [
      "Valid: 100%|██████████| 40/40 [00:14<00:00,  2.69it/s]\n"
     ]
    },
    {
     "name": "stdout",
     "output_type": "stream",
     "text": [
      "Valid:\n",
      "loss: 0.3006, loss_Rec: 0.2198, loss_Dice: 0.0808, Dice: 0.9192, IoU: 0.8819\n",
      "Save best valid Dice !\n",
      "Save best valid Loss All !\n",
      "Save best valid Loss Rec !\n",
      "Save best valid Loss Dice !\n",
      "Current learning rate: 0.00008\n",
      "epoch 262 / 262 \t Time Taken: 56 sec\n",
      "best valid dice: 0.9192 at epoch: 262\n",
      "\n",
      "\n"
     ]
    },
    {
     "name": "stderr",
     "output_type": "stream",
     "text": [
      "Train: 100%|██████████| 42/42 [00:41<00:00,  1.01it/s]\n"
     ]
    },
    {
     "name": "stdout",
     "output_type": "stream",
     "text": [
      "Train:\n",
      "loss: 1.8502, loss_Rec: 1.3799, loss_Dice: 0.4703, IoU: 0.7928\n"
     ]
    },
    {
     "name": "stderr",
     "output_type": "stream",
     "text": [
      "Valid: 100%|██████████| 40/40 [00:14<00:00,  2.71it/s]\n"
     ]
    },
    {
     "name": "stdout",
     "output_type": "stream",
     "text": [
      "Valid:\n",
      "loss: 0.2984, loss_Rec: 0.2179, loss_Dice: 0.0805, Dice: 0.9195, IoU: 0.8841\n",
      "Save best valid Dice !\n",
      "Save best valid Loss All !\n",
      "Save best valid Loss Rec !\n",
      "Save best valid Loss Dice !\n",
      "Current learning rate: 0.00008\n",
      "epoch 263 / 263 \t Time Taken: 56 sec\n",
      "best valid dice: 0.9195 at epoch: 263\n",
      "\n",
      "\n"
     ]
    },
    {
     "name": "stderr",
     "output_type": "stream",
     "text": [
      "Train: 100%|██████████| 42/42 [00:41<00:00,  1.00it/s]\n"
     ]
    },
    {
     "name": "stdout",
     "output_type": "stream",
     "text": [
      "Train:\n",
      "loss: 1.8548, loss_Rec: 1.3752, loss_Dice: 0.4796, IoU: 0.7960\n"
     ]
    },
    {
     "name": "stderr",
     "output_type": "stream",
     "text": [
      "Valid: 100%|██████████| 40/40 [00:15<00:00,  2.66it/s]\n"
     ]
    },
    {
     "name": "stdout",
     "output_type": "stream",
     "text": [
      "Valid:\n",
      "loss: 0.2980, loss_Rec: 0.2192, loss_Dice: 0.0787, Dice: 0.9213, IoU: 0.8851\n",
      "Save best valid Dice !\n",
      "Save best valid Loss All !\n",
      "Save best valid Loss Dice !\n",
      "Current learning rate: 0.00007\n",
      "epoch 264 / 264 \t Time Taken: 57 sec\n",
      "best valid dice: 0.9213 at epoch: 264\n",
      "\n",
      "\n"
     ]
    },
    {
     "name": "stderr",
     "output_type": "stream",
     "text": [
      "Train:  29%|██▊       | 12/42 [00:11<00:29,  1.01it/s]"
     ]
    },
    {
     "name": "stdout",
     "output_type": "stream",
     "text": [
      "loss/loss tensor(2.5469, device='cuda:0', grad_fn=<AddBackward0>) 11100\n",
      "loss/loss_Rec tensor(1.8331, device='cuda:0', grad_fn=<AddBackward0>) 11100\n",
      "loss/loss_Dice tensor(0.7138, device='cuda:0', grad_fn=<AddBackward0>) 11100\n"
     ]
    },
    {
     "name": "stderr",
     "output_type": "stream",
     "text": [
      "Train: 100%|██████████| 42/42 [00:41<00:00,  1.01it/s]\n"
     ]
    },
    {
     "name": "stdout",
     "output_type": "stream",
     "text": [
      "Train:\n",
      "loss: 1.7769, loss_Rec: 1.3167, loss_Dice: 0.4602, IoU: 0.7974\n"
     ]
    },
    {
     "name": "stderr",
     "output_type": "stream",
     "text": [
      "Valid: 100%|██████████| 40/40 [00:14<00:00,  2.71it/s]\n"
     ]
    },
    {
     "name": "stdout",
     "output_type": "stream",
     "text": [
      "Valid:\n",
      "loss: 0.2968, loss_Rec: 0.2163, loss_Dice: 0.0806, Dice: 0.9194, IoU: 0.8833\n",
      "Save best valid Loss All !\n",
      "Save best valid Loss Rec !\n",
      "Current learning rate: 0.00007\n",
      "epoch 265 / 265 \t Time Taken: 56 sec\n",
      "best valid dice: 0.9213 at epoch: 264\n",
      "\n",
      "\n"
     ]
    },
    {
     "name": "stderr",
     "output_type": "stream",
     "text": [
      "Train: 100%|██████████| 42/42 [00:41<00:00,  1.02it/s]\n"
     ]
    },
    {
     "name": "stdout",
     "output_type": "stream",
     "text": [
      "Train:\n",
      "loss: 1.5745, loss_Rec: 1.1626, loss_Dice: 0.4119, IoU: 0.8149\n"
     ]
    },
    {
     "name": "stderr",
     "output_type": "stream",
     "text": [
      "Valid: 100%|██████████| 40/40 [00:14<00:00,  2.69it/s]\n"
     ]
    },
    {
     "name": "stdout",
     "output_type": "stream",
     "text": [
      "Valid:\n",
      "loss: 0.3007, loss_Rec: 0.2209, loss_Dice: 0.0798, Dice: 0.9202, IoU: 0.8858\n",
      "Current learning rate: 0.00006\n",
      "epoch 266 / 266 \t Time Taken: 56 sec\n",
      "best valid dice: 0.9213 at epoch: 264\n",
      "\n",
      "\n"
     ]
    },
    {
     "name": "stderr",
     "output_type": "stream",
     "text": [
      "Train:  67%|██████▋   | 28/42 [00:27<00:13,  1.02it/s]"
     ]
    },
    {
     "name": "stdout",
     "output_type": "stream",
     "text": [
      "loss/loss tensor(0.7966, device='cuda:0', grad_fn=<AddBackward0>) 11200\n",
      "loss/loss_Rec tensor(0.5992, device='cuda:0', grad_fn=<AddBackward0>) 11200\n",
      "loss/loss_Dice tensor(0.1973, device='cuda:0', grad_fn=<AddBackward0>) 11200\n"
     ]
    },
    {
     "name": "stderr",
     "output_type": "stream",
     "text": [
      "Train: 100%|██████████| 42/42 [00:41<00:00,  1.01it/s]\n"
     ]
    },
    {
     "name": "stdout",
     "output_type": "stream",
     "text": [
      "Train:\n",
      "loss: 1.7860, loss_Rec: 1.3212, loss_Dice: 0.4648, IoU: 0.7984\n"
     ]
    },
    {
     "name": "stderr",
     "output_type": "stream",
     "text": [
      "Valid: 100%|██████████| 40/40 [00:14<00:00,  2.70it/s]\n"
     ]
    },
    {
     "name": "stdout",
     "output_type": "stream",
     "text": [
      "Valid:\n",
      "loss: 0.2930, loss_Rec: 0.2137, loss_Dice: 0.0794, Dice: 0.9206, IoU: 0.8856\n",
      "Save best valid Loss All !\n",
      "Save best valid Loss Rec !\n",
      "Current learning rate: 0.00006\n",
      "epoch 267 / 267 \t Time Taken: 56 sec\n",
      "best valid dice: 0.9213 at epoch: 264\n",
      "\n",
      "\n"
     ]
    },
    {
     "name": "stderr",
     "output_type": "stream",
     "text": [
      "Train: 100%|██████████| 42/42 [00:41<00:00,  1.02it/s]\n"
     ]
    },
    {
     "name": "stdout",
     "output_type": "stream",
     "text": [
      "Train:\n",
      "loss: 1.7140, loss_Rec: 1.2713, loss_Dice: 0.4428, IoU: 0.8052\n"
     ]
    },
    {
     "name": "stderr",
     "output_type": "stream",
     "text": [
      "Valid: 100%|██████████| 40/40 [00:14<00:00,  2.70it/s]\n"
     ]
    },
    {
     "name": "stdout",
     "output_type": "stream",
     "text": [
      "Valid:\n",
      "loss: 0.2969, loss_Rec: 0.2171, loss_Dice: 0.0798, Dice: 0.9202, IoU: 0.8844\n",
      "Current learning rate: 0.00006\n",
      "epoch 268 / 268 \t Time Taken: 56 sec\n",
      "best valid dice: 0.9213 at epoch: 264\n",
      "\n",
      "\n"
     ]
    },
    {
     "name": "stderr",
     "output_type": "stream",
     "text": [
      "Train: 100%|██████████| 42/42 [00:41<00:00,  1.02it/s]\n"
     ]
    },
    {
     "name": "stdout",
     "output_type": "stream",
     "text": [
      "Train:\n",
      "loss: 1.6544, loss_Rec: 1.2273, loss_Dice: 0.4271, IoU: 0.8092\n"
     ]
    },
    {
     "name": "stderr",
     "output_type": "stream",
     "text": [
      "Valid: 100%|██████████| 40/40 [00:14<00:00,  2.70it/s]\n"
     ]
    },
    {
     "name": "stdout",
     "output_type": "stream",
     "text": [
      "Valid:\n",
      "loss: 0.2941, loss_Rec: 0.2161, loss_Dice: 0.0780, Dice: 0.9220, IoU: 0.8864\n",
      "Save best valid Dice !\n",
      "Save best valid Loss Dice !\n",
      "Current learning rate: 0.00005\n",
      "epoch 269 / 269 \t Time Taken: 56 sec\n",
      "best valid dice: 0.9220 at epoch: 269\n",
      "\n",
      "\n"
     ]
    },
    {
     "name": "stderr",
     "output_type": "stream",
     "text": [
      "Train:   5%|▍         | 2/42 [00:01<00:39,  1.02it/s]"
     ]
    },
    {
     "name": "stdout",
     "output_type": "stream",
     "text": [
      "loss/loss tensor(0.9137, device='cuda:0', grad_fn=<AddBackward0>) 11300\n",
      "loss/loss_Rec tensor(0.6560, device='cuda:0', grad_fn=<AddBackward0>) 11300\n",
      "loss/loss_Dice tensor(0.2577, device='cuda:0', grad_fn=<AddBackward0>) 11300\n"
     ]
    },
    {
     "name": "stderr",
     "output_type": "stream",
     "text": [
      "Train: 100%|██████████| 42/42 [00:41<00:00,  1.02it/s]\n"
     ]
    },
    {
     "name": "stdout",
     "output_type": "stream",
     "text": [
      "Train:\n",
      "loss: 1.6240, loss_Rec: 1.1971, loss_Dice: 0.4269, IoU: 0.8117\n"
     ]
    },
    {
     "name": "stderr",
     "output_type": "stream",
     "text": [
      "Valid: 100%|██████████| 40/40 [00:14<00:00,  2.71it/s]\n"
     ]
    },
    {
     "name": "stdout",
     "output_type": "stream",
     "text": [
      "Valid:\n",
      "loss: 0.2898, loss_Rec: 0.2133, loss_Dice: 0.0765, Dice: 0.9235, IoU: 0.8876\n",
      "Save best valid Dice !\n",
      "Save best valid Loss All !\n",
      "Save best valid Loss Rec !\n",
      "Save best valid Loss Dice !\n",
      "Current learning rate: 0.00005\n",
      "epoch 270 / 270 \t Time Taken: 56 sec\n",
      "best valid dice: 0.9235 at epoch: 270\n",
      "\n",
      "\n"
     ]
    },
    {
     "name": "stderr",
     "output_type": "stream",
     "text": [
      "Train: 100%|██████████| 42/42 [00:41<00:00,  1.01it/s]\n"
     ]
    },
    {
     "name": "stdout",
     "output_type": "stream",
     "text": [
      "Train:\n",
      "loss: 2.1266, loss_Rec: 1.5831, loss_Dice: 0.5435, IoU: 0.7710\n"
     ]
    },
    {
     "name": "stderr",
     "output_type": "stream",
     "text": [
      "Valid: 100%|██████████| 40/40 [00:14<00:00,  2.71it/s]\n"
     ]
    },
    {
     "name": "stdout",
     "output_type": "stream",
     "text": [
      "Valid:\n",
      "loss: 0.2861, loss_Rec: 0.2094, loss_Dice: 0.0767, Dice: 0.9233, IoU: 0.8890\n",
      "Save best valid Loss All !\n",
      "Save best valid Loss Rec !\n",
      "Current learning rate: 0.00005\n",
      "epoch 271 / 271 \t Time Taken: 56 sec\n",
      "best valid dice: 0.9235 at epoch: 270\n",
      "\n",
      "\n"
     ]
    },
    {
     "name": "stderr",
     "output_type": "stream",
     "text": [
      "Train:  43%|████▎     | 18/42 [00:17<00:24,  1.01s/it]"
     ]
    },
    {
     "name": "stdout",
     "output_type": "stream",
     "text": [
      "loss/loss tensor(0.9628, device='cuda:0', grad_fn=<AddBackward0>) 11400\n",
      "loss/loss_Rec tensor(0.6202, device='cuda:0', grad_fn=<AddBackward0>) 11400\n",
      "loss/loss_Dice tensor(0.3426, device='cuda:0', grad_fn=<AddBackward0>) 11400\n"
     ]
    },
    {
     "name": "stderr",
     "output_type": "stream",
     "text": [
      "Train: 100%|██████████| 42/42 [00:41<00:00,  1.01it/s]\n"
     ]
    },
    {
     "name": "stdout",
     "output_type": "stream",
     "text": [
      "Train:\n",
      "loss: 1.7773, loss_Rec: 1.3157, loss_Dice: 0.4616, IoU: 0.8028\n"
     ]
    },
    {
     "name": "stderr",
     "output_type": "stream",
     "text": [
      "Valid: 100%|██████████| 40/40 [00:14<00:00,  2.69it/s]\n"
     ]
    },
    {
     "name": "stdout",
     "output_type": "stream",
     "text": [
      "Valid:\n",
      "loss: 0.2881, loss_Rec: 0.2104, loss_Dice: 0.0777, Dice: 0.9223, IoU: 0.8889\n",
      "Current learning rate: 0.00004\n",
      "epoch 272 / 272 \t Time Taken: 56 sec\n",
      "best valid dice: 0.9235 at epoch: 270\n",
      "\n",
      "\n"
     ]
    },
    {
     "name": "stderr",
     "output_type": "stream",
     "text": [
      "Train: 100%|██████████| 42/42 [00:41<00:00,  1.01it/s]\n"
     ]
    },
    {
     "name": "stdout",
     "output_type": "stream",
     "text": [
      "Train:\n",
      "loss: 1.7394, loss_Rec: 1.2927, loss_Dice: 0.4467, IoU: 0.8046\n"
     ]
    },
    {
     "name": "stderr",
     "output_type": "stream",
     "text": [
      "Valid: 100%|██████████| 40/40 [00:14<00:00,  2.68it/s]\n"
     ]
    },
    {
     "name": "stdout",
     "output_type": "stream",
     "text": [
      "Valid:\n",
      "loss: 0.2837, loss_Rec: 0.2080, loss_Dice: 0.0757, Dice: 0.9243, IoU: 0.8896\n",
      "Save best valid Dice !\n",
      "Save best valid Loss All !\n",
      "Save best valid Loss Rec !\n",
      "Save best valid Loss Dice !\n",
      "Current learning rate: 0.00004\n",
      "epoch 273 / 273 \t Time Taken: 56 sec\n",
      "best valid dice: 0.9243 at epoch: 273\n",
      "\n",
      "\n"
     ]
    },
    {
     "name": "stderr",
     "output_type": "stream",
     "text": [
      "Train:  81%|████████  | 34/42 [00:33<00:07,  1.00it/s]"
     ]
    },
    {
     "name": "stdout",
     "output_type": "stream",
     "text": [
      "loss/loss tensor(0.7918, device='cuda:0', grad_fn=<AddBackward0>) 11500\n",
      "loss/loss_Rec tensor(0.5373, device='cuda:0', grad_fn=<AddBackward0>) 11500\n",
      "loss/loss_Dice tensor(0.2545, device='cuda:0', grad_fn=<AddBackward0>) 11500\n"
     ]
    },
    {
     "name": "stderr",
     "output_type": "stream",
     "text": [
      "Train: 100%|██████████| 42/42 [00:41<00:00,  1.01it/s]\n"
     ]
    },
    {
     "name": "stdout",
     "output_type": "stream",
     "text": [
      "Train:\n",
      "loss: 1.6806, loss_Rec: 1.2419, loss_Dice: 0.4386, IoU: 0.8069\n"
     ]
    },
    {
     "name": "stderr",
     "output_type": "stream",
     "text": [
      "Valid: 100%|██████████| 40/40 [00:14<00:00,  2.71it/s]\n"
     ]
    },
    {
     "name": "stdout",
     "output_type": "stream",
     "text": [
      "Valid:\n",
      "loss: 0.2829, loss_Rec: 0.2077, loss_Dice: 0.0752, Dice: 0.9248, IoU: 0.8904\n",
      "Save best valid Dice !\n",
      "Save best valid Loss All !\n",
      "Save best valid Loss Rec !\n",
      "Save best valid Loss Dice !\n",
      "Current learning rate: 0.00004\n",
      "epoch 274 / 274 \t Time Taken: 56 sec\n",
      "best valid dice: 0.9248 at epoch: 274\n",
      "\n",
      "\n"
     ]
    },
    {
     "name": "stderr",
     "output_type": "stream",
     "text": [
      "Train: 100%|██████████| 42/42 [00:41<00:00,  1.01it/s]\n"
     ]
    },
    {
     "name": "stdout",
     "output_type": "stream",
     "text": [
      "Train:\n",
      "loss: 1.8902, loss_Rec: 1.3930, loss_Dice: 0.4972, IoU: 0.7895\n"
     ]
    },
    {
     "name": "stderr",
     "output_type": "stream",
     "text": [
      "Valid: 100%|██████████| 40/40 [00:14<00:00,  2.71it/s]\n"
     ]
    },
    {
     "name": "stdout",
     "output_type": "stream",
     "text": [
      "Valid:\n",
      "loss: 0.2816, loss_Rec: 0.2061, loss_Dice: 0.0755, Dice: 0.9245, IoU: 0.8894\n",
      "Save best valid Loss All !\n",
      "Save best valid Loss Rec !\n",
      "Current learning rate: 0.00004\n",
      "epoch 275 / 275 \t Time Taken: 56 sec\n",
      "best valid dice: 0.9248 at epoch: 274\n",
      "\n",
      "\n"
     ]
    },
    {
     "name": "stderr",
     "output_type": "stream",
     "text": [
      "Train: 100%|██████████| 42/42 [00:41<00:00,  1.01it/s]\n"
     ]
    },
    {
     "name": "stdout",
     "output_type": "stream",
     "text": [
      "Train:\n",
      "loss: 1.7694, loss_Rec: 1.3122, loss_Dice: 0.4572, IoU: 0.7989\n"
     ]
    },
    {
     "name": "stderr",
     "output_type": "stream",
     "text": [
      "Valid: 100%|██████████| 40/40 [00:15<00:00,  2.63it/s]\n"
     ]
    },
    {
     "name": "stdout",
     "output_type": "stream",
     "text": [
      "Valid:\n",
      "loss: 0.2808, loss_Rec: 0.2054, loss_Dice: 0.0754, Dice: 0.9246, IoU: 0.8904\n",
      "Save best valid Loss All !\n",
      "Save best valid Loss Rec !\n",
      "Current learning rate: 0.00003\n",
      "epoch 276 / 276 \t Time Taken: 56 sec\n",
      "best valid dice: 0.9248 at epoch: 274\n",
      "\n",
      "\n"
     ]
    },
    {
     "name": "stderr",
     "output_type": "stream",
     "text": [
      "Train:  19%|█▉        | 8/42 [00:07<00:33,  1.01it/s]"
     ]
    },
    {
     "name": "stdout",
     "output_type": "stream",
     "text": [
      "loss/loss tensor(2.1615, device='cuda:0', grad_fn=<AddBackward0>) 11600\n",
      "loss/loss_Rec tensor(1.5888, device='cuda:0', grad_fn=<AddBackward0>) 11600\n",
      "loss/loss_Dice tensor(0.5727, device='cuda:0', grad_fn=<AddBackward0>) 11600\n"
     ]
    },
    {
     "name": "stderr",
     "output_type": "stream",
     "text": [
      "Train: 100%|██████████| 42/42 [00:41<00:00,  1.01it/s]\n"
     ]
    },
    {
     "name": "stdout",
     "output_type": "stream",
     "text": [
      "Train:\n",
      "loss: 1.6618, loss_Rec: 1.2315, loss_Dice: 0.4303, IoU: 0.8110\n"
     ]
    },
    {
     "name": "stderr",
     "output_type": "stream",
     "text": [
      "Valid: 100%|██████████| 40/40 [00:14<00:00,  2.68it/s]\n"
     ]
    },
    {
     "name": "stdout",
     "output_type": "stream",
     "text": [
      "Valid:\n",
      "loss: 0.2791, loss_Rec: 0.2045, loss_Dice: 0.0745, Dice: 0.9255, IoU: 0.8911\n",
      "Save best valid Dice !\n",
      "Save best valid Loss All !\n",
      "Save best valid Loss Rec !\n",
      "Save best valid Loss Dice !\n",
      "Current learning rate: 0.00003\n",
      "epoch 277 / 277 \t Time Taken: 57 sec\n",
      "best valid dice: 0.9255 at epoch: 277\n",
      "\n",
      "\n"
     ]
    },
    {
     "name": "stderr",
     "output_type": "stream",
     "text": [
      "Train: 100%|██████████| 42/42 [00:41<00:00,  1.00it/s]\n"
     ]
    },
    {
     "name": "stdout",
     "output_type": "stream",
     "text": [
      "Train:\n",
      "loss: 1.9249, loss_Rec: 1.4387, loss_Dice: 0.4862, IoU: 0.7923\n"
     ]
    },
    {
     "name": "stderr",
     "output_type": "stream",
     "text": [
      "Valid: 100%|██████████| 40/40 [00:14<00:00,  2.68it/s]\n"
     ]
    },
    {
     "name": "stdout",
     "output_type": "stream",
     "text": [
      "Valid:\n",
      "loss: 0.2806, loss_Rec: 0.2049, loss_Dice: 0.0757, Dice: 0.9243, IoU: 0.8904\n",
      "Current learning rate: 0.00003\n",
      "epoch 278 / 278 \t Time Taken: 56 sec\n",
      "best valid dice: 0.9255 at epoch: 277\n",
      "\n",
      "\n"
     ]
    },
    {
     "name": "stderr",
     "output_type": "stream",
     "text": [
      "Train:  57%|█████▋    | 24/42 [00:23<00:17,  1.01it/s]"
     ]
    },
    {
     "name": "stdout",
     "output_type": "stream",
     "text": [
      "loss/loss tensor(4.1984, device='cuda:0', grad_fn=<AddBackward0>) 11700\n",
      "loss/loss_Rec tensor(3.0700, device='cuda:0', grad_fn=<AddBackward0>) 11700\n",
      "loss/loss_Dice tensor(1.1284, device='cuda:0', grad_fn=<AddBackward0>) 11700\n"
     ]
    },
    {
     "name": "stderr",
     "output_type": "stream",
     "text": [
      "Train: 100%|██████████| 42/42 [00:41<00:00,  1.01it/s]\n"
     ]
    },
    {
     "name": "stdout",
     "output_type": "stream",
     "text": [
      "Train:\n",
      "loss: 1.7200, loss_Rec: 1.2713, loss_Dice: 0.4487, IoU: 0.8058\n"
     ]
    },
    {
     "name": "stderr",
     "output_type": "stream",
     "text": [
      "Valid: 100%|██████████| 40/40 [00:14<00:00,  2.71it/s]\n"
     ]
    },
    {
     "name": "stdout",
     "output_type": "stream",
     "text": [
      "Valid:\n",
      "loss: 0.2784, loss_Rec: 0.2039, loss_Dice: 0.0745, Dice: 0.9255, IoU: 0.8909\n",
      "Save best valid Dice !\n",
      "Save best valid Loss All !\n",
      "Save best valid Loss Rec !\n",
      "Save best valid Loss Dice !\n",
      "Current learning rate: 0.00002\n",
      "epoch 279 / 279 \t Time Taken: 56 sec\n",
      "best valid dice: 0.9255 at epoch: 279\n",
      "\n",
      "\n"
     ]
    },
    {
     "name": "stderr",
     "output_type": "stream",
     "text": [
      "Train: 100%|██████████| 42/42 [00:41<00:00,  1.02it/s]\n"
     ]
    },
    {
     "name": "stdout",
     "output_type": "stream",
     "text": [
      "Train:\n",
      "loss: 1.8112, loss_Rec: 1.3397, loss_Dice: 0.4715, IoU: 0.7940\n"
     ]
    },
    {
     "name": "stderr",
     "output_type": "stream",
     "text": [
      "Valid: 100%|██████████| 40/40 [00:14<00:00,  2.70it/s]\n"
     ]
    },
    {
     "name": "stdout",
     "output_type": "stream",
     "text": [
      "Valid:\n",
      "loss: 0.2781, loss_Rec: 0.2034, loss_Dice: 0.0747, Dice: 0.9253, IoU: 0.8911\n",
      "Save best valid Loss All !\n",
      "Save best valid Loss Rec !\n",
      "Current learning rate: 0.00002\n",
      "epoch 280 / 280 \t Time Taken: 56 sec\n",
      "best valid dice: 0.9255 at epoch: 279\n",
      "\n",
      "\n"
     ]
    },
    {
     "name": "stderr",
     "output_type": "stream",
     "text": [
      "Train:  95%|█████████▌| 40/42 [00:40<00:02,  1.14s/it]"
     ]
    },
    {
     "name": "stdout",
     "output_type": "stream",
     "text": [
      "loss/loss tensor(1.0272, device='cuda:0', grad_fn=<AddBackward0>) 11800\n",
      "loss/loss_Rec tensor(0.7718, device='cuda:0', grad_fn=<AddBackward0>) 11800\n",
      "loss/loss_Dice tensor(0.2554, device='cuda:0', grad_fn=<AddBackward0>) 11800\n"
     ]
    },
    {
     "name": "stderr",
     "output_type": "stream",
     "text": [
      "Train: 100%|██████████| 42/42 [00:42<00:00,  1.01s/it]\n"
     ]
    },
    {
     "name": "stdout",
     "output_type": "stream",
     "text": [
      "Train:\n",
      "loss: 1.9565, loss_Rec: 1.4596, loss_Dice: 0.4969, IoU: 0.7892\n"
     ]
    },
    {
     "name": "stderr",
     "output_type": "stream",
     "text": [
      "Valid: 100%|██████████| 40/40 [00:14<00:00,  2.69it/s]\n"
     ]
    },
    {
     "name": "stdout",
     "output_type": "stream",
     "text": [
      "Valid:\n",
      "loss: 0.2780, loss_Rec: 0.2028, loss_Dice: 0.0753, Dice: 0.9247, IoU: 0.8915\n",
      "Save best valid Loss All !\n",
      "Save best valid Loss Rec !\n",
      "Current learning rate: 0.00002\n",
      "epoch 281 / 281 \t Time Taken: 57 sec\n",
      "best valid dice: 0.9255 at epoch: 279\n",
      "\n",
      "\n"
     ]
    },
    {
     "name": "stderr",
     "output_type": "stream",
     "text": [
      "Train: 100%|██████████| 42/42 [00:41<00:00,  1.01it/s]\n"
     ]
    },
    {
     "name": "stdout",
     "output_type": "stream",
     "text": [
      "Train:\n",
      "loss: 1.8237, loss_Rec: 1.3642, loss_Dice: 0.4596, IoU: 0.7997\n"
     ]
    },
    {
     "name": "stderr",
     "output_type": "stream",
     "text": [
      "Valid: 100%|██████████| 40/40 [00:14<00:00,  2.70it/s]\n"
     ]
    },
    {
     "name": "stdout",
     "output_type": "stream",
     "text": [
      "Valid:\n",
      "loss: 0.2779, loss_Rec: 0.2028, loss_Dice: 0.0751, Dice: 0.9249, IoU: 0.8906\n",
      "Save best valid Loss All !\n",
      "Current learning rate: 0.00002\n",
      "epoch 282 / 282 \t Time Taken: 56 sec\n",
      "best valid dice: 0.9255 at epoch: 279\n",
      "\n",
      "\n"
     ]
    },
    {
     "name": "stderr",
     "output_type": "stream",
     "text": [
      "Train: 100%|██████████| 42/42 [00:41<00:00,  1.01it/s]\n"
     ]
    },
    {
     "name": "stdout",
     "output_type": "stream",
     "text": [
      "Train:\n",
      "loss: 1.7721, loss_Rec: 1.3148, loss_Dice: 0.4572, IoU: 0.7979\n"
     ]
    },
    {
     "name": "stderr",
     "output_type": "stream",
     "text": [
      "Valid: 100%|██████████| 40/40 [00:14<00:00,  2.69it/s]\n"
     ]
    },
    {
     "name": "stdout",
     "output_type": "stream",
     "text": [
      "Valid:\n",
      "loss: 0.2777, loss_Rec: 0.2032, loss_Dice: 0.0745, Dice: 0.9255, IoU: 0.8926\n",
      "Save best valid Dice !\n",
      "Save best valid Loss All !\n",
      "Save best valid Loss Dice !\n",
      "Current learning rate: 0.00002\n",
      "epoch 283 / 283 \t Time Taken: 56 sec\n",
      "best valid dice: 0.9255 at epoch: 283\n",
      "\n",
      "\n"
     ]
    },
    {
     "name": "stderr",
     "output_type": "stream",
     "text": [
      "Train:  33%|███▎      | 14/42 [00:13<00:27,  1.01it/s]"
     ]
    },
    {
     "name": "stdout",
     "output_type": "stream",
     "text": [
      "loss/loss tensor(0.9154, device='cuda:0', grad_fn=<AddBackward0>) 11900\n",
      "loss/loss_Rec tensor(0.6616, device='cuda:0', grad_fn=<AddBackward0>) 11900\n",
      "loss/loss_Dice tensor(0.2539, device='cuda:0', grad_fn=<AddBackward0>) 11900\n"
     ]
    },
    {
     "name": "stderr",
     "output_type": "stream",
     "text": [
      "Train: 100%|██████████| 42/42 [00:41<00:00,  1.01it/s]\n"
     ]
    },
    {
     "name": "stdout",
     "output_type": "stream",
     "text": [
      "Train:\n",
      "loss: 1.8805, loss_Rec: 1.3994, loss_Dice: 0.4811, IoU: 0.7966\n"
     ]
    },
    {
     "name": "stderr",
     "output_type": "stream",
     "text": [
      "Valid: 100%|██████████| 40/40 [00:14<00:00,  2.70it/s]\n"
     ]
    },
    {
     "name": "stdout",
     "output_type": "stream",
     "text": [
      "Valid:\n",
      "loss: 0.2767, loss_Rec: 0.2025, loss_Dice: 0.0742, Dice: 0.9258, IoU: 0.8924\n",
      "Save best valid Dice !\n",
      "Save best valid Loss All !\n",
      "Save best valid Loss Rec !\n",
      "Save best valid Loss Dice !\n",
      "Current learning rate: 0.00001\n",
      "epoch 284 / 284 \t Time Taken: 56 sec\n",
      "best valid dice: 0.9258 at epoch: 284\n",
      "\n",
      "\n"
     ]
    },
    {
     "name": "stderr",
     "output_type": "stream",
     "text": [
      "Train: 100%|██████████| 42/42 [00:41<00:00,  1.00it/s]\n"
     ]
    },
    {
     "name": "stdout",
     "output_type": "stream",
     "text": [
      "Train:\n",
      "loss: 2.2011, loss_Rec: 1.6305, loss_Dice: 0.5706, IoU: 0.7600\n"
     ]
    },
    {
     "name": "stderr",
     "output_type": "stream",
     "text": [
      "Valid: 100%|██████████| 40/40 [00:14<00:00,  2.70it/s]\n"
     ]
    },
    {
     "name": "stdout",
     "output_type": "stream",
     "text": [
      "Valid:\n",
      "loss: 0.2765, loss_Rec: 0.2023, loss_Dice: 0.0742, Dice: 0.9258, IoU: 0.8920\n",
      "Save best valid Dice !\n",
      "Save best valid Loss All !\n",
      "Save best valid Loss Rec !\n",
      "Save best valid Loss Dice !\n",
      "Current learning rate: 0.00001\n",
      "epoch 285 / 285 \t Time Taken: 56 sec\n",
      "best valid dice: 0.9258 at epoch: 285\n",
      "\n",
      "\n"
     ]
    },
    {
     "name": "stderr",
     "output_type": "stream",
     "text": [
      "Train:  71%|███████▏  | 30/42 [00:29<00:11,  1.02it/s]"
     ]
    },
    {
     "name": "stdout",
     "output_type": "stream",
     "text": [
      "loss/loss tensor(1.8661, device='cuda:0', grad_fn=<AddBackward0>) 12000\n",
      "loss/loss_Rec tensor(1.4336, device='cuda:0', grad_fn=<AddBackward0>) 12000\n",
      "loss/loss_Dice tensor(0.4326, device='cuda:0', grad_fn=<AddBackward0>) 12000\n"
     ]
    },
    {
     "name": "stderr",
     "output_type": "stream",
     "text": [
      "Train: 100%|██████████| 42/42 [00:41<00:00,  1.02it/s]\n"
     ]
    },
    {
     "name": "stdout",
     "output_type": "stream",
     "text": [
      "Train:\n",
      "loss: 1.4713, loss_Rec: 1.0882, loss_Dice: 0.3830, IoU: 0.8287\n"
     ]
    },
    {
     "name": "stderr",
     "output_type": "stream",
     "text": [
      "Valid: 100%|██████████| 40/40 [00:14<00:00,  2.68it/s]\n"
     ]
    },
    {
     "name": "stdout",
     "output_type": "stream",
     "text": [
      "Valid:\n",
      "loss: 0.2757, loss_Rec: 0.2019, loss_Dice: 0.0738, Dice: 0.9262, IoU: 0.8925\n",
      "Save best valid Dice !\n",
      "Save best valid Loss All !\n",
      "Save best valid Loss Rec !\n",
      "Save best valid Loss Dice !\n",
      "Current learning rate: 0.00001\n",
      "epoch 286 / 286 \t Time Taken: 56 sec\n",
      "best valid dice: 0.9262 at epoch: 286\n",
      "\n",
      "\n"
     ]
    },
    {
     "name": "stderr",
     "output_type": "stream",
     "text": [
      "Train: 100%|██████████| 42/42 [00:41<00:00,  1.01it/s]\n"
     ]
    },
    {
     "name": "stdout",
     "output_type": "stream",
     "text": [
      "Train:\n",
      "loss: 1.8597, loss_Rec: 1.3833, loss_Dice: 0.4764, IoU: 0.7918\n"
     ]
    },
    {
     "name": "stderr",
     "output_type": "stream",
     "text": [
      "Valid: 100%|██████████| 40/40 [00:14<00:00,  2.70it/s]\n"
     ]
    },
    {
     "name": "stdout",
     "output_type": "stream",
     "text": [
      "Valid:\n",
      "loss: 0.2761, loss_Rec: 0.2023, loss_Dice: 0.0738, Dice: 0.9262, IoU: 0.8924\n",
      "Save best valid Dice !\n",
      "Save best valid Loss Dice !\n",
      "Current learning rate: 0.00001\n",
      "epoch 287 / 287 \t Time Taken: 56 sec\n",
      "best valid dice: 0.9262 at epoch: 287\n",
      "\n",
      "\n"
     ]
    },
    {
     "name": "stderr",
     "output_type": "stream",
     "text": [
      "Train: 100%|██████████| 42/42 [00:41<00:00,  1.00it/s]\n"
     ]
    },
    {
     "name": "stdout",
     "output_type": "stream",
     "text": [
      "Train:\n",
      "loss: 1.7878, loss_Rec: 1.3239, loss_Dice: 0.4639, IoU: 0.7966\n"
     ]
    },
    {
     "name": "stderr",
     "output_type": "stream",
     "text": [
      "Valid: 100%|██████████| 40/40 [00:14<00:00,  2.70it/s]\n"
     ]
    },
    {
     "name": "stdout",
     "output_type": "stream",
     "text": [
      "Valid:\n",
      "loss: 0.2755, loss_Rec: 0.2017, loss_Dice: 0.0738, Dice: 0.9262, IoU: 0.8924\n",
      "Save best valid Loss All !\n",
      "Save best valid Loss Rec !\n",
      "Current learning rate: 0.00001\n",
      "epoch 288 / 288 \t Time Taken: 56 sec\n",
      "best valid dice: 0.9262 at epoch: 287\n",
      "\n",
      "\n"
     ]
    },
    {
     "name": "stderr",
     "output_type": "stream",
     "text": [
      "Train:  10%|▉         | 4/42 [00:03<00:36,  1.03it/s]"
     ]
    },
    {
     "name": "stdout",
     "output_type": "stream",
     "text": [
      "loss/loss tensor(1.1184, device='cuda:0', grad_fn=<AddBackward0>) 12100\n",
      "loss/loss_Rec tensor(0.8336, device='cuda:0', grad_fn=<AddBackward0>) 12100\n",
      "loss/loss_Dice tensor(0.2847, device='cuda:0', grad_fn=<AddBackward0>) 12100\n"
     ]
    },
    {
     "name": "stderr",
     "output_type": "stream",
     "text": [
      "Train: 100%|██████████| 42/42 [00:41<00:00,  1.01it/s]\n"
     ]
    },
    {
     "name": "stdout",
     "output_type": "stream",
     "text": [
      "Train:\n",
      "loss: 1.5495, loss_Rec: 1.1520, loss_Dice: 0.3975, IoU: 0.8214\n"
     ]
    },
    {
     "name": "stderr",
     "output_type": "stream",
     "text": [
      "Valid: 100%|██████████| 40/40 [00:14<00:00,  2.70it/s]\n"
     ]
    },
    {
     "name": "stdout",
     "output_type": "stream",
     "text": [
      "Valid:\n",
      "loss: 0.2754, loss_Rec: 0.2017, loss_Dice: 0.0737, Dice: 0.9263, IoU: 0.8926\n",
      "Save best valid Dice !\n",
      "Save best valid Loss All !\n",
      "Save best valid Loss Rec !\n",
      "Save best valid Loss Dice !\n",
      "Current learning rate: 0.00001\n",
      "epoch 289 / 289 \t Time Taken: 56 sec\n",
      "best valid dice: 0.9263 at epoch: 289\n",
      "\n",
      "\n"
     ]
    },
    {
     "name": "stderr",
     "output_type": "stream",
     "text": [
      "Train: 100%|██████████| 42/42 [00:41<00:00,  1.01it/s]\n"
     ]
    },
    {
     "name": "stdout",
     "output_type": "stream",
     "text": [
      "Train:\n",
      "loss: 2.1253, loss_Rec: 1.5921, loss_Dice: 0.5331, IoU: 0.7737\n"
     ]
    },
    {
     "name": "stderr",
     "output_type": "stream",
     "text": [
      "Valid: 100%|██████████| 40/40 [00:14<00:00,  2.71it/s]\n"
     ]
    },
    {
     "name": "stdout",
     "output_type": "stream",
     "text": [
      "Valid:\n",
      "loss: 0.2756, loss_Rec: 0.2016, loss_Dice: 0.0740, Dice: 0.9260, IoU: 0.8926\n",
      "Save best valid Loss Rec !\n",
      "Current learning rate: 0.00001\n",
      "epoch 290 / 290 \t Time Taken: 56 sec\n",
      "best valid dice: 0.9263 at epoch: 289\n",
      "\n",
      "\n"
     ]
    },
    {
     "name": "stderr",
     "output_type": "stream",
     "text": [
      "Train:  48%|████▊     | 20/42 [00:19<00:21,  1.01it/s]"
     ]
    },
    {
     "name": "stdout",
     "output_type": "stream",
     "text": [
      "loss/loss tensor(0.6764, device='cuda:0', grad_fn=<AddBackward0>) 12200\n",
      "loss/loss_Rec tensor(0.4956, device='cuda:0', grad_fn=<AddBackward0>) 12200\n",
      "loss/loss_Dice tensor(0.1808, device='cuda:0', grad_fn=<AddBackward0>) 12200\n"
     ]
    },
    {
     "name": "stderr",
     "output_type": "stream",
     "text": [
      "Train: 100%|██████████| 42/42 [00:41<00:00,  1.00it/s]\n"
     ]
    },
    {
     "name": "stdout",
     "output_type": "stream",
     "text": [
      "Train:\n",
      "loss: 2.1846, loss_Rec: 1.6251, loss_Dice: 0.5595, IoU: 0.7687\n"
     ]
    },
    {
     "name": "stderr",
     "output_type": "stream",
     "text": [
      "Valid: 100%|██████████| 40/40 [00:14<00:00,  2.70it/s]\n"
     ]
    },
    {
     "name": "stdout",
     "output_type": "stream",
     "text": [
      "Valid:\n",
      "loss: 0.2755, loss_Rec: 0.2017, loss_Dice: 0.0739, Dice: 0.9261, IoU: 0.8928\n",
      "Current learning rate: 0.00000\n",
      "epoch 291 / 291 \t Time Taken: 56 sec\n",
      "best valid dice: 0.9263 at epoch: 289\n",
      "\n",
      "\n"
     ]
    },
    {
     "name": "stderr",
     "output_type": "stream",
     "text": [
      "Train: 100%|██████████| 42/42 [00:41<00:00,  1.01it/s]\n"
     ]
    },
    {
     "name": "stdout",
     "output_type": "stream",
     "text": [
      "Train:\n",
      "loss: 2.1472, loss_Rec: 1.5928, loss_Dice: 0.5544, IoU: 0.7644\n"
     ]
    },
    {
     "name": "stderr",
     "output_type": "stream",
     "text": [
      "Valid: 100%|██████████| 40/40 [00:14<00:00,  2.69it/s]\n"
     ]
    },
    {
     "name": "stdout",
     "output_type": "stream",
     "text": [
      "Valid:\n",
      "loss: 0.2755, loss_Rec: 0.2014, loss_Dice: 0.0741, Dice: 0.9259, IoU: 0.8925\n",
      "Save best valid Loss Rec !\n",
      "Current learning rate: 0.00000\n",
      "epoch 292 / 292 \t Time Taken: 56 sec\n",
      "best valid dice: 0.9263 at epoch: 289\n",
      "\n",
      "\n"
     ]
    },
    {
     "name": "stderr",
     "output_type": "stream",
     "text": [
      "Train:  86%|████████▌ | 36/42 [00:36<00:06,  1.02s/it]"
     ]
    },
    {
     "name": "stdout",
     "output_type": "stream",
     "text": [
      "loss/loss tensor(3.3288, device='cuda:0', grad_fn=<AddBackward0>) 12300\n",
      "loss/loss_Rec tensor(2.4689, device='cuda:0', grad_fn=<AddBackward0>) 12300\n",
      "loss/loss_Dice tensor(0.8600, device='cuda:0', grad_fn=<AddBackward0>) 12300\n"
     ]
    },
    {
     "name": "stderr",
     "output_type": "stream",
     "text": [
      "Train: 100%|██████████| 42/42 [00:42<00:00,  1.01s/it]\n"
     ]
    },
    {
     "name": "stdout",
     "output_type": "stream",
     "text": [
      "Train:\n",
      "loss: 2.0080, loss_Rec: 1.4898, loss_Dice: 0.5183, IoU: 0.7792\n"
     ]
    },
    {
     "name": "stderr",
     "output_type": "stream",
     "text": [
      "Valid: 100%|██████████| 40/40 [00:14<00:00,  2.68it/s]\n"
     ]
    },
    {
     "name": "stdout",
     "output_type": "stream",
     "text": [
      "Valid:\n",
      "loss: 0.2752, loss_Rec: 0.2011, loss_Dice: 0.0740, Dice: 0.9260, IoU: 0.8928\n",
      "Save best valid Loss All !\n",
      "Save best valid Loss Rec !\n",
      "Current learning rate: 0.00000\n",
      "epoch 293 / 293 \t Time Taken: 57 sec\n",
      "best valid dice: 0.9263 at epoch: 289\n",
      "\n",
      "\n"
     ]
    },
    {
     "name": "stderr",
     "output_type": "stream",
     "text": [
      "Train: 100%|██████████| 42/42 [00:41<00:00,  1.01it/s]\n"
     ]
    },
    {
     "name": "stdout",
     "output_type": "stream",
     "text": [
      "Train:\n",
      "loss: 1.9386, loss_Rec: 1.4367, loss_Dice: 0.5019, IoU: 0.7876\n"
     ]
    },
    {
     "name": "stderr",
     "output_type": "stream",
     "text": [
      "Valid: 100%|██████████| 40/40 [00:14<00:00,  2.70it/s]\n"
     ]
    },
    {
     "name": "stdout",
     "output_type": "stream",
     "text": [
      "Valid:\n",
      "loss: 0.2751, loss_Rec: 0.2012, loss_Dice: 0.0739, Dice: 0.9261, IoU: 0.8930\n",
      "Save best valid Loss All !\n",
      "Current learning rate: 0.00000\n",
      "epoch 294 / 294 \t Time Taken: 56 sec\n",
      "best valid dice: 0.9263 at epoch: 289\n",
      "\n",
      "\n"
     ]
    },
    {
     "name": "stderr",
     "output_type": "stream",
     "text": [
      "Train: 100%|██████████| 42/42 [00:41<00:00,  1.01it/s]\n"
     ]
    },
    {
     "name": "stdout",
     "output_type": "stream",
     "text": [
      "Train:\n",
      "loss: 1.8308, loss_Rec: 1.3607, loss_Dice: 0.4701, IoU: 0.7975\n"
     ]
    },
    {
     "name": "stderr",
     "output_type": "stream",
     "text": [
      "Valid: 100%|██████████| 40/40 [00:14<00:00,  2.71it/s]\n"
     ]
    },
    {
     "name": "stdout",
     "output_type": "stream",
     "text": [
      "Valid:\n",
      "loss: 0.2751, loss_Rec: 0.2012, loss_Dice: 0.0739, Dice: 0.9261, IoU: 0.8929\n",
      "Save best valid Loss All !\n",
      "Current learning rate: 0.00000\n",
      "epoch 295 / 295 \t Time Taken: 56 sec\n",
      "best valid dice: 0.9263 at epoch: 289\n",
      "\n",
      "\n"
     ]
    },
    {
     "name": "stderr",
     "output_type": "stream",
     "text": [
      "Train:  24%|██▍       | 10/42 [00:09<00:31,  1.02it/s]"
     ]
    },
    {
     "name": "stdout",
     "output_type": "stream",
     "text": [
      "loss/loss tensor(0.8178, device='cuda:0', grad_fn=<AddBackward0>) 12400\n",
      "loss/loss_Rec tensor(0.6163, device='cuda:0', grad_fn=<AddBackward0>) 12400\n",
      "loss/loss_Dice tensor(0.2015, device='cuda:0', grad_fn=<AddBackward0>) 12400\n"
     ]
    },
    {
     "name": "stderr",
     "output_type": "stream",
     "text": [
      "Train: 100%|██████████| 42/42 [00:41<00:00,  1.01it/s]\n"
     ]
    },
    {
     "name": "stdout",
     "output_type": "stream",
     "text": [
      "Train:\n",
      "loss: 1.5913, loss_Rec: 1.1830, loss_Dice: 0.4083, IoU: 0.8199\n"
     ]
    },
    {
     "name": "stderr",
     "output_type": "stream",
     "text": [
      "Valid: 100%|██████████| 40/40 [00:14<00:00,  2.67it/s]\n"
     ]
    },
    {
     "name": "stdout",
     "output_type": "stream",
     "text": [
      "Valid:\n",
      "loss: 0.2750, loss_Rec: 0.2011, loss_Dice: 0.0739, Dice: 0.9261, IoU: 0.8929\n",
      "Save best valid Loss All !\n",
      "Save best valid Loss Rec !\n",
      "Current learning rate: 0.00000\n",
      "epoch 296 / 296 \t Time Taken: 56 sec\n",
      "best valid dice: 0.9263 at epoch: 289\n",
      "\n",
      "\n"
     ]
    },
    {
     "name": "stderr",
     "output_type": "stream",
     "text": [
      "Train: 100%|██████████| 42/42 [00:41<00:00,  1.01it/s]\n"
     ]
    },
    {
     "name": "stdout",
     "output_type": "stream",
     "text": [
      "Train:\n",
      "loss: 1.7521, loss_Rec: 1.3026, loss_Dice: 0.4495, IoU: 0.8084\n"
     ]
    },
    {
     "name": "stderr",
     "output_type": "stream",
     "text": [
      "Valid: 100%|██████████| 40/40 [00:14<00:00,  2.71it/s]\n"
     ]
    },
    {
     "name": "stdout",
     "output_type": "stream",
     "text": [
      "Valid:\n",
      "loss: 0.2749, loss_Rec: 0.2011, loss_Dice: 0.0739, Dice: 0.9261, IoU: 0.8929\n",
      "Save best valid Loss All !\n",
      "Save best valid Loss Rec !\n",
      "Current learning rate: 0.00000\n",
      "epoch 297 / 297 \t Time Taken: 56 sec\n",
      "best valid dice: 0.9263 at epoch: 289\n",
      "\n",
      "\n"
     ]
    },
    {
     "name": "stderr",
     "output_type": "stream",
     "text": [
      "Train:  62%|██████▏   | 26/42 [00:26<00:15,  1.02it/s]"
     ]
    },
    {
     "name": "stdout",
     "output_type": "stream",
     "text": [
      "loss/loss tensor(2.6390, device='cuda:0', grad_fn=<AddBackward0>) 12500\n",
      "loss/loss_Rec tensor(1.9633, device='cuda:0', grad_fn=<AddBackward0>) 12500\n",
      "loss/loss_Dice tensor(0.6757, device='cuda:0', grad_fn=<AddBackward0>) 12500\n"
     ]
    },
    {
     "name": "stderr",
     "output_type": "stream",
     "text": [
      "Train: 100%|██████████| 42/42 [00:42<00:00,  1.00s/it]\n"
     ]
    },
    {
     "name": "stdout",
     "output_type": "stream",
     "text": [
      "Train:\n",
      "loss: 1.9522, loss_Rec: 1.4600, loss_Dice: 0.4922, IoU: 0.7945\n"
     ]
    },
    {
     "name": "stderr",
     "output_type": "stream",
     "text": [
      "Valid: 100%|██████████| 40/40 [00:14<00:00,  2.69it/s]\n"
     ]
    },
    {
     "name": "stdout",
     "output_type": "stream",
     "text": [
      "Valid:\n",
      "loss: 0.2749, loss_Rec: 0.2011, loss_Dice: 0.0739, Dice: 0.9261, IoU: 0.8929\n",
      "Save best valid Loss All !\n",
      "Current learning rate: 0.00000\n",
      "epoch 298 / 298 \t Time Taken: 57 sec\n",
      "best valid dice: 0.9263 at epoch: 289\n",
      "\n",
      "\n"
     ]
    },
    {
     "name": "stderr",
     "output_type": "stream",
     "text": [
      "Train: 100%|██████████| 42/42 [00:41<00:00,  1.00it/s]\n"
     ]
    },
    {
     "name": "stdout",
     "output_type": "stream",
     "text": [
      "Train:\n",
      "loss: 2.1093, loss_Rec: 1.5618, loss_Dice: 0.5475, IoU: 0.7708\n"
     ]
    },
    {
     "name": "stderr",
     "output_type": "stream",
     "text": [
      "Valid: 100%|██████████| 40/40 [00:14<00:00,  2.68it/s]\n"
     ]
    },
    {
     "name": "stdout",
     "output_type": "stream",
     "text": [
      "Valid:\n",
      "loss: 0.2749, loss_Rec: 0.2010, loss_Dice: 0.0739, Dice: 0.9261, IoU: 0.8929\n",
      "Save best valid Loss All !\n",
      "Save best valid Loss Rec !\n",
      "Current learning rate: 0.00000\n",
      "epoch 299 / 299 \t Time Taken: 56 sec\n",
      "best valid dice: 0.9263 at epoch: 289\n",
      "\n",
      "\n"
     ]
    },
    {
     "name": "stderr",
     "output_type": "stream",
     "text": [
      "Train: 100%|██████████| 42/42 [00:41<00:00,  1.01it/s]\n"
     ]
    },
    {
     "name": "stdout",
     "output_type": "stream",
     "text": [
      "loss/loss tensor(0.7763, device='cuda:0', grad_fn=<AddBackward0>) 12600\n",
      "loss/loss_Rec tensor(0.5821, device='cuda:0', grad_fn=<AddBackward0>) 12600\n",
      "loss/loss_Dice tensor(0.1942, device='cuda:0', grad_fn=<AddBackward0>) 12600\n",
      "Train:\n",
      "loss: 1.7316, loss_Rec: 1.2840, loss_Dice: 0.4476, IoU: 0.8031\n"
     ]
    },
    {
     "name": "stderr",
     "output_type": "stream",
     "text": [
      "Valid: 100%|██████████| 40/40 [00:14<00:00,  2.70it/s]"
     ]
    },
    {
     "name": "stdout",
     "output_type": "stream",
     "text": [
      "Valid:\n",
      "loss: 0.2749, loss_Rec: 0.2010, loss_Dice: 0.0739, Dice: 0.9261, IoU: 0.8930\n",
      "Current learning rate: 0.00000\n",
      "epoch 300 / 300 \t Time Taken: 56 sec\n",
      "best valid dice: 0.9263 at epoch: 289\n",
      "\n",
      "\n"
     ]
    },
    {
     "name": "stderr",
     "output_type": "stream",
     "text": [
      "\n"
     ]
    }
   ],
   "source": [
    "def compute_iou(pred, target, eps=1e-7):\n",
    "    pred = (pred > 0.5).float()\n",
    "    target = (target > 0.5).float()\n",
    "    intersection = torch.sum(pred * target, dim=list(range(1, pred.ndim)))\n",
    "    union = torch.sum(pred + target, dim=list(range(1, pred.ndim))) - intersection\n",
    "    iou = (intersection + eps) / (union + eps)\n",
    "    return iou.mean().item()\n",
    "\n",
    "epoch = 300\n",
    "# Define optimizers\n",
    "optimizer = torch.optim.AdamW(mapping_model.parameters(), lr=0.002)\n",
    "scheduler = LinearWarmupCosineAnnealingLR(optimizer, warmup_epochs=5, max_epochs=epoch)\n",
    "\n",
    "# Define loss functions\n",
    "mse_loss  = torch.nn.MSELoss(reduction='mean')\n",
    "dice_loss = DiceLoss()\n",
    "\n",
    "# For Tensorboard Visualization\n",
    "iter_num = 0\n",
    "best_valid_loss = np.inf\n",
    "best_valid_loss_rec = np.inf\n",
    "best_valid_dice = 0\n",
    "best_valid_dice_epoch = 0\n",
    "best_valid_loss_dice = np.inf\n",
    "ds_list = ['level2', 'level1', 'out']\n",
    "\n",
    "# Network training\n",
    "for epoch in range(1, epoch + 1):\n",
    "    epoch_start_time = time.time()\n",
    "    mapping_model.train()\n",
    "\n",
    "    T_loss = []\n",
    "    T_loss_Rec = []\n",
    "    T_loss_Dice = []\n",
    "    T_IoU = []\n",
    "\n",
    "    T_loss_valid = []\n",
    "    T_loss_Rec_valid = []\n",
    "    T_loss_Dice_valid = []\n",
    "    T_Dice_valid = []\n",
    "    T_IoU_valid = []\n",
    "\n",
    "    ### Training phase\n",
    "    for batch_data in tqdm(train_dataloader, desc='Train: '):\n",
    "        img_rgb = batch_data['img']\n",
    "        img_rgb = 2. * img_rgb - 1.\n",
    "        seg_raw = batch_data['seg']\n",
    "        seg_raw = seg_raw.permute(0, 3, 1, 2).float()\n",
    "        \n",
    "        # ✅ Binarize (anything > 0 is 1)\n",
    "        seg_raw = (seg_raw > 0).float()\n",
    "        \n",
    "        # For VAE input (scaled to [-1,1])\n",
    "        seg_rgb = 2. * seg_raw - 1.\n",
    "        \n",
    "        # For Dice/IoU (stay in [0,1])\n",
    "        seg_img = torch.mean(seg_raw, dim=1, keepdim=True)\n",
    "        # seg_raw = batch_data['seg']\n",
    "        # # seg_raw = seg_raw.permute(0, 3, 1, 2) / 255.0\n",
    "        # seg_raw = seg_raw.permute(0, 3, 1, 2)\n",
    "        # seg_rgb = 2. * seg_raw - 1.\n",
    "        # seg_img = torch.mean(seg_raw, dim=1, keepdim=True)\n",
    "        name    = batch_data['name']\n",
    "\n",
    "        img_latent_mean, img_latent_logvar = get_vae_encoding_mu_and_sigma(vae_model.encode(get_cuda(img_rgb)), scale_factor)\n",
    "        seg_latent_mean, seg_latent_logvar = get_vae_encoding_mu_and_sigma(vae_model.encode(get_cuda(seg_rgb)), scale_factor)\n",
    "        img_latent_std = torch.exp(0.5 * img_latent_logvar)\n",
    "            \n",
    "        if np.random.uniform() > 0.5:\n",
    "            img_latent_mean_aug = img_latent_mean + img_latent_std * torch.randn_like(img_latent_std)\n",
    "        else:\n",
    "            img_latent_mean_aug = img_latent_mean\n",
    "\n",
    "        # latent matching\n",
    "        out_latent_mean_dict = mapping_model(img_latent_mean_aug)\n",
    "        loss_Rec = get_multi_loss(mse_loss, out_latent_mean_dict, seg_latent_mean, is_ds=True, key_list=ds_list)\n",
    "\n",
    "        # image matching\n",
    "        pred_seg_dict = {}\n",
    "        for level_name in ds_list:\n",
    "            pred_seg_dict[level_name] = vae_decode(vae_model, out_latent_mean_dict[level_name], scale_factor)\n",
    "\n",
    "        # if iter_num < 3:  \n",
    "        #     pred_seg = pred_seg_dict['out']\n",
    "        # print(\"Train Debug:\")\n",
    "        # print(\"seg_raw:\", seg_raw.min().item(), seg_raw.max().item())\n",
    "        # print(\"seg_img:\", seg_img.min().item(), seg_img.max().item())\n",
    "        # print(\"pred_seg:\", pred_seg.min().item(), pred_seg.max().item())\n",
    "        loss_Dice = get_multi_loss(dice_loss, pred_seg_dict, get_cuda(seg_img), is_ds=True, key_list=ds_list)\n",
    "\n",
    "        loss = loss_Rec + loss_Dice\n",
    "\n",
    "        optimizer.zero_grad()\n",
    "        loss.backward()\n",
    "        optimizer.step()\n",
    "\n",
    "        iter_num += 1\n",
    "        if iter_num % 100 == 0:\n",
    "            print('loss/loss', loss, iter_num)\n",
    "            print('loss/loss_Rec', loss_Rec, iter_num)\n",
    "            print('loss/loss_Dice', loss_Dice, iter_num)\n",
    "\n",
    "        T_loss.append(loss.item())\n",
    "        T_loss_Rec.append(loss_Rec.item())\n",
    "        T_loss_Dice.append(loss_Dice.item())\n",
    "\n",
    "        with torch.no_grad():\n",
    "            iou_values = []\n",
    "            for level_name in ds_list:\n",
    "                pred_seg = pred_seg_dict[level_name]\n",
    "                iou = compute_iou(pred_seg, get_cuda(seg_img))\n",
    "                iou_values.append(iou)\n",
    "            avg_iou = np.mean(iou_values)\n",
    "            T_IoU.append(avg_iou)\n",
    "\n",
    "    scheduler.step()\n",
    "    writer.add_scalar('lr', scheduler.get_last_lr()[0], epoch)\n",
    "\n",
    "    T_loss = np.mean(T_loss)\n",
    "    T_loss_Rec = np.mean(T_loss_Rec)\n",
    "    T_loss_Dice = np.mean(T_loss_Dice)\n",
    "    T_IoU = np.mean(T_IoU)\n",
    "\n",
    "    print(\"Train:\")\n",
    "    print(\"loss: {:.4f}, loss_Rec: {:.4f}, loss_Dice: {:.4f}, IoU: {:.4f}\".format(\n",
    "        T_loss, T_loss_Rec, T_loss_Dice, T_IoU\n",
    "    ))\n",
    "    writer.add_scalar('train/IoU', T_IoU, epoch)\n",
    "\n",
    "    ### Validation phase\n",
    "    mapping_model.eval()\n",
    "    for batch_data in tqdm(valid_dataloader, desc='Valid: '):\n",
    "        img_rgb = batch_data['img']\n",
    "        img_rgb = 2. * img_rgb - 1.\n",
    "        # seg_raw = batch_data['seg']\n",
    "        # seg_raw = seg_raw.permute(0, 3, 1, 2)\n",
    "        # # seg_raw = seg_raw.permute(0, 3, 1, 2) / 255.0\n",
    "        # seg_rgb = 2. * seg_raw - 1.\n",
    "        # seg_img = torch.mean(seg_raw, dim=1, keepdim=True)\n",
    "\n",
    "        seg_raw = batch_data['seg']\n",
    "        seg_raw = seg_raw.permute(0, 3, 1, 2).float()\n",
    "        \n",
    "        # ✅ Binarize (anything > 0 is 1)\n",
    "        seg_raw = (seg_raw > 0).float()\n",
    "        \n",
    "        # For VAE input (scaled to [-1,1])\n",
    "        seg_rgb = 2. * seg_raw - 1.\n",
    "        \n",
    "        # For Dice/IoU (stay in [0,1])\n",
    "        seg_img = torch.mean(seg_raw, dim=1, keepdim=True)\n",
    "        name    = batch_data['name']\n",
    "\n",
    "        with torch.no_grad():\n",
    "            img_latent_mean, img_latent_logvar = get_vae_encoding_mu_and_sigma(vae_model.encode(get_cuda(img_rgb)), scale_factor)\n",
    "            seg_latent_mean, seg_latent_logvar = get_vae_encoding_mu_and_sigma(vae_model.encode(get_cuda(seg_rgb)), scale_factor)\n",
    "                \n",
    "            out_latent_mean_dict = mapping_model(img_latent_mean)\n",
    "            pred_seg = vae_decode(vae_model, out_latent_mean_dict['out'], scale_factor)\n",
    "            # if epoch == 1 and len(T_loss_valid) < 2:\n",
    "            #     print(\"Valid Debug:\")\n",
    "            #     print(\"seg_raw:\", seg_raw.min().item(), seg_raw.max().item())\n",
    "            #     print(\"seg_img:\", seg_img.min().item(), seg_img.max().item())\n",
    "            #     print(\"pred_seg:\", pred_seg.min().item(), pred_seg.max().item())\n",
    "            loss_Rec = mse_loss(out_latent_mean_dict['out'], seg_latent_mean)\n",
    "            loss_Dice = dice_loss(pred_seg, get_cuda(seg_img))\n",
    "\n",
    "            loss = loss_Rec + loss_Dice\n",
    "\n",
    "            pred_seg = pred_seg.cpu()\n",
    "            reduce_axis = list(range(1, len(seg_img.shape)))\n",
    "\n",
    "            intersection = torch.sum(seg_img * pred_seg, dim=reduce_axis)\n",
    "            y_o = torch.sum(seg_img, dim=reduce_axis)\n",
    "            y_pred_o = torch.sum(pred_seg, dim=reduce_axis)\n",
    "            denominator = y_o + y_pred_o\n",
    "            dice_raw = (2.0 * intersection) / (denominator + 1e-7)\n",
    "            dice_value = dice_raw.mean()\n",
    "\n",
    "            iou_value = compute_iou(pred_seg, seg_img)\n",
    "\n",
    "            T_Dice_valid.append(dice_value.item())\n",
    "            T_IoU_valid.append(iou_value)\n",
    "            T_loss_valid.append(loss.item())\n",
    "            T_loss_Rec_valid.append(loss_Rec.item())\n",
    "            T_loss_Dice_valid.append(loss_Dice.item())\n",
    "\n",
    "    T_Dice_valid = np.mean(T_Dice_valid)\n",
    "    T_IoU_valid = np.mean(T_IoU_valid)\n",
    "    T_loss_valid = np.mean(T_loss_valid)\n",
    "    T_loss_Rec_valid = np.mean(T_loss_Rec_valid)\n",
    "    T_loss_Dice_valid = np.mean(T_loss_Dice_valid)\n",
    "\n",
    "    print(\"Valid:\")\n",
    "    print(\"loss: {:.4f}, loss_Rec: {:.4f}, loss_Dice: {:.4f}, Dice: {:.4f}, IoU: {:.4f}\".format(\n",
    "        T_loss_valid, T_loss_Rec_valid, T_loss_Dice_valid, T_Dice_valid, T_IoU_valid\n",
    "    ))\n",
    "    writer.add_scalar('valid/IoU', T_IoU_valid, epoch)\n",
    "\n",
    "    if T_Dice_valid > best_valid_dice:\n",
    "        save_name = \"best_valid_dice.pth\"\n",
    "        save_checkpoint(mapping_model, save_name, './ckpt/')\n",
    "        best_valid_dice = T_Dice_valid\n",
    "        best_valid_dice_epoch = epoch\n",
    "        print(\"Save best valid Dice !\")\n",
    "\n",
    "    if T_loss_valid < best_valid_loss:\n",
    "        save_name = \"best_valid_loss.pth\"\n",
    "        save_checkpoint(mapping_model, save_name, './ckpt/')\n",
    "        best_valid_loss = T_loss_valid\n",
    "        print(\"Save best valid Loss All !\")\n",
    "\n",
    "    if T_loss_Rec_valid < best_valid_loss_rec:\n",
    "        save_name = \"best_valid_loss_rec.pth\"\n",
    "        save_checkpoint(mapping_model, save_name, './ckpt/')\n",
    "        best_valid_loss_rec = T_loss_Rec_valid\n",
    "        print(\"Save best valid Loss Rec !\")\n",
    "\n",
    "    if T_loss_Dice_valid < best_valid_loss_dice:\n",
    "        save_name = \"best_valid_loss_dice.pth\"\n",
    "        save_checkpoint(mapping_model, save_name, './ckpt/')\n",
    "        best_valid_loss_dice = T_loss_Dice_valid\n",
    "        print(\"Save best valid Loss Dice !\")\n",
    "\n",
    "    if epoch % 100 == 0:\n",
    "        save_name = \"{}_epoch_{:0>4}.pth\".format('latent_mapping_model', epoch)\n",
    "        save_checkpoint(mapping_model, save_name, './ckpt/')\n",
    "\n",
    "    print('Current learning rate: {:.5f}'.format(scheduler.get_last_lr()[0]))\n",
    "    print('epoch %d / %d \\t Time Taken: %d sec' % (epoch, epoch, time.time() - epoch_start_time))\n",
    "    print('best valid dice: {:.4f} at epoch: {}'.format(best_valid_dice, best_valid_dice_epoch))\n",
    "    print('\\n')"
   ]
  },
  {
   "cell_type": "code",
   "execution_count": null,
   "id": "0899c233",
   "metadata": {
    "papermill": {
     "duration": 1.322905,
     "end_time": "2025-09-09T12:48:28.262891",
     "exception": false,
     "start_time": "2025-09-09T12:48:26.939986",
     "status": "completed"
    },
    "tags": []
   },
   "outputs": [],
   "source": []
  },
  {
   "cell_type": "code",
   "execution_count": null,
   "id": "f4a427fd",
   "metadata": {
    "papermill": {
     "duration": 1.330085,
     "end_time": "2025-09-09T12:48:30.845845",
     "exception": false,
     "start_time": "2025-09-09T12:48:29.515760",
     "status": "completed"
    },
    "tags": []
   },
   "outputs": [],
   "source": []
  },
  {
   "cell_type": "code",
   "execution_count": null,
   "id": "1e8a2a4f",
   "metadata": {
    "papermill": {
     "duration": 1.287523,
     "end_time": "2025-09-09T12:48:33.346990",
     "exception": false,
     "start_time": "2025-09-09T12:48:32.059467",
     "status": "completed"
    },
    "tags": []
   },
   "outputs": [],
   "source": []
  }
 ],
 "metadata": {
  "kaggle": {
   "accelerator": "gpu",
   "dataSources": [
    {
     "datasetId": 7052892,
     "sourceId": 11281027,
     "sourceType": "datasetVersion"
    }
   ],
   "dockerImageVersionId": 30919,
   "isGpuEnabled": true,
   "isInternetEnabled": true,
   "language": "python",
   "sourceType": "notebook"
  },
  "kernelspec": {
   "display_name": "Python 3",
   "language": "python",
   "name": "python3"
  },
  "language_info": {
   "codemirror_mode": {
    "name": "ipython",
    "version": 3
   },
   "file_extension": ".py",
   "mimetype": "text/x-python",
   "name": "python",
   "nbconvert_exporter": "python",
   "pygments_lexer": "ipython3",
   "version": "3.10.12"
  },
  "papermill": {
   "default_parameters": {},
   "duration": 16987.068756,
   "end_time": "2025-09-09T12:48:37.579450",
   "environment_variables": {},
   "exception": null,
   "input_path": "__notebook__.ipynb",
   "output_path": "__notebook__.ipynb",
   "parameters": {},
   "start_time": "2025-09-09T08:05:30.510694",
   "version": "2.6.0"
  }
 },
 "nbformat": 4,
 "nbformat_minor": 5
}
